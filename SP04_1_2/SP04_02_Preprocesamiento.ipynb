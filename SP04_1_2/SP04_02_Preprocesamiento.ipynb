{
 "cells": [
  {
   "cell_type": "markdown",
   "metadata": {
    "toc": true
   },
   "source": [
    "<h1>Tabla de Contenidos<span class=\"tocSkip\"></span></h1>\n",
    "<div class=\"toc\"><ul class=\"toc-item\"><li><span><a href=\"#Limpieza-de-los-Datos\" data-toc-modified-id=\"Limpieza-de-los-Datos-1\"><span class=\"toc-item-num\">1&nbsp;&nbsp;</span>Limpieza de los Datos</a></span><ul class=\"toc-item\"><li><span><a href=\"#ColumnTransformer\" data-toc-modified-id=\"ColumnTransformer-1.1\"><span class=\"toc-item-num\">1.1&nbsp;&nbsp;</span>ColumnTransformer</a></span></li><li><span><a href=\"#Ejemplo-1:\" data-toc-modified-id=\"Ejemplo-1:-1.2\"><span class=\"toc-item-num\">1.2&nbsp;&nbsp;</span>Ejemplo 1:</a></span></li><li><span><a href=\"#Ejercicio-5:\" data-toc-modified-id=\"Ejercicio-5:-1.3\"><span class=\"toc-item-num\">1.3&nbsp;&nbsp;</span>Ejercicio 5:</a></span></li><li><span><a href=\"#Resolución-Ejercicio-5:\" data-toc-modified-id=\"Resolución-Ejercicio-5:-1.4\"><span class=\"toc-item-num\">1.4&nbsp;&nbsp;</span>Resolución Ejercicio 5:</a></span></li><li><span><a href=\"#ColumnTransformer-con-selección-de-Columnas-según-su-tipo\" data-toc-modified-id=\"ColumnTransformer-con-selección-de-Columnas-según-su-tipo-1.5\"><span class=\"toc-item-num\">1.5&nbsp;&nbsp;</span>ColumnTransformer con selección de Columnas según su tipo</a></span><ul class=\"toc-item\"><li><span><a href=\"#Ejercicio-6\" data-toc-modified-id=\"Ejercicio-6-1.5.1\"><span class=\"toc-item-num\">1.5.1&nbsp;&nbsp;</span>Ejercicio 6</a></span></li><li><span><a href=\"#Resolución-Ejercicio-6\" data-toc-modified-id=\"Resolución-Ejercicio-6-1.5.2\"><span class=\"toc-item-num\">1.5.2&nbsp;&nbsp;</span>Resolución Ejercicio 6</a></span></li></ul></li><li><span><a href=\"#RESUMEN\" data-toc-modified-id=\"RESUMEN-1.6\"><span class=\"toc-item-num\">1.6&nbsp;&nbsp;</span>RESUMEN</a></span></li></ul></li></ul></div>"
   ]
  },
  {
   "cell_type": "markdown",
   "metadata": {
    "ExecuteTime": {
     "end_time": "2020-06-02T15:36:33.997222Z",
     "start_time": "2020-06-02T15:36:33.948350Z"
    }
   },
   "source": [
    "![IES21](img/logo_ies.png)"
   ]
  },
  {
   "cell_type": "markdown",
   "metadata": {},
   "source": [
    "# Situación Profesional 4: Preparación de los Datos"
   ]
  },
  {
   "cell_type": "code",
   "execution_count": 1,
   "metadata": {
    "ExecuteTime": {
     "end_time": "2020-10-27T20:08:57.435216Z",
     "start_time": "2020-10-27T20:08:57.015365Z"
    }
   },
   "outputs": [],
   "source": [
    "import numpy as np\n",
    "import pandas as pd"
   ]
  },
  {
   "cell_type": "markdown",
   "metadata": {
    "ExecuteTime": {
     "end_time": "2020-06-02T15:37:11.412362Z",
     "start_time": "2020-06-02T15:37:11.409370Z"
    }
   },
   "source": [
    "## Limpieza de los Datos"
   ]
  },
  {
   "cell_type": "markdown",
   "metadata": {},
   "source": [
    "Con anterioridad hemos visto cómo utilizar el SimpleImputer de Scikit-Learn para imputar valores a los nulos que teníamos en nuestros datasets.   \n",
    "Es muy habitual que, como nos ocurrió en el último problema, algunas columnas deban recibir cierto tratamiento de imputación y otras columnas otro, ya sea por el tipo de dato de cada una (numérico / categórico) o por necesidad de aplicar la media o la mediana a distintas columnas.   \n",
    "\n",
    "Seguramente observó que la tarea es un tanto tediosa, más que nada por tener que armar dataframes separados para cada caso, y luego tener que juntarlos nuevamente ... por suerte sklearn nos puede proveer de algunos atajos ... por ejemplo para efectuar **transformaciones sobre las columnas**, como han sido nuestras imputaciones, podemos ahorrarnos algo de tiempo utilizando a **ColumnTransformer** ..."
   ]
  },
  {
   "cell_type": "markdown",
   "metadata": {},
   "source": [
    "### ColumnTransformer"
   ]
  },
  {
   "cell_type": "markdown",
   "metadata": {},
   "source": [
    "Como mencionábamos, ColumnTransformer es una clase que nos ahorrará algo del trabajo pesado al trabajar con columnas en la Preparación de los Datos (no sólo para imputar, ya veremos), y nos permitirá definir una secuencia de transformaciones (como las imputaciones) y luego ejecutarlas todas \"juntas\".  \n",
    "\n",
    "ColumnTransformer esencialmente ejecuta una **lista de transformaciones** que queremos aplicar a un DataFrame de Pandas o un array de Numpy. La documentación oficial es la siguiente:  \n",
    "\n",
    "https://scikit-learn.org/stable/modules/generated/sklearn.compose.ColumnTransformer.html\n",
    "\n",
    "La sintaxis es la siguiente:  \n",
    "\n",
    "sklearn.compose.ColumnTransformer(transformers, *, remainder='drop', sparse_threshold=0.3, n_jobs=None, transformer_weights=None, verbose=False)  \n",
    "\n",
    "De la cual lo más importante es:  \n",
    "\n",
    "- **transformers**: es la lista de transformaciones que queremos efectuar sobre las columnas (por ejeplo SimpleImputer)  \n",
    "\n",
    "- **remainder**: puede ser que algunas columnas no se vean afectadas por las distintas transformaciones, si dejamos el valor en **'drop'** **no** las incluirá en el resultado, si establecemos el calor como **'passthrough'** entonces sí las dejará en el resultado. **Generalmente utilizo este último valor**. \n",
    "\n",
    "Se importa así:  \n",
    "\n",
    "from sklearn.compose import ColumnTransformer\n",
    "\n"
   ]
  },
  {
   "cell_type": "markdown",
   "metadata": {},
   "source": [
    "Cada uno de los transformers (transformaciones) de la lista es una tupla de 3 elementos:  \n",
    "\n",
    "t1 = (nombre, estimador a usar p.ej SimpleImputer , columnas afectadas (podemos indicar índice o nombre!) )  \n",
    "\n",
    "\n",
    "Si bien podríamos escribir todo en la sintaxis de ColumnTransformer, es más legible definir las trasnformaciones y luego pasarlas, entonces podríamos tener varias transformaciones: \n",
    "\n",
    "t1=(nombre , acción  , columnas)  \n",
    "t2=(nombre , acción  , columnas)  \n",
    "t3=(nombre , acción  , columnas) \n",
    "  \n",
    "y luego definir\n",
    "\n",
    "ColumnsTransformer(transformers=[t1,t2,t3], reminder='passthrough')  \n",
    "\n",
    "\n",
    "Veamos un ejemplo y verá que fácil es de usar:"
   ]
  },
  {
   "cell_type": "markdown",
   "metadata": {
    "ExecuteTime": {
     "end_time": "2020-06-02T16:06:56.388799Z",
     "start_time": "2020-06-02T16:06:56.385786Z"
    }
   },
   "source": [
    "### Ejemplo 1:"
   ]
  },
  {
   "cell_type": "markdown",
   "metadata": {
    "ExecuteTime": {
     "end_time": "2020-06-02T17:11:51.855634Z",
     "start_time": "2020-06-02T17:11:51.849622Z"
    }
   },
   "source": [
    "Resolvamos el último problema de anterior, con el DataFrame dfD al que le hemos agregado una columna más, x4"
   ]
  },
  {
   "cell_type": "code",
   "execution_count": 2,
   "metadata": {
    "ExecuteTime": {
     "end_time": "2020-10-27T20:08:57.799281Z",
     "start_time": "2020-10-27T20:08:57.771367Z"
    }
   },
   "outputs": [
    {
     "data": {
      "text/html": [
       "<div>\n",
       "<style scoped>\n",
       "    .dataframe tbody tr th:only-of-type {\n",
       "        vertical-align: middle;\n",
       "    }\n",
       "\n",
       "    .dataframe tbody tr th {\n",
       "        vertical-align: top;\n",
       "    }\n",
       "\n",
       "    .dataframe thead th {\n",
       "        text-align: right;\n",
       "    }\n",
       "</style>\n",
       "<table border=\"1\" class=\"dataframe\">\n",
       "  <thead>\n",
       "    <tr style=\"text-align: right;\">\n",
       "      <th></th>\n",
       "      <th>x1</th>\n",
       "      <th>x2</th>\n",
       "      <th>x3</th>\n",
       "      <th>x4</th>\n",
       "    </tr>\n",
       "  </thead>\n",
       "  <tbody>\n",
       "    <tr>\n",
       "      <th>0</th>\n",
       "      <td>3.0</td>\n",
       "      <td>2.0</td>\n",
       "      <td>Si</td>\n",
       "      <td>8</td>\n",
       "    </tr>\n",
       "    <tr>\n",
       "      <th>1</th>\n",
       "      <td>NaN</td>\n",
       "      <td>6.0</td>\n",
       "      <td>No</td>\n",
       "      <td>8</td>\n",
       "    </tr>\n",
       "    <tr>\n",
       "      <th>2</th>\n",
       "      <td>5.0</td>\n",
       "      <td>8.0</td>\n",
       "      <td>Si</td>\n",
       "      <td>8</td>\n",
       "    </tr>\n",
       "    <tr>\n",
       "      <th>3</th>\n",
       "      <td>0.0</td>\n",
       "      <td>NaN</td>\n",
       "      <td>Si</td>\n",
       "      <td>8</td>\n",
       "    </tr>\n",
       "    <tr>\n",
       "      <th>4</th>\n",
       "      <td>NaN</td>\n",
       "      <td>4.0</td>\n",
       "      <td>No</td>\n",
       "      <td>8</td>\n",
       "    </tr>\n",
       "    <tr>\n",
       "      <th>5</th>\n",
       "      <td>6.0</td>\n",
       "      <td>6.0</td>\n",
       "      <td>NaN</td>\n",
       "      <td>8</td>\n",
       "    </tr>\n",
       "    <tr>\n",
       "      <th>6</th>\n",
       "      <td>4.0</td>\n",
       "      <td>12.0</td>\n",
       "      <td>No</td>\n",
       "      <td>8</td>\n",
       "    </tr>\n",
       "    <tr>\n",
       "      <th>7</th>\n",
       "      <td>2.0</td>\n",
       "      <td>9.0</td>\n",
       "      <td>NaN</td>\n",
       "      <td>8</td>\n",
       "    </tr>\n",
       "  </tbody>\n",
       "</table>\n",
       "</div>"
      ],
      "text/plain": [
       "    x1    x2   x3  x4\n",
       "0  3.0   2.0   Si   8\n",
       "1  NaN   6.0   No   8\n",
       "2  5.0   8.0   Si   8\n",
       "3  0.0   NaN   Si   8\n",
       "4  NaN   4.0   No   8\n",
       "5  6.0   6.0  NaN   8\n",
       "6  4.0  12.0   No   8\n",
       "7  2.0   9.0  NaN   8"
      ]
     },
     "execution_count": 2,
     "metadata": {},
     "output_type": "execute_result"
    }
   ],
   "source": [
    "dfD=pd.DataFrame([[3,2,'Si',8],[np.nan,6,'No',8],[5,8,'Si',8],[0,np.nan,'Si',8],[np.nan,4,'No',8],[6,6,np.nan,8],[4,12,'No',8],[2,9,np.nan,8]])\n",
    "dfD.columns=['x1','x2','x3','x4']\n",
    "dfD"
   ]
  },
  {
   "cell_type": "markdown",
   "metadata": {},
   "source": [
    "Queremos imputar el promedio en las columnas numéricas y la moda en las columnas categóricas (esto es un problema bien típico de ML).  Queremos el resultado en un único DataFrame que se llame dfD_Transformado."
   ]
  },
  {
   "cell_type": "code",
   "execution_count": 3,
   "metadata": {
    "ExecuteTime": {
     "end_time": "2020-10-27T20:08:58.353785Z",
     "start_time": "2020-10-27T20:08:57.862077Z"
    }
   },
   "outputs": [],
   "source": [
    "from sklearn.impute import SimpleImputer"
   ]
  },
  {
   "cell_type": "code",
   "execution_count": 4,
   "metadata": {
    "ExecuteTime": {
     "end_time": "2020-10-27T20:08:58.365769Z",
     "start_time": "2020-10-27T20:08:58.356754Z"
    }
   },
   "outputs": [],
   "source": [
    "from sklearn.compose import ColumnTransformer"
   ]
  },
  {
   "cell_type": "markdown",
   "metadata": {},
   "source": [
    "y como siempre decimos ... son sólo 3 líneas de código!"
   ]
  },
  {
   "cell_type": "code",
   "execution_count": 5,
   "metadata": {
    "ExecuteTime": {
     "end_time": "2020-10-27T20:08:58.383719Z",
     "start_time": "2020-10-27T20:08:58.368723Z"
    }
   },
   "outputs": [],
   "source": [
    "# Definimos las transformaciones (transformers) que queremos utilizar:\n",
    "\n",
    "t1=('imputador_num', SimpleImputer(strategy='mean'), ['x1', 'x2'])\n",
    "t2=('imputador_cat', SimpleImputer(strategy='most_frequent'), [2])\n",
    "\n",
    "# Creamos nuestro transformador de columnas y le pasamos todos los trasnformers que deseamos usar\n",
    "\n",
    "transformador_columnas = ColumnTransformer(transformers=[t1,t2],remainder='passthrough')\n",
    "\n",
    "# Lo entrenamos con el dataFrame:\n",
    "transformador_columnas.fit(dfD);"
   ]
  },
  {
   "cell_type": "markdown",
   "metadata": {},
   "source": [
    "Observe que:  \n",
    "\n",
    "- en t1 pasamos las columnas por nombre y en el t2 por índice, puede usarse de una u otra forma según conveniencia!  \n",
    "- como definimos remainder='passthrough', si algunas columnas no se hubieran trasnformado como la columna x4, igual las pasaría en el resultado. "
   ]
  },
  {
   "cell_type": "code",
   "execution_count": 6,
   "metadata": {
    "ExecuteTime": {
     "end_time": "2020-10-27T20:08:58.398645Z",
     "start_time": "2020-10-27T20:08:58.386673Z"
    }
   },
   "outputs": [
    {
     "data": {
      "text/plain": [
       "array([[3.0, 2.0, 'Si', 8],\n",
       "       [3.3333333333333335, 6.0, 'No', 8],\n",
       "       [5.0, 8.0, 'Si', 8],\n",
       "       [0.0, 6.714285714285714, 'Si', 8],\n",
       "       [3.3333333333333335, 4.0, 'No', 8],\n",
       "       [6.0, 6.0, 'No', 8],\n",
       "       [4.0, 12.0, 'No', 8],\n",
       "       [2.0, 9.0, 'No', 8]], dtype=object)"
      ]
     },
     "execution_count": 6,
     "metadata": {},
     "output_type": "execute_result"
    }
   ],
   "source": [
    "# Finalmente lo aplicamos con transform al DataFrame original!\n",
    "\n",
    "D_Transformado = transformador_columnas.transform(dfD)\n",
    "D_Transformado"
   ]
  },
  {
   "cell_type": "markdown",
   "metadata": {
    "ExecuteTime": {
     "end_time": "2020-06-02T17:09:47.144287Z",
     "start_time": "2020-06-02T17:09:47.139300Z"
    }
   },
   "source": [
    "Observe que la columna x4 está dentro del resultado. \n",
    "El resultado es un array de Numpy, si necesitáramos que fuera un DataFrame de Pandas, lo hacemos:"
   ]
  },
  {
   "cell_type": "code",
   "execution_count": 7,
   "metadata": {
    "ExecuteTime": {
     "end_time": "2020-10-27T20:08:58.417590Z",
     "start_time": "2020-10-27T20:08:58.400635Z"
    }
   },
   "outputs": [
    {
     "data": {
      "text/html": [
       "<div>\n",
       "<style scoped>\n",
       "    .dataframe tbody tr th:only-of-type {\n",
       "        vertical-align: middle;\n",
       "    }\n",
       "\n",
       "    .dataframe tbody tr th {\n",
       "        vertical-align: top;\n",
       "    }\n",
       "\n",
       "    .dataframe thead th {\n",
       "        text-align: right;\n",
       "    }\n",
       "</style>\n",
       "<table border=\"1\" class=\"dataframe\">\n",
       "  <thead>\n",
       "    <tr style=\"text-align: right;\">\n",
       "      <th></th>\n",
       "      <th>x1</th>\n",
       "      <th>x2</th>\n",
       "      <th>x3</th>\n",
       "      <th>x4</th>\n",
       "    </tr>\n",
       "  </thead>\n",
       "  <tbody>\n",
       "    <tr>\n",
       "      <th>0</th>\n",
       "      <td>3</td>\n",
       "      <td>2</td>\n",
       "      <td>Si</td>\n",
       "      <td>8</td>\n",
       "    </tr>\n",
       "    <tr>\n",
       "      <th>1</th>\n",
       "      <td>3.33333</td>\n",
       "      <td>6</td>\n",
       "      <td>No</td>\n",
       "      <td>8</td>\n",
       "    </tr>\n",
       "    <tr>\n",
       "      <th>2</th>\n",
       "      <td>5</td>\n",
       "      <td>8</td>\n",
       "      <td>Si</td>\n",
       "      <td>8</td>\n",
       "    </tr>\n",
       "    <tr>\n",
       "      <th>3</th>\n",
       "      <td>0</td>\n",
       "      <td>6.71429</td>\n",
       "      <td>Si</td>\n",
       "      <td>8</td>\n",
       "    </tr>\n",
       "    <tr>\n",
       "      <th>4</th>\n",
       "      <td>3.33333</td>\n",
       "      <td>4</td>\n",
       "      <td>No</td>\n",
       "      <td>8</td>\n",
       "    </tr>\n",
       "    <tr>\n",
       "      <th>5</th>\n",
       "      <td>6</td>\n",
       "      <td>6</td>\n",
       "      <td>No</td>\n",
       "      <td>8</td>\n",
       "    </tr>\n",
       "    <tr>\n",
       "      <th>6</th>\n",
       "      <td>4</td>\n",
       "      <td>12</td>\n",
       "      <td>No</td>\n",
       "      <td>8</td>\n",
       "    </tr>\n",
       "    <tr>\n",
       "      <th>7</th>\n",
       "      <td>2</td>\n",
       "      <td>9</td>\n",
       "      <td>No</td>\n",
       "      <td>8</td>\n",
       "    </tr>\n",
       "  </tbody>\n",
       "</table>\n",
       "</div>"
      ],
      "text/plain": [
       "        x1       x2  x3 x4\n",
       "0        3        2  Si  8\n",
       "1  3.33333        6  No  8\n",
       "2        5        8  Si  8\n",
       "3        0  6.71429  Si  8\n",
       "4  3.33333        4  No  8\n",
       "5        6        6  No  8\n",
       "6        4       12  No  8\n",
       "7        2        9  No  8"
      ]
     },
     "execution_count": 7,
     "metadata": {},
     "output_type": "execute_result"
    }
   ],
   "source": [
    "dfD_Transformado=pd.DataFrame(D_Transformado, columns=dfD.columns)\n",
    "dfD_Transformado"
   ]
  },
  {
   "cell_type": "markdown",
   "metadata": {},
   "source": [
    "### Ejercicio 5:"
   ]
  },
  {
   "cell_type": "markdown",
   "metadata": {
    "ExecuteTime": {
     "end_time": "2020-06-02T17:59:52.554554Z",
     "start_time": "2020-06-02T17:59:52.548571Z"
    }
   },
   "source": [
    "Podría repetir el ejericio 3 visto anteriormente:  \n",
    "\n",
    "Dado el DataFrame dfC: \n",
    "\n",
    "- En las columnas A y C, impute a los valores -1, el promedio.\n",
    "- En las columnas B y D impute a los valores -1 la mediana.\n",
    "\n",
    "Guarde los resutados en un nuevo DataFrame denominado dfC_Transformado2"
   ]
  },
  {
   "cell_type": "code",
   "execution_count": 6,
   "metadata": {
    "ExecuteTime": {
     "end_time": "2020-10-27T20:08:58.431552Z",
     "start_time": "2020-10-27T20:08:58.420582Z"
    }
   },
   "outputs": [
    {
     "data": {
      "text/html": [
       "<div>\n",
       "<style scoped>\n",
       "    .dataframe tbody tr th:only-of-type {\n",
       "        vertical-align: middle;\n",
       "    }\n",
       "\n",
       "    .dataframe tbody tr th {\n",
       "        vertical-align: top;\n",
       "    }\n",
       "\n",
       "    .dataframe thead th {\n",
       "        text-align: right;\n",
       "    }\n",
       "</style>\n",
       "<table border=\"1\" class=\"dataframe\">\n",
       "  <thead>\n",
       "    <tr style=\"text-align: right;\">\n",
       "      <th></th>\n",
       "      <th>A</th>\n",
       "      <th>B</th>\n",
       "      <th>C</th>\n",
       "      <th>D</th>\n",
       "    </tr>\n",
       "  </thead>\n",
       "  <tbody>\n",
       "    <tr>\n",
       "      <th>0</th>\n",
       "      <td>3</td>\n",
       "      <td>7</td>\n",
       "      <td>-1</td>\n",
       "      <td>0</td>\n",
       "    </tr>\n",
       "    <tr>\n",
       "      <th>1</th>\n",
       "      <td>2</td>\n",
       "      <td>-1</td>\n",
       "      <td>5</td>\n",
       "      <td>4</td>\n",
       "    </tr>\n",
       "    <tr>\n",
       "      <th>2</th>\n",
       "      <td>0</td>\n",
       "      <td>0</td>\n",
       "      <td>0</td>\n",
       "      <td>0</td>\n",
       "    </tr>\n",
       "    <tr>\n",
       "      <th>3</th>\n",
       "      <td>-1</td>\n",
       "      <td>5</td>\n",
       "      <td>4</td>\n",
       "      <td>2</td>\n",
       "    </tr>\n",
       "    <tr>\n",
       "      <th>4</th>\n",
       "      <td>2</td>\n",
       "      <td>6</td>\n",
       "      <td>8</td>\n",
       "      <td>1</td>\n",
       "    </tr>\n",
       "    <tr>\n",
       "      <th>5</th>\n",
       "      <td>2</td>\n",
       "      <td>1</td>\n",
       "      <td>3</td>\n",
       "      <td>2</td>\n",
       "    </tr>\n",
       "  </tbody>\n",
       "</table>\n",
       "</div>"
      ],
      "text/plain": [
       "   A  B  C  D\n",
       "0  3  7 -1  0\n",
       "1  2 -1  5  4\n",
       "2  0  0  0  0\n",
       "3 -1  5  4  2\n",
       "4  2  6  8  1\n",
       "5  2  1  3  2"
      ]
     },
     "execution_count": 6,
     "metadata": {},
     "output_type": "execute_result"
    }
   ],
   "source": [
    "dfC=pd.DataFrame([[3,7,-1,0],[2,-1,5,4],[0,0,0,0],[-1,5,4,2],[2,6,8,1],[2,1,3,2]])\n",
    "dfC.columns=['A','B','C','D']\n",
    "dfC"
   ]
  },
  {
   "cell_type": "markdown",
   "metadata": {
    "ExecuteTime": {
     "end_time": "2020-06-02T17:58:28.974001Z",
     "start_time": "2020-06-02T17:58:28.970013Z"
    }
   },
   "source": [
    "### Resolución Ejercicio 5:"
   ]
  },
  {
   "cell_type": "code",
   "execution_count": 7,
   "metadata": {
    "ExecuteTime": {
     "end_time": "2020-10-27T20:08:58.535276Z",
     "start_time": "2020-10-27T20:08:58.532285Z"
    }
   },
   "outputs": [
    {
     "data": {
      "text/plain": [
       "ColumnTransformer(remainder='passthrough',\n",
       "                  transformers=[('imputador_prom',\n",
       "                                 SimpleImputer(missing_values=-1), ['A', 'C']),\n",
       "                                ('imputador_med',\n",
       "                                 SimpleImputer(missing_values=-1,\n",
       "                                               strategy='median'),\n",
       "                                 ['B', 'D'])])"
      ]
     },
     "execution_count": 7,
     "metadata": {},
     "output_type": "execute_result"
    }
   ],
   "source": [
    "# Escriba aquí su código\n",
    "\n",
    "# Definimos las transformaciones (transformers) que queremos utilizar:\n",
    "\n",
    "t1=('imputador_prom', SimpleImputer(missing_values=-1,strategy='mean'), ['A', 'C'])\n",
    "t2=('imputador_med', SimpleImputer(missing_values=-1,strategy='median'), ['B','D'])\n",
    "\n",
    "# Creamos nuestro transformador de columnas y le pasamos todos los trasnformers que deseamos usar\n",
    "\n",
    "transformador_columnas = ColumnTransformer(transformers=[t1,t2],remainder='passthrough')\n",
    "\n",
    "# Lo entrenamos con el dataFrame:\n",
    "transformador_columnas.fit(dfC)"
   ]
  },
  {
   "cell_type": "code",
   "execution_count": 9,
   "metadata": {},
   "outputs": [
    {
     "data": {
      "text/html": [
       "<div>\n",
       "<style scoped>\n",
       "    .dataframe tbody tr th:only-of-type {\n",
       "        vertical-align: middle;\n",
       "    }\n",
       "\n",
       "    .dataframe tbody tr th {\n",
       "        vertical-align: top;\n",
       "    }\n",
       "\n",
       "    .dataframe thead th {\n",
       "        text-align: right;\n",
       "    }\n",
       "</style>\n",
       "<table border=\"1\" class=\"dataframe\">\n",
       "  <thead>\n",
       "    <tr style=\"text-align: right;\">\n",
       "      <th></th>\n",
       "      <th>A</th>\n",
       "      <th>B</th>\n",
       "      <th>C</th>\n",
       "      <th>D</th>\n",
       "    </tr>\n",
       "  </thead>\n",
       "  <tbody>\n",
       "    <tr>\n",
       "      <th>0</th>\n",
       "      <td>3.0</td>\n",
       "      <td>4.0</td>\n",
       "      <td>7.0</td>\n",
       "      <td>0.0</td>\n",
       "    </tr>\n",
       "    <tr>\n",
       "      <th>1</th>\n",
       "      <td>2.0</td>\n",
       "      <td>5.0</td>\n",
       "      <td>5.0</td>\n",
       "      <td>4.0</td>\n",
       "    </tr>\n",
       "    <tr>\n",
       "      <th>2</th>\n",
       "      <td>0.0</td>\n",
       "      <td>0.0</td>\n",
       "      <td>0.0</td>\n",
       "      <td>0.0</td>\n",
       "    </tr>\n",
       "    <tr>\n",
       "      <th>3</th>\n",
       "      <td>1.8</td>\n",
       "      <td>4.0</td>\n",
       "      <td>5.0</td>\n",
       "      <td>2.0</td>\n",
       "    </tr>\n",
       "    <tr>\n",
       "      <th>4</th>\n",
       "      <td>2.0</td>\n",
       "      <td>8.0</td>\n",
       "      <td>6.0</td>\n",
       "      <td>1.0</td>\n",
       "    </tr>\n",
       "    <tr>\n",
       "      <th>5</th>\n",
       "      <td>2.0</td>\n",
       "      <td>3.0</td>\n",
       "      <td>1.0</td>\n",
       "      <td>2.0</td>\n",
       "    </tr>\n",
       "  </tbody>\n",
       "</table>\n",
       "</div>"
      ],
      "text/plain": [
       "     A    B    C    D\n",
       "0  3.0  4.0  7.0  0.0\n",
       "1  2.0  5.0  5.0  4.0\n",
       "2  0.0  0.0  0.0  0.0\n",
       "3  1.8  4.0  5.0  2.0\n",
       "4  2.0  8.0  6.0  1.0\n",
       "5  2.0  3.0  1.0  2.0"
      ]
     },
     "execution_count": 9,
     "metadata": {},
     "output_type": "execute_result"
    }
   ],
   "source": [
    "# Finalmente lo aplicamos con transform al DataFrame original!\n",
    "\n",
    "C_Transformado = transformador_columnas.transform(dfC)\n",
    "#C_Transformado\n",
    "\n",
    "dfC_Transformado2=pd.DataFrame(C_Transformado, columns=dfC.columns)\n",
    "dfC_Transformado2"
   ]
  },
  {
   "cell_type": "markdown",
   "metadata": {
    "ExecuteTime": {
     "end_time": "2020-06-02T17:13:05.247621Z",
     "start_time": "2020-06-02T17:13:05.244589Z"
    }
   },
   "source": [
    "### ColumnTransformer con selección de Columnas según su tipo"
   ]
  },
  {
   "cell_type": "markdown",
   "metadata": {},
   "source": [
    "Muchas veces nos encontraremos con que tenemos que trabajar con una enorme cantidad de variables o columnas de distinto tipo (dtypes), algunas numéricas (dtype: int64 o float64), otras categóricas (dtype: object), otras booleanas (dtype: bool), y generalmente a cada tipo le aplicaremos la misma imputación, por ejemplo a las numéricas  el promedio, a las categóricas y a las booleanas, la moda, etc.  \n",
    "\n",
    "En ese caso puede ser útil obtener los nombres de las columnas de cada tipo para aplicarles la transformación correspondiente sin tener que escribirlos de a uno por vez.  \n",
    "\n",
    "Veamos cómo podemos abreviarnos el trabajo en el siguiente ejemplo: "
   ]
  },
  {
   "cell_type": "markdown",
   "metadata": {
    "ExecuteTime": {
     "end_time": "2020-06-02T17:59:52.657277Z",
     "start_time": "2020-06-02T17:59:52.651294Z"
    }
   },
   "source": [
    "#### Ejercicio 6\n",
    "Supongamos que contamos con el DataFrame dfE:"
   ]
  },
  {
   "cell_type": "code",
   "execution_count": 10,
   "metadata": {
    "ExecuteTime": {
     "end_time": "2020-10-27T20:08:58.860406Z",
     "start_time": "2020-10-27T20:08:58.844455Z"
    }
   },
   "outputs": [
    {
     "data": {
      "text/html": [
       "<div>\n",
       "<style scoped>\n",
       "    .dataframe tbody tr th:only-of-type {\n",
       "        vertical-align: middle;\n",
       "    }\n",
       "\n",
       "    .dataframe tbody tr th {\n",
       "        vertical-align: top;\n",
       "    }\n",
       "\n",
       "    .dataframe thead th {\n",
       "        text-align: right;\n",
       "    }\n",
       "</style>\n",
       "<table border=\"1\" class=\"dataframe\">\n",
       "  <thead>\n",
       "    <tr style=\"text-align: right;\">\n",
       "      <th></th>\n",
       "      <th>x1</th>\n",
       "      <th>x2</th>\n",
       "      <th>x3</th>\n",
       "      <th>x4</th>\n",
       "    </tr>\n",
       "  </thead>\n",
       "  <tbody>\n",
       "    <tr>\n",
       "      <th>0</th>\n",
       "      <td>1.5</td>\n",
       "      <td>Si</td>\n",
       "      <td>2.0</td>\n",
       "      <td>True</td>\n",
       "    </tr>\n",
       "    <tr>\n",
       "      <th>1</th>\n",
       "      <td>4.0</td>\n",
       "      <td>No</td>\n",
       "      <td>7.0</td>\n",
       "      <td>False</td>\n",
       "    </tr>\n",
       "    <tr>\n",
       "      <th>2</th>\n",
       "      <td>NaN</td>\n",
       "      <td>Si</td>\n",
       "      <td>9.0</td>\n",
       "      <td>True</td>\n",
       "    </tr>\n",
       "    <tr>\n",
       "      <th>3</th>\n",
       "      <td>3.5</td>\n",
       "      <td>NaN</td>\n",
       "      <td>8.0</td>\n",
       "      <td>NaN</td>\n",
       "    </tr>\n",
       "    <tr>\n",
       "      <th>4</th>\n",
       "      <td>6.0</td>\n",
       "      <td>Si</td>\n",
       "      <td>NaN</td>\n",
       "      <td>True</td>\n",
       "    </tr>\n",
       "  </tbody>\n",
       "</table>\n",
       "</div>"
      ],
      "text/plain": [
       "    x1   x2   x3     x4\n",
       "0  1.5   Si  2.0   True\n",
       "1  4.0   No  7.0  False\n",
       "2  NaN   Si  9.0   True\n",
       "3  3.5  NaN  8.0    NaN\n",
       "4  6.0   Si  NaN   True"
      ]
     },
     "execution_count": 10,
     "metadata": {},
     "output_type": "execute_result"
    }
   ],
   "source": [
    "dfE=pd.DataFrame([[1.5,'Si',2,True],[4,'No',7,False],[np.nan,'Si',9,True],[3.5,np.nan,8,np.nan],[6,'Si',np.nan,True]])\n",
    "dfE.columns=['x1','x2','x3','x4']\n",
    "dfE"
   ]
  },
  {
   "cell_type": "markdown",
   "metadata": {},
   "source": [
    "y queremos imputar: \n",
    "- el **promedio** a las numéricas y,\n",
    "- la **moda** a las categóricas, de texto y booleanas, \n",
    "- el resultado lo queremos en el DataFrame denominado dfE_Transformado"
   ]
  },
  {
   "cell_type": "markdown",
   "metadata": {},
   "source": [
    "Veamos de qué tipo es cada columna con info()"
   ]
  },
  {
   "cell_type": "code",
   "execution_count": 11,
   "metadata": {
    "ExecuteTime": {
     "end_time": "2020-10-27T20:08:59.044927Z",
     "start_time": "2020-10-27T20:08:59.033943Z"
    }
   },
   "outputs": [
    {
     "name": "stdout",
     "output_type": "stream",
     "text": [
      "<class 'pandas.core.frame.DataFrame'>\n",
      "RangeIndex: 5 entries, 0 to 4\n",
      "Data columns (total 4 columns):\n",
      " #   Column  Non-Null Count  Dtype  \n",
      "---  ------  --------------  -----  \n",
      " 0   x1      4 non-null      float64\n",
      " 1   x2      4 non-null      object \n",
      " 2   x3      4 non-null      float64\n",
      " 3   x4      4 non-null      object \n",
      "dtypes: float64(2), object(2)\n",
      "memory usage: 288.0+ bytes\n"
     ]
    }
   ],
   "source": [
    "dfE.info()"
   ]
  },
  {
   "cell_type": "markdown",
   "metadata": {},
   "source": [
    "- A x1 y x3 las tomó como float64, es decir numéricas, si hubieran sido números enteros las hubier considerado como int64. No hay diferencia para la imputación.  \n",
    "\n",
    "- A x2 la tomó como object, que es el tipo correspondiente a los textos y categóricas.  \n",
    "\n",
    "- Fíjese que a la columna x4 la tomó como object cuando los valores eran esencialmente booleanos, esto ocurrió por la presencial del nan. Generalmente no traerá problemas porque en ambos casos la imputación suele ser la moda. \n"
   ]
  },
  {
   "cell_type": "markdown",
   "metadata": {},
   "source": [
    "Esta vez no queremos pasar explícitamente los nombres de cada columna a cada trasnformer, sino que buscamos alguna manera de hacerlo programáticamente.  \n",
    "\n",
    "Podemos usar a select_dtypes de Pandas para seleccionar las columnas según el tipo de dato:"
   ]
  },
  {
   "cell_type": "code",
   "execution_count": 13,
   "metadata": {
    "ExecuteTime": {
     "end_time": "2020-10-27T20:08:59.225457Z",
     "start_time": "2020-10-27T20:08:59.218451Z"
    }
   },
   "outputs": [
    {
     "data": {
      "text/plain": [
       "Index(['x1', 'x3'], dtype='object')"
      ]
     },
     "execution_count": 13,
     "metadata": {},
     "output_type": "execute_result"
    }
   ],
   "source": [
    "cols_num=dfE.select_dtypes(np.number).columns\n",
    "# en vez de np.number podriamos haber usado select_dtypes.(include=['int64','float64']).columns\n",
    "cols_num"
   ]
  },
  {
   "cell_type": "markdown",
   "metadata": {
    "ExecuteTime": {
     "end_time": "2020-06-02T18:01:43.396678Z",
     "start_time": "2020-06-02T18:01:43.389732Z"
    }
   },
   "source": [
    "Como podemos ver, nos devolvió x1 y x3 como deseábamos. De forma similar: "
   ]
  },
  {
   "cell_type": "code",
   "execution_count": 14,
   "metadata": {
    "ExecuteTime": {
     "end_time": "2020-10-27T20:08:59.315190Z",
     "start_time": "2020-10-27T20:08:59.307260Z"
    }
   },
   "outputs": [
    {
     "data": {
      "text/plain": [
       "Index(['x2', 'x4'], dtype='object')"
      ]
     },
     "execution_count": 14,
     "metadata": {},
     "output_type": "execute_result"
    }
   ],
   "source": [
    "cols_cat=dfE.select_dtypes(include=['object','bool']).columns\n",
    "cols_cat"
   ]
  },
  {
   "cell_type": "markdown",
   "metadata": {
    "ExecuteTime": {
     "end_time": "2020-06-02T21:24:07.973782Z",
     "start_time": "2020-06-02T21:24:07.966800Z"
    }
   },
   "source": [
    "Nos devolvió x2 y x4"
   ]
  },
  {
   "cell_type": "markdown",
   "metadata": {},
   "source": [
    "Ahora sí, estamos listos! Se anima a terminarlo?"
   ]
  },
  {
   "cell_type": "markdown",
   "metadata": {},
   "source": [
    "#### Resolución Ejercicio 6"
   ]
  },
  {
   "cell_type": "markdown",
   "metadata": {},
   "source": [
    "Son sólo unas pocas líneas de código!"
   ]
  },
  {
   "cell_type": "code",
   "execution_count": 16,
   "metadata": {
    "ExecuteTime": {
     "end_time": "2020-10-27T20:08:59.683208Z",
     "start_time": "2020-10-27T20:08:59.679219Z"
    }
   },
   "outputs": [
    {
     "data": {
      "text/plain": [
       "ColumnTransformer(remainder='passthrough',\n",
       "                  transformers=[('imputador_num', SimpleImputer(),\n",
       "                                 Index(['x1', 'x3'], dtype='object')),\n",
       "                                ('imputador_txt',\n",
       "                                 SimpleImputer(strategy='most_frequent'),\n",
       "                                 Index(['x2', 'x4'], dtype='object'))])"
      ]
     },
     "execution_count": 16,
     "metadata": {},
     "output_type": "execute_result"
    }
   ],
   "source": [
    "# Escriba aquí su código\n",
    "\n",
    "# Definimos las transformaciones (transformers) que queremos utilizar:\n",
    "\n",
    "t1=('imputador_num', SimpleImputer(strategy='mean'), cols_num)\n",
    "t2=('imputador_txt', SimpleImputer(strategy='most_frequent'),cols_cat)\n",
    "\n",
    "# Creamos nuestro transformador de columnas y le pasamos todos los trasnformers que deseamos usar\n",
    "\n",
    "transformador_columnas = ColumnTransformer(transformers=[t1,t2],remainder='passthrough')\n",
    "\n",
    "# Lo entrenamos con el dataFrame:\n",
    "transformador_columnas.fit(dfE)"
   ]
  },
  {
   "cell_type": "markdown",
   "metadata": {},
   "source": [
    "Lo transformamos en un DataFrame de Pandas según lo solicitado:"
   ]
  },
  {
   "cell_type": "code",
   "execution_count": 17,
   "metadata": {
    "ExecuteTime": {
     "end_time": "2020-06-02T21:24:45.685481Z",
     "start_time": "2020-06-02T21:24:45.674497Z"
    }
   },
   "outputs": [
    {
     "data": {
      "text/html": [
       "<div>\n",
       "<style scoped>\n",
       "    .dataframe tbody tr th:only-of-type {\n",
       "        vertical-align: middle;\n",
       "    }\n",
       "\n",
       "    .dataframe tbody tr th {\n",
       "        vertical-align: top;\n",
       "    }\n",
       "\n",
       "    .dataframe thead th {\n",
       "        text-align: right;\n",
       "    }\n",
       "</style>\n",
       "<table border=\"1\" class=\"dataframe\">\n",
       "  <thead>\n",
       "    <tr style=\"text-align: right;\">\n",
       "      <th></th>\n",
       "      <th>x1</th>\n",
       "      <th>x2</th>\n",
       "      <th>x3</th>\n",
       "      <th>x4</th>\n",
       "    </tr>\n",
       "  </thead>\n",
       "  <tbody>\n",
       "    <tr>\n",
       "      <th>0</th>\n",
       "      <td>1.5</td>\n",
       "      <td>2</td>\n",
       "      <td>Si</td>\n",
       "      <td>True</td>\n",
       "    </tr>\n",
       "    <tr>\n",
       "      <th>1</th>\n",
       "      <td>4</td>\n",
       "      <td>7</td>\n",
       "      <td>No</td>\n",
       "      <td>False</td>\n",
       "    </tr>\n",
       "    <tr>\n",
       "      <th>2</th>\n",
       "      <td>3.75</td>\n",
       "      <td>9</td>\n",
       "      <td>Si</td>\n",
       "      <td>True</td>\n",
       "    </tr>\n",
       "    <tr>\n",
       "      <th>3</th>\n",
       "      <td>3.5</td>\n",
       "      <td>8</td>\n",
       "      <td>Si</td>\n",
       "      <td>True</td>\n",
       "    </tr>\n",
       "    <tr>\n",
       "      <th>4</th>\n",
       "      <td>6</td>\n",
       "      <td>6.5</td>\n",
       "      <td>Si</td>\n",
       "      <td>True</td>\n",
       "    </tr>\n",
       "  </tbody>\n",
       "</table>\n",
       "</div>"
      ],
      "text/plain": [
       "     x1   x2  x3     x4\n",
       "0   1.5    2  Si   True\n",
       "1     4    7  No  False\n",
       "2  3.75    9  Si   True\n",
       "3   3.5    8  Si   True\n",
       "4     6  6.5  Si   True"
      ]
     },
     "execution_count": 17,
     "metadata": {},
     "output_type": "execute_result"
    }
   ],
   "source": [
    "# Finalmente lo aplicamos con transform al DataFrame original!\n",
    "\n",
    "E_Transformado = transformador_columnas.transform(dfE)\n",
    "#C_Transformado\n",
    "\n",
    "dfE_Transformado=pd.DataFrame(E_Transformado, columns=dfE.columns)\n",
    "dfE_Transformado"
   ]
  },
  {
   "cell_type": "markdown",
   "metadata": {},
   "source": [
    "Listo!"
   ]
  },
  {
   "cell_type": "markdown",
   "metadata": {
    "ExecuteTime": {
     "end_time": "2020-06-02T18:22:43.192172Z",
     "start_time": "2020-06-02T18:22:43.188184Z"
    }
   },
   "source": [
    "### RESUMEN"
   ]
  },
  {
   "cell_type": "markdown",
   "metadata": {},
   "source": [
    "**Nota** Fíjese que si siempre fuéramos a imputar de la misma manera (el promedio a las numéricas, la moda al resto) y los Missing_values fueran siempre del mismo tipo, podríamos dejarnos escrito un código desde donde definimos cols_num hasta la última línea y lo único que cambió es el nombre del DataFrame original (y que en este caso lo cambiamos porque estábamos trabajando con varios en el mismo documento de Jupyter ...!!!  \n",
    "\n",
    "Ese código podría ser algo así: "
   ]
  },
  {
   "cell_type": "code",
   "execution_count": 15,
   "metadata": {
    "ExecuteTime": {
     "end_time": "2020-10-27T20:09:00.068177Z",
     "start_time": "2020-10-27T20:09:00.064188Z"
    }
   },
   "outputs": [],
   "source": [
    "# ver en el archivo resuelto "
   ]
  },
  {
   "cell_type": "code",
   "execution_count": null,
   "metadata": {},
   "outputs": [],
   "source": []
  }
 ],
 "metadata": {
  "hide_input": false,
  "kernelspec": {
   "display_name": "Python 3",
   "language": "python",
   "name": "python3"
  },
  "language_info": {
   "codemirror_mode": {
    "name": "ipython",
    "version": 3
   },
   "file_extension": ".py",
   "mimetype": "text/x-python",
   "name": "python",
   "nbconvert_exporter": "python",
   "pygments_lexer": "ipython3",
   "version": "3.8.5"
  },
  "latex_envs": {
   "LaTeX_envs_menu_present": true,
   "autoclose": false,
   "autocomplete": true,
   "bibliofile": "biblio.bib",
   "cite_by": "apalike",
   "current_citInitial": 1,
   "eqLabelWithNumbers": true,
   "eqNumInitial": 1,
   "hotkeys": {
    "equation": "Ctrl-E",
    "itemize": "Ctrl-I"
   },
   "labels_anchors": false,
   "latex_user_defs": false,
   "report_style_numbering": false,
   "user_envs_cfg": false
  },
  "toc": {
   "base_numbering": 1,
   "nav_menu": {},
   "number_sections": true,
   "sideBar": true,
   "skip_h1_title": true,
   "title_cell": "Tabla de Contenidos",
   "title_sidebar": "Contenidos",
   "toc_cell": true,
   "toc_position": {
    "height": "calc(100% - 180px)",
    "left": "10px",
    "top": "150px",
    "width": "165px"
   },
   "toc_section_display": true,
   "toc_window_display": true
  },
  "varInspector": {
   "cols": {
    "lenName": 16,
    "lenType": 16,
    "lenVar": 40
   },
   "kernels_config": {
    "python": {
     "delete_cmd_postfix": "",
     "delete_cmd_prefix": "del ",
     "library": "var_list.py",
     "varRefreshCmd": "print(var_dic_list())"
    },
    "r": {
     "delete_cmd_postfix": ") ",
     "delete_cmd_prefix": "rm(",
     "library": "var_list.r",
     "varRefreshCmd": "cat(var_dic_list()) "
    }
   },
   "types_to_exclude": [
    "module",
    "function",
    "builtin_function_or_method",
    "instance",
    "_Feature"
   ],
   "window_display": false
  }
 },
 "nbformat": 4,
 "nbformat_minor": 4
}
