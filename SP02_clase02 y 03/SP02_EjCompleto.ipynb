{
 "cells": [
  {
   "cell_type": "markdown",
   "metadata": {},
   "source": [
    "# Ejercicio \"completo\" de Selección de Modelo\n",
    "\n",
    "- Compare los distintos modelos y sus hiperparámetros con los datos del ejercicio anterior.  \n",
    "- Evalúe el modelo elegido.  \n",
    "- Genere el modelo para producción."
   ]
  },
  {
   "cell_type": "code",
   "execution_count": 1,
   "metadata": {
    "ExecuteTime": {
     "end_time": "2021-09-15T22:41:24.474255Z",
     "start_time": "2021-09-15T22:41:24.165500Z"
    }
   },
   "outputs": [
    {
     "data": {
      "text/html": [
       "<div>\n",
       "<style scoped>\n",
       "    .dataframe tbody tr th:only-of-type {\n",
       "        vertical-align: middle;\n",
       "    }\n",
       "\n",
       "    .dataframe tbody tr th {\n",
       "        vertical-align: top;\n",
       "    }\n",
       "\n",
       "    .dataframe thead th {\n",
       "        text-align: right;\n",
       "    }\n",
       "</style>\n",
       "<table border=\"1\" class=\"dataframe\">\n",
       "  <thead>\n",
       "    <tr style=\"text-align: right;\">\n",
       "      <th></th>\n",
       "      <th>y</th>\n",
       "      <th>x1</th>\n",
       "      <th>x2</th>\n",
       "      <th>x3</th>\n",
       "    </tr>\n",
       "  </thead>\n",
       "  <tbody>\n",
       "    <tr>\n",
       "      <th>0</th>\n",
       "      <td>151.0</td>\n",
       "      <td>0.050680</td>\n",
       "      <td>0.061696</td>\n",
       "      <td>0.021872</td>\n",
       "    </tr>\n",
       "    <tr>\n",
       "      <th>1</th>\n",
       "      <td>75.0</td>\n",
       "      <td>-0.044642</td>\n",
       "      <td>-0.051474</td>\n",
       "      <td>-0.026328</td>\n",
       "    </tr>\n",
       "    <tr>\n",
       "      <th>2</th>\n",
       "      <td>141.0</td>\n",
       "      <td>0.050680</td>\n",
       "      <td>0.044451</td>\n",
       "      <td>-0.005671</td>\n",
       "    </tr>\n",
       "    <tr>\n",
       "      <th>3</th>\n",
       "      <td>206.0</td>\n",
       "      <td>-0.044642</td>\n",
       "      <td>-0.011595</td>\n",
       "      <td>-0.036656</td>\n",
       "    </tr>\n",
       "    <tr>\n",
       "      <th>4</th>\n",
       "      <td>135.0</td>\n",
       "      <td>-0.044642</td>\n",
       "      <td>-0.036385</td>\n",
       "      <td>0.021872</td>\n",
       "    </tr>\n",
       "    <tr>\n",
       "      <th>...</th>\n",
       "      <td>...</td>\n",
       "      <td>...</td>\n",
       "      <td>...</td>\n",
       "      <td>...</td>\n",
       "    </tr>\n",
       "    <tr>\n",
       "      <th>437</th>\n",
       "      <td>178.0</td>\n",
       "      <td>0.050680</td>\n",
       "      <td>0.019662</td>\n",
       "      <td>0.059744</td>\n",
       "    </tr>\n",
       "    <tr>\n",
       "      <th>438</th>\n",
       "      <td>104.0</td>\n",
       "      <td>0.050680</td>\n",
       "      <td>-0.015906</td>\n",
       "      <td>-0.067642</td>\n",
       "    </tr>\n",
       "    <tr>\n",
       "      <th>439</th>\n",
       "      <td>132.0</td>\n",
       "      <td>0.050680</td>\n",
       "      <td>-0.015906</td>\n",
       "      <td>0.017282</td>\n",
       "    </tr>\n",
       "    <tr>\n",
       "      <th>440</th>\n",
       "      <td>220.0</td>\n",
       "      <td>-0.044642</td>\n",
       "      <td>0.039062</td>\n",
       "      <td>0.001215</td>\n",
       "    </tr>\n",
       "    <tr>\n",
       "      <th>441</th>\n",
       "      <td>57.0</td>\n",
       "      <td>-0.044642</td>\n",
       "      <td>-0.073030</td>\n",
       "      <td>-0.081414</td>\n",
       "    </tr>\n",
       "  </tbody>\n",
       "</table>\n",
       "<p>442 rows × 4 columns</p>\n",
       "</div>"
      ],
      "text/plain": [
       "         y        x1        x2        x3\n",
       "0    151.0  0.050680  0.061696  0.021872\n",
       "1     75.0 -0.044642 -0.051474 -0.026328\n",
       "2    141.0  0.050680  0.044451 -0.005671\n",
       "3    206.0 -0.044642 -0.011595 -0.036656\n",
       "4    135.0 -0.044642 -0.036385  0.021872\n",
       "..     ...       ...       ...       ...\n",
       "437  178.0  0.050680  0.019662  0.059744\n",
       "438  104.0  0.050680 -0.015906 -0.067642\n",
       "439  132.0  0.050680 -0.015906  0.017282\n",
       "440  220.0 -0.044642  0.039062  0.001215\n",
       "441   57.0 -0.044642 -0.073030 -0.081414\n",
       "\n",
       "[442 rows x 4 columns]"
      ]
     },
     "execution_count": 1,
     "metadata": {},
     "output_type": "execute_result"
    }
   ],
   "source": [
    "import pandas as pd\n",
    "df=pd.read_csv('data/diabetes_3variables.csv')\n",
    "df"
   ]
  },
  {
   "cell_type": "markdown",
   "metadata": {},
   "source": [
    "## Generamos los Datasets"
   ]
  },
  {
   "cell_type": "code",
   "execution_count": 2,
   "metadata": {
    "ExecuteTime": {
     "end_time": "2021-09-15T22:41:24.816068Z",
     "start_time": "2021-09-15T22:41:24.475968Z"
    }
   },
   "outputs": [],
   "source": [
    "from sklearn.model_selection import train_test_split\n",
    "\n",
    "# df_train, df_test = train_test_split(df, test_size=0.2,random_state=123)"
   ]
  },
  {
   "cell_type": "code",
   "execution_count": 3,
   "metadata": {
    "ExecuteTime": {
     "end_time": "2021-09-15T22:41:24.827073Z",
     "start_time": "2021-09-15T22:41:24.817855Z"
    }
   },
   "outputs": [
    {
     "data": {
      "text/html": [
       "<div>\n",
       "<style scoped>\n",
       "    .dataframe tbody tr th:only-of-type {\n",
       "        vertical-align: middle;\n",
       "    }\n",
       "\n",
       "    .dataframe tbody tr th {\n",
       "        vertical-align: top;\n",
       "    }\n",
       "\n",
       "    .dataframe thead th {\n",
       "        text-align: right;\n",
       "    }\n",
       "</style>\n",
       "<table border=\"1\" class=\"dataframe\">\n",
       "  <thead>\n",
       "    <tr style=\"text-align: right;\">\n",
       "      <th></th>\n",
       "      <th>x1</th>\n",
       "      <th>x2</th>\n",
       "      <th>x3</th>\n",
       "    </tr>\n",
       "  </thead>\n",
       "  <tbody>\n",
       "    <tr>\n",
       "      <th>0</th>\n",
       "      <td>0.050680</td>\n",
       "      <td>0.061696</td>\n",
       "      <td>0.021872</td>\n",
       "    </tr>\n",
       "    <tr>\n",
       "      <th>1</th>\n",
       "      <td>-0.044642</td>\n",
       "      <td>-0.051474</td>\n",
       "      <td>-0.026328</td>\n",
       "    </tr>\n",
       "    <tr>\n",
       "      <th>2</th>\n",
       "      <td>0.050680</td>\n",
       "      <td>0.044451</td>\n",
       "      <td>-0.005671</td>\n",
       "    </tr>\n",
       "    <tr>\n",
       "      <th>3</th>\n",
       "      <td>-0.044642</td>\n",
       "      <td>-0.011595</td>\n",
       "      <td>-0.036656</td>\n",
       "    </tr>\n",
       "    <tr>\n",
       "      <th>4</th>\n",
       "      <td>-0.044642</td>\n",
       "      <td>-0.036385</td>\n",
       "      <td>0.021872</td>\n",
       "    </tr>\n",
       "    <tr>\n",
       "      <th>...</th>\n",
       "      <td>...</td>\n",
       "      <td>...</td>\n",
       "      <td>...</td>\n",
       "    </tr>\n",
       "    <tr>\n",
       "      <th>437</th>\n",
       "      <td>0.050680</td>\n",
       "      <td>0.019662</td>\n",
       "      <td>0.059744</td>\n",
       "    </tr>\n",
       "    <tr>\n",
       "      <th>438</th>\n",
       "      <td>0.050680</td>\n",
       "      <td>-0.015906</td>\n",
       "      <td>-0.067642</td>\n",
       "    </tr>\n",
       "    <tr>\n",
       "      <th>439</th>\n",
       "      <td>0.050680</td>\n",
       "      <td>-0.015906</td>\n",
       "      <td>0.017282</td>\n",
       "    </tr>\n",
       "    <tr>\n",
       "      <th>440</th>\n",
       "      <td>-0.044642</td>\n",
       "      <td>0.039062</td>\n",
       "      <td>0.001215</td>\n",
       "    </tr>\n",
       "    <tr>\n",
       "      <th>441</th>\n",
       "      <td>-0.044642</td>\n",
       "      <td>-0.073030</td>\n",
       "      <td>-0.081414</td>\n",
       "    </tr>\n",
       "  </tbody>\n",
       "</table>\n",
       "<p>442 rows × 3 columns</p>\n",
       "</div>"
      ],
      "text/plain": [
       "           x1        x2        x3\n",
       "0    0.050680  0.061696  0.021872\n",
       "1   -0.044642 -0.051474 -0.026328\n",
       "2    0.050680  0.044451 -0.005671\n",
       "3   -0.044642 -0.011595 -0.036656\n",
       "4   -0.044642 -0.036385  0.021872\n",
       "..        ...       ...       ...\n",
       "437  0.050680  0.019662  0.059744\n",
       "438  0.050680 -0.015906 -0.067642\n",
       "439  0.050680 -0.015906  0.017282\n",
       "440 -0.044642  0.039062  0.001215\n",
       "441 -0.044642 -0.073030 -0.081414\n",
       "\n",
       "[442 rows x 3 columns]"
      ]
     },
     "execution_count": 3,
     "metadata": {},
     "output_type": "execute_result"
    }
   ],
   "source": [
    "X=df.drop(columns=['y'])\n",
    "X"
   ]
  },
  {
   "cell_type": "code",
   "execution_count": 4,
   "metadata": {
    "ExecuteTime": {
     "end_time": "2021-09-15T22:41:24.840515Z",
     "start_time": "2021-09-15T22:41:24.828874Z"
    }
   },
   "outputs": [
    {
     "data": {
      "text/html": [
       "<div>\n",
       "<style scoped>\n",
       "    .dataframe tbody tr th:only-of-type {\n",
       "        vertical-align: middle;\n",
       "    }\n",
       "\n",
       "    .dataframe tbody tr th {\n",
       "        vertical-align: top;\n",
       "    }\n",
       "\n",
       "    .dataframe thead th {\n",
       "        text-align: right;\n",
       "    }\n",
       "</style>\n",
       "<table border=\"1\" class=\"dataframe\">\n",
       "  <thead>\n",
       "    <tr style=\"text-align: right;\">\n",
       "      <th></th>\n",
       "      <th>y</th>\n",
       "    </tr>\n",
       "  </thead>\n",
       "  <tbody>\n",
       "    <tr>\n",
       "      <th>0</th>\n",
       "      <td>151.0</td>\n",
       "    </tr>\n",
       "    <tr>\n",
       "      <th>1</th>\n",
       "      <td>75.0</td>\n",
       "    </tr>\n",
       "    <tr>\n",
       "      <th>2</th>\n",
       "      <td>141.0</td>\n",
       "    </tr>\n",
       "    <tr>\n",
       "      <th>3</th>\n",
       "      <td>206.0</td>\n",
       "    </tr>\n",
       "    <tr>\n",
       "      <th>4</th>\n",
       "      <td>135.0</td>\n",
       "    </tr>\n",
       "    <tr>\n",
       "      <th>...</th>\n",
       "      <td>...</td>\n",
       "    </tr>\n",
       "    <tr>\n",
       "      <th>437</th>\n",
       "      <td>178.0</td>\n",
       "    </tr>\n",
       "    <tr>\n",
       "      <th>438</th>\n",
       "      <td>104.0</td>\n",
       "    </tr>\n",
       "    <tr>\n",
       "      <th>439</th>\n",
       "      <td>132.0</td>\n",
       "    </tr>\n",
       "    <tr>\n",
       "      <th>440</th>\n",
       "      <td>220.0</td>\n",
       "    </tr>\n",
       "    <tr>\n",
       "      <th>441</th>\n",
       "      <td>57.0</td>\n",
       "    </tr>\n",
       "  </tbody>\n",
       "</table>\n",
       "<p>442 rows × 1 columns</p>\n",
       "</div>"
      ],
      "text/plain": [
       "         y\n",
       "0    151.0\n",
       "1     75.0\n",
       "2    141.0\n",
       "3    206.0\n",
       "4    135.0\n",
       "..     ...\n",
       "437  178.0\n",
       "438  104.0\n",
       "439  132.0\n",
       "440  220.0\n",
       "441   57.0\n",
       "\n",
       "[442 rows x 1 columns]"
      ]
     },
     "execution_count": 4,
     "metadata": {},
     "output_type": "execute_result"
    }
   ],
   "source": [
    "y=df[['y']]\n",
    "y"
   ]
  },
  {
   "cell_type": "code",
   "execution_count": 5,
   "metadata": {
    "ExecuteTime": {
     "end_time": "2021-09-15T22:41:24.845866Z",
     "start_time": "2021-09-15T22:41:24.841917Z"
    }
   },
   "outputs": [],
   "source": [
    "X_train, X_test, y_train, y_test=train_test_split(X,y, test_size=0.2,random_state=123)"
   ]
  },
  {
   "cell_type": "markdown",
   "metadata": {
    "ExecuteTime": {
     "end_time": "2021-09-15T21:56:34.385838Z",
     "start_time": "2021-09-15T21:56:34.367349Z"
    }
   },
   "source": [
    "### Validation"
   ]
  },
  {
   "cell_type": "code",
   "execution_count": 6,
   "metadata": {
    "ExecuteTime": {
     "end_time": "2021-09-15T22:41:24.851958Z",
     "start_time": "2021-09-15T22:41:24.847065Z"
    }
   },
   "outputs": [],
   "source": [
    "Xval_train, Xval_test,yval_train, yval_test=train_test_split(X_train,y_train, test_size=0.2,random_state=123)"
   ]
  },
  {
   "cell_type": "markdown",
   "metadata": {
    "ExecuteTime": {
     "end_time": "2021-09-15T22:05:03.795223Z",
     "start_time": "2021-09-15T22:05:03.792938Z"
    }
   },
   "source": [
    "## Comparación de Modelos"
   ]
  },
  {
   "cell_type": "markdown",
   "metadata": {},
   "source": [
    "### Regresión Lineal"
   ]
  },
  {
   "cell_type": "code",
   "execution_count": 7,
   "metadata": {
    "ExecuteTime": {
     "end_time": "2021-09-15T22:41:24.872551Z",
     "start_time": "2021-09-15T22:41:24.853211Z"
    }
   },
   "outputs": [],
   "source": [
    "from sklearn.linear_model import LinearRegression\n",
    "from sklearn.metrics import mean_squared_error"
   ]
  },
  {
   "cell_type": "code",
   "execution_count": 8,
   "metadata": {
    "ExecuteTime": {
     "end_time": "2021-09-15T22:41:24.886748Z",
     "start_time": "2021-09-15T22:41:24.873804Z"
    }
   },
   "outputs": [
    {
     "name": "stdout",
     "output_type": "stream",
     "text": [
      "RMSE regresión lineal:  58.89811191070833\n"
     ]
    }
   ],
   "source": [
    "rl=LinearRegression(n_jobs=-1)\n",
    "rl.fit(Xval_train,yval_train)\n",
    "yval_pred = rl.predict(Xval_test)\n",
    "RMSE=mean_squared_error(yval_test, yval_pred,squared=False)\n",
    "print(\"RMSE regresión lineal: \", RMSE)"
   ]
  },
  {
   "cell_type": "markdown",
   "metadata": {},
   "source": [
    "### Árbol\n",
    "\n",
    "Vamos a probar con profundidades desde 1 hasta 7"
   ]
  },
  {
   "cell_type": "code",
   "execution_count": 9,
   "metadata": {
    "ExecuteTime": {
     "end_time": "2021-09-15T22:41:24.948072Z",
     "start_time": "2021-09-15T22:41:24.888345Z"
    }
   },
   "outputs": [
    {
     "name": "stdout",
     "output_type": "stream",
     "text": [
      "Árbol de Profundidad:  1\n",
      "RMSE arbol:  67.06369956571609\n",
      "--------------------------------------------------------\n",
      "Árbol de Profundidad:  2\n",
      "RMSE arbol:  66.99730353001537\n",
      "--------------------------------------------------------\n",
      "Árbol de Profundidad:  3\n",
      "RMSE arbol:  69.34329257001006\n",
      "--------------------------------------------------------\n",
      "Árbol de Profundidad:  4\n",
      "RMSE arbol:  77.56959734485575\n",
      "--------------------------------------------------------\n",
      "Árbol de Profundidad:  5\n",
      "RMSE arbol:  85.0993831413183\n",
      "--------------------------------------------------------\n",
      "Árbol de Profundidad:  6\n",
      "RMSE arbol:  86.63952382077957\n",
      "--------------------------------------------------------\n",
      "Árbol de Profundidad:  7\n",
      "RMSE arbol:  92.04112002384981\n",
      "--------------------------------------------------------\n"
     ]
    }
   ],
   "source": [
    "from sklearn.tree import DecisionTreeRegressor\n",
    "\n",
    "for profundidad in range(1,8):\n",
    "    \n",
    "    arbol=DecisionTreeRegressor(max_depth=profundidad,random_state=123)\n",
    "    arbol.fit(Xval_train,yval_train)\n",
    "    yval_pred = arbol.predict(Xval_test)\n",
    "    RMSE=mean_squared_error(yval_test, yval_pred,squared=False)\n",
    "    print(\"Árbol de Profundidad: \", profundidad)\n",
    "    print(\"RMSE arbol: \", RMSE)\n",
    "    print(\"--------------------------------------------------------\")"
   ]
  },
  {
   "cell_type": "markdown",
   "metadata": {},
   "source": [
    "### kNN uniforme"
   ]
  },
  {
   "cell_type": "code",
   "execution_count": 10,
   "metadata": {
    "ExecuteTime": {
     "end_time": "2021-09-15T22:41:25.076530Z",
     "start_time": "2021-09-15T22:41:24.954199Z"
    }
   },
   "outputs": [
    {
     "name": "stdout",
     "output_type": "stream",
     "text": [
      "Cantidad de Vecinos:  1\n",
      "RMSE arbol:  81.96074292172864\n",
      "--------------------------------------------------------\n",
      "Cantidad de Vecinos:  2\n",
      "RMSE arbol:  70.14507100228421\n",
      "--------------------------------------------------------\n",
      "Cantidad de Vecinos:  3\n",
      "RMSE arbol:  62.11028104069902\n",
      "--------------------------------------------------------\n",
      "Cantidad de Vecinos:  4\n",
      "RMSE arbol:  64.28945327825475\n",
      "--------------------------------------------------------\n",
      "Cantidad de Vecinos:  5\n",
      "RMSE arbol:  61.788580922322254\n",
      "--------------------------------------------------------\n",
      "Cantidad de Vecinos:  6\n",
      "RMSE arbol:  61.78664575063321\n",
      "--------------------------------------------------------\n",
      "Cantidad de Vecinos:  7\n",
      "RMSE arbol:  61.8117081664621\n",
      "--------------------------------------------------------\n",
      "Cantidad de Vecinos:  8\n",
      "RMSE arbol:  63.313053106464324\n",
      "--------------------------------------------------------\n",
      "Cantidad de Vecinos:  9\n",
      "RMSE arbol:  61.93775517051381\n",
      "--------------------------------------------------------\n",
      "Cantidad de Vecinos:  10\n",
      "RMSE arbol:  60.83945277601128\n",
      "--------------------------------------------------------\n",
      "Cantidad de Vecinos:  11\n",
      "RMSE arbol:  60.39927869564164\n",
      "--------------------------------------------------------\n",
      "Cantidad de Vecinos:  12\n",
      "RMSE arbol:  60.957209554847694\n",
      "--------------------------------------------------------\n",
      "Cantidad de Vecinos:  13\n",
      "RMSE arbol:  60.43380003785618\n",
      "--------------------------------------------------------\n",
      "Cantidad de Vecinos:  14\n",
      "RMSE arbol:  60.98598338625821\n",
      "--------------------------------------------------------\n",
      "Cantidad de Vecinos:  15\n",
      "RMSE arbol:  61.60266949482699\n",
      "--------------------------------------------------------\n",
      "Cantidad de Vecinos:  16\n",
      "RMSE arbol:  61.73583234361104\n",
      "--------------------------------------------------------\n",
      "Cantidad de Vecinos:  17\n",
      "RMSE arbol:  61.742923132511464\n",
      "--------------------------------------------------------\n",
      "Cantidad de Vecinos:  18\n",
      "RMSE arbol:  61.4337220068706\n",
      "--------------------------------------------------------\n",
      "Cantidad de Vecinos:  19\n",
      "RMSE arbol:  61.797283885131804\n",
      "--------------------------------------------------------\n"
     ]
    }
   ],
   "source": [
    "from sklearn import neighbors\n",
    "\n",
    "\n",
    "for k in range(1,20):\n",
    "    \n",
    "    knn = neighbors.KNeighborsRegressor(n_neighbors=k,weights='uniform')\n",
    "    knn.fit(Xval_train,yval_train)\n",
    "    yval_pred = knn.predict(Xval_test)\n",
    "    RMSE=mean_squared_error(yval_test, yval_pred,squared=False)\n",
    "    print(\"Cantidad de Vecinos: \", k)\n",
    "    print(\"RMSE arbol: \", RMSE)\n",
    "    print(\"--------------------------------------------------------\")"
   ]
  },
  {
   "cell_type": "markdown",
   "metadata": {},
   "source": [
    "Mejor valor con 11 vecinos"
   ]
  },
  {
   "cell_type": "markdown",
   "metadata": {},
   "source": [
    "### kNN con distancia"
   ]
  },
  {
   "cell_type": "code",
   "execution_count": 11,
   "metadata": {
    "ExecuteTime": {
     "end_time": "2021-09-15T22:41:25.294164Z",
     "start_time": "2021-09-15T22:41:25.078810Z"
    }
   },
   "outputs": [
    {
     "name": "stdout",
     "output_type": "stream",
     "text": [
      "Cantidad de Vecinos:  1\n",
      "RMSE arbol:  81.96074292172864\n",
      "--------------------------------------------------------\n",
      "Cantidad de Vecinos:  2\n",
      "RMSE arbol:  68.48714140969071\n",
      "--------------------------------------------------------\n",
      "Cantidad de Vecinos:  3\n",
      "RMSE arbol:  62.193657677450545\n",
      "--------------------------------------------------------\n",
      "Cantidad de Vecinos:  4\n",
      "RMSE arbol:  62.4049523544429\n",
      "--------------------------------------------------------\n",
      "Cantidad de Vecinos:  5\n",
      "RMSE arbol:  60.77902492414625\n",
      "--------------------------------------------------------\n",
      "Cantidad de Vecinos:  6\n",
      "RMSE arbol:  60.69633649404083\n",
      "--------------------------------------------------------\n",
      "Cantidad de Vecinos:  7\n",
      "RMSE arbol:  60.30632258181293\n",
      "--------------------------------------------------------\n",
      "Cantidad de Vecinos:  8\n",
      "RMSE arbol:  61.311001303114324\n",
      "--------------------------------------------------------\n",
      "Cantidad de Vecinos:  9\n",
      "RMSE arbol:  60.41984675948471\n",
      "--------------------------------------------------------\n",
      "Cantidad de Vecinos:  10\n",
      "RMSE arbol:  59.845968971826665\n",
      "--------------------------------------------------------\n",
      "Cantidad de Vecinos:  11\n",
      "RMSE arbol:  59.40563609044717\n",
      "--------------------------------------------------------\n",
      "Cantidad de Vecinos:  12\n",
      "RMSE arbol:  59.51474746553476\n",
      "--------------------------------------------------------\n",
      "Cantidad de Vecinos:  13\n",
      "RMSE arbol:  59.174286553078936\n",
      "--------------------------------------------------------\n",
      "Cantidad de Vecinos:  14\n",
      "RMSE arbol:  59.46442783593793\n",
      "--------------------------------------------------------\n",
      "Cantidad de Vecinos:  15\n",
      "RMSE arbol:  59.74789501006648\n",
      "--------------------------------------------------------\n",
      "Cantidad de Vecinos:  16\n",
      "RMSE arbol:  59.716509672455736\n",
      "--------------------------------------------------------\n",
      "Cantidad de Vecinos:  17\n",
      "RMSE arbol:  59.59980285524628\n",
      "--------------------------------------------------------\n",
      "Cantidad de Vecinos:  18\n",
      "RMSE arbol:  59.40379412295341\n",
      "--------------------------------------------------------\n",
      "Cantidad de Vecinos:  19\n",
      "RMSE arbol:  59.5441297676717\n",
      "--------------------------------------------------------\n",
      "Cantidad de Vecinos:  20\n",
      "RMSE arbol:  59.624779330554105\n",
      "--------------------------------------------------------\n",
      "Cantidad de Vecinos:  21\n",
      "RMSE arbol:  59.36707734850043\n",
      "--------------------------------------------------------\n",
      "Cantidad de Vecinos:  22\n",
      "RMSE arbol:  59.457071481125126\n",
      "--------------------------------------------------------\n",
      "Cantidad de Vecinos:  23\n",
      "RMSE arbol:  59.40325205289605\n",
      "--------------------------------------------------------\n",
      "Cantidad de Vecinos:  24\n",
      "RMSE arbol:  59.379120410931755\n",
      "--------------------------------------------------------\n",
      "Cantidad de Vecinos:  25\n",
      "RMSE arbol:  59.311298144762084\n",
      "--------------------------------------------------------\n",
      "Cantidad de Vecinos:  26\n",
      "RMSE arbol:  59.52412127046953\n",
      "--------------------------------------------------------\n",
      "Cantidad de Vecinos:  27\n",
      "RMSE arbol:  59.606160953578765\n",
      "--------------------------------------------------------\n",
      "Cantidad de Vecinos:  28\n",
      "RMSE arbol:  59.36736175782968\n",
      "--------------------------------------------------------\n",
      "Cantidad de Vecinos:  29\n",
      "RMSE arbol:  59.58611763915515\n",
      "--------------------------------------------------------\n"
     ]
    }
   ],
   "source": [
    "for k in range(1,30):\n",
    "    \n",
    "    knn = neighbors.KNeighborsRegressor(n_neighbors=k,weights='distance')\n",
    "    knn.fit(Xval_train,yval_train)\n",
    "    yval_pred = knn.predict(Xval_test)\n",
    "    RMSE=mean_squared_error(yval_test, yval_pred,squared=False)\n",
    "    print(\"Cantidad de Vecinos: \", k)\n",
    "    print(\"RMSE arbol: \", RMSE)\n",
    "    print(\"--------------------------------------------------------\")"
   ]
  },
  {
   "cell_type": "markdown",
   "metadata": {},
   "source": [
    "### CONCLUSIÓN\n",
    "\n",
    "El modelo con Menor RMSE es Regresión Lineal. Por lo tanto será el que usaremos para Producción. \n",
    "\n",
    "Lo usaremos para evaluar en Train Test y calcular el RMSE esperado en producción\n"
   ]
  },
  {
   "cell_type": "markdown",
   "metadata": {},
   "source": [
    "## Evaluación del modelo elegido\n",
    "\n",
    "entrenamos en el Train y Evaluamos en el Test. "
   ]
  },
  {
   "cell_type": "code",
   "execution_count": 12,
   "metadata": {
    "ExecuteTime": {
     "end_time": "2021-09-15T22:41:25.306685Z",
     "start_time": "2021-09-15T22:41:25.296018Z"
    }
   },
   "outputs": [
    {
     "name": "stdout",
     "output_type": "stream",
     "text": [
      "RMSE regresión lineal:  58.11552226868896\n"
     ]
    }
   ],
   "source": [
    "rl=LinearRegression(n_jobs=-1)\n",
    "rl.fit(X_train,y_train)\n",
    "y_pred = rl.predict(X_test)\n",
    "RMSE=mean_squared_error(y_test, y_pred,squared=False)\n",
    "print(\"RMSE regresión lineal: \", RMSE)"
   ]
  },
  {
   "cell_type": "markdown",
   "metadata": {},
   "source": [
    "## Modelo de Producción\n",
    "\n",
    "Entrenar el modelo elegido con todos los datos originales\n",
    "\n"
   ]
  },
  {
   "cell_type": "code",
   "execution_count": 13,
   "metadata": {
    "ExecuteTime": {
     "end_time": "2021-09-15T22:41:25.319775Z",
     "start_time": "2021-09-15T22:41:25.308022Z"
    }
   },
   "outputs": [
    {
     "data": {
      "text/plain": [
       "LinearRegression(n_jobs=-1)"
      ]
     },
     "execution_count": 13,
     "metadata": {},
     "output_type": "execute_result"
    }
   ],
   "source": [
    "rl_produccion=LinearRegression(n_jobs=-1)\n",
    "rl_produccion.fit(X,y)"
   ]
  },
  {
   "cell_type": "markdown",
   "metadata": {},
   "source": [
    "Cómo usar el modelo de producción?\n"
   ]
  },
  {
   "cell_type": "code",
   "execution_count": 14,
   "metadata": {
    "ExecuteTime": {
     "end_time": "2021-09-15T22:41:31.820320Z",
     "start_time": "2021-09-15T22:41:31.815835Z"
    }
   },
   "outputs": [
    {
     "data": {
      "text/plain": [
       "array([[149.9473741]])"
      ]
     },
     "execution_count": 14,
     "metadata": {},
     "output_type": "execute_result"
    }
   ],
   "source": [
    "observacion_nueva=[[0.004,0.001,-0.006]]\n",
    "rl_produccion.predict(observacion_nueva)"
   ]
  },
  {
   "cell_type": "code",
   "execution_count": 15,
   "metadata": {
    "ExecuteTime": {
     "end_time": "2021-09-15T22:41:40.897510Z",
     "start_time": "2021-09-15T22:41:36.836825Z"
    }
   },
   "outputs": [
    {
     "name": "stdout",
     "output_type": "stream",
     "text": [
      "0.02\n"
     ]
    }
   ],
   "source": [
    "a1=input()"
   ]
  },
  {
   "cell_type": "code",
   "execution_count": 16,
   "metadata": {
    "ExecuteTime": {
     "end_time": "2021-09-15T22:41:46.589407Z",
     "start_time": "2021-09-15T22:41:42.971366Z"
    }
   },
   "outputs": [
    {
     "name": "stdout",
     "output_type": "stream",
     "text": [
      "0.003\n"
     ]
    }
   ],
   "source": [
    "a2=input()"
   ]
  },
  {
   "cell_type": "code",
   "execution_count": 17,
   "metadata": {
    "ExecuteTime": {
     "end_time": "2021-09-15T22:41:57.301797Z",
     "start_time": "2021-09-15T22:41:49.770202Z"
    }
   },
   "outputs": [
    {
     "name": "stdout",
     "output_type": "stream",
     "text": [
      "-0.0045\n"
     ]
    }
   ],
   "source": [
    "a3=input()"
   ]
  },
  {
   "cell_type": "code",
   "execution_count": 18,
   "metadata": {
    "ExecuteTime": {
     "end_time": "2021-09-15T22:41:59.436425Z",
     "start_time": "2021-09-15T22:41:59.431449Z"
    }
   },
   "outputs": [],
   "source": [
    "dato1=float(a1)\n",
    "dato2=float(a2)\n",
    "dato3=float(a3)\n",
    "dato_nuevo=[[dato1,dato2,dato3]]\n",
    "pronostico=rl_produccion.predict(dato_nuevo)"
   ]
  },
  {
   "cell_type": "code",
   "execution_count": 19,
   "metadata": {
    "ExecuteTime": {
     "end_time": "2021-09-15T22:42:05.046477Z",
     "start_time": "2021-09-15T22:42:05.043315Z"
    }
   },
   "outputs": [
    {
     "data": {
      "text/plain": [
       "array([[150.52125815]])"
      ]
     },
     "execution_count": 19,
     "metadata": {},
     "output_type": "execute_result"
    }
   ],
   "source": [
    "pronostico"
   ]
  },
  {
   "cell_type": "markdown",
   "metadata": {},
   "source": [
    "## Guardamos el modelo de producción para uso posterior"
   ]
  },
  {
   "cell_type": "code",
   "execution_count": 20,
   "metadata": {
    "ExecuteTime": {
     "end_time": "2021-09-15T22:45:58.046476Z",
     "start_time": "2021-09-15T22:45:58.039871Z"
    }
   },
   "outputs": [],
   "source": [
    "import pickle"
   ]
  },
  {
   "cell_type": "code",
   "execution_count": 21,
   "metadata": {
    "ExecuteTime": {
     "end_time": "2021-09-15T22:46:52.704542Z",
     "start_time": "2021-09-15T22:46:52.699678Z"
    }
   },
   "outputs": [],
   "source": [
    "# pickle.dump(rl_produccion, open('modelo_produccion.sav', 'wb'))"
   ]
  },
  {
   "cell_type": "markdown",
   "metadata": {},
   "source": [
    "## Recuperamos el modelo guardado"
   ]
  },
  {
   "cell_type": "code",
   "execution_count": 22,
   "metadata": {
    "ExecuteTime": {
     "end_time": "2021-09-15T22:48:27.926882Z",
     "start_time": "2021-09-15T22:48:27.924307Z"
    }
   },
   "outputs": [],
   "source": [
    "# modelo_recuperado=pickle.load(open('modelo_produccion.sav', 'rb'))"
   ]
  },
  {
   "cell_type": "code",
   "execution_count": 23,
   "metadata": {
    "ExecuteTime": {
     "end_time": "2021-09-15T22:48:46.759609Z",
     "start_time": "2021-09-15T22:48:46.755360Z"
    }
   },
   "outputs": [
    {
     "data": {
      "text/plain": [
       "array([[150.52125815]])"
      ]
     },
     "execution_count": 23,
     "metadata": {},
     "output_type": "execute_result"
    }
   ],
   "source": [
    "# modelo_recuperado.predict(dato_nuevo)"
   ]
  },
  {
   "cell_type": "code",
   "execution_count": null,
   "metadata": {},
   "outputs": [],
   "source": []
  }
 ],
 "metadata": {
  "kernelspec": {
   "display_name": "Python 3",
   "language": "python",
   "name": "python3"
  },
  "language_info": {
   "codemirror_mode": {
    "name": "ipython",
    "version": 3
   },
   "file_extension": ".py",
   "mimetype": "text/x-python",
   "name": "python",
   "nbconvert_exporter": "python",
   "pygments_lexer": "ipython3",
   "version": "3.8.5"
  },
  "latex_envs": {
   "LaTeX_envs_menu_present": true,
   "autoclose": false,
   "autocomplete": true,
   "bibliofile": "biblio.bib",
   "cite_by": "apalike",
   "current_citInitial": 1,
   "eqLabelWithNumbers": true,
   "eqNumInitial": 1,
   "hotkeys": {
    "equation": "Ctrl-E",
    "itemize": "Ctrl-I"
   },
   "labels_anchors": false,
   "latex_user_defs": false,
   "report_style_numbering": false,
   "user_envs_cfg": false
  },
  "toc": {
   "base_numbering": 1,
   "nav_menu": {},
   "number_sections": true,
   "sideBar": true,
   "skip_h1_title": false,
   "title_cell": "Table of Contents",
   "title_sidebar": "Contents",
   "toc_cell": false,
   "toc_position": {},
   "toc_section_display": true,
   "toc_window_display": false
  }
 },
 "nbformat": 4,
 "nbformat_minor": 5
}
