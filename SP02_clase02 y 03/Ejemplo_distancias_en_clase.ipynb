{
 "cells": [
  {
   "cell_type": "markdown",
   "metadata": {},
   "source": [
    "# kNN con distintas métricas dataset diabetes"
   ]
  },
  {
   "cell_type": "code",
   "execution_count": 1,
   "metadata": {
    "ExecuteTime": {
     "end_time": "2021-09-22T22:33:30.080994Z",
     "start_time": "2021-09-22T22:33:29.702209Z"
    }
   },
   "outputs": [],
   "source": [
    "import numpy as np\n",
    "import pandas as pd"
   ]
  },
  {
   "cell_type": "code",
   "execution_count": 3,
   "metadata": {
    "ExecuteTime": {
     "end_time": "2021-09-22T22:34:19.676172Z",
     "start_time": "2021-09-22T22:34:19.631401Z"
    }
   },
   "outputs": [
    {
     "data": {
      "text/html": [
       "<div>\n",
       "<style scoped>\n",
       "    .dataframe tbody tr th:only-of-type {\n",
       "        vertical-align: middle;\n",
       "    }\n",
       "\n",
       "    .dataframe tbody tr th {\n",
       "        vertical-align: top;\n",
       "    }\n",
       "\n",
       "    .dataframe thead th {\n",
       "        text-align: right;\n",
       "    }\n",
       "</style>\n",
       "<table border=\"1\" class=\"dataframe\">\n",
       "  <thead>\n",
       "    <tr style=\"text-align: right;\">\n",
       "      <th></th>\n",
       "      <th>x1</th>\n",
       "      <th>x2</th>\n",
       "      <th>x3</th>\n",
       "      <th>x4</th>\n",
       "      <th>x5</th>\n",
       "      <th>x6</th>\n",
       "      <th>x7</th>\n",
       "      <th>x8</th>\n",
       "      <th>x9</th>\n",
       "      <th>x10</th>\n",
       "      <th>y</th>\n",
       "    </tr>\n",
       "  </thead>\n",
       "  <tbody>\n",
       "    <tr>\n",
       "      <th>0</th>\n",
       "      <td>0.038076</td>\n",
       "      <td>0.050680</td>\n",
       "      <td>0.061696</td>\n",
       "      <td>0.021872</td>\n",
       "      <td>-0.044223</td>\n",
       "      <td>-0.034821</td>\n",
       "      <td>-0.043401</td>\n",
       "      <td>-0.002592</td>\n",
       "      <td>0.019908</td>\n",
       "      <td>-0.017646</td>\n",
       "      <td>151.0</td>\n",
       "    </tr>\n",
       "    <tr>\n",
       "      <th>1</th>\n",
       "      <td>-0.001882</td>\n",
       "      <td>-0.044642</td>\n",
       "      <td>-0.051474</td>\n",
       "      <td>-0.026328</td>\n",
       "      <td>-0.008449</td>\n",
       "      <td>-0.019163</td>\n",
       "      <td>0.074412</td>\n",
       "      <td>-0.039493</td>\n",
       "      <td>-0.068330</td>\n",
       "      <td>-0.092204</td>\n",
       "      <td>75.0</td>\n",
       "    </tr>\n",
       "    <tr>\n",
       "      <th>2</th>\n",
       "      <td>0.085299</td>\n",
       "      <td>0.050680</td>\n",
       "      <td>0.044451</td>\n",
       "      <td>-0.005671</td>\n",
       "      <td>-0.045599</td>\n",
       "      <td>-0.034194</td>\n",
       "      <td>-0.032356</td>\n",
       "      <td>-0.002592</td>\n",
       "      <td>0.002864</td>\n",
       "      <td>-0.025930</td>\n",
       "      <td>141.0</td>\n",
       "    </tr>\n",
       "    <tr>\n",
       "      <th>3</th>\n",
       "      <td>-0.089063</td>\n",
       "      <td>-0.044642</td>\n",
       "      <td>-0.011595</td>\n",
       "      <td>-0.036656</td>\n",
       "      <td>0.012191</td>\n",
       "      <td>0.024991</td>\n",
       "      <td>-0.036038</td>\n",
       "      <td>0.034309</td>\n",
       "      <td>0.022692</td>\n",
       "      <td>-0.009362</td>\n",
       "      <td>206.0</td>\n",
       "    </tr>\n",
       "    <tr>\n",
       "      <th>4</th>\n",
       "      <td>0.005383</td>\n",
       "      <td>-0.044642</td>\n",
       "      <td>-0.036385</td>\n",
       "      <td>0.021872</td>\n",
       "      <td>0.003935</td>\n",
       "      <td>0.015596</td>\n",
       "      <td>0.008142</td>\n",
       "      <td>-0.002592</td>\n",
       "      <td>-0.031991</td>\n",
       "      <td>-0.046641</td>\n",
       "      <td>135.0</td>\n",
       "    </tr>\n",
       "    <tr>\n",
       "      <th>...</th>\n",
       "      <td>...</td>\n",
       "      <td>...</td>\n",
       "      <td>...</td>\n",
       "      <td>...</td>\n",
       "      <td>...</td>\n",
       "      <td>...</td>\n",
       "      <td>...</td>\n",
       "      <td>...</td>\n",
       "      <td>...</td>\n",
       "      <td>...</td>\n",
       "      <td>...</td>\n",
       "    </tr>\n",
       "    <tr>\n",
       "      <th>437</th>\n",
       "      <td>0.041708</td>\n",
       "      <td>0.050680</td>\n",
       "      <td>0.019662</td>\n",
       "      <td>0.059744</td>\n",
       "      <td>-0.005697</td>\n",
       "      <td>-0.002566</td>\n",
       "      <td>-0.028674</td>\n",
       "      <td>-0.002592</td>\n",
       "      <td>0.031193</td>\n",
       "      <td>0.007207</td>\n",
       "      <td>178.0</td>\n",
       "    </tr>\n",
       "    <tr>\n",
       "      <th>438</th>\n",
       "      <td>-0.005515</td>\n",
       "      <td>0.050680</td>\n",
       "      <td>-0.015906</td>\n",
       "      <td>-0.067642</td>\n",
       "      <td>0.049341</td>\n",
       "      <td>0.079165</td>\n",
       "      <td>-0.028674</td>\n",
       "      <td>0.034309</td>\n",
       "      <td>-0.018118</td>\n",
       "      <td>0.044485</td>\n",
       "      <td>104.0</td>\n",
       "    </tr>\n",
       "    <tr>\n",
       "      <th>439</th>\n",
       "      <td>0.041708</td>\n",
       "      <td>0.050680</td>\n",
       "      <td>-0.015906</td>\n",
       "      <td>0.017282</td>\n",
       "      <td>-0.037344</td>\n",
       "      <td>-0.013840</td>\n",
       "      <td>-0.024993</td>\n",
       "      <td>-0.011080</td>\n",
       "      <td>-0.046879</td>\n",
       "      <td>0.015491</td>\n",
       "      <td>132.0</td>\n",
       "    </tr>\n",
       "    <tr>\n",
       "      <th>440</th>\n",
       "      <td>-0.045472</td>\n",
       "      <td>-0.044642</td>\n",
       "      <td>0.039062</td>\n",
       "      <td>0.001215</td>\n",
       "      <td>0.016318</td>\n",
       "      <td>0.015283</td>\n",
       "      <td>-0.028674</td>\n",
       "      <td>0.026560</td>\n",
       "      <td>0.044528</td>\n",
       "      <td>-0.025930</td>\n",
       "      <td>220.0</td>\n",
       "    </tr>\n",
       "    <tr>\n",
       "      <th>441</th>\n",
       "      <td>-0.045472</td>\n",
       "      <td>-0.044642</td>\n",
       "      <td>-0.073030</td>\n",
       "      <td>-0.081414</td>\n",
       "      <td>0.083740</td>\n",
       "      <td>0.027809</td>\n",
       "      <td>0.173816</td>\n",
       "      <td>-0.039493</td>\n",
       "      <td>-0.004220</td>\n",
       "      <td>0.003064</td>\n",
       "      <td>57.0</td>\n",
       "    </tr>\n",
       "  </tbody>\n",
       "</table>\n",
       "<p>442 rows × 11 columns</p>\n",
       "</div>"
      ],
      "text/plain": [
       "           x1        x2        x3        x4        x5        x6        x7  \\\n",
       "0    0.038076  0.050680  0.061696  0.021872 -0.044223 -0.034821 -0.043401   \n",
       "1   -0.001882 -0.044642 -0.051474 -0.026328 -0.008449 -0.019163  0.074412   \n",
       "2    0.085299  0.050680  0.044451 -0.005671 -0.045599 -0.034194 -0.032356   \n",
       "3   -0.089063 -0.044642 -0.011595 -0.036656  0.012191  0.024991 -0.036038   \n",
       "4    0.005383 -0.044642 -0.036385  0.021872  0.003935  0.015596  0.008142   \n",
       "..        ...       ...       ...       ...       ...       ...       ...   \n",
       "437  0.041708  0.050680  0.019662  0.059744 -0.005697 -0.002566 -0.028674   \n",
       "438 -0.005515  0.050680 -0.015906 -0.067642  0.049341  0.079165 -0.028674   \n",
       "439  0.041708  0.050680 -0.015906  0.017282 -0.037344 -0.013840 -0.024993   \n",
       "440 -0.045472 -0.044642  0.039062  0.001215  0.016318  0.015283 -0.028674   \n",
       "441 -0.045472 -0.044642 -0.073030 -0.081414  0.083740  0.027809  0.173816   \n",
       "\n",
       "           x8        x9       x10      y  \n",
       "0   -0.002592  0.019908 -0.017646  151.0  \n",
       "1   -0.039493 -0.068330 -0.092204   75.0  \n",
       "2   -0.002592  0.002864 -0.025930  141.0  \n",
       "3    0.034309  0.022692 -0.009362  206.0  \n",
       "4   -0.002592 -0.031991 -0.046641  135.0  \n",
       "..        ...       ...       ...    ...  \n",
       "437 -0.002592  0.031193  0.007207  178.0  \n",
       "438  0.034309 -0.018118  0.044485  104.0  \n",
       "439 -0.011080 -0.046879  0.015491  132.0  \n",
       "440  0.026560  0.044528 -0.025930  220.0  \n",
       "441 -0.039493 -0.004220  0.003064   57.0  \n",
       "\n",
       "[442 rows x 11 columns]"
      ]
     },
     "execution_count": 3,
     "metadata": {},
     "output_type": "execute_result"
    }
   ],
   "source": [
    "df=pd.read_csv('data/diabetes_completo.csv')\n",
    "df"
   ]
  },
  {
   "cell_type": "code",
   "execution_count": 4,
   "metadata": {
    "ExecuteTime": {
     "end_time": "2021-09-22T22:34:34.897624Z",
     "start_time": "2021-09-22T22:34:34.869176Z"
    }
   },
   "outputs": [
    {
     "name": "stdout",
     "output_type": "stream",
     "text": [
      "<class 'pandas.core.frame.DataFrame'>\n",
      "RangeIndex: 442 entries, 0 to 441\n",
      "Data columns (total 11 columns):\n",
      " #   Column  Non-Null Count  Dtype  \n",
      "---  ------  --------------  -----  \n",
      " 0   x1      442 non-null    float64\n",
      " 1   x2      442 non-null    float64\n",
      " 2   x3      442 non-null    float64\n",
      " 3   x4      442 non-null    float64\n",
      " 4   x5      442 non-null    float64\n",
      " 5   x6      442 non-null    float64\n",
      " 6   x7      442 non-null    float64\n",
      " 7   x8      442 non-null    float64\n",
      " 8   x9      442 non-null    float64\n",
      " 9   x10     442 non-null    float64\n",
      " 10  y       442 non-null    float64\n",
      "dtypes: float64(11)\n",
      "memory usage: 38.1 KB\n"
     ]
    }
   ],
   "source": [
    "df.info()"
   ]
  },
  {
   "cell_type": "code",
   "execution_count": 5,
   "metadata": {
    "ExecuteTime": {
     "end_time": "2021-09-22T22:35:36.855699Z",
     "start_time": "2021-09-22T22:35:36.208170Z"
    }
   },
   "outputs": [],
   "source": []
  },
  {
   "cell_type": "code",
   "execution_count": 11,
   "metadata": {
    "ExecuteTime": {
     "end_time": "2021-09-22T22:37:54.099866Z",
     "start_time": "2021-09-22T22:37:54.096843Z"
    }
   },
   "outputs": [],
   "source": [
    "X=df.drop(columns=['y'])\n",
    "y=df.y"
   ]
  },
  {
   "cell_type": "markdown",
   "metadata": {},
   "source": [
    "Train y Test"
   ]
  },
  {
   "cell_type": "code",
   "execution_count": 13,
   "metadata": {
    "ExecuteTime": {
     "end_time": "2021-09-22T22:38:56.201873Z",
     "start_time": "2021-09-22T22:38:56.191635Z"
    }
   },
   "outputs": [],
   "source": [
    "from sklearn.model_selection import train_test_split\n",
    "X_train, X_test,y_train, y_test= train_test_split(X,y, test_size=0.2,random_state=123)"
   ]
  },
  {
   "cell_type": "markdown",
   "metadata": {
    "ExecuteTime": {
     "end_time": "2021-09-22T22:39:32.101166Z",
     "start_time": "2021-09-22T22:39:32.093950Z"
    }
   },
   "source": [
    "Validation Train y Validation Test"
   ]
  },
  {
   "cell_type": "code",
   "execution_count": 18,
   "metadata": {
    "ExecuteTime": {
     "end_time": "2021-09-22T22:40:53.951088Z",
     "start_time": "2021-09-22T22:40:53.943820Z"
    }
   },
   "outputs": [],
   "source": [
    "Xval_train, Xval_test,yval_train, yval_test= train_test_split(X_train,y_train, test_size=0.2,random_state=123)"
   ]
  },
  {
   "cell_type": "markdown",
   "metadata": {},
   "source": [
    "## kNN - métrica Euclidiana (Minkowski con potencia p=2)"
   ]
  },
  {
   "cell_type": "code",
   "execution_count": 23,
   "metadata": {
    "ExecuteTime": {
     "end_time": "2021-09-22T22:44:03.618326Z",
     "start_time": "2021-09-22T22:44:03.611920Z"
    }
   },
   "outputs": [],
   "source": [
    "from sklearn.metrics import mean_squared_error"
   ]
  },
  {
   "cell_type": "code",
   "execution_count": 25,
   "metadata": {
    "ExecuteTime": {
     "end_time": "2021-09-22T22:47:55.154416Z",
     "start_time": "2021-09-22T22:47:55.051651Z"
    }
   },
   "outputs": [
    {
     "name": "stdout",
     "output_type": "stream",
     "text": [
      "Cantidad de Vecinos:  1\n",
      "RMSE:  78.84643659278638\n",
      "--------------------------------------------------------\n",
      "Cantidad de Vecinos:  2\n",
      "RMSE:  64.12597636738502\n",
      "--------------------------------------------------------\n",
      "Cantidad de Vecinos:  3\n",
      "RMSE:  62.74996960514013\n",
      "--------------------------------------------------------\n",
      "Cantidad de Vecinos:  4\n",
      "RMSE:  60.697529940229614\n",
      "--------------------------------------------------------\n",
      "Cantidad de Vecinos:  5\n",
      "RMSE:  60.05333310401187\n",
      "--------------------------------------------------------\n",
      "Cantidad de Vecinos:  6\n",
      "RMSE:  59.80295631258182\n",
      "--------------------------------------------------------\n",
      "Cantidad de Vecinos:  7\n",
      "RMSE:  58.647249349654416\n",
      "--------------------------------------------------------\n",
      "Cantidad de Vecinos:  8\n",
      "RMSE:  56.191086127705944\n",
      "--------------------------------------------------------\n",
      "Cantidad de Vecinos:  9\n",
      "RMSE:  56.980344803855544\n",
      "--------------------------------------------------------\n",
      "Cantidad de Vecinos:  10\n",
      "RMSE:  56.257746884380666\n",
      "--------------------------------------------------------\n",
      "Cantidad de Vecinos:  11\n",
      "RMSE:  57.61444810485641\n",
      "--------------------------------------------------------\n",
      "Cantidad de Vecinos:  12\n",
      "RMSE:  56.81769434987931\n",
      "--------------------------------------------------------\n",
      "Cantidad de Vecinos:  13\n",
      "RMSE:  55.500765261199014\n",
      "--------------------------------------------------------\n",
      "Cantidad de Vecinos:  14\n",
      "RMSE:  55.69590510919757\n",
      "--------------------------------------------------------\n",
      "Cantidad de Vecinos:  15\n",
      "RMSE:  55.00419389331049\n",
      "--------------------------------------------------------\n",
      "Cantidad de Vecinos:  16\n",
      "RMSE:  55.71186444365986\n",
      "--------------------------------------------------------\n",
      "Cantidad de Vecinos:  17\n",
      "RMSE:  55.738411837085664\n",
      "--------------------------------------------------------\n",
      "Cantidad de Vecinos:  18\n",
      "RMSE:  55.80165873314961\n",
      "--------------------------------------------------------\n",
      "Cantidad de Vecinos:  19\n",
      "RMSE:  55.79843173251977\n",
      "--------------------------------------------------------\n"
     ]
    }
   ],
   "source": [
    "from sklearn import neighbors\n",
    "\n",
    "\n",
    "for k in range(1,20):\n",
    "    \n",
    "    knn = neighbors.KNeighborsRegressor(n_neighbors=k,weights='uniform',metric='minkowski',p=2)\n",
    "    knn.fit(Xval_train,yval_train)\n",
    "    yval_pred = knn.predict(Xval_test)\n",
    "    RMSE=mean_squared_error(yval_test, yval_pred,squared=False)\n",
    "    print(\"Cantidad de Vecinos: \", k)\n",
    "    print(\"RMSE: \", RMSE)\n",
    "    print(\"--------------------------------------------------------\")"
   ]
  },
  {
   "cell_type": "markdown",
   "metadata": {},
   "source": [
    "## kNN con métrica Minkowski con p=4"
   ]
  },
  {
   "cell_type": "code",
   "execution_count": 26,
   "metadata": {
    "ExecuteTime": {
     "end_time": "2021-09-22T22:49:16.970650Z",
     "start_time": "2021-09-22T22:49:16.795737Z"
    }
   },
   "outputs": [
    {
     "name": "stdout",
     "output_type": "stream",
     "text": [
      "Cantidad de Vecinos:  1\n",
      "RMSE:  72.80564519205214\n",
      "--------------------------------------------------------\n",
      "Cantidad de Vecinos:  2\n",
      "RMSE:  68.28923058641462\n",
      "--------------------------------------------------------\n",
      "Cantidad de Vecinos:  3\n",
      "RMSE:  66.24652824044716\n",
      "--------------------------------------------------------\n",
      "Cantidad de Vecinos:  4\n",
      "RMSE:  64.37786640685285\n",
      "--------------------------------------------------------\n",
      "Cantidad de Vecinos:  5\n",
      "RMSE:  60.60943542033559\n",
      "--------------------------------------------------------\n",
      "Cantidad de Vecinos:  6\n",
      "RMSE:  58.931865647817354\n",
      "--------------------------------------------------------\n",
      "Cantidad de Vecinos:  7\n",
      "RMSE:  57.78039970785543\n",
      "--------------------------------------------------------\n",
      "Cantidad de Vecinos:  8\n",
      "RMSE:  55.33911142692053\n",
      "--------------------------------------------------------\n",
      "Cantidad de Vecinos:  9\n",
      "RMSE:  54.715554116583895\n",
      "--------------------------------------------------------\n",
      "Cantidad de Vecinos:  10\n",
      "RMSE:  54.74489750485338\n",
      "--------------------------------------------------------\n",
      "Cantidad de Vecinos:  11\n",
      "RMSE:  54.9973354133858\n",
      "--------------------------------------------------------\n",
      "Cantidad de Vecinos:  12\n",
      "RMSE:  54.77627798500419\n",
      "--------------------------------------------------------\n",
      "Cantidad de Vecinos:  13\n",
      "RMSE:  54.22901036773388\n",
      "--------------------------------------------------------\n",
      "Cantidad de Vecinos:  14\n",
      "RMSE:  54.10183766515484\n",
      "--------------------------------------------------------\n",
      "Cantidad de Vecinos:  15\n",
      "RMSE:  54.424266772934274\n",
      "--------------------------------------------------------\n",
      "Cantidad de Vecinos:  16\n",
      "RMSE:  55.50767715110467\n",
      "--------------------------------------------------------\n",
      "Cantidad de Vecinos:  17\n",
      "RMSE:  56.042961109635854\n",
      "--------------------------------------------------------\n",
      "Cantidad de Vecinos:  18\n",
      "RMSE:  56.20551526404087\n",
      "--------------------------------------------------------\n",
      "Cantidad de Vecinos:  19\n",
      "RMSE:  55.72351444439103\n",
      "--------------------------------------------------------\n"
     ]
    }
   ],
   "source": [
    "for k in range(1,20):\n",
    "    \n",
    "    knn = neighbors.KNeighborsRegressor(n_neighbors=k,weights='uniform',metric='minkowski',p=4)\n",
    "    knn.fit(Xval_train,yval_train)\n",
    "    yval_pred = knn.predict(Xval_test)\n",
    "    RMSE=mean_squared_error(yval_test, yval_pred,squared=False)\n",
    "    print(\"Cantidad de Vecinos: \", k)\n",
    "    print(\"RMSE: \", RMSE)\n",
    "    print(\"--------------------------------------------------------\")"
   ]
  },
  {
   "cell_type": "markdown",
   "metadata": {},
   "source": [
    "Cantidad de Vecinos:  14\n",
    "RMSE:  54.10183766515484"
   ]
  },
  {
   "cell_type": "markdown",
   "metadata": {},
   "source": [
    "## kNN con Minkowski con p=6"
   ]
  },
  {
   "cell_type": "code",
   "execution_count": 27,
   "metadata": {
    "ExecuteTime": {
     "end_time": "2021-09-22T22:51:12.108007Z",
     "start_time": "2021-09-22T22:51:11.966394Z"
    }
   },
   "outputs": [
    {
     "name": "stdout",
     "output_type": "stream",
     "text": [
      "Cantidad de Vecinos:  1\n",
      "RMSE:  73.30267178037131\n",
      "--------------------------------------------------------\n",
      "Cantidad de Vecinos:  2\n",
      "RMSE:  68.19769832140986\n",
      "--------------------------------------------------------\n",
      "Cantidad de Vecinos:  3\n",
      "RMSE:  63.71547670567164\n",
      "--------------------------------------------------------\n",
      "Cantidad de Vecinos:  4\n",
      "RMSE:  63.018671780336234\n",
      "--------------------------------------------------------\n",
      "Cantidad de Vecinos:  5\n",
      "RMSE:  60.288989488306456\n",
      "--------------------------------------------------------\n",
      "Cantidad de Vecinos:  6\n",
      "RMSE:  58.658800288875696\n",
      "--------------------------------------------------------\n",
      "Cantidad de Vecinos:  7\n",
      "RMSE:  56.927829834936055\n",
      "--------------------------------------------------------\n",
      "Cantidad de Vecinos:  8\n",
      "RMSE:  54.8982573673503\n",
      "--------------------------------------------------------\n",
      "Cantidad de Vecinos:  9\n",
      "RMSE:  54.740965387920056\n",
      "--------------------------------------------------------\n",
      "Cantidad de Vecinos:  10\n",
      "RMSE:  54.003680104125614\n",
      "--------------------------------------------------------\n",
      "Cantidad de Vecinos:  11\n",
      "RMSE:  55.121571230743\n",
      "--------------------------------------------------------\n",
      "Cantidad de Vecinos:  12\n",
      "RMSE:  54.718172875923955\n",
      "--------------------------------------------------------\n",
      "Cantidad de Vecinos:  13\n",
      "RMSE:  55.01257991280166\n",
      "--------------------------------------------------------\n",
      "Cantidad de Vecinos:  14\n",
      "RMSE:  55.102765969380215\n",
      "--------------------------------------------------------\n",
      "Cantidad de Vecinos:  15\n",
      "RMSE:  55.480998735218144\n",
      "--------------------------------------------------------\n",
      "Cantidad de Vecinos:  16\n",
      "RMSE:  55.38673650781309\n",
      "--------------------------------------------------------\n",
      "Cantidad de Vecinos:  17\n",
      "RMSE:  55.451032002513436\n",
      "--------------------------------------------------------\n",
      "Cantidad de Vecinos:  18\n",
      "RMSE:  55.75404097176209\n",
      "--------------------------------------------------------\n",
      "Cantidad de Vecinos:  19\n",
      "RMSE:  55.007245364985096\n",
      "--------------------------------------------------------\n"
     ]
    }
   ],
   "source": [
    "for k in range(1,20):\n",
    "    \n",
    "    knn = neighbors.KNeighborsRegressor(n_neighbors=k,weights='uniform',metric='minkowski',p=6)\n",
    "    knn.fit(Xval_train,yval_train)\n",
    "    yval_pred = knn.predict(Xval_test)\n",
    "    RMSE=mean_squared_error(yval_test, yval_pred,squared=False)\n",
    "    print(\"Cantidad de Vecinos: \", k)\n",
    "    print(\"RMSE: \", RMSE)\n",
    "    print(\"--------------------------------------------------------\")"
   ]
  },
  {
   "cell_type": "markdown",
   "metadata": {},
   "source": [
    "Cantidad de Vecinos:  10\n",
    "RMSE:  54.003680104125614"
   ]
  },
  {
   "cell_type": "markdown",
   "metadata": {},
   "source": [
    "## Minkowski p=8"
   ]
  },
  {
   "cell_type": "code",
   "execution_count": 28,
   "metadata": {
    "ExecuteTime": {
     "end_time": "2021-09-22T22:52:35.146218Z",
     "start_time": "2021-09-22T22:52:34.983826Z"
    }
   },
   "outputs": [
    {
     "name": "stdout",
     "output_type": "stream",
     "text": [
      "Cantidad de Vecinos:  1\n",
      "RMSE:  74.33176486271286\n",
      "--------------------------------------------------------\n",
      "Cantidad de Vecinos:  2\n",
      "RMSE:  70.38913468490816\n",
      "--------------------------------------------------------\n",
      "Cantidad de Vecinos:  3\n",
      "RMSE:  64.69030592562672\n",
      "--------------------------------------------------------\n",
      "Cantidad de Vecinos:  4\n",
      "RMSE:  62.18649540911279\n",
      "--------------------------------------------------------\n",
      "Cantidad de Vecinos:  5\n",
      "RMSE:  59.0162164393559\n",
      "--------------------------------------------------------\n",
      "Cantidad de Vecinos:  6\n",
      "RMSE:  59.053452484941445\n",
      "--------------------------------------------------------\n",
      "Cantidad de Vecinos:  7\n",
      "RMSE:  55.68449907981102\n",
      "--------------------------------------------------------\n",
      "Cantidad de Vecinos:  8\n",
      "RMSE:  56.02147632702261\n",
      "--------------------------------------------------------\n",
      "Cantidad de Vecinos:  9\n",
      "RMSE:  54.36352134921312\n",
      "--------------------------------------------------------\n",
      "Cantidad de Vecinos:  10\n",
      "RMSE:  54.10672812293323\n",
      "--------------------------------------------------------\n",
      "Cantidad de Vecinos:  11\n",
      "RMSE:  53.67799877127869\n",
      "--------------------------------------------------------\n",
      "Cantidad de Vecinos:  12\n",
      "RMSE:  54.6421063000656\n",
      "--------------------------------------------------------\n",
      "Cantidad de Vecinos:  13\n",
      "RMSE:  54.65952925774446\n",
      "--------------------------------------------------------\n",
      "Cantidad de Vecinos:  14\n",
      "RMSE:  55.576737163230774\n",
      "--------------------------------------------------------\n",
      "Cantidad de Vecinos:  15\n",
      "RMSE:  55.521213360483614\n",
      "--------------------------------------------------------\n",
      "Cantidad de Vecinos:  16\n",
      "RMSE:  55.68966015553908\n",
      "--------------------------------------------------------\n",
      "Cantidad de Vecinos:  17\n",
      "RMSE:  55.709936783187636\n",
      "--------------------------------------------------------\n",
      "Cantidad de Vecinos:  18\n",
      "RMSE:  55.6481079612429\n",
      "--------------------------------------------------------\n",
      "Cantidad de Vecinos:  19\n",
      "RMSE:  55.44781109984869\n",
      "--------------------------------------------------------\n"
     ]
    }
   ],
   "source": [
    "for k in range(1,20):\n",
    "    \n",
    "    knn = neighbors.KNeighborsRegressor(n_neighbors=k,weights='uniform',metric='minkowski',p=8)\n",
    "    knn.fit(Xval_train,yval_train)\n",
    "    yval_pred = knn.predict(Xval_test)\n",
    "    RMSE=mean_squared_error(yval_test, yval_pred,squared=False)\n",
    "    print(\"Cantidad de Vecinos: \", k)\n",
    "    print(\"RMSE: \", RMSE)\n",
    "    print(\"--------------------------------------------------------\")"
   ]
  },
  {
   "cell_type": "markdown",
   "metadata": {},
   "source": [
    "Cantidad de Vecinos:  11\n",
    "RMSE:  53.67799877127869"
   ]
  },
  {
   "cell_type": "markdown",
   "metadata": {},
   "source": [
    "## kNN Minkowski p=10"
   ]
  },
  {
   "cell_type": "code",
   "execution_count": 29,
   "metadata": {
    "ExecuteTime": {
     "end_time": "2021-09-22T22:53:42.963932Z",
     "start_time": "2021-09-22T22:53:42.815322Z"
    }
   },
   "outputs": [
    {
     "name": "stdout",
     "output_type": "stream",
     "text": [
      "Cantidad de Vecinos:  1\n",
      "RMSE:  73.8146708575119\n",
      "--------------------------------------------------------\n",
      "Cantidad de Vecinos:  2\n",
      "RMSE:  70.41269191771177\n",
      "--------------------------------------------------------\n",
      "Cantidad de Vecinos:  3\n",
      "RMSE:  65.83230224425805\n",
      "--------------------------------------------------------\n",
      "Cantidad de Vecinos:  4\n",
      "RMSE:  62.10584870736388\n",
      "--------------------------------------------------------\n",
      "Cantidad de Vecinos:  5\n",
      "RMSE:  59.28603854363339\n",
      "--------------------------------------------------------\n",
      "Cantidad de Vecinos:  6\n",
      "RMSE:  57.44287493731632\n",
      "--------------------------------------------------------\n",
      "Cantidad de Vecinos:  7\n",
      "RMSE:  56.12804367316397\n",
      "--------------------------------------------------------\n",
      "Cantidad de Vecinos:  8\n",
      "RMSE:  55.79203043635594\n",
      "--------------------------------------------------------\n",
      "Cantidad de Vecinos:  9\n",
      "RMSE:  54.79846574836011\n",
      "--------------------------------------------------------\n",
      "Cantidad de Vecinos:  10\n",
      "RMSE:  54.705204840304894\n",
      "--------------------------------------------------------\n",
      "Cantidad de Vecinos:  11\n",
      "RMSE:  54.36074144716572\n",
      "--------------------------------------------------------\n",
      "Cantidad de Vecinos:  12\n",
      "RMSE:  54.90133061489845\n",
      "--------------------------------------------------------\n",
      "Cantidad de Vecinos:  13\n",
      "RMSE:  55.41958162511056\n",
      "--------------------------------------------------------\n",
      "Cantidad de Vecinos:  14\n",
      "RMSE:  56.007213738963614\n",
      "--------------------------------------------------------\n",
      "Cantidad de Vecinos:  15\n",
      "RMSE:  56.024016759191014\n",
      "--------------------------------------------------------\n",
      "Cantidad de Vecinos:  16\n",
      "RMSE:  56.142997306582245\n",
      "--------------------------------------------------------\n",
      "Cantidad de Vecinos:  17\n",
      "RMSE:  56.45858967048584\n",
      "--------------------------------------------------------\n",
      "Cantidad de Vecinos:  18\n",
      "RMSE:  56.14771617790376\n",
      "--------------------------------------------------------\n",
      "Cantidad de Vecinos:  19\n",
      "RMSE:  55.761437841383746\n",
      "--------------------------------------------------------\n"
     ]
    }
   ],
   "source": [
    "for k in range(1,20):\n",
    "    \n",
    "    knn = neighbors.KNeighborsRegressor(n_neighbors=k,weights='uniform',metric='minkowski',p=10)\n",
    "    knn.fit(Xval_train,yval_train)\n",
    "    yval_pred = knn.predict(Xval_test)\n",
    "    RMSE=mean_squared_error(yval_test, yval_pred,squared=False)\n",
    "    print(\"Cantidad de Vecinos: \", k)\n",
    "    print(\"RMSE: \", RMSE)\n",
    "    print(\"--------------------------------------------------------\")"
   ]
  },
  {
   "cell_type": "markdown",
   "metadata": {},
   "source": [
    "## kNN con métrica Manhattan"
   ]
  },
  {
   "cell_type": "code",
   "execution_count": 35,
   "metadata": {
    "ExecuteTime": {
     "end_time": "2021-09-22T23:03:05.682163Z",
     "start_time": "2021-09-22T23:03:05.680288Z"
    }
   },
   "outputs": [],
   "source": [
    "# rehacer\n",
    "    "
   ]
  },
  {
   "cell_type": "markdown",
   "metadata": {},
   "source": [
    "## Conclusión\n",
    "\n",
    "Mejor modelo kNN Minkowski con p=8"
   ]
  },
  {
   "cell_type": "markdown",
   "metadata": {},
   "source": [
    "## Evaluación del Modelo Elegido"
   ]
  },
  {
   "cell_type": "code",
   "execution_count": 33,
   "metadata": {
    "ExecuteTime": {
     "end_time": "2021-09-22T22:58:23.933568Z",
     "start_time": "2021-09-22T22:58:23.904311Z"
    }
   },
   "outputs": [
    {
     "name": "stdout",
     "output_type": "stream",
     "text": [
      "Cantidad de Vecinos:  11\n",
      "RMSE:  57.102011405598844\n",
      "--------------------------------------------------------\n"
     ]
    }
   ],
   "source": [
    "\n",
    "k=11\n",
    "knn = neighbors.KNeighborsRegressor(n_neighbors=k,weights='uniform',metric='minkowski',p=8)\n",
    "knn.fit(X_train,y_train)\n",
    "y_pred = knn.predict(X_test)\n",
    "RMSE=mean_squared_error(y_test, y_pred,squared=False)\n",
    "print(\"Cantidad de Vecinos: \", k)\n",
    "print(\"RMSE: \", RMSE)\n",
    "print(\"--------------------------------------------------------\")"
   ]
  },
  {
   "cell_type": "markdown",
   "metadata": {},
   "source": [
    "## Modelo de Producción\n",
    "Entrenamos en todo el dataset"
   ]
  },
  {
   "cell_type": "code",
   "execution_count": 34,
   "metadata": {
    "ExecuteTime": {
     "end_time": "2021-09-22T23:00:31.686996Z",
     "start_time": "2021-09-22T23:00:31.671019Z"
    }
   },
   "outputs": [
    {
     "data": {
      "text/plain": [
       "KNeighborsRegressor(n_neighbors=11, p=8)"
      ]
     },
     "execution_count": 34,
     "metadata": {},
     "output_type": "execute_result"
    }
   ],
   "source": [
    "k=11\n",
    "knn_produccion = neighbors.KNeighborsRegressor(n_neighbors=k,weights='uniform',metric='minkowski',p=8)\n",
    "knn_produccion.fit(X,y)\n"
   ]
  },
  {
   "cell_type": "code",
   "execution_count": null,
   "metadata": {},
   "outputs": [],
   "source": []
  },
  {
   "cell_type": "code",
   "execution_count": null,
   "metadata": {},
   "outputs": [],
   "source": []
  },
  {
   "cell_type": "code",
   "execution_count": 38,
   "metadata": {
    "ExecuteTime": {
     "end_time": "2021-09-22T23:16:45.294401Z",
     "start_time": "2021-09-22T23:16:45.288945Z"
    }
   },
   "outputs": [],
   "source": [
    "X_nuevas=X.iloc[0:100]"
   ]
  },
  {
   "cell_type": "code",
   "execution_count": 39,
   "metadata": {
    "ExecuteTime": {
     "end_time": "2021-09-22T23:16:52.155570Z",
     "start_time": "2021-09-22T23:16:52.142741Z"
    }
   },
   "outputs": [
    {
     "data": {
      "text/html": [
       "<div>\n",
       "<style scoped>\n",
       "    .dataframe tbody tr th:only-of-type {\n",
       "        vertical-align: middle;\n",
       "    }\n",
       "\n",
       "    .dataframe tbody tr th {\n",
       "        vertical-align: top;\n",
       "    }\n",
       "\n",
       "    .dataframe thead th {\n",
       "        text-align: right;\n",
       "    }\n",
       "</style>\n",
       "<table border=\"1\" class=\"dataframe\">\n",
       "  <thead>\n",
       "    <tr style=\"text-align: right;\">\n",
       "      <th></th>\n",
       "      <th>x1</th>\n",
       "      <th>x2</th>\n",
       "      <th>x3</th>\n",
       "      <th>x4</th>\n",
       "      <th>x5</th>\n",
       "      <th>x6</th>\n",
       "      <th>x7</th>\n",
       "      <th>x8</th>\n",
       "      <th>x9</th>\n",
       "      <th>x10</th>\n",
       "    </tr>\n",
       "  </thead>\n",
       "  <tbody>\n",
       "    <tr>\n",
       "      <th>0</th>\n",
       "      <td>0.038076</td>\n",
       "      <td>0.050680</td>\n",
       "      <td>0.061696</td>\n",
       "      <td>0.021872</td>\n",
       "      <td>-0.044223</td>\n",
       "      <td>-0.034821</td>\n",
       "      <td>-0.043401</td>\n",
       "      <td>-0.002592</td>\n",
       "      <td>0.019908</td>\n",
       "      <td>-0.017646</td>\n",
       "    </tr>\n",
       "    <tr>\n",
       "      <th>1</th>\n",
       "      <td>-0.001882</td>\n",
       "      <td>-0.044642</td>\n",
       "      <td>-0.051474</td>\n",
       "      <td>-0.026328</td>\n",
       "      <td>-0.008449</td>\n",
       "      <td>-0.019163</td>\n",
       "      <td>0.074412</td>\n",
       "      <td>-0.039493</td>\n",
       "      <td>-0.068330</td>\n",
       "      <td>-0.092204</td>\n",
       "    </tr>\n",
       "    <tr>\n",
       "      <th>2</th>\n",
       "      <td>0.085299</td>\n",
       "      <td>0.050680</td>\n",
       "      <td>0.044451</td>\n",
       "      <td>-0.005671</td>\n",
       "      <td>-0.045599</td>\n",
       "      <td>-0.034194</td>\n",
       "      <td>-0.032356</td>\n",
       "      <td>-0.002592</td>\n",
       "      <td>0.002864</td>\n",
       "      <td>-0.025930</td>\n",
       "    </tr>\n",
       "    <tr>\n",
       "      <th>3</th>\n",
       "      <td>-0.089063</td>\n",
       "      <td>-0.044642</td>\n",
       "      <td>-0.011595</td>\n",
       "      <td>-0.036656</td>\n",
       "      <td>0.012191</td>\n",
       "      <td>0.024991</td>\n",
       "      <td>-0.036038</td>\n",
       "      <td>0.034309</td>\n",
       "      <td>0.022692</td>\n",
       "      <td>-0.009362</td>\n",
       "    </tr>\n",
       "    <tr>\n",
       "      <th>4</th>\n",
       "      <td>0.005383</td>\n",
       "      <td>-0.044642</td>\n",
       "      <td>-0.036385</td>\n",
       "      <td>0.021872</td>\n",
       "      <td>0.003935</td>\n",
       "      <td>0.015596</td>\n",
       "      <td>0.008142</td>\n",
       "      <td>-0.002592</td>\n",
       "      <td>-0.031991</td>\n",
       "      <td>-0.046641</td>\n",
       "    </tr>\n",
       "    <tr>\n",
       "      <th>...</th>\n",
       "      <td>...</td>\n",
       "      <td>...</td>\n",
       "      <td>...</td>\n",
       "      <td>...</td>\n",
       "      <td>...</td>\n",
       "      <td>...</td>\n",
       "      <td>...</td>\n",
       "      <td>...</td>\n",
       "      <td>...</td>\n",
       "      <td>...</td>\n",
       "    </tr>\n",
       "    <tr>\n",
       "      <th>95</th>\n",
       "      <td>-0.070900</td>\n",
       "      <td>-0.044642</td>\n",
       "      <td>-0.057941</td>\n",
       "      <td>-0.081414</td>\n",
       "      <td>-0.045599</td>\n",
       "      <td>-0.028871</td>\n",
       "      <td>-0.043401</td>\n",
       "      <td>-0.002592</td>\n",
       "      <td>0.001144</td>\n",
       "      <td>-0.005220</td>\n",
       "    </tr>\n",
       "    <tr>\n",
       "      <th>96</th>\n",
       "      <td>0.056239</td>\n",
       "      <td>0.050680</td>\n",
       "      <td>0.009961</td>\n",
       "      <td>0.049415</td>\n",
       "      <td>-0.004321</td>\n",
       "      <td>-0.012274</td>\n",
       "      <td>-0.043401</td>\n",
       "      <td>0.034309</td>\n",
       "      <td>0.060788</td>\n",
       "      <td>0.032059</td>\n",
       "    </tr>\n",
       "    <tr>\n",
       "      <th>97</th>\n",
       "      <td>-0.027310</td>\n",
       "      <td>-0.044642</td>\n",
       "      <td>0.088642</td>\n",
       "      <td>-0.025180</td>\n",
       "      <td>0.021822</td>\n",
       "      <td>0.042527</td>\n",
       "      <td>-0.032356</td>\n",
       "      <td>0.034309</td>\n",
       "      <td>0.002864</td>\n",
       "      <td>0.077622</td>\n",
       "    </tr>\n",
       "    <tr>\n",
       "      <th>98</th>\n",
       "      <td>0.001751</td>\n",
       "      <td>0.050680</td>\n",
       "      <td>-0.005128</td>\n",
       "      <td>-0.012556</td>\n",
       "      <td>-0.015328</td>\n",
       "      <td>-0.013840</td>\n",
       "      <td>0.008142</td>\n",
       "      <td>-0.039493</td>\n",
       "      <td>-0.006080</td>\n",
       "      <td>-0.067351</td>\n",
       "    </tr>\n",
       "    <tr>\n",
       "      <th>99</th>\n",
       "      <td>-0.001882</td>\n",
       "      <td>-0.044642</td>\n",
       "      <td>-0.064408</td>\n",
       "      <td>0.011544</td>\n",
       "      <td>0.027326</td>\n",
       "      <td>0.037517</td>\n",
       "      <td>-0.013948</td>\n",
       "      <td>0.034309</td>\n",
       "      <td>0.011784</td>\n",
       "      <td>-0.054925</td>\n",
       "    </tr>\n",
       "  </tbody>\n",
       "</table>\n",
       "<p>100 rows × 10 columns</p>\n",
       "</div>"
      ],
      "text/plain": [
       "          x1        x2        x3        x4        x5        x6        x7  \\\n",
       "0   0.038076  0.050680  0.061696  0.021872 -0.044223 -0.034821 -0.043401   \n",
       "1  -0.001882 -0.044642 -0.051474 -0.026328 -0.008449 -0.019163  0.074412   \n",
       "2   0.085299  0.050680  0.044451 -0.005671 -0.045599 -0.034194 -0.032356   \n",
       "3  -0.089063 -0.044642 -0.011595 -0.036656  0.012191  0.024991 -0.036038   \n",
       "4   0.005383 -0.044642 -0.036385  0.021872  0.003935  0.015596  0.008142   \n",
       "..       ...       ...       ...       ...       ...       ...       ...   \n",
       "95 -0.070900 -0.044642 -0.057941 -0.081414 -0.045599 -0.028871 -0.043401   \n",
       "96  0.056239  0.050680  0.009961  0.049415 -0.004321 -0.012274 -0.043401   \n",
       "97 -0.027310 -0.044642  0.088642 -0.025180  0.021822  0.042527 -0.032356   \n",
       "98  0.001751  0.050680 -0.005128 -0.012556 -0.015328 -0.013840  0.008142   \n",
       "99 -0.001882 -0.044642 -0.064408  0.011544  0.027326  0.037517 -0.013948   \n",
       "\n",
       "          x8        x9       x10  \n",
       "0  -0.002592  0.019908 -0.017646  \n",
       "1  -0.039493 -0.068330 -0.092204  \n",
       "2  -0.002592  0.002864 -0.025930  \n",
       "3   0.034309  0.022692 -0.009362  \n",
       "4  -0.002592 -0.031991 -0.046641  \n",
       "..       ...       ...       ...  \n",
       "95 -0.002592  0.001144 -0.005220  \n",
       "96  0.034309  0.060788  0.032059  \n",
       "97  0.034309  0.002864  0.077622  \n",
       "98 -0.039493 -0.006080 -0.067351  \n",
       "99  0.034309  0.011784 -0.054925  \n",
       "\n",
       "[100 rows x 10 columns]"
      ]
     },
     "execution_count": 39,
     "metadata": {},
     "output_type": "execute_result"
    }
   ],
   "source": [
    "X_nuevas"
   ]
  },
  {
   "cell_type": "markdown",
   "metadata": {},
   "source": [
    "Para pronosticar los valores de y para las X_nuevas:"
   ]
  },
  {
   "cell_type": "code",
   "execution_count": 40,
   "metadata": {
    "ExecuteTime": {
     "end_time": "2021-09-22T23:18:14.907550Z",
     "start_time": "2021-09-22T23:18:14.896751Z"
    }
   },
   "outputs": [],
   "source": [
    "y_nuevas_pronisticadas=knn_produccion.predict(X_nuevas)"
   ]
  },
  {
   "cell_type": "code",
   "execution_count": 41,
   "metadata": {
    "ExecuteTime": {
     "end_time": "2021-09-22T23:18:23.361926Z",
     "start_time": "2021-09-22T23:18:23.357708Z"
    }
   },
   "outputs": [
    {
     "data": {
      "text/plain": [
       "array([179.54545455,  95.        , 132.72727273, 197.        ,\n",
       "       100.81818182, 129.45454545,  76.54545455, 142.72727273,\n",
       "       167.27272727, 197.63636364, 108.45454545, 108.90909091,\n",
       "       108.09090909, 146.        ,  97.        , 178.36363636,\n",
       "       178.54545455, 189.54545455, 126.        , 126.54545455,\n",
       "       107.18181818,  74.09090909, 137.        , 255.45454545,\n",
       "       147.45454545, 114.36363636, 117.27272727, 152.27272727,\n",
       "       131.90909091, 177.18181818, 159.27272727,  94.72727273,\n",
       "       261.81818182, 111.        ,  80.27272727, 130.18181818,\n",
       "       171.54545455, 169.09090909, 220.36363636,  88.54545455,\n",
       "       177.81818182, 110.63636364, 108.27272727, 100.18181818,\n",
       "       216.09090909, 113.09090909, 157.27272727, 140.45454545,\n",
       "        84.36363636, 137.72727273, 118.54545455, 161.        ,\n",
       "       137.54545455, 137.        , 135.81818182,  82.72727273,\n",
       "       165.63636364,  93.90909091, 100.        , 178.54545455,\n",
       "       125.63636364, 141.81818182,  71.90909091, 135.27272727,\n",
       "       128.27272727, 158.63636364, 139.        , 118.09090909,\n",
       "       116.45454545, 104.90909091,  88.63636364, 216.81818182,\n",
       "       159.45454545, 145.45454545, 157.27272727,  99.45454545,\n",
       "       152.54545455, 100.90909091, 142.72727273, 128.45454545,\n",
       "       189.18181818, 120.72727273,  94.54545455, 140.81818182,\n",
       "        98.        , 135.54545455,  76.81818182, 130.09090909,\n",
       "        70.63636364,  87.09090909,  86.90909091, 158.54545455,\n",
       "       198.72727273, 103.36363636, 101.27272727, 111.63636364,\n",
       "       201.36363636, 191.18181818, 105.90909091, 142.45454545])"
      ]
     },
     "execution_count": 41,
     "metadata": {},
     "output_type": "execute_result"
    }
   ],
   "source": [
    "y_nuevas_pronisticadas"
   ]
  },
  {
   "cell_type": "code",
   "execution_count": 43,
   "metadata": {
    "ExecuteTime": {
     "end_time": "2021-09-22T23:21:57.192866Z",
     "start_time": "2021-09-22T23:21:57.188669Z"
    }
   },
   "outputs": [],
   "source": [
    "np.savetxt('archivoy.csv',y_nuevas_pronisticadas, delimiter=',')"
   ]
  },
  {
   "cell_type": "markdown",
   "metadata": {},
   "source": [
    "Ingrese sus datos:"
   ]
  },
  {
   "cell_type": "code",
   "execution_count": 47,
   "metadata": {
    "ExecuteTime": {
     "end_time": "2021-09-22T23:26:26.771194Z",
     "start_time": "2021-09-22T23:26:21.106392Z"
    }
   },
   "outputs": [
    {
     "name": "stdout",
     "output_type": "stream",
     "text": [
      "Ingrese el valor de x10.048\n"
     ]
    }
   ],
   "source": [
    "x1=input('Ingrese el valor de x1')"
   ]
  },
  {
   "cell_type": "code",
   "execution_count": 48,
   "metadata": {
    "ExecuteTime": {
     "end_time": "2021-09-22T23:26:28.394796Z",
     "start_time": "2021-09-22T23:26:28.391660Z"
    }
   },
   "outputs": [
    {
     "data": {
      "text/plain": [
       "'0.048'"
      ]
     },
     "execution_count": 48,
     "metadata": {},
     "output_type": "execute_result"
    }
   ],
   "source": [
    "x1"
   ]
  },
  {
   "cell_type": "code",
   "execution_count": null,
   "metadata": {},
   "outputs": [],
   "source": []
  }
 ],
 "metadata": {
  "kernelspec": {
   "display_name": "Python 3",
   "language": "python",
   "name": "python3"
  },
  "language_info": {
   "codemirror_mode": {
    "name": "ipython",
    "version": 3
   },
   "file_extension": ".py",
   "mimetype": "text/x-python",
   "name": "python",
   "nbconvert_exporter": "python",
   "pygments_lexer": "ipython3",
   "version": "3.8.5"
  },
  "latex_envs": {
   "LaTeX_envs_menu_present": true,
   "autoclose": false,
   "autocomplete": true,
   "bibliofile": "biblio.bib",
   "cite_by": "apalike",
   "current_citInitial": 1,
   "eqLabelWithNumbers": true,
   "eqNumInitial": 1,
   "hotkeys": {
    "equation": "Ctrl-E",
    "itemize": "Ctrl-I"
   },
   "labels_anchors": false,
   "latex_user_defs": false,
   "report_style_numbering": false,
   "user_envs_cfg": false
  },
  "toc": {
   "base_numbering": 1,
   "nav_menu": {},
   "number_sections": true,
   "sideBar": true,
   "skip_h1_title": false,
   "title_cell": "Table of Contents",
   "title_sidebar": "Contents",
   "toc_cell": false,
   "toc_position": {},
   "toc_section_display": true,
   "toc_window_display": false
  }
 },
 "nbformat": 4,
 "nbformat_minor": 5
}
