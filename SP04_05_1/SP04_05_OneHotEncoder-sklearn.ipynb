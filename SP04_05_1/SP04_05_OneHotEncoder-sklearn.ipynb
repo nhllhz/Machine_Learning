{
 "cells": [
  {
   "cell_type": "markdown",
   "metadata": {},
   "source": [
    "![IES21](img/logo_ies.png)"
   ]
  },
  {
   "cell_type": "markdown",
   "metadata": {},
   "source": [
    "# Situación Profesional 4: Dummy Variables\n",
    "# Codificación de Variables Categóricas: Dummy Variables o One Hot Encoder con Scikit-Learn\n",
    "# Ejercicios por Resolver\n",
    "## Fundamentos"
   ]
  },
  {
   "cell_type": "markdown",
   "metadata": {},
   "source": [
    "La mayoría de los algoritmos de Machine Learning, están basados en operaciones matemáticas por lo cual trabajan esencialmente con números.  \n",
    "Sin embargo muchas veces tenemos entre nuestras features o variables algunas cuyos valores **no** son números, generalmente están cargadas como texto: son las variables que llamamos **categóricas**, por ejemplo veamos el siguiente DataFrame que ha sido **limpiado previamente de missing values**:"
   ]
  },
  {
   "cell_type": "code",
   "execution_count": 1,
   "metadata": {
    "ExecuteTime": {
     "end_time": "2020-06-10T01:32:46.372028Z",
     "start_time": "2020-06-10T01:32:46.368046Z"
    }
   },
   "outputs": [],
   "source": [
    "import numpy as np\n",
    "import pandas as pd"
   ]
  },
  {
   "cell_type": "code",
   "execution_count": 2,
   "metadata": {
    "ExecuteTime": {
     "end_time": "2020-06-10T01:32:46.398303Z",
     "start_time": "2020-06-10T01:32:46.377967Z"
    }
   },
   "outputs": [
    {
     "data": {
      "text/html": [
       "<div>\n",
       "<style scoped>\n",
       "    .dataframe tbody tr th:only-of-type {\n",
       "        vertical-align: middle;\n",
       "    }\n",
       "\n",
       "    .dataframe tbody tr th {\n",
       "        vertical-align: top;\n",
       "    }\n",
       "\n",
       "    .dataframe thead th {\n",
       "        text-align: right;\n",
       "    }\n",
       "</style>\n",
       "<table border=\"1\" class=\"dataframe\">\n",
       "  <thead>\n",
       "    <tr style=\"text-align: right;\">\n",
       "      <th></th>\n",
       "      <th>x1</th>\n",
       "      <th>dia</th>\n",
       "    </tr>\n",
       "  </thead>\n",
       "  <tbody>\n",
       "    <tr>\n",
       "      <th>0</th>\n",
       "      <td>1</td>\n",
       "      <td>Lunes</td>\n",
       "    </tr>\n",
       "    <tr>\n",
       "      <th>1</th>\n",
       "      <td>5</td>\n",
       "      <td>Martes</td>\n",
       "    </tr>\n",
       "    <tr>\n",
       "      <th>2</th>\n",
       "      <td>2</td>\n",
       "      <td>Miércoles</td>\n",
       "    </tr>\n",
       "    <tr>\n",
       "      <th>3</th>\n",
       "      <td>4</td>\n",
       "      <td>Jueves</td>\n",
       "    </tr>\n",
       "    <tr>\n",
       "      <th>4</th>\n",
       "      <td>4</td>\n",
       "      <td>Viernes</td>\n",
       "    </tr>\n",
       "    <tr>\n",
       "      <th>5</th>\n",
       "      <td>3</td>\n",
       "      <td>Sábado</td>\n",
       "    </tr>\n",
       "    <tr>\n",
       "      <th>6</th>\n",
       "      <td>2</td>\n",
       "      <td>Domingo</td>\n",
       "    </tr>\n",
       "    <tr>\n",
       "      <th>7</th>\n",
       "      <td>8</td>\n",
       "      <td>Miércoles</td>\n",
       "    </tr>\n",
       "    <tr>\n",
       "      <th>8</th>\n",
       "      <td>5</td>\n",
       "      <td>Lunes</td>\n",
       "    </tr>\n",
       "    <tr>\n",
       "      <th>9</th>\n",
       "      <td>2</td>\n",
       "      <td>Jueves</td>\n",
       "    </tr>\n",
       "  </tbody>\n",
       "</table>\n",
       "</div>"
      ],
      "text/plain": [
       "   x1        dia\n",
       "0   1      Lunes\n",
       "1   5     Martes\n",
       "2   2  Miércoles\n",
       "3   4     Jueves\n",
       "4   4    Viernes\n",
       "5   3     Sábado\n",
       "6   2    Domingo\n",
       "7   8  Miércoles\n",
       "8   5      Lunes\n",
       "9   2     Jueves"
      ]
     },
     "execution_count": 2,
     "metadata": {},
     "output_type": "execute_result"
    }
   ],
   "source": [
    "df=pd.DataFrame([[1,'Lunes'],[5,'Martes'],[2,'Miércoles'],[4,'Jueves'],[4,'Viernes'],\n",
    "                 [3,'Sábado'], [2,'Domingo'],[8,'Miércoles'], [5,'Lunes'],[2,'Jueves'] ])\n",
    "df.columns=['x1','dia']\n",
    "df"
   ]
  },
  {
   "cell_type": "markdown",
   "metadata": {},
   "source": [
    "Como podemos ver la variable x<sub>1</sub> es numérica y no nos dedicaremos a ella, pero tenemos una variable que es categórica: día.   \n",
    "Así como está **no** sería procesada más que por unos pocos algoritmos de Scikit-Learn (Orange3, en cambio, hacía gran parte de este trabajo por nosotros, aunque con menos flexibilidad, pero igualmente los algoritmos de los modelos eran puramente matemáticos y numéricos).\n",
    "\n",
    "No perdamos de vista que a los algoritmos de sklearn **debemos pasarle sólo números** en las variables X, la variable predictiva puede no serlo en muchos algoritmos de Clasificación."
   ]
  },
  {
   "cell_type": "markdown",
   "metadata": {
    "ExecuteTime": {
     "end_time": "2020-06-07T21:07:49.033933Z",
     "start_time": "2020-06-07T21:07:49.030958Z"
    }
   },
   "source": [
    "### Variables Categóricas Nominales y Ordinales"
   ]
  },
  {
   "cell_type": "markdown",
   "metadata": {},
   "source": [
    "Las variables categóricas generalmente asumen valores representadas por textos (pero no siempre, cuidado!) con una cantidad discreta de valores.   \n",
    "\n",
    "Las hay de dos tipos:  \n",
    "\n",
    "- nominales \n",
    "- ordinales \n",
    "\n",
    "Por ejemplo una variable **categórica nominal** podría ser una variable \"género\" que asumiera valores de  'Masculino' y 'Femenino', son sólo denominaciones. No hay ninguna relación de orden entre sus valores Masculino y Femenino ya que no es posible decir que uno de ellos **sea mayor o menor** que el otro. \n",
    "\n",
    "\n",
    "Una variable **categórica ordinal**, también asume una cantidad discreta de valores, generalmente representados como texto (pero no siempre!), pero a diferencia de las nominales, en éstas **sí es posible establecer algún tipo de relación de orden entre los valores**; por ejemplo, las alturas de las personas se podrían haber etiquetado como \"Alto\" y \"Bajo\" y en este caso sí se puede decir que una es mayor que la otra. \n",
    "\n",
    "Las variables categóricas no pueden sumarse ni restarse (aunque sus valores estuvieran codificado como números). \n",
    "\n",
    "\n",
    "Si bien en el contexto de ML muchos las consideran a ambas como nominales **perderíamos cierta información** si consideramos a las ordinales como simples nominales."
   ]
  },
  {
   "cell_type": "markdown",
   "metadata": {},
   "source": [
    "### Variable categórica nominal:  Dummy variables o One Hot Encoder"
   ]
  },
  {
   "cell_type": "markdown",
   "metadata": {},
   "source": [
    "Fijémonos en la variable **día**, dado que sklearn necesita números, podríamos pensar en cambiar cada día por un número, por ejemplo:   \n",
    "\n",
    "- Lunes lo podríamos cambiar por un 1,  \n",
    "- Martes -> 2\n",
    "...\n",
    "- Domingo -> 7\n",
    "\n",
    "Y el algoritmo de sklearn, no daría error, pero ...funcionaría?.   \n",
    "Desde el punto de vista del algoritmo, un Martes \"valdría\" el doble que un Lunes!  Y la verdad es que en general esa información es falsa y por lo tanto estaríamos cargando al modelo con información incorrecta.   \n",
    "\n",
    "Cómo podemos hacer para que el modelo de alguna forma tenga la información de que un Lunes es distinto de un Martes, pero no que es menor o mayor que aquél?  \n",
    "\n",
    "La forma de hacerlo se denomina: **\"Dummy Variables\"** o  **\"One Hot Encoder\"**.   \n",
    "\n",
    "- En este método se descarta la variable original y se crea una nueva variable para cada una de las etiquetas que tenga la variable original. En nuestro caso se descarataría la variable **día** y se crearían 7 variables: Lunes, Martes,..., Domingo. \n",
    "\n",
    "- Cada nueva variable sólo puede tener valores 0 o 1 (por eso se llaman variables **dummy** o tontas).  \n",
    "\n",
    "- En una de las nuevas variables, por ejemplo Martes, se asigna un 1 cuando la variable original tenía ese valor es decir cuando **día** era justamente Martes, en cualquier otro caso se le asigna 0.   \n",
    "\n",
    "Es más fácil verlo que decirlo, fíjese en los siguientes dos DataFrames a la izquierda el original y a la derecha luego de la transformación de la variable **día** en **dummy variables**:"
   ]
  },
  {
   "cell_type": "code",
   "execution_count": 31,
   "metadata": {
    "ExecuteTime": {
     "end_time": "2020-06-10T01:32:46.651263Z",
     "start_time": "2020-06-10T01:32:46.625966Z"
    }
   },
   "outputs": [
    {
     "data": {
      "text/html": [
       "<table style=\"display:inline\" border=\"1\" class=\"dataframe\">\n",
       "  <thead>\n",
       "    <tr style=\"text-align: right;\">\n",
       "      <th></th>\n",
       "      <th>x1</th>\n",
       "      <th>dia</th>\n",
       "    </tr>\n",
       "  </thead>\n",
       "  <tbody>\n",
       "    <tr>\n",
       "      <th>0</th>\n",
       "      <td>1</td>\n",
       "      <td>Lunes</td>\n",
       "    </tr>\n",
       "    <tr>\n",
       "      <th>1</th>\n",
       "      <td>5</td>\n",
       "      <td>Martes</td>\n",
       "    </tr>\n",
       "    <tr>\n",
       "      <th>2</th>\n",
       "      <td>2</td>\n",
       "      <td>Miércoles</td>\n",
       "    </tr>\n",
       "    <tr>\n",
       "      <th>3</th>\n",
       "      <td>4</td>\n",
       "      <td>Jueves</td>\n",
       "    </tr>\n",
       "    <tr>\n",
       "      <th>4</th>\n",
       "      <td>4</td>\n",
       "      <td>Viernes</td>\n",
       "    </tr>\n",
       "    <tr>\n",
       "      <th>5</th>\n",
       "      <td>3</td>\n",
       "      <td>Sábado</td>\n",
       "    </tr>\n",
       "    <tr>\n",
       "      <th>6</th>\n",
       "      <td>2</td>\n",
       "      <td>Domingo</td>\n",
       "    </tr>\n",
       "    <tr>\n",
       "      <th>7</th>\n",
       "      <td>8</td>\n",
       "      <td>Miércoles</td>\n",
       "    </tr>\n",
       "    <tr>\n",
       "      <th>8</th>\n",
       "      <td>5</td>\n",
       "      <td>Lunes</td>\n",
       "    </tr>\n",
       "    <tr>\n",
       "      <th>9</th>\n",
       "      <td>2</td>\n",
       "      <td>Jueves</td>\n",
       "    </tr>\n",
       "  </tbody>\n",
       "</table style=\"display:inline\"><table style=\"display:inline\" border=\"1\" class=\"dataframe\">\n",
       "  <thead>\n",
       "    <tr style=\"text-align: right;\">\n",
       "      <th></th>\n",
       "      <th>x1</th>\n",
       "      <th>dia_Domingo</th>\n",
       "      <th>dia_Jueves</th>\n",
       "      <th>dia_Lunes</th>\n",
       "      <th>dia_Martes</th>\n",
       "      <th>dia_Miércoles</th>\n",
       "      <th>dia_Sábado</th>\n",
       "      <th>dia_Viernes</th>\n",
       "    </tr>\n",
       "  </thead>\n",
       "  <tbody>\n",
       "    <tr>\n",
       "      <th>0</th>\n",
       "      <td>1</td>\n",
       "      <td>0</td>\n",
       "      <td>0</td>\n",
       "      <td>1</td>\n",
       "      <td>0</td>\n",
       "      <td>0</td>\n",
       "      <td>0</td>\n",
       "      <td>0</td>\n",
       "    </tr>\n",
       "    <tr>\n",
       "      <th>1</th>\n",
       "      <td>5</td>\n",
       "      <td>0</td>\n",
       "      <td>0</td>\n",
       "      <td>0</td>\n",
       "      <td>1</td>\n",
       "      <td>0</td>\n",
       "      <td>0</td>\n",
       "      <td>0</td>\n",
       "    </tr>\n",
       "    <tr>\n",
       "      <th>2</th>\n",
       "      <td>2</td>\n",
       "      <td>0</td>\n",
       "      <td>0</td>\n",
       "      <td>0</td>\n",
       "      <td>0</td>\n",
       "      <td>1</td>\n",
       "      <td>0</td>\n",
       "      <td>0</td>\n",
       "    </tr>\n",
       "    <tr>\n",
       "      <th>3</th>\n",
       "      <td>4</td>\n",
       "      <td>0</td>\n",
       "      <td>1</td>\n",
       "      <td>0</td>\n",
       "      <td>0</td>\n",
       "      <td>0</td>\n",
       "      <td>0</td>\n",
       "      <td>0</td>\n",
       "    </tr>\n",
       "    <tr>\n",
       "      <th>4</th>\n",
       "      <td>4</td>\n",
       "      <td>0</td>\n",
       "      <td>0</td>\n",
       "      <td>0</td>\n",
       "      <td>0</td>\n",
       "      <td>0</td>\n",
       "      <td>0</td>\n",
       "      <td>1</td>\n",
       "    </tr>\n",
       "    <tr>\n",
       "      <th>5</th>\n",
       "      <td>3</td>\n",
       "      <td>0</td>\n",
       "      <td>0</td>\n",
       "      <td>0</td>\n",
       "      <td>0</td>\n",
       "      <td>0</td>\n",
       "      <td>1</td>\n",
       "      <td>0</td>\n",
       "    </tr>\n",
       "    <tr>\n",
       "      <th>6</th>\n",
       "      <td>2</td>\n",
       "      <td>1</td>\n",
       "      <td>0</td>\n",
       "      <td>0</td>\n",
       "      <td>0</td>\n",
       "      <td>0</td>\n",
       "      <td>0</td>\n",
       "      <td>0</td>\n",
       "    </tr>\n",
       "    <tr>\n",
       "      <th>7</th>\n",
       "      <td>8</td>\n",
       "      <td>0</td>\n",
       "      <td>0</td>\n",
       "      <td>0</td>\n",
       "      <td>0</td>\n",
       "      <td>1</td>\n",
       "      <td>0</td>\n",
       "      <td>0</td>\n",
       "    </tr>\n",
       "    <tr>\n",
       "      <th>8</th>\n",
       "      <td>5</td>\n",
       "      <td>0</td>\n",
       "      <td>0</td>\n",
       "      <td>1</td>\n",
       "      <td>0</td>\n",
       "      <td>0</td>\n",
       "      <td>0</td>\n",
       "      <td>0</td>\n",
       "    </tr>\n",
       "    <tr>\n",
       "      <th>9</th>\n",
       "      <td>2</td>\n",
       "      <td>0</td>\n",
       "      <td>1</td>\n",
       "      <td>0</td>\n",
       "      <td>0</td>\n",
       "      <td>0</td>\n",
       "      <td>0</td>\n",
       "      <td>0</td>\n",
       "    </tr>\n",
       "  </tbody>\n",
       "</table style=\"display:inline\">"
      ]
     },
     "metadata": {},
     "output_type": "display_data"
    }
   ],
   "source": [
    "# Ignore este código, es sólo para mostrar los resultados de las dos tablas \n",
    "df_dummy_1=pd.get_dummies(df,columns=['dia'])\n",
    "\n",
    "\n",
    "# este código es sólo para mostrar las tablas en paralelo en Jupyter. No valor la pena leerlo. \n",
    "from IPython.display import display_html\n",
    "def display_side_by_side(*args):\n",
    "    html_str=''\n",
    "    for df in args:\n",
    "        html_str+=df.to_html()\n",
    "    display_html(html_str.replace('table','table style=\"display:inline\"'),raw=True)\n",
    "\n",
    "display_side_by_side(df,df_dummy_1)"
   ]
  },
  {
   "cell_type": "markdown",
   "metadata": {},
   "source": [
    "Podemos ver que la columna día desapareció y en su lugar se crearon 7 columnas, una para cada día (además Pandas, gentilmente creó los nombres de cada variable dummy en forma muy adecuada: dia_Lunes, etc, aunque es posible cambiar este comportamiento), y las ordenó alfabéticamente.  \n",
    "\n",
    "Ahora fijémonos en la codificación que se hizo, por ejemplo en la primer observación, el valor de día era Lunes, entonces en las variables dummy, todas las columnas valen 0, excepto la que corresponde a dia_Lunes.  \n",
    "Al transformar en dummy variables habrá un único 1 en cada fila (en la parte correspondiente a las dummy variables por supuesto, el resto de las variables no se modifica).  \n",
    "\n",
    "De esta manera solucionamos el problema de que un \"Martes valga el doble que un Lunes\", y podemos mantener lo relevante de la información que era que un Lunes y un Martes eran algo diferente.  \n",
    "\n",
    "> **Es cierto también que al crear dummy variables agregamos más variables a nuestro dataframe (más que nada cuando tenemos variables nominales con muchos valores posibles), lo cual sabemos, puede traer problemas con la dimensionalidad!**.\n"
   ]
  },
  {
   "cell_type": "markdown",
   "metadata": {},
   "source": [
    "**Importante**:  \n",
    "\n",
    "Hay una cierta relación entre los valores de las dummy variables de cada observación, digamos que:  si no es ni Lunes, ni Martes, ni Miércoles, ni .. ni Sábado; entonces debe ser Domingo! No hay otra posibilidad. En realidad es como que \"sobrara\" una de las columnas.   \n",
    "\n",
    "Para **Pronosticar ésto no nos traerá problemas** (y es preferible mantenerlas todas), pero sí trae problemas  cuando analizamos datos, ya esta relación que se da entre los valores de las Dummy Variables hará que estén fuertemente **correlacionadas**, lo cual traerá problemas de interpretación por ejemplo para Regresión Lineal / Logística, SVM y otros modelos, en ese caso se deberia quitar una columna. "
   ]
  },
  {
   "cell_type": "markdown",
   "metadata": {},
   "source": [
    "### Cómo crear dummy variables con Scikit- Learn para Pronosticar?\n",
    "\n",
    "Existen dos maneras de crear las Dummy Variables, con Pandas y con Scikit Learn. Ambas tienen sus defectos y virtudes y ninguno está aún totalmente completo (pero están trabajando en ello).  \n",
    "\n",
    "Pandas es más adecuado si nuestro interés es describir el conjunto de datos, para mostrar, etc, también es más fácil de usar; y **Scikit-Learn es más útil para pronosticar**.  \n",
    "\n",
    "Nosotros estamos más interesados en pronosticar, así que **seguiremos el camino de Scikit-Learn** pero si está interesado en hacerlo con Pandas puede encontrar la documentación oficial en: https://pandas.pydata.org/pandas-docs/stable/reference/api/pandas.get_dummies.html).  \n",
    "\n",
    "Scikit-Learn nos ofrece un transformador llamado **OneHotEncoder()** que nos servirá para tratar las **variables nominales que debemos transformar en Dummy Variables** para poder llevarlas luego a algún modelo de MAchine Learning para pronosticar. \n",
    "\n",
    "\n"
   ]
  },
  {
   "cell_type": "markdown",
   "metadata": {},
   "source": [
    "#### Sintaxis de OneHotEncoder de Scikit-Learn\n",
    "\n",
    "La documentación oficial se encuentra aquí: https://scikit-learn.org/stable/modules/generated/sklearn.preprocessing.OneHotEncoder.html\n",
    "\n",
    "La sintaxis es la siguiente:  \n",
    "\n",
    "~~~\n",
    "sklearn.preprocessing.OneHotEncoder(*, categories='auto', drop=None, sparse=True, dtype=<class 'numpy.float64'>, handle_unknown='error')\n",
    "~~~\n",
    "\n",
    "Generalmente utilizaremos las opciones por defecto, excepto la opción **sparse** que preferiremos establecerla el **False** pero comentamos brevemente lo más utilizado:  \n",
    "\n",
    "- **categories** ='auto'. En **auto** significa que creará tantas variables dummies o columnas como valores distintos encuentre entre los datos. Se el podría pasar un array con los valores posibles, lo cual es útil cuando tenemos pleno conocimiento de los valores de los datos de entrada, por ejemplo cuando nosotros los establecemos.  \n",
    "\n",
    "- **drop**=None. Cuando está como None creará una variable dummy o columna para cada uno de los valores que asume la variable original. Si se establece su valor en **first** entonces usará una columna menos (la primera) y evitará el problema de correlación indicado con anterioridad, se usa más que nada en casos de estadística, pero algún algoritmo de ML podría pedirnos que no hubiera correlación. \n",
    "\n",
    "- **sparse** = True. Como habrá observado después de aplicar transformar en dummy variables nos quedará una matriz **con muchos ceros**, a ese tipo de matrices se las denomina \"sparse matrix\" (poco densas). Para ocupar menos espacio en memoria se las pueded comprimir (guardando sólo los valores distintos de 0). No todos los algoritmos de ML están preparados para recibir como dato de entrada una matriz así comprimida, así que a no ser que sea necesario, preferiremos que no la guarde como comprimida: establecer su valor a **False**\n",
    "\n",
    "Veamos un ejemplo de su uso, partiremos siempre desde un DataFrame que ya esté limpio de missing values, más adelante veremos cómo armar un flujo de trabajo con los dos preprocesamientos juntos."
   ]
  },
  {
   "cell_type": "markdown",
   "metadata": {},
   "source": [
    "#### EJEMPLO 1"
   ]
  },
  {
   "cell_type": "code",
   "execution_count": 4,
   "metadata": {
    "ExecuteTime": {
     "end_time": "2020-06-10T01:32:46.956834Z",
     "start_time": "2020-06-10T01:32:46.946878Z"
    }
   },
   "outputs": [
    {
     "data": {
      "text/html": [
       "<div>\n",
       "<style scoped>\n",
       "    .dataframe tbody tr th:only-of-type {\n",
       "        vertical-align: middle;\n",
       "    }\n",
       "\n",
       "    .dataframe tbody tr th {\n",
       "        vertical-align: top;\n",
       "    }\n",
       "\n",
       "    .dataframe thead th {\n",
       "        text-align: right;\n",
       "    }\n",
       "</style>\n",
       "<table border=\"1\" class=\"dataframe\">\n",
       "  <thead>\n",
       "    <tr style=\"text-align: right;\">\n",
       "      <th></th>\n",
       "      <th>x1</th>\n",
       "    </tr>\n",
       "  </thead>\n",
       "  <tbody>\n",
       "    <tr>\n",
       "      <th>0</th>\n",
       "      <td>A</td>\n",
       "    </tr>\n",
       "    <tr>\n",
       "      <th>1</th>\n",
       "      <td>B</td>\n",
       "    </tr>\n",
       "    <tr>\n",
       "      <th>2</th>\n",
       "      <td>C</td>\n",
       "    </tr>\n",
       "    <tr>\n",
       "      <th>3</th>\n",
       "      <td>A</td>\n",
       "    </tr>\n",
       "    <tr>\n",
       "      <th>4</th>\n",
       "      <td>C</td>\n",
       "    </tr>\n",
       "    <tr>\n",
       "      <th>5</th>\n",
       "      <td>B</td>\n",
       "    </tr>\n",
       "    <tr>\n",
       "      <th>6</th>\n",
       "      <td>B</td>\n",
       "    </tr>\n",
       "    <tr>\n",
       "      <th>7</th>\n",
       "      <td>A</td>\n",
       "    </tr>\n",
       "  </tbody>\n",
       "</table>\n",
       "</div>"
      ],
      "text/plain": [
       "  x1\n",
       "0  A\n",
       "1  B\n",
       "2  C\n",
       "3  A\n",
       "4  C\n",
       "5  B\n",
       "6  B\n",
       "7  A"
      ]
     },
     "execution_count": 4,
     "metadata": {},
     "output_type": "execute_result"
    }
   ],
   "source": [
    "df2=pd.DataFrame([['A'],['B'],['C'],['A'],['C'],['B'],['B'],['A']], columns=['x1'])\n",
    "df2"
   ]
  },
  {
   "cell_type": "markdown",
   "metadata": {},
   "source": [
    "Para ser procesable con los distintos algorimos de ML, debemos transformarla en dummy variables. Como la variable x1 asume 3 valores posibles, se crearán 3 columnas que **reemplazarán** a x1.  \n",
    "\n",
    "Nosotros estamos interesados en ubicar este trabajo en un flujo, para lo cual será muy conveniente ubicarlo dentro de un **Transformador de Columnas** (ésto luego nos facilitará enormemente el trabajo!), de esta forma trabajaremos de manera **uniforme** junto con la limpieza hecha anteriormente. "
   ]
  },
  {
   "cell_type": "code",
   "execution_count": 5,
   "metadata": {
    "ExecuteTime": {
     "end_time": "2020-06-10T01:32:47.023794Z",
     "start_time": "2020-06-10T01:32:47.010366Z"
    }
   },
   "outputs": [
    {
     "data": {
      "text/plain": [
       "array([[1., 0., 0.],\n",
       "       [0., 1., 0.],\n",
       "       [0., 0., 1.],\n",
       "       [1., 0., 0.],\n",
       "       [0., 0., 1.],\n",
       "       [0., 1., 0.],\n",
       "       [0., 1., 0.],\n",
       "       [1., 0., 0.]])"
      ]
     },
     "execution_count": 5,
     "metadata": {},
     "output_type": "execute_result"
    }
   ],
   "source": [
    "from sklearn.compose import ColumnTransformer \n",
    "from sklearn.preprocessing import OneHotEncoder\n",
    "\n",
    "# Definimos el transformador para OneHotEncoder de foma muy similar a como trabajamos SimpleImputer o kNNImputer\n",
    "tdummy_2=(\"onehot\",OneHotEncoder(sparse=False), ['x1'])\n",
    "\n",
    "# Creamos el transformador de columnas\n",
    "transformador_columnas_dummy2 = ColumnTransformer(transformers=[tdummy_2],remainder='passthrough')\n",
    "# Lo entrenamos con fit en df2\n",
    "transformador_columnas_dummy2.fit(df2)\n",
    "# Lo aplicamos al df2 \n",
    "dummy_2=transformador_columnas_dummy2.transform(df2)\n",
    "dummy_2"
   ]
  },
  {
   "cell_type": "markdown",
   "metadata": {},
   "source": [
    "- Vemos que se han creado las 3 columnas que esperábamos, pero debemos admitir que el resultado es un poco escueto,  y ésta es una de las cosas que diferencia a Pandas de Scikit-Learn. Por ejemplo, Pandas nos hubiera dado por resultado un DataFrame y cada columna con su nuevo nombre (asignado automáticamente). Pero en este tema Pandas tiene sus defectos ...  \n",
    "\n",
    "- Ahora bien, **si nuestro interés es pronosticar**, realmente **no necesitamos conocer los nombres de estas columnas**, por otro lado, los algorimos de ML se **alimentan** también con arrays de numpy como el que nos ofrece sklearn ...  \n",
    "\n",
    "- Si realmente necesita conocer los nombres de las nuevas columnas o variables dummy, sklearn nos permite conocerlos:  \n"
   ]
  },
  {
   "cell_type": "code",
   "execution_count": 34,
   "metadata": {
    "ExecuteTime": {
     "end_time": "2020-06-10T01:32:47.055998Z",
     "start_time": "2020-06-10T01:32:47.051038Z"
    }
   },
   "outputs": [
    {
     "data": {
      "text/plain": [
       "['onehot__x0_A', 'onehot__x0_B', 'onehot__x0_C']"
      ]
     },
     "execution_count": 34,
     "metadata": {},
     "output_type": "execute_result"
    }
   ],
   "source": [
    "transformador_columnas_dummy2.get_feature_names()"
   ]
  },
  {
   "cell_type": "markdown",
   "metadata": {},
   "source": [
    "Fíjese que sklearn ha hecho su esfuerzo, inventó un nombre para la variable \"vieja\" y la llamó onehot_X0 (el nombre real era x1) y le agregó el valor que le corresponde a cada columna.  \n",
    "No está tan mal, pero **acostúmbrese a manejarse sin los nombres de estas columnas, porque no se pueden obtener bajo algunas circunstancias**, es algo en lo que la gente de Scikit-Learn dice que está trabajando.\n"
   ]
  },
  {
   "cell_type": "markdown",
   "metadata": {
    "ExecuteTime": {
     "end_time": "2020-06-09T18:24:37.642091Z",
     "start_time": "2020-06-09T18:24:37.638619Z"
    }
   },
   "source": [
    "#### EJEMPLO 2:\n",
    "\n",
    "Supongamos que en nuestro dataframe, ya limpio, tenemos **otras columas** además de las que queremos transformar en dummies, por ejemplo el siguiente caso donde la columna x1 no es nominal y por lo tanto no la queremos transformar:"
   ]
  },
  {
   "cell_type": "code",
   "execution_count": 7,
   "metadata": {
    "ExecuteTime": {
     "end_time": "2020-06-10T01:32:47.160158Z",
     "start_time": "2020-06-10T01:32:47.146270Z"
    }
   },
   "outputs": [
    {
     "data": {
      "text/html": [
       "<div>\n",
       "<style scoped>\n",
       "    .dataframe tbody tr th:only-of-type {\n",
       "        vertical-align: middle;\n",
       "    }\n",
       "\n",
       "    .dataframe tbody tr th {\n",
       "        vertical-align: top;\n",
       "    }\n",
       "\n",
       "    .dataframe thead th {\n",
       "        text-align: right;\n",
       "    }\n",
       "</style>\n",
       "<table border=\"1\" class=\"dataframe\">\n",
       "  <thead>\n",
       "    <tr style=\"text-align: right;\">\n",
       "      <th></th>\n",
       "      <th>x1</th>\n",
       "      <th>x2</th>\n",
       "    </tr>\n",
       "  </thead>\n",
       "  <tbody>\n",
       "    <tr>\n",
       "      <th>0</th>\n",
       "      <td>1</td>\n",
       "      <td>A</td>\n",
       "    </tr>\n",
       "    <tr>\n",
       "      <th>1</th>\n",
       "      <td>5</td>\n",
       "      <td>B</td>\n",
       "    </tr>\n",
       "    <tr>\n",
       "      <th>2</th>\n",
       "      <td>3</td>\n",
       "      <td>C</td>\n",
       "    </tr>\n",
       "    <tr>\n",
       "      <th>3</th>\n",
       "      <td>2</td>\n",
       "      <td>A</td>\n",
       "    </tr>\n",
       "    <tr>\n",
       "      <th>4</th>\n",
       "      <td>1</td>\n",
       "      <td>C</td>\n",
       "    </tr>\n",
       "    <tr>\n",
       "      <th>5</th>\n",
       "      <td>3</td>\n",
       "      <td>B</td>\n",
       "    </tr>\n",
       "    <tr>\n",
       "      <th>6</th>\n",
       "      <td>4</td>\n",
       "      <td>B</td>\n",
       "    </tr>\n",
       "    <tr>\n",
       "      <th>7</th>\n",
       "      <td>2</td>\n",
       "      <td>A</td>\n",
       "    </tr>\n",
       "  </tbody>\n",
       "</table>\n",
       "</div>"
      ],
      "text/plain": [
       "   x1 x2\n",
       "0   1  A\n",
       "1   5  B\n",
       "2   3  C\n",
       "3   2  A\n",
       "4   1  C\n",
       "5   3  B\n",
       "6   4  B\n",
       "7   2  A"
      ]
     },
     "execution_count": 7,
     "metadata": {},
     "output_type": "execute_result"
    }
   ],
   "source": [
    "df3=pd.DataFrame([[1,'A'],[5,'B'],[3,'C'],[2,'A'],[1,'C'],[3,'B'],[4,'B'],[2,'A']], columns=['x1','x2'])\n",
    "df3"
   ]
  },
  {
   "cell_type": "markdown",
   "metadata": {},
   "source": [
    "Sólo deberemos tener cuidado con lo siguiente:  \n",
    "    \n",
    "> Por defecto OneHotEncoder transformará en dummy **todas** las variables! \n",
    "\n",
    "Como en nuestro caso **no** queremos transformar a x1, le deberemos indicar que sólo queremos que transforme a x2"
   ]
  },
  {
   "cell_type": "code",
   "execution_count": 8,
   "metadata": {
    "ExecuteTime": {
     "end_time": "2020-06-10T01:32:47.197392Z",
     "start_time": "2020-06-10T01:32:47.184462Z"
    }
   },
   "outputs": [
    {
     "data": {
      "text/plain": [
       "array([[1., 0., 0., 1.],\n",
       "       [0., 1., 0., 5.],\n",
       "       [0., 0., 1., 3.],\n",
       "       [1., 0., 0., 2.],\n",
       "       [0., 0., 1., 1.],\n",
       "       [0., 1., 0., 3.],\n",
       "       [0., 1., 0., 4.],\n",
       "       [1., 0., 0., 2.]])"
      ]
     },
     "execution_count": 8,
     "metadata": {},
     "output_type": "execute_result"
    }
   ],
   "source": [
    "# Definimos el transformador para OneHotEncoder de foma muy similar a como trabajamos SimpleImputer o kNNImputer\n",
    "# Esta vez le indicamos que sólo queremos transformar en dummy a x2\n",
    "tdummy_3=(\"onehot\",OneHotEncoder(sparse=False), ['x2'])\n",
    "\n",
    "# Creamos el transformador de columnas\n",
    "transformador_columnas_dummy3 = ColumnTransformer(transformers=[tdummy_3],remainder='passthrough')\n",
    "# Lo entrenamos con fit en df3\n",
    "transformador_columnas_dummy3.fit(df3)\n",
    "# Lo aplicamos al df3 \n",
    "dummy_3=transformador_columnas_dummy3.transform(df3)\n",
    "dummy_3"
   ]
  },
  {
   "cell_type": "markdown",
   "metadata": {},
   "source": [
    "- Ok, obtuvimos 4 columnas, lo cual era esperable ya que teníamos a x1 y luego x2 fue transformada en 3, así que 4 está bien. \n",
    "- La ubicación de las columnas cambió, evidentemente x1 no está donde estaba! En realidad lo que pasó es que ubicó las variables dummy al principio (esto puede ser un poco molesto!)  \n",
    "\n",
    "Entonces decimos, no importa, porque igual podemos conocer el nombre de las columnas y darnos una idea de quién es quién ... entonces le pedimos los nombres y ..."
   ]
  },
  {
   "cell_type": "code",
   "execution_count": 9,
   "metadata": {
    "ExecuteTime": {
     "end_time": "2020-06-10T01:32:47.227614Z",
     "start_time": "2020-06-10T01:32:47.224676Z"
    }
   },
   "outputs": [
    {
     "data": {
      "text/plain": [
       "['onehot__x0_A', 'onehot__x0_B', 'onehot__x0_C', 'x1']"
      ]
     },
     "execution_count": 9,
     "metadata": {},
     "output_type": "execute_result"
    }
   ],
   "source": [
    "transformador_columnas_dummy3.get_feature_names()"
   ]
  },
  {
   "cell_type": "markdown",
   "metadata": {},
   "source": [
    "Al ejecutar el código anterior, hágalo, nos dará un error!!!  \n",
    "\n",
    "~~~\n",
    "NotImplementedError: get_feature_names is not yet supported when using a 'passthrough' transformer.\n",
    "~~~\n",
    "\n",
    "Dice que no está implementado todavía, cuando en el OneHotEncoder se utiliza la opción 'passthrough', que nosotros usamos al crear el transformador de columnas.  \n",
    "Ocurre que dicha opción le indica que nos de en el resultado **todas** las columnas, si no lo ponemos sólo nos devolvería las columnas dummy! Irritante!!!  \n",
    "\n",
    "Por eso le decía: \n",
    "\n",
    "> **por un tiempo acostúmbrese a trabajar si en el nombre de las variables, en esta parte del trabajo**  \n",
    "\n",
    "Es cierto que para pronosticar **no necesitamos saber qué nombre tienen ni en qué orden están**."
   ]
  },
  {
   "cell_type": "markdown",
   "metadata": {},
   "source": [
    "Ahora le toca a usted crear sus propias dummy variables!"
   ]
  },
  {
   "cell_type": "markdown",
   "metadata": {
    "ExecuteTime": {
     "end_time": "2020-06-09T18:54:03.473502Z",
     "start_time": "2020-06-09T18:54:03.471055Z"
    }
   },
   "source": [
    "#### Ejercicio 1"
   ]
  },
  {
   "cell_type": "markdown",
   "metadata": {
    "ExecuteTime": {
     "end_time": "2020-06-09T18:56:16.522679Z",
     "start_time": "2020-06-09T18:56:16.510277Z"
    }
   },
   "source": [
    "Cree las dummy variables para la columna genero, en el resultado deben figurar **todas** las columnas"
   ]
  },
  {
   "cell_type": "code",
   "execution_count": 11,
   "metadata": {
    "ExecuteTime": {
     "end_time": "2020-06-10T01:32:47.371951Z",
     "start_time": "2020-06-10T01:32:47.361534Z"
    }
   },
   "outputs": [
    {
     "data": {
      "text/html": [
       "<div>\n",
       "<style scoped>\n",
       "    .dataframe tbody tr th:only-of-type {\n",
       "        vertical-align: middle;\n",
       "    }\n",
       "\n",
       "    .dataframe tbody tr th {\n",
       "        vertical-align: top;\n",
       "    }\n",
       "\n",
       "    .dataframe thead th {\n",
       "        text-align: right;\n",
       "    }\n",
       "</style>\n",
       "<table border=\"1\" class=\"dataframe\">\n",
       "  <thead>\n",
       "    <tr style=\"text-align: right;\">\n",
       "      <th></th>\n",
       "      <th>genero</th>\n",
       "      <th>x2</th>\n",
       "    </tr>\n",
       "  </thead>\n",
       "  <tbody>\n",
       "    <tr>\n",
       "      <th>0</th>\n",
       "      <td>m</td>\n",
       "      <td>30</td>\n",
       "    </tr>\n",
       "    <tr>\n",
       "      <th>1</th>\n",
       "      <td>f</td>\n",
       "      <td>25</td>\n",
       "    </tr>\n",
       "    <tr>\n",
       "      <th>2</th>\n",
       "      <td>f</td>\n",
       "      <td>48</td>\n",
       "    </tr>\n",
       "    <tr>\n",
       "      <th>3</th>\n",
       "      <td>m</td>\n",
       "      <td>38</td>\n",
       "    </tr>\n",
       "  </tbody>\n",
       "</table>\n",
       "</div>"
      ],
      "text/plain": [
       "  genero  x2\n",
       "0      m  30\n",
       "1      f  25\n",
       "2      f  48\n",
       "3      m  38"
      ]
     },
     "execution_count": 11,
     "metadata": {},
     "output_type": "execute_result"
    }
   ],
   "source": [
    "df4=pd.DataFrame([['m',30],['f',25],['f',48],['m',38]], columns=[ 'genero', 'x2'])\n",
    "df4"
   ]
  },
  {
   "cell_type": "code",
   "execution_count": 12,
   "metadata": {
    "ExecuteTime": {
     "end_time": "2020-06-10T01:32:47.378418Z",
     "start_time": "2020-06-10T01:32:47.375423Z"
    }
   },
   "outputs": [
    {
     "data": {
      "text/plain": [
       "array([[ 0.,  1., 30.],\n",
       "       [ 1.,  0., 25.],\n",
       "       [ 1.,  0., 48.],\n",
       "       [ 0.,  1., 38.]])"
      ]
     },
     "execution_count": 12,
     "metadata": {},
     "output_type": "execute_result"
    }
   ],
   "source": [
    "# Escriba aquí su código\n",
    "# Definimos el transformador para OneHotEncoder de foma muy similar a como trabajamos SimpleImputer o kNNImputer\n",
    "\n",
    "tdummy_4=(\"onehot\",OneHotEncoder(sparse=False), ['genero'])\n",
    "\n",
    "# Creamos el transformador de columnas\n",
    "transformador_columnas_dummy4 = ColumnTransformer(transformers=[tdummy_4],remainder='passthrough')\n",
    "# Lo entrenamos con fit en df3\n",
    "transformador_columnas_dummy4.fit(df4)\n",
    "# Lo aplicamos al df3 \n",
    "dummy_4=transformador_columnas_dummy4.transform(df4)\n",
    "dummy_4\n"
   ]
  },
  {
   "cell_type": "code",
   "execution_count": 13,
   "metadata": {},
   "outputs": [
    {
     "data": {
      "text/plain": [
       "['onehot__x0_f', 'onehot__x0_m', 'x2']"
      ]
     },
     "execution_count": 13,
     "metadata": {},
     "output_type": "execute_result"
    }
   ],
   "source": [
    "transformador_columnas_dummy4.get_feature_names()"
   ]
  },
  {
   "cell_type": "markdown",
   "metadata": {},
   "source": [
    "#### Ejercicio 2\n",
    "Cree las dummy variables para las columnas genero y altura, en el resultado deben figurar todas las columnas"
   ]
  },
  {
   "cell_type": "code",
   "execution_count": 14,
   "metadata": {
    "ExecuteTime": {
     "end_time": "2020-06-10T01:32:47.417086Z",
     "start_time": "2020-06-10T01:32:47.406173Z"
    }
   },
   "outputs": [
    {
     "data": {
      "text/html": [
       "<div>\n",
       "<style scoped>\n",
       "    .dataframe tbody tr th:only-of-type {\n",
       "        vertical-align: middle;\n",
       "    }\n",
       "\n",
       "    .dataframe tbody tr th {\n",
       "        vertical-align: top;\n",
       "    }\n",
       "\n",
       "    .dataframe thead th {\n",
       "        text-align: right;\n",
       "    }\n",
       "</style>\n",
       "<table border=\"1\" class=\"dataframe\">\n",
       "  <thead>\n",
       "    <tr style=\"text-align: right;\">\n",
       "      <th></th>\n",
       "      <th>genero</th>\n",
       "      <th>edad</th>\n",
       "      <th>altura</th>\n",
       "    </tr>\n",
       "  </thead>\n",
       "  <tbody>\n",
       "    <tr>\n",
       "      <th>0</th>\n",
       "      <td>m</td>\n",
       "      <td>30</td>\n",
       "      <td>alto</td>\n",
       "    </tr>\n",
       "    <tr>\n",
       "      <th>1</th>\n",
       "      <td>f</td>\n",
       "      <td>25</td>\n",
       "      <td>medio</td>\n",
       "    </tr>\n",
       "    <tr>\n",
       "      <th>2</th>\n",
       "      <td>f</td>\n",
       "      <td>48</td>\n",
       "      <td>bajo</td>\n",
       "    </tr>\n",
       "    <tr>\n",
       "      <th>3</th>\n",
       "      <td>m</td>\n",
       "      <td>38</td>\n",
       "      <td>alto</td>\n",
       "    </tr>\n",
       "    <tr>\n",
       "      <th>4</th>\n",
       "      <td>m</td>\n",
       "      <td>25</td>\n",
       "      <td>medio</td>\n",
       "    </tr>\n",
       "    <tr>\n",
       "      <th>5</th>\n",
       "      <td>m</td>\n",
       "      <td>58</td>\n",
       "      <td>medio</td>\n",
       "    </tr>\n",
       "    <tr>\n",
       "      <th>6</th>\n",
       "      <td>m</td>\n",
       "      <td>23</td>\n",
       "      <td>bajo</td>\n",
       "    </tr>\n",
       "  </tbody>\n",
       "</table>\n",
       "</div>"
      ],
      "text/plain": [
       "  genero  edad altura\n",
       "0      m    30   alto\n",
       "1      f    25  medio\n",
       "2      f    48   bajo\n",
       "3      m    38   alto\n",
       "4      m    25  medio\n",
       "5      m    58  medio\n",
       "6      m    23   bajo"
      ]
     },
     "execution_count": 14,
     "metadata": {},
     "output_type": "execute_result"
    }
   ],
   "source": [
    "df5=pd.DataFrame([['m',30,'alto'],['f',25,'medio'],['f',48,'bajo'],['m',38,'alto'],\n",
    "                 ['m',25,'medio'],['m',58,'medio'],['m',23,'bajo']], columns=[ 'genero', 'edad','altura'])\n",
    "df5"
   ]
  },
  {
   "cell_type": "code",
   "execution_count": 16,
   "metadata": {
    "ExecuteTime": {
     "end_time": "2020-06-10T01:32:47.431477Z",
     "start_time": "2020-06-10T01:32:47.419566Z"
    }
   },
   "outputs": [
    {
     "data": {
      "text/plain": [
       "array([[ 0.,  1.,  1.,  0.,  0., 30.],\n",
       "       [ 1.,  0.,  0.,  0.,  1., 25.],\n",
       "       [ 1.,  0.,  0.,  1.,  0., 48.],\n",
       "       [ 0.,  1.,  1.,  0.,  0., 38.],\n",
       "       [ 0.,  1.,  0.,  0.,  1., 25.],\n",
       "       [ 0.,  1.,  0.,  0.,  1., 58.],\n",
       "       [ 0.,  1.,  0.,  1.,  0., 23.]])"
      ]
     },
     "execution_count": 16,
     "metadata": {},
     "output_type": "execute_result"
    }
   ],
   "source": [
    "# Escriba aquí su código\n",
    "t_dummy5=('onehot', OneHotEncoder(sparse=False),['genero','altura'])\n",
    "\n",
    "trans_col_dummy5=ColumnTransformer(transformers=[t_dummy5],remainder='passthrough')\n",
    "\n",
    "trans_col_dummy5.fit(df5)\n",
    "\n",
    "# Lo aplicamos al df5 \n",
    "dummy_5=trans_col_dummy5.transform(df5)\n",
    "dummy_5\n"
   ]
  },
  {
   "cell_type": "code",
   "execution_count": 17,
   "metadata": {},
   "outputs": [
    {
     "data": {
      "text/plain": [
       "['onehot__x0_f',\n",
       " 'onehot__x0_m',\n",
       " 'onehot__x1_alto',\n",
       " 'onehot__x1_bajo',\n",
       " 'onehot__x1_medio',\n",
       " 'edad']"
      ]
     },
     "execution_count": 17,
     "metadata": {},
     "output_type": "execute_result"
    }
   ],
   "source": [
    "trans_col_dummy5.get_feature_names()"
   ]
  },
  {
   "cell_type": "markdown",
   "metadata": {},
   "source": [
    "## Aplicación de OneHotEncoder al flujo de Machine Learning"
   ]
  },
  {
   "cell_type": "markdown",
   "metadata": {},
   "source": [
    "Ya hemos visto qué es y cómo se hace OneHotEncoder, ahora vamos a pensar cómo ubicarlo dentro del flujo de datos de nuestros problemas de Machine Learning.  "
   ]
  },
  {
   "cell_type": "markdown",
   "metadata": {},
   "source": [
    "En los ejemplos anteriores hemos creado el transformador y luego lo hemos entrenado con fit en todos los datos y luego lo hemos aplicado también a todos los datos.   \n",
    "\n",
    "Pero cuando pensamos en nuestro flujo de datos de ML debemos tener en cuenta que:  \n",
    "\n",
    "> Como la limpieza de missing values fue hecha con anterioridad nuestro DataSet original ya estará dividido en Train y Test (recuerda que para imputar los missing values entrenábamos sólo en el Train y luego aplicábamos al Train y al Test?), cuando nos llegue la hora de crear las dummy variables. \n",
    "\n",
    "Entonces podríamos seguir la misma lógica con la creación de variables dummy, entrenarlo en el Train y luego aplicarlo tanto al Train como al Test, de la siguiente forma: "
   ]
  },
  {
   "cell_type": "markdown",
   "metadata": {},
   "source": [
    "Tomemos el dataframe del Ejemplo 2 (que era df3) y para evitarnos trabajo podríamos suponer que df3 era el X_train3 que nos llegó después de la limpieza (sin nulos) efectuada en el paso previo de nuestro flujo de trabajo.  \n",
    "\n",
    "Ya habíamos creado al Transformador de Columnas, llamado \n",
    "\n",
    "~~~\n",
    "transformador_columnas_dummy3\n",
    "~~~\n",
    "\n",
    "lo habíamos entrenado en df3, es decir en el X_train3 cuando hicimos: \n",
    "\n",
    "~~~\n",
    "transformador_columnas_dummy3.fit(df3)\n",
    "~~~\n",
    "\n",
    "y ya lo habíámos aplicado al mismo X_train3 cuando hicimos \n",
    "\n",
    "~~~\n",
    "dummy_3=transformador_columnas_dummy3.transform(df3)\n",
    "~~~\n",
    "\n",
    "Sólo nos faltaría aplicarlo al X_test3 que supongamos fuera el siguiente DataFrame: "
   ]
  },
  {
   "cell_type": "code",
   "execution_count": 18,
   "metadata": {
    "ExecuteTime": {
     "end_time": "2020-06-10T01:32:47.552991Z",
     "start_time": "2020-06-10T01:32:47.542574Z"
    }
   },
   "outputs": [
    {
     "data": {
      "text/html": [
       "<div>\n",
       "<style scoped>\n",
       "    .dataframe tbody tr th:only-of-type {\n",
       "        vertical-align: middle;\n",
       "    }\n",
       "\n",
       "    .dataframe tbody tr th {\n",
       "        vertical-align: top;\n",
       "    }\n",
       "\n",
       "    .dataframe thead th {\n",
       "        text-align: right;\n",
       "    }\n",
       "</style>\n",
       "<table border=\"1\" class=\"dataframe\">\n",
       "  <thead>\n",
       "    <tr style=\"text-align: right;\">\n",
       "      <th></th>\n",
       "      <th>x1</th>\n",
       "      <th>x2</th>\n",
       "    </tr>\n",
       "  </thead>\n",
       "  <tbody>\n",
       "    <tr>\n",
       "      <th>0</th>\n",
       "      <td>4</td>\n",
       "      <td>A</td>\n",
       "    </tr>\n",
       "    <tr>\n",
       "      <th>1</th>\n",
       "      <td>2</td>\n",
       "      <td>B</td>\n",
       "    </tr>\n",
       "    <tr>\n",
       "      <th>2</th>\n",
       "      <td>1</td>\n",
       "      <td>C</td>\n",
       "    </tr>\n",
       "    <tr>\n",
       "      <th>3</th>\n",
       "      <td>3</td>\n",
       "      <td>A</td>\n",
       "    </tr>\n",
       "  </tbody>\n",
       "</table>\n",
       "</div>"
      ],
      "text/plain": [
       "   x1 x2\n",
       "0   4  A\n",
       "1   2  B\n",
       "2   1  C\n",
       "3   3  A"
      ]
     },
     "execution_count": 18,
     "metadata": {},
     "output_type": "execute_result"
    }
   ],
   "source": [
    "X_test3=pd.DataFrame([[4,'A'],[2,'B'],[1,'C'],[3,'A']], columns=['x1','x2'])\n",
    "X_test3\n"
   ]
  },
  {
   "cell_type": "markdown",
   "metadata": {},
   "source": [
    "fácilmente podemos aplicarle el transformador de columnas y obtener sus dummy variables: "
   ]
  },
  {
   "cell_type": "code",
   "execution_count": 43,
   "metadata": {
    "ExecuteTime": {
     "end_time": "2020-06-10T01:32:47.593697Z",
     "start_time": "2020-06-10T01:32:47.584237Z"
    }
   },
   "outputs": [
    {
     "data": {
      "text/plain": [
       "array([[1., 0., 0., 4.],\n",
       "       [0., 1., 0., 2.],\n",
       "       [0., 0., 1., 1.],\n",
       "       [1., 0., 0., 3.]])"
      ]
     },
     "execution_count": 43,
     "metadata": {},
     "output_type": "execute_result"
    }
   ],
   "source": [
    "dummy_3test=transformador_columnas_dummy3.transform(X_test3)\n",
    "dummy_3test"
   ]
  },
  {
   "cell_type": "markdown",
   "metadata": {},
   "source": [
    "Como podemos observar, todo funcionó de maravillas, no dio error, tenemos la misma cantidad de columnas como resultado de las transformaciones dummy que hicimos al X_train3 (la habíamos llamado dummy_3 en el Ejemplo 2) y al X_test3 (lo llamamos dummy_3test) , y ya tendríamos un X_Train y X_Test listos para pasar al modelo de ML de nuestra preferencia.   "
   ]
  },
  {
   "cell_type": "markdown",
   "metadata": {},
   "source": [
    "Sin embargo hay un problema.  \n",
    "\n",
    "Supongamos que el X_test3 hubiera sido ligeramente diferente, que hubiera sido:  "
   ]
  },
  {
   "cell_type": "code",
   "execution_count": 20,
   "metadata": {
    "ExecuteTime": {
     "end_time": "2020-06-10T01:32:47.667567Z",
     "start_time": "2020-06-10T01:32:47.656158Z"
    }
   },
   "outputs": [
    {
     "data": {
      "text/html": [
       "<div>\n",
       "<style scoped>\n",
       "    .dataframe tbody tr th:only-of-type {\n",
       "        vertical-align: middle;\n",
       "    }\n",
       "\n",
       "    .dataframe tbody tr th {\n",
       "        vertical-align: top;\n",
       "    }\n",
       "\n",
       "    .dataframe thead th {\n",
       "        text-align: right;\n",
       "    }\n",
       "</style>\n",
       "<table border=\"1\" class=\"dataframe\">\n",
       "  <thead>\n",
       "    <tr style=\"text-align: right;\">\n",
       "      <th></th>\n",
       "      <th>x1</th>\n",
       "      <th>x2</th>\n",
       "    </tr>\n",
       "  </thead>\n",
       "  <tbody>\n",
       "    <tr>\n",
       "      <th>0</th>\n",
       "      <td>4</td>\n",
       "      <td>A</td>\n",
       "    </tr>\n",
       "    <tr>\n",
       "      <th>1</th>\n",
       "      <td>2</td>\n",
       "      <td>D</td>\n",
       "    </tr>\n",
       "    <tr>\n",
       "      <th>2</th>\n",
       "      <td>1</td>\n",
       "      <td>C</td>\n",
       "    </tr>\n",
       "    <tr>\n",
       "      <th>3</th>\n",
       "      <td>3</td>\n",
       "      <td>A</td>\n",
       "    </tr>\n",
       "  </tbody>\n",
       "</table>\n",
       "</div>"
      ],
      "text/plain": [
       "   x1 x2\n",
       "0   4  A\n",
       "1   2  D\n",
       "2   1  C\n",
       "3   3  A"
      ]
     },
     "execution_count": 20,
     "metadata": {},
     "output_type": "execute_result"
    }
   ],
   "source": [
    "X_test3=pd.DataFrame([[4,'A'],[2,'D'],[1,'C'],[3,'A']], columns=['x1','x2'])\n",
    "X_test3\n"
   ]
  },
  {
   "cell_type": "markdown",
   "metadata": {},
   "source": [
    "Al aplicarle el transformador de columnas"
   ]
  },
  {
   "cell_type": "code",
   "execution_count": 22,
   "metadata": {
    "ExecuteTime": {
     "end_time": "2020-06-10T01:32:47.708773Z",
     "start_time": "2020-06-10T01:32:47.704270Z"
    }
   },
   "outputs": [],
   "source": [
    "#dummy_3test=transformador_columnas_dummy3.transform(X_test3)\n",
    "#dummy_3test"
   ]
  },
  {
   "cell_type": "markdown",
   "metadata": {},
   "source": [
    "**Nos daría un ERROR** (pruébelo)"
   ]
  },
  {
   "cell_type": "markdown",
   "metadata": {},
   "source": [
    "**Qué pasó?**  \n",
    "\n",
    "- Lo que pasó es que en último X_test3 había un valor de la variable nominal x3 que **no estaba** en el X_train y como el transformador fue entrenado en el X_train no pudo **aprender** que había una variable dummy más para crear. Es decir que en el X_train había 3 valores posibles para x2 (A, B y C), pero en el X_test había otro distinto (D) y que no lo pudo \"encajar\" en ninguna de las 3 columnas dummy creadas.   \n",
    "\n",
    "**Puede pasar ésto en la realidad?**  \n",
    "\n",
    "- Si, porque al dividir en Train y Test (desde cuando hicimos la limpieza) lo hacemos por azar y de casualidad podría ocurrir que justo en el Train faltara algún valor de una variable nominal.  \n",
    "\n",
    "- Suponemos siempre que antes de empezar el trabajo nos hemos fijado que en el dataSet completo estén representados todos los casos posibles, así que esto no debería ser fuente de error. \n",
    "\n",
    "**Cómo lo solucionamos?**  \n",
    "\n",
    "> Para el caso de las variables categóricas vamos a usar para entrenar al Transformador de columna con fit al DataFrame completo, con Train y Test.  \n",
    "\n",
    "**La pregunta inmediata sería, pero ésto no nos causará un sesgo ya que no debemos aprender del Test Set?**  \n",
    "\n",
    "- La respuesta, por suerte, es que **no**, porque al entrenar un OneHotEncoder con fit lo único que está haciendo es fijarse qué columnas tiene el dataframe y qué valores asumen las columnas que le pedimos que luego transforme en dummies, que es información que en realidad siempre tuvimos al hacer un análisis previo. Por otro lado si el dataSet es generado en un sistema informático, posiblemente estén limitados los valores que se pueden cargar, y si es fruto de una investigación que no hicimos nosotros, tienen que brindarnos el \"diccionario\" donde se indica qué significa cada variable y qué valores puede asumir.\n",
    "\n",
    "Ésto lo haremos sólo para entrenar, a la hora de aplicar, lo seguiremos haciendo por separado para el X_train y para el X_test.\n",
    "\n",
    "\n",
    "Particularmente agregaremos (append) transitoriamente el X_test al X_train y le diremos que ahi se fije cuáles son las etiquetas que tienen las variables nominales que tenemos que transformar.\n"
   ]
  },
  {
   "cell_type": "markdown",
   "metadata": {
    "ExecuteTime": {
     "end_time": "2020-06-09T20:25:10.056829Z",
     "start_time": "2020-06-09T20:25:10.052852Z"
    }
   },
   "source": [
    "### Uso adaptado al flujo de  Machine Learning  \n",
    "\n",
    "Voy a tomar los mismos dataframes que antes, pero lo voy a denominar con menos números, seguiremos los mismos pasos hechos en el Ejemplo2 excepto al momento del entrenar: "
   ]
  },
  {
   "cell_type": "code",
   "execution_count": 23,
   "metadata": {
    "ExecuteTime": {
     "end_time": "2020-06-10T01:32:49.995346Z",
     "start_time": "2020-06-10T01:32:49.981458Z"
    }
   },
   "outputs": [
    {
     "data": {
      "text/html": [
       "<div>\n",
       "<style scoped>\n",
       "    .dataframe tbody tr th:only-of-type {\n",
       "        vertical-align: middle;\n",
       "    }\n",
       "\n",
       "    .dataframe tbody tr th {\n",
       "        vertical-align: top;\n",
       "    }\n",
       "\n",
       "    .dataframe thead th {\n",
       "        text-align: right;\n",
       "    }\n",
       "</style>\n",
       "<table border=\"1\" class=\"dataframe\">\n",
       "  <thead>\n",
       "    <tr style=\"text-align: right;\">\n",
       "      <th></th>\n",
       "      <th>x1</th>\n",
       "      <th>x2</th>\n",
       "    </tr>\n",
       "  </thead>\n",
       "  <tbody>\n",
       "    <tr>\n",
       "      <th>0</th>\n",
       "      <td>1</td>\n",
       "      <td>A</td>\n",
       "    </tr>\n",
       "    <tr>\n",
       "      <th>1</th>\n",
       "      <td>5</td>\n",
       "      <td>B</td>\n",
       "    </tr>\n",
       "    <tr>\n",
       "      <th>2</th>\n",
       "      <td>3</td>\n",
       "      <td>C</td>\n",
       "    </tr>\n",
       "    <tr>\n",
       "      <th>3</th>\n",
       "      <td>2</td>\n",
       "      <td>A</td>\n",
       "    </tr>\n",
       "    <tr>\n",
       "      <th>4</th>\n",
       "      <td>1</td>\n",
       "      <td>C</td>\n",
       "    </tr>\n",
       "    <tr>\n",
       "      <th>5</th>\n",
       "      <td>3</td>\n",
       "      <td>B</td>\n",
       "    </tr>\n",
       "    <tr>\n",
       "      <th>6</th>\n",
       "      <td>4</td>\n",
       "      <td>B</td>\n",
       "    </tr>\n",
       "    <tr>\n",
       "      <th>7</th>\n",
       "      <td>2</td>\n",
       "      <td>A</td>\n",
       "    </tr>\n",
       "  </tbody>\n",
       "</table>\n",
       "</div>"
      ],
      "text/plain": [
       "   x1 x2\n",
       "0   1  A\n",
       "1   5  B\n",
       "2   3  C\n",
       "3   2  A\n",
       "4   1  C\n",
       "5   3  B\n",
       "6   4  B\n",
       "7   2  A"
      ]
     },
     "execution_count": 23,
     "metadata": {},
     "output_type": "execute_result"
    }
   ],
   "source": [
    "X_train=pd.DataFrame([[1,'A'],[5,'B'],[3,'C'],[2,'A'],[1,'C'],[3,'B'],[4,'B'],[2,'A']], columns=['x1','x2'])\n",
    "X_train"
   ]
  },
  {
   "cell_type": "code",
   "execution_count": 24,
   "metadata": {
    "ExecuteTime": {
     "end_time": "2020-06-10T01:32:50.014194Z",
     "start_time": "2020-06-10T01:32:49.999315Z"
    }
   },
   "outputs": [
    {
     "data": {
      "text/html": [
       "<div>\n",
       "<style scoped>\n",
       "    .dataframe tbody tr th:only-of-type {\n",
       "        vertical-align: middle;\n",
       "    }\n",
       "\n",
       "    .dataframe tbody tr th {\n",
       "        vertical-align: top;\n",
       "    }\n",
       "\n",
       "    .dataframe thead th {\n",
       "        text-align: right;\n",
       "    }\n",
       "</style>\n",
       "<table border=\"1\" class=\"dataframe\">\n",
       "  <thead>\n",
       "    <tr style=\"text-align: right;\">\n",
       "      <th></th>\n",
       "      <th>x1</th>\n",
       "      <th>x2</th>\n",
       "    </tr>\n",
       "  </thead>\n",
       "  <tbody>\n",
       "    <tr>\n",
       "      <th>0</th>\n",
       "      <td>4</td>\n",
       "      <td>A</td>\n",
       "    </tr>\n",
       "    <tr>\n",
       "      <th>1</th>\n",
       "      <td>2</td>\n",
       "      <td>D</td>\n",
       "    </tr>\n",
       "    <tr>\n",
       "      <th>2</th>\n",
       "      <td>1</td>\n",
       "      <td>C</td>\n",
       "    </tr>\n",
       "    <tr>\n",
       "      <th>3</th>\n",
       "      <td>3</td>\n",
       "      <td>A</td>\n",
       "    </tr>\n",
       "  </tbody>\n",
       "</table>\n",
       "</div>"
      ],
      "text/plain": [
       "   x1 x2\n",
       "0   4  A\n",
       "1   2  D\n",
       "2   1  C\n",
       "3   3  A"
      ]
     },
     "execution_count": 24,
     "metadata": {},
     "output_type": "execute_result"
    }
   ],
   "source": [
    "X_test=pd.DataFrame([[4,'A'],[2,'D'],[1,'C'],[3,'A']], columns=['x1','x2'])\n",
    "X_test"
   ]
  },
  {
   "cell_type": "code",
   "execution_count": 48,
   "metadata": {
    "ExecuteTime": {
     "end_time": "2020-06-10T01:32:50.025110Z",
     "start_time": "2020-06-10T01:32:50.018657Z"
    }
   },
   "outputs": [],
   "source": [
    "tdummy=(\"onehot\",OneHotEncoder(sparse=False), ['x2'])\n",
    "\n",
    "# Creamos el transformador de columnas\n",
    "transformador_columnas_dummy = ColumnTransformer(transformers=[tdummy],remainder='passthrough')"
   ]
  },
  {
   "cell_type": "markdown",
   "metadata": {},
   "source": [
    "Aquí es donde creamos un dataframe con todas las observaciones del X_train y del X_test"
   ]
  },
  {
   "cell_type": "code",
   "execution_count": 49,
   "metadata": {
    "ExecuteTime": {
     "end_time": "2020-06-10T01:32:50.107443Z",
     "start_time": "2020-06-10T01:32:50.087106Z"
    }
   },
   "outputs": [
    {
     "data": {
      "text/html": [
       "<div>\n",
       "<style scoped>\n",
       "    .dataframe tbody tr th:only-of-type {\n",
       "        vertical-align: middle;\n",
       "    }\n",
       "\n",
       "    .dataframe tbody tr th {\n",
       "        vertical-align: top;\n",
       "    }\n",
       "\n",
       "    .dataframe thead th {\n",
       "        text-align: right;\n",
       "    }\n",
       "</style>\n",
       "<table border=\"1\" class=\"dataframe\">\n",
       "  <thead>\n",
       "    <tr style=\"text-align: right;\">\n",
       "      <th></th>\n",
       "      <th>x1</th>\n",
       "      <th>x2</th>\n",
       "    </tr>\n",
       "  </thead>\n",
       "  <tbody>\n",
       "    <tr>\n",
       "      <th>0</th>\n",
       "      <td>1</td>\n",
       "      <td>A</td>\n",
       "    </tr>\n",
       "    <tr>\n",
       "      <th>1</th>\n",
       "      <td>5</td>\n",
       "      <td>B</td>\n",
       "    </tr>\n",
       "    <tr>\n",
       "      <th>2</th>\n",
       "      <td>3</td>\n",
       "      <td>C</td>\n",
       "    </tr>\n",
       "    <tr>\n",
       "      <th>3</th>\n",
       "      <td>2</td>\n",
       "      <td>A</td>\n",
       "    </tr>\n",
       "    <tr>\n",
       "      <th>4</th>\n",
       "      <td>1</td>\n",
       "      <td>C</td>\n",
       "    </tr>\n",
       "    <tr>\n",
       "      <th>5</th>\n",
       "      <td>3</td>\n",
       "      <td>B</td>\n",
       "    </tr>\n",
       "    <tr>\n",
       "      <th>6</th>\n",
       "      <td>4</td>\n",
       "      <td>B</td>\n",
       "    </tr>\n",
       "    <tr>\n",
       "      <th>7</th>\n",
       "      <td>2</td>\n",
       "      <td>A</td>\n",
       "    </tr>\n",
       "    <tr>\n",
       "      <th>8</th>\n",
       "      <td>4</td>\n",
       "      <td>A</td>\n",
       "    </tr>\n",
       "    <tr>\n",
       "      <th>9</th>\n",
       "      <td>2</td>\n",
       "      <td>D</td>\n",
       "    </tr>\n",
       "    <tr>\n",
       "      <th>10</th>\n",
       "      <td>1</td>\n",
       "      <td>C</td>\n",
       "    </tr>\n",
       "    <tr>\n",
       "      <th>11</th>\n",
       "      <td>3</td>\n",
       "      <td>A</td>\n",
       "    </tr>\n",
       "  </tbody>\n",
       "</table>\n",
       "</div>"
      ],
      "text/plain": [
       "    x1 x2\n",
       "0    1  A\n",
       "1    5  B\n",
       "2    3  C\n",
       "3    2  A\n",
       "4    1  C\n",
       "5    3  B\n",
       "6    4  B\n",
       "7    2  A\n",
       "8    4  A\n",
       "9    2  D\n",
       "10   1  C\n",
       "11   3  A"
      ]
     },
     "execution_count": 49,
     "metadata": {},
     "output_type": "execute_result"
    }
   ],
   "source": [
    "X_todos=X_train.append(X_test,ignore_index=True)\n",
    "X_todos"
   ]
  },
  {
   "cell_type": "markdown",
   "metadata": {
    "ExecuteTime": {
     "end_time": "2020-06-10T01:15:50.474860Z",
     "start_time": "2020-06-10T01:15:50.470397Z"
    }
   },
   "source": [
    "Entrenaremos en este dataFrame"
   ]
  },
  {
   "cell_type": "code",
   "execution_count": 50,
   "metadata": {
    "ExecuteTime": {
     "end_time": "2020-06-10T01:32:50.204658Z",
     "start_time": "2020-06-10T01:32:50.190273Z"
    }
   },
   "outputs": [
    {
     "data": {
      "text/plain": [
       "ColumnTransformer(n_jobs=None, remainder='passthrough', sparse_threshold=0.3,\n",
       "                  transformer_weights=None,\n",
       "                  transformers=[('onehot',\n",
       "                                 OneHotEncoder(categories='auto', drop=None,\n",
       "                                               dtype=<class 'numpy.float64'>,\n",
       "                                               handle_unknown='error',\n",
       "                                               sparse=False),\n",
       "                                 ['x2'])],\n",
       "                  verbose=False)"
      ]
     },
     "execution_count": 50,
     "metadata": {},
     "output_type": "execute_result"
    }
   ],
   "source": [
    "# Lo entrenamos con fit en X_todos\n",
    "transformador_columnas_dummy.fit(X_todos)"
   ]
  },
  {
   "cell_type": "markdown",
   "metadata": {
    "ExecuteTime": {
     "end_time": "2020-06-10T01:32:50.213585Z",
     "start_time": "2020-06-10T01:32:50.208130Z"
    }
   },
   "source": [
    "Para aplicarlo al X_train y al X_test respecticamente"
   ]
  },
  {
   "cell_type": "code",
   "execution_count": 56,
   "metadata": {
    "ExecuteTime": {
     "end_time": "2020-06-10T01:33:02.836184Z",
     "start_time": "2020-06-10T01:33:02.826264Z"
    }
   },
   "outputs": [
    {
     "data": {
      "text/plain": [
       "array([[1., 0., 0., 0., 1.],\n",
       "       [0., 1., 0., 0., 5.],\n",
       "       [0., 0., 1., 0., 3.],\n",
       "       [1., 0., 0., 0., 2.],\n",
       "       [0., 0., 1., 0., 1.],\n",
       "       [0., 1., 0., 0., 3.],\n",
       "       [0., 1., 0., 0., 4.],\n",
       "       [1., 0., 0., 0., 2.]])"
      ]
     },
     "execution_count": 56,
     "metadata": {},
     "output_type": "execute_result"
    }
   ],
   "source": [
    "# Lo aplicamos al X_train\n",
    "X_train_dummy=transformador_columnas_dummy.transform(X_train)\n",
    "X_train_dummy"
   ]
  },
  {
   "cell_type": "markdown",
   "metadata": {
    "ExecuteTime": {
     "end_time": "2020-06-10T01:33:02.845121Z",
     "start_time": "2020-06-10T01:33:02.839657Z"
    }
   },
   "source": [
    "Lo aplicamos al X_test"
   ]
  },
  {
   "cell_type": "code",
   "execution_count": 61,
   "metadata": {
    "ExecuteTime": {
     "end_time": "2020-06-10T01:33:10.959044Z",
     "start_time": "2020-06-10T01:33:10.946644Z"
    }
   },
   "outputs": [
    {
     "data": {
      "text/plain": [
       "array([[1., 0., 0., 0., 4.],\n",
       "       [0., 0., 0., 1., 2.],\n",
       "       [0., 0., 1., 0., 1.],\n",
       "       [1., 0., 0., 0., 3.]])"
      ]
     },
     "execution_count": 61,
     "metadata": {},
     "output_type": "execute_result"
    }
   ],
   "source": [
    "X_test_dummy=transformador_columnas_dummy.transform(X_test)\n",
    "X_test_dummy"
   ]
  },
  {
   "cell_type": "markdown",
   "metadata": {},
   "source": [
    "#### Ejercicio 3"
   ]
  },
  {
   "cell_type": "markdown",
   "metadata": {},
   "source": [
    "Supongamos que tenemos un problema de Machine Learning al que aplicaremos luego algún modelo.  Supongamos también que la etapa de limpieza de missing values ya se ha efectuado, por lo cual contamos con nuestros datos \"completos\".  \n",
    "Pero tenemos algunas variables Categóricas que debemos transformar en numéricas para luego pasarla al modelo de ML.  \n",
    "Contamos con el siguiente X_train_5 y X_test_5, déjelos listos para seguir su rumbo!\n"
   ]
  },
  {
   "cell_type": "code",
   "execution_count": 27,
   "metadata": {
    "ExecuteTime": {
     "end_time": "2020-06-10T01:33:11.054772Z",
     "start_time": "2020-06-10T01:33:11.029972Z"
    }
   },
   "outputs": [
    {
     "data": {
      "text/html": [
       "<div>\n",
       "<style scoped>\n",
       "    .dataframe tbody tr th:only-of-type {\n",
       "        vertical-align: middle;\n",
       "    }\n",
       "\n",
       "    .dataframe tbody tr th {\n",
       "        vertical-align: top;\n",
       "    }\n",
       "\n",
       "    .dataframe thead th {\n",
       "        text-align: right;\n",
       "    }\n",
       "</style>\n",
       "<table border=\"1\" class=\"dataframe\">\n",
       "  <thead>\n",
       "    <tr style=\"text-align: right;\">\n",
       "      <th></th>\n",
       "      <th>x1</th>\n",
       "      <th>dia</th>\n",
       "      <th>edad</th>\n",
       "    </tr>\n",
       "  </thead>\n",
       "  <tbody>\n",
       "    <tr>\n",
       "      <th>0</th>\n",
       "      <td>1</td>\n",
       "      <td>Lunes</td>\n",
       "      <td>0-15</td>\n",
       "    </tr>\n",
       "    <tr>\n",
       "      <th>1</th>\n",
       "      <td>5</td>\n",
       "      <td>Martes</td>\n",
       "      <td>16-30</td>\n",
       "    </tr>\n",
       "    <tr>\n",
       "      <th>2</th>\n",
       "      <td>2</td>\n",
       "      <td>Miércoles</td>\n",
       "      <td>16-30</td>\n",
       "    </tr>\n",
       "    <tr>\n",
       "      <th>3</th>\n",
       "      <td>4</td>\n",
       "      <td>Miércoles</td>\n",
       "      <td>51_o_mas</td>\n",
       "    </tr>\n",
       "    <tr>\n",
       "      <th>4</th>\n",
       "      <td>4</td>\n",
       "      <td>Viernes</td>\n",
       "      <td>51_o_mas</td>\n",
       "    </tr>\n",
       "    <tr>\n",
       "      <th>5</th>\n",
       "      <td>3</td>\n",
       "      <td>Sábado</td>\n",
       "      <td>16-30</td>\n",
       "    </tr>\n",
       "    <tr>\n",
       "      <th>6</th>\n",
       "      <td>2</td>\n",
       "      <td>Domingo</td>\n",
       "      <td>0-15</td>\n",
       "    </tr>\n",
       "    <tr>\n",
       "      <th>7</th>\n",
       "      <td>8</td>\n",
       "      <td>Miércoles</td>\n",
       "      <td>51_o_mas</td>\n",
       "    </tr>\n",
       "    <tr>\n",
       "      <th>8</th>\n",
       "      <td>5</td>\n",
       "      <td>Lunes</td>\n",
       "      <td>16-30</td>\n",
       "    </tr>\n",
       "    <tr>\n",
       "      <th>9</th>\n",
       "      <td>2</td>\n",
       "      <td>Sábado</td>\n",
       "      <td>51_o_mas</td>\n",
       "    </tr>\n",
       "  </tbody>\n",
       "</table>\n",
       "</div>"
      ],
      "text/plain": [
       "   x1        dia      edad\n",
       "0   1      Lunes      0-15\n",
       "1   5     Martes     16-30\n",
       "2   2  Miércoles     16-30\n",
       "3   4  Miércoles  51_o_mas\n",
       "4   4    Viernes  51_o_mas\n",
       "5   3     Sábado     16-30\n",
       "6   2    Domingo      0-15\n",
       "7   8  Miércoles  51_o_mas\n",
       "8   5      Lunes     16-30\n",
       "9   2     Sábado  51_o_mas"
      ]
     },
     "execution_count": 27,
     "metadata": {},
     "output_type": "execute_result"
    }
   ],
   "source": [
    "X_train5=pd.DataFrame([[1,'Lunes','0-15'],[5,'Martes','16-30'],[2,'Miércoles','16-30'],\n",
    "                       [4,'Miércoles','51_o_mas'],[4,'Viernes','51_o_mas'],\n",
    "                       [3,'Sábado','16-30'], [2,'Domingo','0-15'],[8,'Miércoles','51_o_mas'], \n",
    "                       [5,'Lunes','16-30'],[2,'Sábado','51_o_mas'] ])\n",
    "X_train5.columns=['x1','dia','edad']\n",
    "X_train5"
   ]
  },
  {
   "cell_type": "code",
   "execution_count": 26,
   "metadata": {
    "ExecuteTime": {
     "end_time": "2020-06-10T01:33:11.078579Z",
     "start_time": "2020-06-10T01:33:11.059236Z"
    }
   },
   "outputs": [
    {
     "data": {
      "text/html": [
       "<div>\n",
       "<style scoped>\n",
       "    .dataframe tbody tr th:only-of-type {\n",
       "        vertical-align: middle;\n",
       "    }\n",
       "\n",
       "    .dataframe tbody tr th {\n",
       "        vertical-align: top;\n",
       "    }\n",
       "\n",
       "    .dataframe thead th {\n",
       "        text-align: right;\n",
       "    }\n",
       "</style>\n",
       "<table border=\"1\" class=\"dataframe\">\n",
       "  <thead>\n",
       "    <tr style=\"text-align: right;\">\n",
       "      <th></th>\n",
       "      <th>x1</th>\n",
       "      <th>dia</th>\n",
       "      <th>edad</th>\n",
       "    </tr>\n",
       "  </thead>\n",
       "  <tbody>\n",
       "    <tr>\n",
       "      <th>0</th>\n",
       "      <td>2</td>\n",
       "      <td>Lunes</td>\n",
       "      <td>31-50</td>\n",
       "    </tr>\n",
       "    <tr>\n",
       "      <th>1</th>\n",
       "      <td>2</td>\n",
       "      <td>Martes</td>\n",
       "      <td>51_o_mas</td>\n",
       "    </tr>\n",
       "    <tr>\n",
       "      <th>2</th>\n",
       "      <td>2</td>\n",
       "      <td>Miércoles</td>\n",
       "      <td>0-15</td>\n",
       "    </tr>\n",
       "    <tr>\n",
       "      <th>3</th>\n",
       "      <td>4</td>\n",
       "      <td>Jueves</td>\n",
       "      <td>16-30</td>\n",
       "    </tr>\n",
       "  </tbody>\n",
       "</table>\n",
       "</div>"
      ],
      "text/plain": [
       "   x1        dia      edad\n",
       "0   2      Lunes     31-50\n",
       "1   2     Martes  51_o_mas\n",
       "2   2  Miércoles      0-15\n",
       "3   4     Jueves     16-30"
      ]
     },
     "execution_count": 26,
     "metadata": {},
     "output_type": "execute_result"
    }
   ],
   "source": [
    "X_test5=pd.DataFrame([[2,'Lunes','31-50'],[2,'Martes','51_o_mas'],[2,'Miércoles','0-15'],[4,'Jueves','16-30']])\n",
    "X_test5.columns=['x1','dia','edad']\n",
    "X_test5                      \n",
    "                      \n",
    "                      "
   ]
  },
  {
   "cell_type": "code",
   "execution_count": 28,
   "metadata": {
    "ExecuteTime": {
     "end_time": "2020-06-10T01:33:11.089491Z",
     "start_time": "2020-06-10T01:33:11.084037Z"
    }
   },
   "outputs": [],
   "source": [
    "# Escriba aquí su código\n",
    "tdummy5=(\"onehot\",OneHotEncoder(sparse=False), ['dia'])\n",
    "\n",
    "# Creamos el transformador de columnas\n",
    "transformador_columnas_dummy = ColumnTransformer(transformers=[tdummy5],remainder='passthrough')"
   ]
  },
  {
   "cell_type": "code",
   "execution_count": 31,
   "metadata": {},
   "outputs": [],
   "source": [
    "X_todos=X_train5.append(X_test5,ignore_index=True)\n"
   ]
  },
  {
   "cell_type": "code",
   "execution_count": 30,
   "metadata": {},
   "outputs": [
    {
     "data": {
      "text/plain": [
       "ColumnTransformer(remainder='passthrough',\n",
       "                  transformers=[('onehot', OneHotEncoder(sparse=False),\n",
       "                                 ['dia'])])"
      ]
     },
     "execution_count": 30,
     "metadata": {},
     "output_type": "execute_result"
    }
   ],
   "source": [
    "# Lo entrenamos con fit en X_todos\n",
    "transformador_columnas_dummy.fit(X_todos)"
   ]
  },
  {
   "cell_type": "code",
   "execution_count": 32,
   "metadata": {},
   "outputs": [
    {
     "data": {
      "text/plain": [
       "array([[0.0, 0.0, 1.0, 0.0, 0.0, 0.0, 0.0, 1, '0-15'],\n",
       "       [0.0, 0.0, 0.0, 1.0, 0.0, 0.0, 0.0, 5, '16-30'],\n",
       "       [0.0, 0.0, 0.0, 0.0, 1.0, 0.0, 0.0, 2, '16-30'],\n",
       "       [0.0, 0.0, 0.0, 0.0, 1.0, 0.0, 0.0, 4, '51_o_mas'],\n",
       "       [0.0, 0.0, 0.0, 0.0, 0.0, 0.0, 1.0, 4, '51_o_mas'],\n",
       "       [0.0, 0.0, 0.0, 0.0, 0.0, 1.0, 0.0, 3, '16-30'],\n",
       "       [1.0, 0.0, 0.0, 0.0, 0.0, 0.0, 0.0, 2, '0-15'],\n",
       "       [0.0, 0.0, 0.0, 0.0, 1.0, 0.0, 0.0, 8, '51_o_mas'],\n",
       "       [0.0, 0.0, 1.0, 0.0, 0.0, 0.0, 0.0, 5, '16-30'],\n",
       "       [0.0, 0.0, 0.0, 0.0, 0.0, 1.0, 0.0, 2, '51_o_mas']], dtype=object)"
      ]
     },
     "execution_count": 32,
     "metadata": {},
     "output_type": "execute_result"
    }
   ],
   "source": [
    "# Lo aplicamos al X_train\n",
    "X_train_dummy=transformador_columnas_dummy.transform(X_train5)\n",
    "X_train_dummy"
   ]
  },
  {
   "cell_type": "code",
   "execution_count": 33,
   "metadata": {},
   "outputs": [
    {
     "data": {
      "text/plain": [
       "array([[0.0, 0.0, 1.0, 0.0, 0.0, 0.0, 0.0, 2, '31-50'],\n",
       "       [0.0, 0.0, 0.0, 1.0, 0.0, 0.0, 0.0, 2, '51_o_mas'],\n",
       "       [0.0, 0.0, 0.0, 0.0, 1.0, 0.0, 0.0, 2, '0-15'],\n",
       "       [0.0, 1.0, 0.0, 0.0, 0.0, 0.0, 0.0, 4, '16-30']], dtype=object)"
      ]
     },
     "execution_count": 33,
     "metadata": {},
     "output_type": "execute_result"
    }
   ],
   "source": [
    "# Lo aplicamos al X_train\n",
    "X_test_dummy=transformador_columnas_dummy.transform(X_test5)\n",
    "X_test_dummy"
   ]
  },
  {
   "cell_type": "code",
   "execution_count": null,
   "metadata": {},
   "outputs": [],
   "source": []
  }
 ],
 "metadata": {
  "hide_input": false,
  "kernelspec": {
   "display_name": "Python 3",
   "language": "python",
   "name": "python3"
  },
  "language_info": {
   "codemirror_mode": {
    "name": "ipython",
    "version": 3
   },
   "file_extension": ".py",
   "mimetype": "text/x-python",
   "name": "python",
   "nbconvert_exporter": "python",
   "pygments_lexer": "ipython3",
   "version": "3.8.5"
  },
  "toc": {
   "base_numbering": 1,
   "nav_menu": {},
   "number_sections": true,
   "sideBar": true,
   "skip_h1_title": true,
   "title_cell": "Tabla de Contenidos",
   "title_sidebar": "Contenidos",
   "toc_cell": false,
   "toc_position": {
    "height": "calc(100% - 180px)",
    "left": "10px",
    "top": "150px",
    "width": "165px"
   },
   "toc_section_display": true,
   "toc_window_display": true
  }
 },
 "nbformat": 4,
 "nbformat_minor": 4
}
