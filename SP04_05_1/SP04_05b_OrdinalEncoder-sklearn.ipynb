{
 "cells": [
  {
   "cell_type": "markdown",
   "metadata": {},
   "source": [
    "![IES21](img/logo_ies.png)"
   ]
  },
  {
   "cell_type": "markdown",
   "metadata": {},
   "source": [
    "# Situación Profesional 4: \n",
    "# Codificación de Variables Categóricas: OrdinalEncoder con Scikit-Learn\n",
    "# Con Ejercicios Resueltos\n",
    "## Fundamentos"
   ]
  },
  {
   "cell_type": "code",
   "execution_count": 2,
   "metadata": {
    "ExecuteTime": {
     "end_time": "2020-06-16T23:57:20.112384Z",
     "start_time": "2020-06-16T23:57:18.954434Z"
    }
   },
   "outputs": [],
   "source": [
    "import numpy as np\n",
    "import pandas as pd"
   ]
  },
  {
   "cell_type": "markdown",
   "metadata": {},
   "source": [
    "### OrdinalEncoder -  Variable categórica ordinal:  \n",
    "\n",
    "Una variable es ordinal cuando es posible decir que uno de los valores es mayor o menor que otro, no significa que uno sea el doble o el triple del otro, pero sí que hay cierto orden entre sus valores.  Tampoco pueden sumarse o restarse."
   ]
  },
  {
   "cell_type": "markdown",
   "metadata": {},
   "source": [
    "Vamos a investigar cómo funciona OrdinalEncoder() de Scikit-Lern para esta tarea:\n",
    "\n",
    "Docmuentación oficial: https://scikit-learn.org/stable/modules/generated/sklearn.preprocessing.OrdinalEncoder.html\n",
    "\n",
    "~~~\n",
    "sklearn.preprocessing.OrdinalEncoder(*, categories='auto', dtype=<class 'numpy.float64'>)[source]\n",
    "\n",
    "~~~\n",
    "\n",
    "- De la misma manera que las variables nominales, las ordinales, generalmente se presentan también con una cantidad finita de textos (por ejemplo: \"Alto\", \"Medio\", \"Bajo\"; o, \"Primero\", \"Segundo\", \"Tercero\", etc)\n",
    "- Al aplicar OrdinalEncoder() con la opción de categories = 'auto', asignará un valor numérico entero comenzando en 0 hasta completar la cantidad de valores que toma la variable o columna a codificar **_ordenados alfabéticamente_**.   \n",
    "\n",
    "Veamos el siguiente ejemplo: "
   ]
  },
  {
   "cell_type": "code",
   "execution_count": 3,
   "metadata": {
    "ExecuteTime": {
     "end_time": "2020-06-16T23:57:20.139313Z",
     "start_time": "2020-06-16T23:57:20.114379Z"
    }
   },
   "outputs": [
    {
     "data": {
      "text/html": [
       "<div>\n",
       "<style scoped>\n",
       "    .dataframe tbody tr th:only-of-type {\n",
       "        vertical-align: middle;\n",
       "    }\n",
       "\n",
       "    .dataframe tbody tr th {\n",
       "        vertical-align: top;\n",
       "    }\n",
       "\n",
       "    .dataframe thead th {\n",
       "        text-align: right;\n",
       "    }\n",
       "</style>\n",
       "<table border=\"1\" class=\"dataframe\">\n",
       "  <thead>\n",
       "    <tr style=\"text-align: right;\">\n",
       "      <th></th>\n",
       "      <th>genero</th>\n",
       "      <th>edad</th>\n",
       "      <th>altura</th>\n",
       "    </tr>\n",
       "  </thead>\n",
       "  <tbody>\n",
       "    <tr>\n",
       "      <th>0</th>\n",
       "      <td>m</td>\n",
       "      <td>30</td>\n",
       "      <td>alto</td>\n",
       "    </tr>\n",
       "    <tr>\n",
       "      <th>1</th>\n",
       "      <td>f</td>\n",
       "      <td>25</td>\n",
       "      <td>medio</td>\n",
       "    </tr>\n",
       "    <tr>\n",
       "      <th>2</th>\n",
       "      <td>f</td>\n",
       "      <td>48</td>\n",
       "      <td>bajo</td>\n",
       "    </tr>\n",
       "    <tr>\n",
       "      <th>3</th>\n",
       "      <td>m</td>\n",
       "      <td>38</td>\n",
       "      <td>alto</td>\n",
       "    </tr>\n",
       "    <tr>\n",
       "      <th>4</th>\n",
       "      <td>m</td>\n",
       "      <td>25</td>\n",
       "      <td>medio</td>\n",
       "    </tr>\n",
       "    <tr>\n",
       "      <th>5</th>\n",
       "      <td>m</td>\n",
       "      <td>58</td>\n",
       "      <td>medio</td>\n",
       "    </tr>\n",
       "    <tr>\n",
       "      <th>6</th>\n",
       "      <td>m</td>\n",
       "      <td>23</td>\n",
       "      <td>bajo</td>\n",
       "    </tr>\n",
       "  </tbody>\n",
       "</table>\n",
       "</div>"
      ],
      "text/plain": [
       "  genero  edad altura\n",
       "0      m    30   alto\n",
       "1      f    25  medio\n",
       "2      f    48   bajo\n",
       "3      m    38   alto\n",
       "4      m    25  medio\n",
       "5      m    58  medio\n",
       "6      m    23   bajo"
      ]
     },
     "execution_count": 3,
     "metadata": {},
     "output_type": "execute_result"
    }
   ],
   "source": [
    "df1=pd.DataFrame([['m',30,'alto'],['f',25,'medio'],['f',48,'bajo'],['m',38,'alto'],\n",
    "                 ['m',25,'medio'],['m',58,'medio'],['m',23,'bajo']], columns=[ 'genero', 'edad','altura'])\n",
    "df1"
   ]
  },
  {
   "cell_type": "markdown",
   "metadata": {},
   "source": [
    "- La variable **genero** es claramente nominal, la codificaríamos con OneHotEncoder, como vimos anteriormente.   \n",
    "- La variable **edad**, es claramente numérica y no es necesario codificarla de esta manera.  \n",
    "- La variable **altura**, se podría tratar como nominal, **pero hay una relación de orden en sus valores (bajo < medio < alto)  y sería una pena perder esa información si la tratamos como nominal, mejor vamos a tomarla como ordinal.**  \n",
    "\n",
    "Veamos cómo funciona con las opciones por defecto:"
   ]
  },
  {
   "cell_type": "code",
   "execution_count": 1,
   "metadata": {
    "ExecuteTime": {
     "end_time": "2020-06-16T23:57:21.223536Z",
     "start_time": "2020-06-16T23:57:20.142305Z"
    }
   },
   "outputs": [],
   "source": [
    "from sklearn.preprocessing import OrdinalEncoder\n",
    "from sklearn.compose import ColumnTransformer "
   ]
  },
  {
   "cell_type": "code",
   "execution_count": 5,
   "metadata": {
    "ExecuteTime": {
     "end_time": "2020-06-16T23:57:21.243448Z",
     "start_time": "2020-06-16T23:57:21.225494Z"
    },
    "scrolled": false
   },
   "outputs": [
    {
     "data": {
      "text/plain": [
       "array([[0.0, 'm', 30],\n",
       "       [2.0, 'f', 25],\n",
       "       [1.0, 'f', 48],\n",
       "       [0.0, 'm', 38],\n",
       "       [2.0, 'm', 25],\n",
       "       [2.0, 'm', 58],\n",
       "       [1.0, 'm', 23]], dtype=object)"
      ]
     },
     "execution_count": 5,
     "metadata": {},
     "output_type": "execute_result"
    }
   ],
   "source": [
    "# Escriba aquí su código\n",
    "\n",
    "tordinal1=(\"ordinal_enc\",OrdinalEncoder(), ['altura'])\n",
    "\n",
    "# Creamos el transformador de columnas\n",
    "transformador_columnas_ordinal = ColumnTransformer(transformers=[tordinal1],remainder='passthrough')\n",
    "# Lo entrenamos con fit en df1\n",
    "transformador_columnas_ordinal.fit(df1)\n",
    "# Lo aplicamos al df1 \n",
    "ordinal1=transformador_columnas_ordinal.transform(df1)\n",
    "ordinal1\n"
   ]
  },
  {
   "cell_type": "markdown",
   "metadata": {
    "ExecuteTime": {
     "end_time": "2020-06-10T21:35:54.709756Z",
     "start_time": "2020-06-10T21:35:54.706287Z"
    }
   },
   "source": [
    "Vemos que ha asignado valores numéricos, entre 0 y 2 ya que los valores posibles eran 3, y los asignó a los valores Alto, Medio y Bajo *ordenados alfabéticamente*.  De hecho hizo la siguiente asignación:  \n",
    "\n",
    "alto  -> 0  \n",
    "bajo  -> 1  \n",
    "medio -> 2  \n",
    "\n",
    "\n",
    "Como vemos, primero ordenó *alfabéticamente* los valores de altura y luego asignó los valores 0, 1 y 2 respectivamente.  \n",
    "\n"
   ]
  },
  {
   "cell_type": "markdown",
   "metadata": {},
   "source": [
    "#### Ordenando los valores asignados por OrdinalEncoder()\n",
    "\n",
    "A veces puede ser que el comportamiento anterior no sea lo más conveniente; nosotros podríamos pensar que sería mejor que los valores se asignaran **siguiendo el orden** que hemos detectado previamente:  \n",
    "\n",
    "bajo < medio < alto ,   \n",
    "\n",
    "de tal forma que la asignación sea:  \n",
    "\n",
    " \n",
    "bajo   -> 0  \n",
    "medio  -> 1  \n",
    "alto   -> 2  \n",
    "\n",
    "\n",
    "para éso nos servirá la opción **_categories_** que mencionamos anteriormente.   \n",
    "\n",
    "Nosotros sabemos que internamente OrdinalEncoder() asignará los valores 0, 1 y 2 en ese orden, entonces le vamos a indicar que tome los valores de altura ya no en el orden alfabético, sino en el que nos conviene a nosotros, cuando definamos el OrdinalEncoder: "
   ]
  },
  {
   "cell_type": "code",
   "execution_count": 6,
   "metadata": {
    "ExecuteTime": {
     "end_time": "2020-06-16T23:57:21.252423Z",
     "start_time": "2020-06-16T23:57:21.247438Z"
    }
   },
   "outputs": [],
   "source": [
    "tordinal1=(\"ordinal_enc\",OrdinalEncoder(categories=[['bajo','medio','alto']]), ['altura'])"
   ]
  },
  {
   "cell_type": "markdown",
   "metadata": {},
   "source": [
    "Le hemos indicado que queremos que el orden de asignación sea del [['bajo','medio','alto'], entonces, en ese orden asignará los valores 0,1 y 2"
   ]
  },
  {
   "cell_type": "markdown",
   "metadata": {
    "ExecuteTime": {
     "end_time": "2020-06-13T16:24:18.651712Z",
     "start_time": "2020-06-13T16:24:18.646256Z"
    }
   },
   "source": [
    "En cuanto al código, todo lo demás seguirá exactamente igual. "
   ]
  },
  {
   "cell_type": "code",
   "execution_count": 7,
   "metadata": {
    "ExecuteTime": {
     "end_time": "2020-06-16T23:57:21.282345Z",
     "start_time": "2020-06-16T23:57:21.255417Z"
    }
   },
   "outputs": [
    {
     "data": {
      "text/plain": [
       "array([[2.0, 'm', 30],\n",
       "       [1.0, 'f', 25],\n",
       "       [0.0, 'f', 48],\n",
       "       [2.0, 'm', 38],\n",
       "       [1.0, 'm', 25],\n",
       "       [1.0, 'm', 58],\n",
       "       [0.0, 'm', 23]], dtype=object)"
      ]
     },
     "metadata": {},
     "output_type": "display_data"
    },
    {
     "data": {
      "text/html": [
       "<div>\n",
       "<style scoped>\n",
       "    .dataframe tbody tr th:only-of-type {\n",
       "        vertical-align: middle;\n",
       "    }\n",
       "\n",
       "    .dataframe tbody tr th {\n",
       "        vertical-align: top;\n",
       "    }\n",
       "\n",
       "    .dataframe thead th {\n",
       "        text-align: right;\n",
       "    }\n",
       "</style>\n",
       "<table border=\"1\" class=\"dataframe\">\n",
       "  <thead>\n",
       "    <tr style=\"text-align: right;\">\n",
       "      <th></th>\n",
       "      <th>genero</th>\n",
       "      <th>edad</th>\n",
       "      <th>altura</th>\n",
       "    </tr>\n",
       "  </thead>\n",
       "  <tbody>\n",
       "    <tr>\n",
       "      <th>0</th>\n",
       "      <td>m</td>\n",
       "      <td>30</td>\n",
       "      <td>alto</td>\n",
       "    </tr>\n",
       "    <tr>\n",
       "      <th>1</th>\n",
       "      <td>f</td>\n",
       "      <td>25</td>\n",
       "      <td>medio</td>\n",
       "    </tr>\n",
       "    <tr>\n",
       "      <th>2</th>\n",
       "      <td>f</td>\n",
       "      <td>48</td>\n",
       "      <td>bajo</td>\n",
       "    </tr>\n",
       "    <tr>\n",
       "      <th>3</th>\n",
       "      <td>m</td>\n",
       "      <td>38</td>\n",
       "      <td>alto</td>\n",
       "    </tr>\n",
       "    <tr>\n",
       "      <th>4</th>\n",
       "      <td>m</td>\n",
       "      <td>25</td>\n",
       "      <td>medio</td>\n",
       "    </tr>\n",
       "    <tr>\n",
       "      <th>5</th>\n",
       "      <td>m</td>\n",
       "      <td>58</td>\n",
       "      <td>medio</td>\n",
       "    </tr>\n",
       "    <tr>\n",
       "      <th>6</th>\n",
       "      <td>m</td>\n",
       "      <td>23</td>\n",
       "      <td>bajo</td>\n",
       "    </tr>\n",
       "  </tbody>\n",
       "</table>\n",
       "</div>"
      ],
      "text/plain": [
       "  genero  edad altura\n",
       "0      m    30   alto\n",
       "1      f    25  medio\n",
       "2      f    48   bajo\n",
       "3      m    38   alto\n",
       "4      m    25  medio\n",
       "5      m    58  medio\n",
       "6      m    23   bajo"
      ]
     },
     "metadata": {},
     "output_type": "display_data"
    }
   ],
   "source": [
    "# Creamos el transformador de columnas\n",
    "transformador_columnas_ordinal = ColumnTransformer(transformers=[tordinal1],remainder='passthrough')\n",
    "# Lo entrenamos con fit en df1\n",
    "transformador_columnas_ordinal.fit(df1)\n",
    "# Lo aplicamos al df1 \n",
    "ordinal1=transformador_columnas_ordinal.transform(df1)\n",
    "display(ordinal1)\n",
    "display(df1)\n"
   ]
  },
  {
   "cell_type": "markdown",
   "metadata": {
    "ExecuteTime": {
     "end_time": "2020-06-13T16:24:55.350728Z",
     "start_time": "2020-06-13T16:24:55.345273Z"
    }
   },
   "source": [
    "Vemos que ahora, efectivamente asignó el orden que preferíamos. "
   ]
  },
  {
   "cell_type": "markdown",
   "metadata": {},
   "source": [
    "### Ejemplo 1:\n",
    "\n",
    "Veamos cómo proceder cuando tenemos más de una variable ordinal y en cada una de ellas deseamos imponer un orden específico, pero también tenemos otras variables ordinales a las que queremos dejar que las codifique en  el orden automático."
   ]
  },
  {
   "cell_type": "code",
   "execution_count": 8,
   "metadata": {
    "ExecuteTime": {
     "end_time": "2020-06-16T23:57:21.302291Z",
     "start_time": "2020-06-16T23:57:21.285337Z"
    }
   },
   "outputs": [
    {
     "data": {
      "text/html": [
       "<div>\n",
       "<style scoped>\n",
       "    .dataframe tbody tr th:only-of-type {\n",
       "        vertical-align: middle;\n",
       "    }\n",
       "\n",
       "    .dataframe tbody tr th {\n",
       "        vertical-align: top;\n",
       "    }\n",
       "\n",
       "    .dataframe thead th {\n",
       "        text-align: right;\n",
       "    }\n",
       "</style>\n",
       "<table border=\"1\" class=\"dataframe\">\n",
       "  <thead>\n",
       "    <tr style=\"text-align: right;\">\n",
       "      <th></th>\n",
       "      <th>envergadura</th>\n",
       "      <th>globulos_blancos</th>\n",
       "      <th>altura</th>\n",
       "    </tr>\n",
       "  </thead>\n",
       "  <tbody>\n",
       "    <tr>\n",
       "      <th>0</th>\n",
       "      <td>pequeño</td>\n",
       "      <td>bajo</td>\n",
       "      <td>alto</td>\n",
       "    </tr>\n",
       "    <tr>\n",
       "      <th>1</th>\n",
       "      <td>grande</td>\n",
       "      <td>alto</td>\n",
       "      <td>medio</td>\n",
       "    </tr>\n",
       "    <tr>\n",
       "      <th>2</th>\n",
       "      <td>medio</td>\n",
       "      <td>normal</td>\n",
       "      <td>bajo</td>\n",
       "    </tr>\n",
       "    <tr>\n",
       "      <th>3</th>\n",
       "      <td>pequeño</td>\n",
       "      <td>alto</td>\n",
       "      <td>alto</td>\n",
       "    </tr>\n",
       "    <tr>\n",
       "      <th>4</th>\n",
       "      <td>medio</td>\n",
       "      <td>bajo</td>\n",
       "      <td>medio</td>\n",
       "    </tr>\n",
       "    <tr>\n",
       "      <th>5</th>\n",
       "      <td>grande</td>\n",
       "      <td>normal</td>\n",
       "      <td>medio</td>\n",
       "    </tr>\n",
       "    <tr>\n",
       "      <th>6</th>\n",
       "      <td>pequeño</td>\n",
       "      <td>alto</td>\n",
       "      <td>bajo</td>\n",
       "    </tr>\n",
       "  </tbody>\n",
       "</table>\n",
       "</div>"
      ],
      "text/plain": [
       "  envergadura globulos_blancos altura\n",
       "0     pequeño             bajo   alto\n",
       "1      grande             alto  medio\n",
       "2       medio           normal   bajo\n",
       "3     pequeño             alto   alto\n",
       "4       medio             bajo  medio\n",
       "5      grande           normal  medio\n",
       "6     pequeño             alto   bajo"
      ]
     },
     "execution_count": 8,
     "metadata": {},
     "output_type": "execute_result"
    }
   ],
   "source": [
    "df2=pd.DataFrame([['pequeño','bajo','alto'],['grande','alto','medio'],['medio','normal','bajo'],['pequeño','alto','alto'],\n",
    "                 ['medio','bajo','medio'],['grande','normal','medio'],['pequeño','alto','bajo']], columns=[ 'envergadura', 'globulos_blancos','altura'])\n",
    "df2"
   ]
  },
  {
   "cell_type": "markdown",
   "metadata": {},
   "source": [
    "Supongamos que tenemos dos columnas a las que queremos establecer el orden en que se asignen los valores 0, 1, 2, ..: altura (igual que antes) y globulos_blancos a la cual queremos codificar como:\n",
    "\n",
    "\n",
    "bajo   -> 0  \n",
    "normal -> 1  \n",
    "alto   -> 2  \n",
    "\n"
   ]
  },
  {
   "cell_type": "markdown",
   "metadata": {},
   "source": [
    "Podemos crear un único transformador para ellas, y le indicamos el orden de las categorías para las dos columnas de la siguiente manera:"
   ]
  },
  {
   "cell_type": "code",
   "execution_count": 9,
   "metadata": {
    "ExecuteTime": {
     "end_time": "2020-06-16T23:57:21.312264Z",
     "start_time": "2020-06-16T23:57:21.306280Z"
    }
   },
   "outputs": [],
   "source": [
    "tordinal2=(\"ordinal_enc\",OrdinalEncoder(categories=[['bajo','medio','alto'],['bajo','normal','alto']]), ['altura','globulos_blancos'])\n"
   ]
  },
  {
   "cell_type": "code",
   "execution_count": null,
   "metadata": {},
   "outputs": [],
   "source": []
  },
  {
   "cell_type": "markdown",
   "metadata": {},
   "source": [
    "De esta manera le indicamos que:  \n",
    "\n",
    "- para la variable altura, el orden deberá ser ['bajo','medio','alto']\n",
    "- para la variable globulos_blancos el orden deberá ser: ['bajo','normal','alto']"
   ]
  },
  {
   "cell_type": "markdown",
   "metadata": {},
   "source": [
    "Creamos **otro** transformador para las que queremos que se asignen **automáticamente**, en este caso la variable envergadura, el cual debería codificar de la siguiente manera: \n",
    "\n",
    "grande  -> 0\n",
    "medio   -> 1\n",
    "pequeño -> 2\n"
   ]
  },
  {
   "cell_type": "code",
   "execution_count": 10,
   "metadata": {
    "ExecuteTime": {
     "end_time": "2020-06-16T23:57:21.319261Z",
     "start_time": "2020-06-16T23:57:21.315255Z"
    }
   },
   "outputs": [],
   "source": [
    "tordinal2_auto=(\"ordinal_auto\",OrdinalEncoder(),['envergadura'])"
   ]
  },
  {
   "cell_type": "markdown",
   "metadata": {},
   "source": [
    "Ahora cuando creemos el **Transformador de Columnas** le pasaremos **los 2 transformadores**: "
   ]
  },
  {
   "cell_type": "code",
   "execution_count": 11,
   "metadata": {
    "ExecuteTime": {
     "end_time": "2020-06-16T23:57:21.344179Z",
     "start_time": "2020-06-16T23:57:21.322236Z"
    },
    "scrolled": false
   },
   "outputs": [
    {
     "data": {
      "text/plain": [
       "array([[2., 0., 2.],\n",
       "       [1., 2., 0.],\n",
       "       [0., 1., 1.],\n",
       "       [2., 2., 2.],\n",
       "       [1., 0., 1.],\n",
       "       [1., 1., 0.],\n",
       "       [0., 2., 2.]])"
      ]
     },
     "metadata": {},
     "output_type": "display_data"
    },
    {
     "data": {
      "text/html": [
       "<div>\n",
       "<style scoped>\n",
       "    .dataframe tbody tr th:only-of-type {\n",
       "        vertical-align: middle;\n",
       "    }\n",
       "\n",
       "    .dataframe tbody tr th {\n",
       "        vertical-align: top;\n",
       "    }\n",
       "\n",
       "    .dataframe thead th {\n",
       "        text-align: right;\n",
       "    }\n",
       "</style>\n",
       "<table border=\"1\" class=\"dataframe\">\n",
       "  <thead>\n",
       "    <tr style=\"text-align: right;\">\n",
       "      <th></th>\n",
       "      <th>envergadura</th>\n",
       "      <th>globulos_blancos</th>\n",
       "      <th>altura</th>\n",
       "    </tr>\n",
       "  </thead>\n",
       "  <tbody>\n",
       "    <tr>\n",
       "      <th>0</th>\n",
       "      <td>pequeño</td>\n",
       "      <td>bajo</td>\n",
       "      <td>alto</td>\n",
       "    </tr>\n",
       "    <tr>\n",
       "      <th>1</th>\n",
       "      <td>grande</td>\n",
       "      <td>alto</td>\n",
       "      <td>medio</td>\n",
       "    </tr>\n",
       "    <tr>\n",
       "      <th>2</th>\n",
       "      <td>medio</td>\n",
       "      <td>normal</td>\n",
       "      <td>bajo</td>\n",
       "    </tr>\n",
       "    <tr>\n",
       "      <th>3</th>\n",
       "      <td>pequeño</td>\n",
       "      <td>alto</td>\n",
       "      <td>alto</td>\n",
       "    </tr>\n",
       "    <tr>\n",
       "      <th>4</th>\n",
       "      <td>medio</td>\n",
       "      <td>bajo</td>\n",
       "      <td>medio</td>\n",
       "    </tr>\n",
       "    <tr>\n",
       "      <th>5</th>\n",
       "      <td>grande</td>\n",
       "      <td>normal</td>\n",
       "      <td>medio</td>\n",
       "    </tr>\n",
       "    <tr>\n",
       "      <th>6</th>\n",
       "      <td>pequeño</td>\n",
       "      <td>alto</td>\n",
       "      <td>bajo</td>\n",
       "    </tr>\n",
       "  </tbody>\n",
       "</table>\n",
       "</div>"
      ],
      "text/plain": [
       "  envergadura globulos_blancos altura\n",
       "0     pequeño             bajo   alto\n",
       "1      grande             alto  medio\n",
       "2       medio           normal   bajo\n",
       "3     pequeño             alto   alto\n",
       "4       medio             bajo  medio\n",
       "5      grande           normal  medio\n",
       "6     pequeño             alto   bajo"
      ]
     },
     "metadata": {},
     "output_type": "display_data"
    }
   ],
   "source": [
    "# Creamos el transformador de columnas con los 2 transformadores: \n",
    "transformador_columnas_ordinal = ColumnTransformer(transformers=[tordinal2, tordinal2_auto],remainder='passthrough')\n",
    "# Lo entrenamos con fit en df2\n",
    "transformador_columnas_ordinal.fit(df2)\n",
    "# Lo aplicamos al df2 \n",
    "ordinal2=transformador_columnas_ordinal.transform(df2)\n",
    "display(ordinal2)\n",
    "display(df2)\n"
   ]
  },
  {
   "cell_type": "markdown",
   "metadata": {},
   "source": [
    "Revisemos qué hizo, si no nos perdimos ... las columnas que nos brinda en el array del resultado deberían estar ordenadas de la siguiente manera:  \n",
    "\n",
    "- altura: porque cargamos primero tordinal2 y la primer columna pasda en él es altura)  \n",
    "- globulos_blancos: porque cargamos primero tordinal2 y la segunda columna pasada es globulos_blancos  \n",
    "- envergadura: porque cargamos tordinal2_auto en segundo lugar  \n",
    "\n",
    "(Francamente prefiero confiar en que lo hizo bien!)\n"
   ]
  },
  {
   "cell_type": "markdown",
   "metadata": {
    "ExecuteTime": {
     "end_time": "2020-06-11T03:30:34.468920Z",
     "start_time": "2020-06-11T03:30:34.465460Z"
    }
   },
   "source": [
    "## Inclusión de OrdinalEncoder en el Flujo de Machine Learning"
   ]
  },
  {
   "cell_type": "markdown",
   "metadata": {},
   "source": [
    "Como efectuaremos estas codificaciones **después** del proceso de limpieza de missing values, nos llegará un **Train y un Test set** por separado, generados por azar, esto puede traernos problemas con los valores que toman las variables ordinales de la misma forma que nos pasó con las nominales anteriormente:"
   ]
  },
  {
   "cell_type": "markdown",
   "metadata": {},
   "source": [
    "Dado que las variables ordinales toman una cantidad discreta de valores si:\n",
    "\n",
    "- lo dejamos en categories='auto'   \n",
    "\n",
    "correremos el riesgo que en el Train falte alguno de los valores y que por lo tanto al entrenar al transformador en el Train luego nos de un error al aplicarlo al Test set.  En ese caso deberíamos entrenarlo en todo el dataset para que reconozca todos los valores de las etiquetas como hicimos con OneHotEncoder. \n",
    "\n",
    "En cambio si:  \n",
    "\n",
    "- definimos uno por uno el orden de las categorías \n",
    "\n",
    "no habrá error, porque habremos cargado manulmente todos los valores posibles de las categorías y sería posible indicar que entrene sólo en el Train. \n",
    "\n",
    "Como en un problema real podemos tener ambos tipos de situaciones, preferimos proceder de la misma manera en ambos casos tanto cuando establecemos a OrdinalEncoder en auto como cuando le pasamos el orden de cada  una de las variables:\n",
    " \n",
    "> Para prevenir errores los entrenaremos en todo el dataset (igual que al OneHotEncoder).\n",
    "\n",
    "No se preocupe que **no** hemos aprendido del Test Set, ya que de antemano conocemos las categorías que puede tener cada variable ordinal por la investigación previa que hemos hecho sobre el tema. \n",
    "\n"
   ]
  },
  {
   "cell_type": "markdown",
   "metadata": {},
   "source": [
    "### Ejemplo 2: \n",
    "\n",
    "Después de efectuar la limpieza de missing values, nos llega el X_train y el X_test para que codifiquemos sus variables categóricas. Dejemos todo listo para luego pasar nuestros datos a un algoritmo de Machine Learning."
   ]
  },
  {
   "cell_type": "code",
   "execution_count": 12,
   "metadata": {
    "ExecuteTime": {
     "end_time": "2020-06-16T23:57:21.362129Z",
     "start_time": "2020-06-16T23:57:21.347170Z"
    }
   },
   "outputs": [
    {
     "data": {
      "text/html": [
       "<div>\n",
       "<style scoped>\n",
       "    .dataframe tbody tr th:only-of-type {\n",
       "        vertical-align: middle;\n",
       "    }\n",
       "\n",
       "    .dataframe tbody tr th {\n",
       "        vertical-align: top;\n",
       "    }\n",
       "\n",
       "    .dataframe thead th {\n",
       "        text-align: right;\n",
       "    }\n",
       "</style>\n",
       "<table border=\"1\" class=\"dataframe\">\n",
       "  <thead>\n",
       "    <tr style=\"text-align: right;\">\n",
       "      <th></th>\n",
       "      <th>peso</th>\n",
       "      <th>envergadura</th>\n",
       "      <th>globulos_blancos</th>\n",
       "      <th>altura</th>\n",
       "      <th>otras_enfermedades</th>\n",
       "    </tr>\n",
       "  </thead>\n",
       "  <tbody>\n",
       "    <tr>\n",
       "      <th>0</th>\n",
       "      <td>50</td>\n",
       "      <td>pequeño</td>\n",
       "      <td>normal</td>\n",
       "      <td>alto</td>\n",
       "      <td>Si</td>\n",
       "    </tr>\n",
       "    <tr>\n",
       "      <th>1</th>\n",
       "      <td>73</td>\n",
       "      <td>medio</td>\n",
       "      <td>alto</td>\n",
       "      <td>medio</td>\n",
       "      <td>No</td>\n",
       "    </tr>\n",
       "    <tr>\n",
       "      <th>2</th>\n",
       "      <td>68</td>\n",
       "      <td>medio</td>\n",
       "      <td>normal</td>\n",
       "      <td>bajo</td>\n",
       "      <td>No</td>\n",
       "    </tr>\n",
       "    <tr>\n",
       "      <th>3</th>\n",
       "      <td>65</td>\n",
       "      <td>pequeño</td>\n",
       "      <td>alto</td>\n",
       "      <td>alto</td>\n",
       "      <td>Si</td>\n",
       "    </tr>\n",
       "    <tr>\n",
       "      <th>4</th>\n",
       "      <td>76</td>\n",
       "      <td>medio</td>\n",
       "      <td>normal</td>\n",
       "      <td>medio</td>\n",
       "      <td>Si</td>\n",
       "    </tr>\n",
       "    <tr>\n",
       "      <th>5</th>\n",
       "      <td>77</td>\n",
       "      <td>medio</td>\n",
       "      <td>normal</td>\n",
       "      <td>medio</td>\n",
       "      <td>No</td>\n",
       "    </tr>\n",
       "    <tr>\n",
       "      <th>6</th>\n",
       "      <td>52</td>\n",
       "      <td>pequeño</td>\n",
       "      <td>alto</td>\n",
       "      <td>bajo</td>\n",
       "      <td>Si</td>\n",
       "    </tr>\n",
       "  </tbody>\n",
       "</table>\n",
       "</div>"
      ],
      "text/plain": [
       "   peso envergadura globulos_blancos altura otras_enfermedades\n",
       "0    50     pequeño           normal   alto                 Si\n",
       "1    73       medio             alto  medio                 No\n",
       "2    68       medio           normal   bajo                 No\n",
       "3    65     pequeño             alto   alto                 Si\n",
       "4    76       medio           normal  medio                 Si\n",
       "5    77       medio           normal  medio                 No\n",
       "6    52     pequeño             alto   bajo                 Si"
      ]
     },
     "execution_count": 12,
     "metadata": {},
     "output_type": "execute_result"
    }
   ],
   "source": [
    "X_train=pd.DataFrame([[50,'pequeño','normal','alto','Si'],[73,'medio','alto','medio','No'],[68,'medio','normal','bajo','No'],\n",
    "                 [65,'pequeño','alto','alto', 'Si'],[76,'medio','normal','medio', 'Si'],[77,'medio','normal','medio', 'No'],\n",
    "                 [52, 'pequeño','alto','bajo','Si']], \n",
    "                columns=[ 'peso','envergadura', 'globulos_blancos','altura', 'otras_enfermedades'])\n",
    "X_train"
   ]
  },
  {
   "cell_type": "code",
   "execution_count": 13,
   "metadata": {
    "ExecuteTime": {
     "end_time": "2020-06-16T23:57:21.380081Z",
     "start_time": "2020-06-16T23:57:21.364131Z"
    }
   },
   "outputs": [
    {
     "data": {
      "text/html": [
       "<div>\n",
       "<style scoped>\n",
       "    .dataframe tbody tr th:only-of-type {\n",
       "        vertical-align: middle;\n",
       "    }\n",
       "\n",
       "    .dataframe tbody tr th {\n",
       "        vertical-align: top;\n",
       "    }\n",
       "\n",
       "    .dataframe thead th {\n",
       "        text-align: right;\n",
       "    }\n",
       "</style>\n",
       "<table border=\"1\" class=\"dataframe\">\n",
       "  <thead>\n",
       "    <tr style=\"text-align: right;\">\n",
       "      <th></th>\n",
       "      <th>peso</th>\n",
       "      <th>envergadura</th>\n",
       "      <th>globulos_blancos</th>\n",
       "      <th>altura</th>\n",
       "      <th>otras_enfermedades</th>\n",
       "    </tr>\n",
       "  </thead>\n",
       "  <tbody>\n",
       "    <tr>\n",
       "      <th>0</th>\n",
       "      <td>93</td>\n",
       "      <td>grande</td>\n",
       "      <td>alto</td>\n",
       "      <td>medio</td>\n",
       "      <td>No</td>\n",
       "    </tr>\n",
       "    <tr>\n",
       "      <th>1</th>\n",
       "      <td>65</td>\n",
       "      <td>medio</td>\n",
       "      <td>normal</td>\n",
       "      <td>bajo</td>\n",
       "      <td>No</td>\n",
       "    </tr>\n",
       "    <tr>\n",
       "      <th>2</th>\n",
       "      <td>43</td>\n",
       "      <td>pequeño</td>\n",
       "      <td>alto</td>\n",
       "      <td>alto</td>\n",
       "      <td>Si</td>\n",
       "    </tr>\n",
       "    <tr>\n",
       "      <th>3</th>\n",
       "      <td>86</td>\n",
       "      <td>grande</td>\n",
       "      <td>bajo</td>\n",
       "      <td>medio</td>\n",
       "      <td>Si</td>\n",
       "    </tr>\n",
       "  </tbody>\n",
       "</table>\n",
       "</div>"
      ],
      "text/plain": [
       "   peso envergadura globulos_blancos altura otras_enfermedades\n",
       "0    93      grande             alto  medio                 No\n",
       "1    65       medio           normal   bajo                 No\n",
       "2    43     pequeño             alto   alto                 Si\n",
       "3    86      grande             bajo  medio                 Si"
      ]
     },
     "execution_count": 13,
     "metadata": {},
     "output_type": "execute_result"
    }
   ],
   "source": [
    "X_test=pd.DataFrame([[93,'grande','alto','medio','No'],[65,'medio','normal','bajo','No'],\n",
    "                 [43,'pequeño','alto','alto', 'Si'],[86,'grande','bajo','medio', 'Si']], \n",
    "                columns=[ 'peso','envergadura', 'globulos_blancos','altura', 'otras_enfermedades'])\n",
    "X_test"
   ]
  },
  {
   "cell_type": "markdown",
   "metadata": {},
   "source": [
    "**Nota:** Adrede hemos quitado algunos valores posibles en el X_train que incluimos en el X_test, por ejemplo para  globulos_blancos el valor \"normal\" no figura en el X_train pero sí en el X_Test; y para envergadura no figura el valor \"grande\"."
   ]
  },
  {
   "cell_type": "markdown",
   "metadata": {},
   "source": [
    "#### Análisis del tipo  de  Variables:\n",
    "**peso**: \n",
    "\n",
    "- Tipo: numérica \n",
    "- Transformación: ninguna (por ahora! ...)  \n",
    "\n",
    "**envergadura**:    \n",
    "\n",
    "- Tipo: categórica ordinal,  \n",
    "- Valores posibles: pequeño, medio, grande  \n",
    "- Transformación: codificación ordinal   \n",
    "\n",
    "**globulos_blancos**  \n",
    "\n",
    "- Tipo: categórica ordinal,  \n",
    "- Valores posibles: bajo, normal, alto  \n",
    "- Transformación: codificación ordinal con asignación: bajo -> 0, normal -> 1, alto -> 2   \n",
    " \n",
    "\n",
    "**altura**:  \n",
    "\n",
    "- Tipo: categórica ordinal   \n",
    "- Valores posibles: alto, medio, bajo  \n",
    "- Transformación: codificación ordinal con asignación:  bajo -> 0, medio -> 1, alto -> 2  \n",
    "\n",
    "\n",
    "\n",
    "**otras_enfermedades**:   \n",
    "\n",
    "- Tipo: categórica  nominal  \n",
    "- Transformación: dummy variables  \n"
   ]
  },
  {
   "cell_type": "markdown",
   "metadata": {},
   "source": [
    "#### Vamos a guardar los valores de cada una de las variables ordinales para no tener que utilizar X_todos:\n"
   ]
  },
  {
   "cell_type": "code",
   "execution_count": 23,
   "metadata": {
    "ExecuteTime": {
     "end_time": "2020-06-17T00:01:09.386707Z",
     "start_time": "2020-06-17T00:01:09.382717Z"
    }
   },
   "outputs": [],
   "source": [
    "valores_envergadura=['pequeño', 'medio', 'grande']  \n",
    "valores_globulos_blancos=[\"bajo\", \"normal\", \"alto\"]\n",
    "valores_altura=[\"alto\", \"medio\", \"bajo\" ]\n",
    "valores_otras_enfermedades=[\"No\", \"Si\"]\n"
   ]
  },
  {
   "cell_type": "code",
   "execution_count": null,
   "metadata": {},
   "outputs": [],
   "source": []
  },
  {
   "cell_type": "markdown",
   "metadata": {
    "ExecuteTime": {
     "end_time": "2020-06-13T17:52:44.458275Z",
     "start_time": "2020-06-13T17:52:44.454307Z"
    }
   },
   "source": [
    "#### Transformadores de variables"
   ]
  },
  {
   "cell_type": "code",
   "execution_count": 24,
   "metadata": {
    "ExecuteTime": {
     "end_time": "2020-06-17T00:01:11.191959Z",
     "start_time": "2020-06-17T00:01:11.188948Z"
    }
   },
   "outputs": [],
   "source": [
    "# importamos las librerías necesarias\n",
    "from sklearn.preprocessing import OneHotEncoder\n",
    "from sklearn.preprocessing import OrdinalEncoder"
   ]
  },
  {
   "cell_type": "markdown",
   "metadata": {
    "ExecuteTime": {
     "end_time": "2020-06-13T18:22:01.642121Z",
     "start_time": "2020-06-13T18:22:01.638649Z"
    }
   },
   "source": [
    "#### Transformador/es para  **variables nominales** con OneHotEncoder"
   ]
  },
  {
   "cell_type": "code",
   "execution_count": 25,
   "metadata": {
    "ExecuteTime": {
     "end_time": "2020-06-17T00:01:12.883966Z",
     "start_time": "2020-06-17T00:01:12.879975Z"
    }
   },
   "outputs": [],
   "source": [
    "# Dummy para otras_enfermedades:\n",
    "t_nominal=(\"onehot\",OneHotEncoder(sparse=False,categories=[valores_otras_enfermedades]),['otras_enfermedades'])"
   ]
  },
  {
   "cell_type": "markdown",
   "metadata": {},
   "source": [
    "#### Transformador/es para variables Ordinales"
   ]
  },
  {
   "cell_type": "markdown",
   "metadata": {},
   "source": [
    "En este caso tendremos que usar dos, porque algunas variables queremos que se codifiquen en forma automática y a otras les forzaremos u orden que deseamos:"
   ]
  },
  {
   "cell_type": "code",
   "execution_count": 31,
   "metadata": {
    "ExecuteTime": {
     "end_time": "2020-06-13T18:00:31.959670Z",
     "start_time": "2020-06-13T18:00:31.955703Z"
    }
   },
   "outputs": [],
   "source": []
  },
  {
   "cell_type": "code",
   "execution_count": 26,
   "metadata": {
    "ExecuteTime": {
     "end_time": "2020-06-17T00:01:15.336408Z",
     "start_time": "2020-06-17T00:01:15.331421Z"
    }
   },
   "outputs": [],
   "source": [
    "# Ordinal con asignación de orden para envergadura, altura y globulos_blancos\n",
    "t_ordinal_enc=(\"ordinal_enc\", OrdinalEncoder(categories=[valores_envergadura,valores_altura, valores_globulos_blancos]), \n",
    "               ['envergadura','altura','globulos_blancos'])"
   ]
  },
  {
   "cell_type": "markdown",
   "metadata": {
    "ExecuteTime": {
     "end_time": "2020-06-13T18:02:55.651934Z",
     "start_time": "2020-06-13T18:02:55.648981Z"
    }
   },
   "source": [
    "#### Creamos Transformador de Columnas"
   ]
  },
  {
   "cell_type": "code",
   "execution_count": 27,
   "metadata": {
    "ExecuteTime": {
     "end_time": "2020-06-17T00:01:18.015275Z",
     "start_time": "2020-06-17T00:01:18.012270Z"
    }
   },
   "outputs": [],
   "source": [
    "# importamos librería\n",
    "from sklearn.compose import ColumnTransformer"
   ]
  },
  {
   "cell_type": "markdown",
   "metadata": {},
   "source": [
    "Le pasamos todos los transformadores:"
   ]
  },
  {
   "cell_type": "code",
   "execution_count": 28,
   "metadata": {
    "ExecuteTime": {
     "end_time": "2020-06-17T00:01:20.179618Z",
     "start_time": "2020-06-17T00:01:20.174632Z"
    }
   },
   "outputs": [],
   "source": [
    "transformador_columnas_categoricas = ColumnTransformer(transformers=[t_nominal, t_ordinal_enc],\n",
    "                                                       remainder='passthrough')\n"
   ]
  },
  {
   "cell_type": "markdown",
   "metadata": {},
   "source": [
    "#### Entrenamos con fit en X_train"
   ]
  },
  {
   "cell_type": "code",
   "execution_count": 29,
   "metadata": {
    "ExecuteTime": {
     "end_time": "2020-06-17T00:01:22.168524Z",
     "start_time": "2020-06-17T00:01:22.158551Z"
    },
    "scrolled": false
   },
   "outputs": [
    {
     "data": {
      "text/plain": [
       "' '"
      ]
     },
     "execution_count": 29,
     "metadata": {},
     "output_type": "execute_result"
    }
   ],
   "source": [
    "transformador_columnas_categoricas.fit(X_train)\n",
    ";  "
   ]
  },
  {
   "cell_type": "markdown",
   "metadata": {},
   "source": [
    "#### Aplicamos el Transformador de Columnas a X_train y X_test para obtener X_train_transformado y X_test_transformado respectivamente"
   ]
  },
  {
   "cell_type": "code",
   "execution_count": 30,
   "metadata": {
    "ExecuteTime": {
     "end_time": "2020-06-17T00:01:30.809571Z",
     "start_time": "2020-06-17T00:01:30.799598Z"
    }
   },
   "outputs": [
    {
     "data": {
      "text/plain": [
       "array([[ 0.,  1.,  0.,  0.,  1., 50.],\n",
       "       [ 1.,  0.,  1.,  1.,  2., 73.],\n",
       "       [ 1.,  0.,  1.,  2.,  1., 68.],\n",
       "       [ 0.,  1.,  0.,  0.,  2., 65.],\n",
       "       [ 0.,  1.,  1.,  1.,  1., 76.],\n",
       "       [ 1.,  0.,  1.,  1.,  1., 77.],\n",
       "       [ 0.,  1.,  0.,  2.,  2., 52.]])"
      ]
     },
     "execution_count": 30,
     "metadata": {},
     "output_type": "execute_result"
    }
   ],
   "source": [
    "X_train_transformado=transformador_columnas_categoricas.transform(X_train)\n",
    "X_train_transformado"
   ]
  },
  {
   "cell_type": "code",
   "execution_count": 31,
   "metadata": {
    "ExecuteTime": {
     "end_time": "2020-06-17T00:01:32.949241Z",
     "start_time": "2020-06-17T00:01:32.940229Z"
    }
   },
   "outputs": [
    {
     "data": {
      "text/plain": [
       "array([[ 1.,  0.,  2.,  1.,  2., 93.],\n",
       "       [ 1.,  0.,  1.,  2.,  1., 65.],\n",
       "       [ 0.,  1.,  0.,  0.,  2., 43.],\n",
       "       [ 0.,  1.,  2.,  1.,  0., 86.]])"
      ]
     },
     "execution_count": 31,
     "metadata": {},
     "output_type": "execute_result"
    }
   ],
   "source": [
    "X_test_transformado=transformador_columnas_categoricas.transform(X_test)\n",
    "X_test_transformado"
   ]
  },
  {
   "cell_type": "markdown",
   "metadata": {
    "ExecuteTime": {
     "end_time": "2020-06-14T14:43:22.040129Z",
     "start_time": "2020-06-14T14:43:22.019296Z"
    }
   },
   "source": [
    "Listo!, ya están el X_train y X_test listos para pasar a algún algoritmo de ML. "
   ]
  },
  {
   "cell_type": "code",
   "execution_count": null,
   "metadata": {},
   "outputs": [],
   "source": []
  },
  {
   "cell_type": "code",
   "execution_count": null,
   "metadata": {},
   "outputs": [],
   "source": []
  },
  {
   "cell_type": "code",
   "execution_count": null,
   "metadata": {},
   "outputs": [],
   "source": []
  },
  {
   "cell_type": "code",
   "execution_count": null,
   "metadata": {},
   "outputs": [],
   "source": []
  }
 ],
 "metadata": {
  "hide_input": false,
  "kernelspec": {
   "display_name": "Python 3",
   "language": "python",
   "name": "python3"
  },
  "language_info": {
   "codemirror_mode": {
    "name": "ipython",
    "version": 3
   },
   "file_extension": ".py",
   "mimetype": "text/x-python",
   "name": "python",
   "nbconvert_exporter": "python",
   "pygments_lexer": "ipython3",
   "version": "3.8.5"
  },
  "latex_envs": {
   "LaTeX_envs_menu_present": true,
   "autoclose": false,
   "autocomplete": true,
   "bibliofile": "biblio.bib",
   "cite_by": "apalike",
   "current_citInitial": 1,
   "eqLabelWithNumbers": true,
   "eqNumInitial": 1,
   "hotkeys": {
    "equation": "Ctrl-E",
    "itemize": "Ctrl-I"
   },
   "labels_anchors": false,
   "latex_user_defs": false,
   "report_style_numbering": false,
   "user_envs_cfg": false
  },
  "toc": {
   "base_numbering": 1,
   "nav_menu": {},
   "number_sections": true,
   "sideBar": true,
   "skip_h1_title": true,
   "title_cell": "Tabla de Contenidos",
   "title_sidebar": "Contenidos",
   "toc_cell": false,
   "toc_position": {
    "height": "calc(100% - 180px)",
    "left": "10px",
    "top": "150px",
    "width": "165px"
   },
   "toc_section_display": true,
   "toc_window_display": true
  },
  "varInspector": {
   "cols": {
    "lenName": 16,
    "lenType": 16,
    "lenVar": 40
   },
   "kernels_config": {
    "python": {
     "delete_cmd_postfix": "",
     "delete_cmd_prefix": "del ",
     "library": "var_list.py",
     "varRefreshCmd": "print(var_dic_list())"
    },
    "r": {
     "delete_cmd_postfix": ") ",
     "delete_cmd_prefix": "rm(",
     "library": "var_list.r",
     "varRefreshCmd": "cat(var_dic_list()) "
    }
   },
   "types_to_exclude": [
    "module",
    "function",
    "builtin_function_or_method",
    "instance",
    "_Feature"
   ],
   "window_display": false
  }
 },
 "nbformat": 4,
 "nbformat_minor": 4
}
