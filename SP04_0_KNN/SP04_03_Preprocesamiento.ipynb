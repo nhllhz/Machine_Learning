{
 "cells": [
  {
   "cell_type": "markdown",
   "metadata": {
    "toc": true
   },
   "source": [
    "<h1>Tabla de Contenidos<span class=\"tocSkip\"></span></h1>\n",
    "<div class=\"toc\"><ul class=\"toc-item\"><li><span><a href=\"#Aplicación-en-el-flujo-de-Machine-Learning\" data-toc-modified-id=\"Aplicación-en-el-flujo-de-Machine-Learning-1\"><span class=\"toc-item-num\">1&nbsp;&nbsp;</span>Aplicación en el flujo de Machine Learning</a></span><ul class=\"toc-item\"><li><span><a href=\"#Media-vs-Mediana\" data-toc-modified-id=\"Media-vs-Mediana-1.1\"><span class=\"toc-item-num\">1.1&nbsp;&nbsp;</span>Media vs Mediana</a></span></li><li><span><a href=\"#Cómo-efectuar-la-imputación-en-ML\" data-toc-modified-id=\"Cómo-efectuar-la-imputación-en-ML-1.2\"><span class=\"toc-item-num\">1.2&nbsp;&nbsp;</span>Cómo efectuar la imputación en ML</a></span><ul class=\"toc-item\"><li><span><a href=\"#El-concepto-fundamental\" data-toc-modified-id=\"El-concepto-fundamental-1.2.1\"><span class=\"toc-item-num\">1.2.1&nbsp;&nbsp;</span>El concepto fundamental</a></span></li><li><span><a href=\"#Lo-anterior-está-muy-bien-para-completar-los-datos-faltantes-en-el-Train-Set,-pero-cómo-proceder-con-los-valores-nulos-del-Test-Set-o-los-que-aparezcan-en-producción?\" data-toc-modified-id=\"Lo-anterior-está-muy-bien-para-completar-los-datos-faltantes-en-el-Train-Set,-pero-cómo-proceder-con-los-valores-nulos-del-Test-Set-o-los-que-aparezcan-en-producción?-1.2.2\"><span class=\"toc-item-num\">1.2.2&nbsp;&nbsp;</span>Lo anterior está muy bien para completar los datos faltantes en el Train Set, pero cómo proceder con los valores nulos del Test Set o los que aparezcan en producción?</a></span></li><li><span><a href=\"#Qué-pasaría-si-justo-en-una-columna-o-variable-que-en--el-Train-Set-no-tenía-nulos-aparecen-valores-nulos-en-el-Test-Set-o-en-las-observaciones-nuevas-que-lleguen-en-producción?\" data-toc-modified-id=\"Qué-pasaría-si-justo-en-una-columna-o-variable-que-en--el-Train-Set-no-tenía-nulos-aparecen-valores-nulos-en-el-Test-Set-o-en-las-observaciones-nuevas-que-lleguen-en-producción?-1.2.3\"><span class=\"toc-item-num\">1.2.3&nbsp;&nbsp;</span>Qué pasaría si justo en una columna o variable que en  el Train Set no tenía nulos aparecen valores nulos en el Test Set o en las observaciones nuevas que lleguen en producción?</a></span></li></ul></li><li><span><a href=\"#Ejemplo-1\" data-toc-modified-id=\"Ejemplo-1-1.3\"><span class=\"toc-item-num\">1.3&nbsp;&nbsp;</span>Ejemplo 1</a></span></li></ul></li></ul></div>"
   ]
  },
  {
   "cell_type": "markdown",
   "metadata": {
    "ExecuteTime": {
     "end_time": "2020-06-02T18:49:36.743316Z",
     "start_time": "2020-06-02T18:49:36.705415Z"
    }
   },
   "source": [
    "![IES21](img/logo_ies.png)"
   ]
  },
  {
   "cell_type": "markdown",
   "metadata": {},
   "source": [
    "# Situación Profesional 4: Preparación de los Datos\n",
    "# Limpieza de los Datos - Imputación"
   ]
  },
  {
   "cell_type": "markdown",
   "metadata": {},
   "source": [
    "## Aplicación en el flujo de Machine Learning"
   ]
  },
  {
   "cell_type": "markdown",
   "metadata": {},
   "source": [
    "Ya hemos aprendido cómo imputar o asignar algún valor a los valores nulos que podamos tener en nuestro DataFrame, ahora vamos a ver cómo aplicarlo al flujo de Machine Learning. "
   ]
  },
  {
   "cell_type": "code",
   "execution_count": 1,
   "metadata": {
    "ExecuteTime": {
     "end_time": "2020-10-27T20:19:16.087486Z",
     "start_time": "2020-10-27T20:19:15.223757Z"
    }
   },
   "outputs": [],
   "source": [
    "import numpy as np  \n",
    "import pandas as pd  \n",
    "from sklearn.impute import SimpleImputer  \n",
    "from sklearn.compose import ColumnTransformer  "
   ]
  },
  {
   "cell_type": "markdown",
   "metadata": {},
   "source": [
    "### Media vs Mediana  \n",
    "\n",
    "Veamos el siguiente caso: "
   ]
  },
  {
   "cell_type": "code",
   "execution_count": 2,
   "metadata": {
    "ExecuteTime": {
     "end_time": "2020-10-27T20:19:16.107394Z",
     "start_time": "2020-10-27T20:19:16.089442Z"
    }
   },
   "outputs": [
    {
     "data": {
      "text/html": [
       "<div>\n",
       "<style scoped>\n",
       "    .dataframe tbody tr th:only-of-type {\n",
       "        vertical-align: middle;\n",
       "    }\n",
       "\n",
       "    .dataframe tbody tr th {\n",
       "        vertical-align: top;\n",
       "    }\n",
       "\n",
       "    .dataframe thead th {\n",
       "        text-align: right;\n",
       "    }\n",
       "</style>\n",
       "<table border=\"1\" class=\"dataframe\">\n",
       "  <thead>\n",
       "    <tr style=\"text-align: right;\">\n",
       "      <th></th>\n",
       "      <th>x1</th>\n",
       "      <th>x2</th>\n",
       "      <th>x3</th>\n",
       "    </tr>\n",
       "  </thead>\n",
       "  <tbody>\n",
       "    <tr>\n",
       "      <th>0</th>\n",
       "      <td>5</td>\n",
       "      <td>3.0</td>\n",
       "      <td>Si</td>\n",
       "    </tr>\n",
       "    <tr>\n",
       "      <th>1</th>\n",
       "      <td>8</td>\n",
       "      <td>8.0</td>\n",
       "      <td>Si</td>\n",
       "    </tr>\n",
       "    <tr>\n",
       "      <th>2</th>\n",
       "      <td>10</td>\n",
       "      <td>NaN</td>\n",
       "      <td>No</td>\n",
       "    </tr>\n",
       "    <tr>\n",
       "      <th>3</th>\n",
       "      <td>2</td>\n",
       "      <td>5.0</td>\n",
       "      <td>No</td>\n",
       "    </tr>\n",
       "    <tr>\n",
       "      <th>4</th>\n",
       "      <td>7</td>\n",
       "      <td>5.0</td>\n",
       "      <td>NaN</td>\n",
       "    </tr>\n",
       "    <tr>\n",
       "      <th>5</th>\n",
       "      <td>9</td>\n",
       "      <td>60.0</td>\n",
       "      <td>Si</td>\n",
       "    </tr>\n",
       "  </tbody>\n",
       "</table>\n",
       "</div>"
      ],
      "text/plain": [
       "   x1    x2   x3\n",
       "0   5   3.0   Si\n",
       "1   8   8.0   Si\n",
       "2  10   NaN   No\n",
       "3   2   5.0   No\n",
       "4   7   5.0  NaN\n",
       "5   9  60.0   Si"
      ]
     },
     "execution_count": 2,
     "metadata": {},
     "output_type": "execute_result"
    }
   ],
   "source": [
    "dfA=pd.DataFrame([[5,3,\"Si\"],[8,8,'Si'],[10,np.nan,'No'],[2,5,'No'],[7,5,np.nan],[9,60,'Si']])\n",
    "dfA.columns=['x1','x2','x3']\n",
    "dfA"
   ]
  },
  {
   "cell_type": "markdown",
   "metadata": {},
   "source": [
    "Observemos los valores de la variable **x<sub>2</sub>**, podemos ver que nos falta un valor. Como x<sub>2</sub> es una variable **numérica** típicamente se le suele imputar:   \n",
    "\n",
    "- la **media** o promedio de los valores de x<sub>2</sub>\n",
    "- la **mediana** de los valores de x<sub>2</sub>\n",
    "\n",
    "Si utiizamos la media o promedio el valor a imputar sería:   \n",
    "\n",
    "$$ \\frac{3+8+5+5+60}{5} = \\frac{81}{5} = 16.2$$\n",
    "\n",
    "Observe que el resultado de la media se ha visto influido **fuertemente** por la presencia del **outlier de valor 60**.    \n",
    "\n",
    "> **Si sospechamos o hemos observado la presencia de outliers convendrá utlizar la mediana que es inmume a la presencia de outliers:**  \n",
    "\n",
    "Para calcular la mediana, debemos ordenar las observaciones de menor a mayor y elegimos la que se encuentra en el medio. Como las observaciones son:    \n",
    "\n",
    "$$ 3,5,5,8,60 $$\n",
    "\n",
    "La observación que se encuentra en la posicón central tiene valor 5, entonces la mediana es 5. Como podemos observar el valor que tomaba el outlier no tuvo influencia, podría haber valido 500 y el valor de la mediana hubiera seguido siendo 5.  \n",
    "\n",
    "Esto no significa que siempre convenga usar la mediana. En general se suele utilizar la media y si se detectan outliers, entonces se utiliza la mediana. \n"
   ]
  },
  {
   "cell_type": "markdown",
   "metadata": {
    "ExecuteTime": {
     "end_time": "2020-06-02T19:41:23.973838Z",
     "start_time": "2020-06-02T19:41:23.969847Z"
    }
   },
   "source": [
    "### Cómo efectuar la imputación en ML"
   ]
  },
  {
   "cell_type": "markdown",
   "metadata": {},
   "source": [
    "Antes que nada, aclaremos una cosa: asumimos que la variable target, y, no tiene valores faltantes (ya que si los tuviera la observación no nos serviría para aprender mediante Aprendizaje Supervisado)!  \n",
    "\n",
    "Por ende   \n",
    "\n",
    "> no efectuaremos imputaciones a los valores del target!"
   ]
  },
  {
   "cell_type": "markdown",
   "metadata": {},
   "source": [
    "#### El concepto fundamental"
   ]
  },
  {
   "cell_type": "markdown",
   "metadata": {},
   "source": [
    "Si nuestro interés  es efectuar la imputación, cualquiera sea (media, mediana, moda, o pronóstico, etc), para luego aplicar a los datos algún modelo de pronóstico de Machine Learning, entonces tenemos que tener en cuenta el **concepto más importante** de todos con respecto a la preparación de los datos (y cuyo desconocimiento es fruto de errores):   \n",
    "\n",
    "> Debemos imputar **después** de haber efectuado la división entre el Train Set y el Test Set, y **obteniendo los valores de media, mediana o moda sólo de las observaciones del Train Set**.\n",
    "\n",
    "No olvidemos que el Test Set representa a las observaciones desconocidas, digamos, las que están por venir en el futuro para que pronostiquemos, por lo tanto **no pueden participar en el cálculo de los valores con los cuales imputaremos a los nulos!**\n"
   ]
  },
  {
   "cell_type": "markdown",
   "metadata": {
    "ExecuteTime": {
     "end_time": "2020-06-02T19:50:33.220991Z",
     "start_time": "2020-06-02T19:50:33.216006Z"
    }
   },
   "source": [
    "#### Lo anterior está muy bien para completar los datos faltantes en el Train Set, pero cómo proceder con los valores nulos del Test Set o los que aparezcan en producción?"
   ]
  },
  {
   "cell_type": "markdown",
   "metadata": {},
   "source": [
    "Seguramente en el Test Set algunas observaciones tendrán valores nulos y quizá cuando estemos en producción también llegarán nuevas observaciones con nulos, cómo debemos proceder en estos casos?  \n",
    "Quizá el primer impulso sea rechazarlos, capturarlos en alguna línea de programa y sacar un cartel que diga que no se puede pronosticar, pero no es necesario llegar a tanto, en realidad sí podremos pronosticar con ellos:  \n",
    "\n",
    "> **A los valores nulos del Test Set o los que pudieran llegar en producción les imputaremos el valor elegido (media, mediana, moda, pronóstico) obtenido con anterioridad en el Train Set.**\n",
    "\n"
   ]
  },
  {
   "cell_type": "markdown",
   "metadata": {},
   "source": [
    "#### Qué pasaría si justo en una columna o variable que en  el Train Set no tenía nulos aparecen valores nulos en el Test Set o en las observaciones nuevas que lleguen en producción?"
   ]
  },
  {
   "cell_type": "markdown",
   "metadata": {},
   "source": [
    "Esta una una duda muy interesante, después de todo la división entre el Train Set y el Test Set se hace generalmente por azar, por ende podría darse que, por azar, en una columna al Train Set no le tocaran nulos y que los mismos quedaran todos en el Test Set.   \n",
    "\n",
    "Sin embargo, la respuesta es simple, no debe pasar nada raro, porque:  \n",
    "\n",
    "> **Definiremos imputaciones para todas las columnas o variables aunque no tengamos valores nulos en ellas!**"
   ]
  },
  {
   "cell_type": "markdown",
   "metadata": {},
   "source": [
    "### Ejemplo 1"
   ]
  },
  {
   "cell_type": "markdown",
   "metadata": {
    "ExecuteTime": {
     "end_time": "2020-06-02T20:13:09.114548Z",
     "start_time": "2020-06-02T20:13:09.107567Z"
    }
   },
   "source": [
    "Supongamos que tenemos el siguiente DataFrame df, generemos Train Set y Test Set sin valores nulos, para luego usarlos en algún modelo de ML."
   ]
  },
  {
   "cell_type": "code",
   "execution_count": 4,
   "metadata": {
    "ExecuteTime": {
     "end_time": "2020-10-27T20:19:16.417564Z",
     "start_time": "2020-10-27T20:19:16.394627Z"
    }
   },
   "outputs": [
    {
     "data": {
      "text/html": [
       "<div>\n",
       "<style scoped>\n",
       "    .dataframe tbody tr th:only-of-type {\n",
       "        vertical-align: middle;\n",
       "    }\n",
       "\n",
       "    .dataframe tbody tr th {\n",
       "        vertical-align: top;\n",
       "    }\n",
       "\n",
       "    .dataframe thead th {\n",
       "        text-align: right;\n",
       "    }\n",
       "</style>\n",
       "<table border=\"1\" class=\"dataframe\">\n",
       "  <thead>\n",
       "    <tr style=\"text-align: right;\">\n",
       "      <th></th>\n",
       "      <th>x1</th>\n",
       "      <th>x2</th>\n",
       "      <th>x3</th>\n",
       "      <th>x4</th>\n",
       "      <th>y</th>\n",
       "    </tr>\n",
       "  </thead>\n",
       "  <tbody>\n",
       "    <tr>\n",
       "      <th>0</th>\n",
       "      <td>4.0</td>\n",
       "      <td>30.0</td>\n",
       "      <td>Alto</td>\n",
       "      <td>0.2</td>\n",
       "      <td>Si</td>\n",
       "    </tr>\n",
       "    <tr>\n",
       "      <th>1</th>\n",
       "      <td>8.0</td>\n",
       "      <td>NaN</td>\n",
       "      <td>Bajo</td>\n",
       "      <td>5.0</td>\n",
       "      <td>No</td>\n",
       "    </tr>\n",
       "    <tr>\n",
       "      <th>2</th>\n",
       "      <td>0.0</td>\n",
       "      <td>50.0</td>\n",
       "      <td>Alto</td>\n",
       "      <td>NaN</td>\n",
       "      <td>No</td>\n",
       "    </tr>\n",
       "    <tr>\n",
       "      <th>3</th>\n",
       "      <td>NaN</td>\n",
       "      <td>20.0</td>\n",
       "      <td>Alto</td>\n",
       "      <td>0.5</td>\n",
       "      <td>Si</td>\n",
       "    </tr>\n",
       "    <tr>\n",
       "      <th>4</th>\n",
       "      <td>6.0</td>\n",
       "      <td>25.0</td>\n",
       "      <td>Alto</td>\n",
       "      <td>0.8</td>\n",
       "      <td>No</td>\n",
       "    </tr>\n",
       "    <tr>\n",
       "      <th>5</th>\n",
       "      <td>10.0</td>\n",
       "      <td>NaN</td>\n",
       "      <td>Bajo</td>\n",
       "      <td>0.9</td>\n",
       "      <td>Si</td>\n",
       "    </tr>\n",
       "    <tr>\n",
       "      <th>6</th>\n",
       "      <td>2.0</td>\n",
       "      <td>45.0</td>\n",
       "      <td>NaN</td>\n",
       "      <td>NaN</td>\n",
       "      <td>No</td>\n",
       "    </tr>\n",
       "    <tr>\n",
       "      <th>7</th>\n",
       "      <td>NaN</td>\n",
       "      <td>10.0</td>\n",
       "      <td>Alto</td>\n",
       "      <td>0.7</td>\n",
       "      <td>Si</td>\n",
       "    </tr>\n",
       "    <tr>\n",
       "      <th>8</th>\n",
       "      <td>3.0</td>\n",
       "      <td>55.0</td>\n",
       "      <td>Alto</td>\n",
       "      <td>0.6</td>\n",
       "      <td>No</td>\n",
       "    </tr>\n",
       "    <tr>\n",
       "      <th>9</th>\n",
       "      <td>5.0</td>\n",
       "      <td>75.0</td>\n",
       "      <td>NaN</td>\n",
       "      <td>0.1</td>\n",
       "      <td>Si</td>\n",
       "    </tr>\n",
       "    <tr>\n",
       "      <th>10</th>\n",
       "      <td>NaN</td>\n",
       "      <td>25.0</td>\n",
       "      <td>Bajo</td>\n",
       "      <td>NaN</td>\n",
       "      <td>No</td>\n",
       "    </tr>\n",
       "    <tr>\n",
       "      <th>11</th>\n",
       "      <td>1.0</td>\n",
       "      <td>NaN</td>\n",
       "      <td>Alto</td>\n",
       "      <td>NaN</td>\n",
       "      <td>Si</td>\n",
       "    </tr>\n",
       "    <tr>\n",
       "      <th>12</th>\n",
       "      <td>NaN</td>\n",
       "      <td>25.0</td>\n",
       "      <td>NaN</td>\n",
       "      <td>0.5</td>\n",
       "      <td>No</td>\n",
       "    </tr>\n",
       "    <tr>\n",
       "      <th>13</th>\n",
       "      <td>NaN</td>\n",
       "      <td>65.0</td>\n",
       "      <td>Alto</td>\n",
       "      <td>0.3</td>\n",
       "      <td>Si</td>\n",
       "    </tr>\n",
       "    <tr>\n",
       "      <th>14</th>\n",
       "      <td>NaN</td>\n",
       "      <td>NaN</td>\n",
       "      <td>Alto</td>\n",
       "      <td>0.5</td>\n",
       "      <td>Si</td>\n",
       "    </tr>\n",
       "    <tr>\n",
       "      <th>15</th>\n",
       "      <td>10.0</td>\n",
       "      <td>NaN</td>\n",
       "      <td>NaN</td>\n",
       "      <td>0.9</td>\n",
       "      <td>Si</td>\n",
       "    </tr>\n",
       "    <tr>\n",
       "      <th>16</th>\n",
       "      <td>NaN</td>\n",
       "      <td>88.0</td>\n",
       "      <td>Bajo</td>\n",
       "      <td>0.4</td>\n",
       "      <td>Si</td>\n",
       "    </tr>\n",
       "    <tr>\n",
       "      <th>17</th>\n",
       "      <td>4.0</td>\n",
       "      <td>30.0</td>\n",
       "      <td>Alto</td>\n",
       "      <td>0.2</td>\n",
       "      <td>Si</td>\n",
       "    </tr>\n",
       "    <tr>\n",
       "      <th>18</th>\n",
       "      <td>8.0</td>\n",
       "      <td>NaN</td>\n",
       "      <td>Bajo</td>\n",
       "      <td>5.0</td>\n",
       "      <td>No</td>\n",
       "    </tr>\n",
       "    <tr>\n",
       "      <th>19</th>\n",
       "      <td>1.0</td>\n",
       "      <td>NaN</td>\n",
       "      <td>Alto</td>\n",
       "      <td>NaN</td>\n",
       "      <td>Si</td>\n",
       "    </tr>\n",
       "    <tr>\n",
       "      <th>20</th>\n",
       "      <td>NaN</td>\n",
       "      <td>25.0</td>\n",
       "      <td>NaN</td>\n",
       "      <td>0.5</td>\n",
       "      <td>No</td>\n",
       "    </tr>\n",
       "    <tr>\n",
       "      <th>21</th>\n",
       "      <td>2.0</td>\n",
       "      <td>45.0</td>\n",
       "      <td>NaN</td>\n",
       "      <td>NaN</td>\n",
       "      <td>No</td>\n",
       "    </tr>\n",
       "    <tr>\n",
       "      <th>22</th>\n",
       "      <td>NaN</td>\n",
       "      <td>10.0</td>\n",
       "      <td>Alto</td>\n",
       "      <td>0.7</td>\n",
       "      <td>Si</td>\n",
       "    </tr>\n",
       "  </tbody>\n",
       "</table>\n",
       "</div>"
      ],
      "text/plain": [
       "      x1    x2    x3   x4   y\n",
       "0    4.0  30.0  Alto  0.2  Si\n",
       "1    8.0   NaN  Bajo  5.0  No\n",
       "2    0.0  50.0  Alto  NaN  No\n",
       "3    NaN  20.0  Alto  0.5  Si\n",
       "4    6.0  25.0  Alto  0.8  No\n",
       "5   10.0   NaN  Bajo  0.9  Si\n",
       "6    2.0  45.0   NaN  NaN  No\n",
       "7    NaN  10.0  Alto  0.7  Si\n",
       "8    3.0  55.0  Alto  0.6  No\n",
       "9    5.0  75.0   NaN  0.1  Si\n",
       "10   NaN  25.0  Bajo  NaN  No\n",
       "11   1.0   NaN  Alto  NaN  Si\n",
       "12   NaN  25.0   NaN  0.5  No\n",
       "13   NaN  65.0  Alto  0.3  Si\n",
       "14   NaN   NaN  Alto  0.5  Si\n",
       "15  10.0   NaN   NaN  0.9  Si\n",
       "16   NaN  88.0  Bajo  0.4  Si\n",
       "17   4.0  30.0  Alto  0.2  Si\n",
       "18   8.0   NaN  Bajo  5.0  No\n",
       "19   1.0   NaN  Alto  NaN  Si\n",
       "20   NaN  25.0   NaN  0.5  No\n",
       "21   2.0  45.0   NaN  NaN  No\n",
       "22   NaN  10.0  Alto  0.7  Si"
      ]
     },
     "execution_count": 4,
     "metadata": {},
     "output_type": "execute_result"
    }
   ],
   "source": [
    "df=pd.DataFrame([[4,30,'Alto',0.2,'Si'],[8,np.nan,'Bajo',5,'No'],[0,50,'Alto',np.nan,'No'],\n",
    "                 [np.nan,20,'Alto',0.5,'Si'],[6,25,'Alto',0.8,'No'], [10,np.nan,'Bajo',0.9,'Si'],\n",
    "                 [2,45,np.nan,np.nan,'No'],[np.nan,10,'Alto',0.7,'Si'],[3,55,'Alto',0.6,'No'],[5,75,np.nan,0.1,'Si'],\n",
    "                 [np.nan,25,'Bajo',np.nan,'No'],[1,np.nan,'Alto',np.nan,'Si'],[np.nan,25,np.nan,0.5,'No'],\n",
    "                 [np.nan,65,'Alto',0.3,'Si'],[np.nan,np.nan,'Alto',0.5,'Si'],[10,np.nan,np.nan,0.9,'Si'],\n",
    "                 [np.nan,88,'Bajo',0.4,'Si'],[4,30,'Alto',0.2,'Si'],[8,np.nan,'Bajo',5,'No'],[1,np.nan,'Alto',np.nan,'Si'],\n",
    "                 [np.nan,25,np.nan,0.5,'No'],[2,45,np.nan,np.nan,'No'],[np.nan,10,'Alto',0.7,'Si'] ])\n",
    "df.columns=['x1','x2','x3','x4','y']\n",
    "df\n"
   ]
  },
  {
   "cell_type": "markdown",
   "metadata": {},
   "source": [
    "Para no cometer errores al imputar, ya quitemos la columna target ,y, y hagamos una división inicial en Train y Test usemos 80/20 y 123 para randomizar:"
   ]
  },
  {
   "cell_type": "code",
   "execution_count": 6,
   "metadata": {
    "ExecuteTime": {
     "end_time": "2020-10-27T20:19:16.484386Z",
     "start_time": "2020-10-27T20:19:16.475451Z"
    }
   },
   "outputs": [],
   "source": [
    "from sklearn.model_selection import train_test_split\n",
    "X=df.drop(columns=['y'])\n",
    "X_train, X_test, y_train, y_test = train_test_split(X, df['y'], test_size=0.2, random_state=123)"
   ]
  },
  {
   "cell_type": "markdown",
   "metadata": {
    "ExecuteTime": {
     "end_time": "2020-06-02T21:08:00.081609Z",
     "start_time": "2020-06-02T21:08:00.075627Z"
    }
   },
   "source": [
    "Veamos qué tenemos en X_train"
   ]
  },
  {
   "cell_type": "code",
   "execution_count": 5,
   "metadata": {
    "ExecuteTime": {
     "end_time": "2020-10-27T20:19:16.574183Z",
     "start_time": "2020-10-27T20:19:16.562180Z"
    }
   },
   "outputs": [
    {
     "data": {
      "text/html": [
       "<div>\n",
       "<style scoped>\n",
       "    .dataframe tbody tr th:only-of-type {\n",
       "        vertical-align: middle;\n",
       "    }\n",
       "\n",
       "    .dataframe tbody tr th {\n",
       "        vertical-align: top;\n",
       "    }\n",
       "\n",
       "    .dataframe thead th {\n",
       "        text-align: right;\n",
       "    }\n",
       "</style>\n",
       "<table border=\"1\" class=\"dataframe\">\n",
       "  <thead>\n",
       "    <tr style=\"text-align: right;\">\n",
       "      <th></th>\n",
       "      <th>x1</th>\n",
       "      <th>x2</th>\n",
       "      <th>x3</th>\n",
       "      <th>x4</th>\n",
       "    </tr>\n",
       "  </thead>\n",
       "  <tbody>\n",
       "    <tr>\n",
       "      <th>8</th>\n",
       "      <td>3.0</td>\n",
       "      <td>55.0</td>\n",
       "      <td>Alto</td>\n",
       "      <td>0.6</td>\n",
       "    </tr>\n",
       "    <tr>\n",
       "      <th>7</th>\n",
       "      <td>NaN</td>\n",
       "      <td>10.0</td>\n",
       "      <td>Alto</td>\n",
       "      <td>0.7</td>\n",
       "    </tr>\n",
       "    <tr>\n",
       "      <th>11</th>\n",
       "      <td>1.0</td>\n",
       "      <td>NaN</td>\n",
       "      <td>Alto</td>\n",
       "      <td>NaN</td>\n",
       "    </tr>\n",
       "    <tr>\n",
       "      <th>4</th>\n",
       "      <td>6.0</td>\n",
       "      <td>25.0</td>\n",
       "      <td>Alto</td>\n",
       "      <td>0.8</td>\n",
       "    </tr>\n",
       "    <tr>\n",
       "      <th>3</th>\n",
       "      <td>NaN</td>\n",
       "      <td>20.0</td>\n",
       "      <td>Alto</td>\n",
       "      <td>0.5</td>\n",
       "    </tr>\n",
       "    <tr>\n",
       "      <th>22</th>\n",
       "      <td>NaN</td>\n",
       "      <td>10.0</td>\n",
       "      <td>Alto</td>\n",
       "      <td>0.7</td>\n",
       "    </tr>\n",
       "    <tr>\n",
       "      <th>12</th>\n",
       "      <td>NaN</td>\n",
       "      <td>25.0</td>\n",
       "      <td>NaN</td>\n",
       "      <td>0.5</td>\n",
       "    </tr>\n",
       "    <tr>\n",
       "      <th>15</th>\n",
       "      <td>10.0</td>\n",
       "      <td>NaN</td>\n",
       "      <td>NaN</td>\n",
       "      <td>0.9</td>\n",
       "    </tr>\n",
       "    <tr>\n",
       "      <th>9</th>\n",
       "      <td>5.0</td>\n",
       "      <td>75.0</td>\n",
       "      <td>NaN</td>\n",
       "      <td>0.1</td>\n",
       "    </tr>\n",
       "    <tr>\n",
       "      <th>16</th>\n",
       "      <td>NaN</td>\n",
       "      <td>88.0</td>\n",
       "      <td>Bajo</td>\n",
       "      <td>0.4</td>\n",
       "    </tr>\n",
       "    <tr>\n",
       "      <th>0</th>\n",
       "      <td>4.0</td>\n",
       "      <td>30.0</td>\n",
       "      <td>Alto</td>\n",
       "      <td>0.2</td>\n",
       "    </tr>\n",
       "    <tr>\n",
       "      <th>1</th>\n",
       "      <td>8.0</td>\n",
       "      <td>NaN</td>\n",
       "      <td>Bajo</td>\n",
       "      <td>5.0</td>\n",
       "    </tr>\n",
       "    <tr>\n",
       "      <th>10</th>\n",
       "      <td>NaN</td>\n",
       "      <td>25.0</td>\n",
       "      <td>Bajo</td>\n",
       "      <td>NaN</td>\n",
       "    </tr>\n",
       "    <tr>\n",
       "      <th>17</th>\n",
       "      <td>4.0</td>\n",
       "      <td>30.0</td>\n",
       "      <td>Alto</td>\n",
       "      <td>0.2</td>\n",
       "    </tr>\n",
       "    <tr>\n",
       "      <th>6</th>\n",
       "      <td>2.0</td>\n",
       "      <td>45.0</td>\n",
       "      <td>NaN</td>\n",
       "      <td>NaN</td>\n",
       "    </tr>\n",
       "    <tr>\n",
       "      <th>21</th>\n",
       "      <td>2.0</td>\n",
       "      <td>45.0</td>\n",
       "      <td>NaN</td>\n",
       "      <td>NaN</td>\n",
       "    </tr>\n",
       "    <tr>\n",
       "      <th>2</th>\n",
       "      <td>0.0</td>\n",
       "      <td>50.0</td>\n",
       "      <td>Alto</td>\n",
       "      <td>NaN</td>\n",
       "    </tr>\n",
       "    <tr>\n",
       "      <th>13</th>\n",
       "      <td>NaN</td>\n",
       "      <td>65.0</td>\n",
       "      <td>Alto</td>\n",
       "      <td>0.3</td>\n",
       "    </tr>\n",
       "  </tbody>\n",
       "</table>\n",
       "</div>"
      ],
      "text/plain": [
       "      x1    x2    x3   x4\n",
       "8    3.0  55.0  Alto  0.6\n",
       "7    NaN  10.0  Alto  0.7\n",
       "11   1.0   NaN  Alto  NaN\n",
       "4    6.0  25.0  Alto  0.8\n",
       "3    NaN  20.0  Alto  0.5\n",
       "22   NaN  10.0  Alto  0.7\n",
       "12   NaN  25.0   NaN  0.5\n",
       "15  10.0   NaN   NaN  0.9\n",
       "9    5.0  75.0   NaN  0.1\n",
       "16   NaN  88.0  Bajo  0.4\n",
       "0    4.0  30.0  Alto  0.2\n",
       "1    8.0   NaN  Bajo  5.0\n",
       "10   NaN  25.0  Bajo  NaN\n",
       "17   4.0  30.0  Alto  0.2\n",
       "6    2.0  45.0   NaN  NaN\n",
       "21   2.0  45.0   NaN  NaN\n",
       "2    0.0  50.0  Alto  NaN\n",
       "13   NaN  65.0  Alto  0.3"
      ]
     },
     "execution_count": 5,
     "metadata": {},
     "output_type": "execute_result"
    }
   ],
   "source": [
    "X_train"
   ]
  },
  {
   "cell_type": "code",
   "execution_count": 6,
   "metadata": {
    "ExecuteTime": {
     "end_time": "2020-10-27T20:19:16.587111Z",
     "start_time": "2020-10-27T20:19:16.577138Z"
    }
   },
   "outputs": [
    {
     "data": {
      "text/html": [
       "<div>\n",
       "<style scoped>\n",
       "    .dataframe tbody tr th:only-of-type {\n",
       "        vertical-align: middle;\n",
       "    }\n",
       "\n",
       "    .dataframe tbody tr th {\n",
       "        vertical-align: top;\n",
       "    }\n",
       "\n",
       "    .dataframe thead th {\n",
       "        text-align: right;\n",
       "    }\n",
       "</style>\n",
       "<table border=\"1\" class=\"dataframe\">\n",
       "  <thead>\n",
       "    <tr style=\"text-align: right;\">\n",
       "      <th></th>\n",
       "      <th>x1</th>\n",
       "      <th>x2</th>\n",
       "      <th>x3</th>\n",
       "      <th>x4</th>\n",
       "    </tr>\n",
       "  </thead>\n",
       "  <tbody>\n",
       "    <tr>\n",
       "      <th>5</th>\n",
       "      <td>10.0</td>\n",
       "      <td>NaN</td>\n",
       "      <td>Bajo</td>\n",
       "      <td>0.9</td>\n",
       "    </tr>\n",
       "    <tr>\n",
       "      <th>19</th>\n",
       "      <td>1.0</td>\n",
       "      <td>NaN</td>\n",
       "      <td>Alto</td>\n",
       "      <td>NaN</td>\n",
       "    </tr>\n",
       "    <tr>\n",
       "      <th>20</th>\n",
       "      <td>NaN</td>\n",
       "      <td>25.0</td>\n",
       "      <td>NaN</td>\n",
       "      <td>0.5</td>\n",
       "    </tr>\n",
       "    <tr>\n",
       "      <th>18</th>\n",
       "      <td>8.0</td>\n",
       "      <td>NaN</td>\n",
       "      <td>Bajo</td>\n",
       "      <td>5.0</td>\n",
       "    </tr>\n",
       "    <tr>\n",
       "      <th>14</th>\n",
       "      <td>NaN</td>\n",
       "      <td>NaN</td>\n",
       "      <td>Alto</td>\n",
       "      <td>0.5</td>\n",
       "    </tr>\n",
       "  </tbody>\n",
       "</table>\n",
       "</div>"
      ],
      "text/plain": [
       "      x1    x2    x3   x4\n",
       "5   10.0   NaN  Bajo  0.9\n",
       "19   1.0   NaN  Alto  NaN\n",
       "20   NaN  25.0   NaN  0.5\n",
       "18   8.0   NaN  Bajo  5.0\n",
       "14   NaN   NaN  Alto  0.5"
      ]
     },
     "execution_count": 6,
     "metadata": {},
     "output_type": "execute_result"
    }
   ],
   "source": [
    "X_test"
   ]
  },
  {
   "cell_type": "markdown",
   "metadata": {},
   "source": [
    "Nosotros vamos a asignar el promedio en las variables numéricas y la moda en las restantes:"
   ]
  },
  {
   "cell_type": "code",
   "execution_count": 7,
   "metadata": {
    "ExecuteTime": {
     "end_time": "2020-10-27T20:19:16.655929Z",
     "start_time": "2020-10-27T20:19:16.645955Z"
    }
   },
   "outputs": [],
   "source": [
    "from sklearn.impute import SimpleImputer  \n",
    "from sklearn.compose import ColumnTransformer \n",
    "\n",
    "cols_num=X_train.select_dtypes(np.number).columns  \n",
    "cols_cat=X_train.select_dtypes(include=['object','bool']).columns\n",
    "\n",
    "t1=('imputador_num', SimpleImputer(strategy='mean'), cols_num)  \n",
    "t2=('imputador_cat', SimpleImputer(strategy='most_frequent'), cols_cat) \n",
    "\n",
    "transformador_columnas = ColumnTransformer(transformers=[t1,t2],remainder='passthrough')  \n"
   ]
  },
  {
   "cell_type": "markdown",
   "metadata": {},
   "source": [
    "A nuestro transformador de columnas lo **entrenamos en el X_train**"
   ]
  },
  {
   "cell_type": "code",
   "execution_count": 8,
   "metadata": {
    "ExecuteTime": {
     "end_time": "2020-10-27T20:19:16.744690Z",
     "start_time": "2020-10-27T20:19:16.733721Z"
    }
   },
   "outputs": [],
   "source": [
    "transformador_columnas.fit(X_train);"
   ]
  },
  {
   "cell_type": "code",
   "execution_count": null,
   "metadata": {},
   "outputs": [],
   "source": []
  },
  {
   "cell_type": "markdown",
   "metadata": {
    "ExecuteTime": {
     "end_time": "2020-06-02T20:50:29.567226Z",
     "start_time": "2020-06-02T20:50:29.562240Z"
    }
   },
   "source": [
    "Ahora aplicamos nuestro transformador de columnas al X_train para imputar sus nulos"
   ]
  },
  {
   "cell_type": "code",
   "execution_count": 9,
   "metadata": {
    "ExecuteTime": {
     "end_time": "2020-10-27T20:19:16.831460Z",
     "start_time": "2020-10-27T20:19:16.817499Z"
    }
   },
   "outputs": [
    {
     "data": {
      "text/plain": [
       "array([[3.0, 55.0, 0.6, 'Alto'],\n",
       "       [4.090909090909091, 10.0, 0.7, 'Alto'],\n",
       "       [1.0, 39.86666666666667, 0.8384615384615385, 'Alto'],\n",
       "       [6.0, 25.0, 0.8, 'Alto'],\n",
       "       [4.090909090909091, 20.0, 0.5, 'Alto'],\n",
       "       [4.090909090909091, 10.0, 0.7, 'Alto'],\n",
       "       [4.090909090909091, 25.0, 0.5, 'Alto'],\n",
       "       [10.0, 39.86666666666667, 0.9, 'Alto'],\n",
       "       [5.0, 75.0, 0.1, 'Alto'],\n",
       "       [4.090909090909091, 88.0, 0.4, 'Bajo'],\n",
       "       [4.0, 30.0, 0.2, 'Alto'],\n",
       "       [8.0, 39.86666666666667, 5.0, 'Bajo'],\n",
       "       [4.090909090909091, 25.0, 0.8384615384615385, 'Bajo'],\n",
       "       [4.0, 30.0, 0.2, 'Alto'],\n",
       "       [2.0, 45.0, 0.8384615384615385, 'Alto'],\n",
       "       [2.0, 45.0, 0.8384615384615385, 'Alto'],\n",
       "       [0.0, 50.0, 0.8384615384615385, 'Alto'],\n",
       "       [4.090909090909091, 65.0, 0.3, 'Alto']], dtype=object)"
      ]
     },
     "execution_count": 9,
     "metadata": {},
     "output_type": "execute_result"
    }
   ],
   "source": [
    "Train_transformado = transformador_columnas.transform(X_train)\n",
    "Train_transformado"
   ]
  },
  {
   "cell_type": "code",
   "execution_count": null,
   "metadata": {},
   "outputs": [],
   "source": []
  },
  {
   "cell_type": "markdown",
   "metadata": {
    "ExecuteTime": {
     "end_time": "2020-06-02T20:55:18.162518Z",
     "start_time": "2020-06-02T20:55:18.157530Z"
    }
   },
   "source": [
    "y también **lo aplicamos al X_test** para imputar sus nulos:"
   ]
  },
  {
   "cell_type": "code",
   "execution_count": 10,
   "metadata": {
    "ExecuteTime": {
     "end_time": "2020-10-27T20:19:16.919223Z",
     "start_time": "2020-10-27T20:19:16.909251Z"
    }
   },
   "outputs": [
    {
     "data": {
      "text/plain": [
       "array([[10.0, 39.86666666666667, 0.9, 'Bajo'],\n",
       "       [1.0, 39.86666666666667, 0.8384615384615385, 'Alto'],\n",
       "       [4.090909090909091, 25.0, 0.5, 'Alto'],\n",
       "       [8.0, 39.86666666666667, 5.0, 'Bajo'],\n",
       "       [4.090909090909091, 39.86666666666667, 0.5, 'Alto']], dtype=object)"
      ]
     },
     "execution_count": 10,
     "metadata": {},
     "output_type": "execute_result"
    }
   ],
   "source": [
    "Test_transformado = transformador_columnas.transform(X_test)\n",
    "Test_transformado"
   ]
  },
  {
   "cell_type": "markdown",
   "metadata": {},
   "source": [
    "Tanto y_train como y_test no debían sufrir imputaciones, así que seguirán siendo las mismas de antes. "
   ]
  },
  {
   "cell_type": "markdown",
   "metadata": {},
   "source": [
    "Es decir que tenemos a  \n",
    "\n",
    "- X_train_transformado\n",
    "- X_test_transformado\n",
    "- y_train, \n",
    "- y_test\n",
    "\n",
    "Listos para aplicar a cualquier modelo de Machine Learning.\n"
   ]
  },
  {
   "cell_type": "markdown",
   "metadata": {},
   "source": [
    "Por otro lado, si estuvierámos en producción, a los datos de entrada deberíamos aplicarle nuestro transformador de columnas entrenado en todo el X, para lo cual deberíamos crear el nuevo transformador de columnas usando **todas** las observaciones.\n",
    "\n",
    "~~~\n",
    "transformador_columnas_produccion.transform(nueva_observación)\n",
    "~~~"
   ]
  },
  {
   "cell_type": "markdown",
   "metadata": {},
   "source": [
    "Cuidado con el orden de las columnas en el resultado!!!"
   ]
  },
  {
   "cell_type": "markdown",
   "metadata": {},
   "source": [
    "Si es necesario, convertimos estos dos últimos arrays en DataFrames, pero hay que tener cuidado con un detalle:  \n",
    "    \n",
    "el orden de las columnas\n",
    "\n",
    "Cada uno de los imputadores las ordenó ubicando primero las que afectó y ésto lo hizo según como las tenemos en cols_num y cols_cat. \n",
    "\n",
    "Para no cometer errores vamos a crear una lista con el orden de las columnas en ellos en el orden en que procesamos:\n",
    "\n",
    "~~~\n",
    "cols_orden=cols_num.tolist() + cols_cat.tolist()\n",
    "~~~"
   ]
  },
  {
   "cell_type": "code",
   "execution_count": 11,
   "metadata": {
    "ExecuteTime": {
     "end_time": "2020-10-27T20:19:17.360045Z",
     "start_time": "2020-10-27T20:19:17.340100Z"
    }
   },
   "outputs": [
    {
     "data": {
      "text/html": [
       "<div>\n",
       "<style scoped>\n",
       "    .dataframe tbody tr th:only-of-type {\n",
       "        vertical-align: middle;\n",
       "    }\n",
       "\n",
       "    .dataframe tbody tr th {\n",
       "        vertical-align: top;\n",
       "    }\n",
       "\n",
       "    .dataframe thead th {\n",
       "        text-align: right;\n",
       "    }\n",
       "</style>\n",
       "<table border=\"1\" class=\"dataframe\">\n",
       "  <thead>\n",
       "    <tr style=\"text-align: right;\">\n",
       "      <th></th>\n",
       "      <th>x1</th>\n",
       "      <th>x2</th>\n",
       "      <th>x4</th>\n",
       "      <th>x3</th>\n",
       "    </tr>\n",
       "  </thead>\n",
       "  <tbody>\n",
       "    <tr>\n",
       "      <th>0</th>\n",
       "      <td>3</td>\n",
       "      <td>55</td>\n",
       "      <td>0.6</td>\n",
       "      <td>Alto</td>\n",
       "    </tr>\n",
       "    <tr>\n",
       "      <th>1</th>\n",
       "      <td>4.09091</td>\n",
       "      <td>10</td>\n",
       "      <td>0.7</td>\n",
       "      <td>Alto</td>\n",
       "    </tr>\n",
       "    <tr>\n",
       "      <th>2</th>\n",
       "      <td>1</td>\n",
       "      <td>39.8667</td>\n",
       "      <td>0.838462</td>\n",
       "      <td>Alto</td>\n",
       "    </tr>\n",
       "    <tr>\n",
       "      <th>3</th>\n",
       "      <td>6</td>\n",
       "      <td>25</td>\n",
       "      <td>0.8</td>\n",
       "      <td>Alto</td>\n",
       "    </tr>\n",
       "    <tr>\n",
       "      <th>4</th>\n",
       "      <td>4.09091</td>\n",
       "      <td>20</td>\n",
       "      <td>0.5</td>\n",
       "      <td>Alto</td>\n",
       "    </tr>\n",
       "    <tr>\n",
       "      <th>5</th>\n",
       "      <td>4.09091</td>\n",
       "      <td>10</td>\n",
       "      <td>0.7</td>\n",
       "      <td>Alto</td>\n",
       "    </tr>\n",
       "    <tr>\n",
       "      <th>6</th>\n",
       "      <td>4.09091</td>\n",
       "      <td>25</td>\n",
       "      <td>0.5</td>\n",
       "      <td>Alto</td>\n",
       "    </tr>\n",
       "    <tr>\n",
       "      <th>7</th>\n",
       "      <td>10</td>\n",
       "      <td>39.8667</td>\n",
       "      <td>0.9</td>\n",
       "      <td>Alto</td>\n",
       "    </tr>\n",
       "    <tr>\n",
       "      <th>8</th>\n",
       "      <td>5</td>\n",
       "      <td>75</td>\n",
       "      <td>0.1</td>\n",
       "      <td>Alto</td>\n",
       "    </tr>\n",
       "    <tr>\n",
       "      <th>9</th>\n",
       "      <td>4.09091</td>\n",
       "      <td>88</td>\n",
       "      <td>0.4</td>\n",
       "      <td>Bajo</td>\n",
       "    </tr>\n",
       "    <tr>\n",
       "      <th>10</th>\n",
       "      <td>4</td>\n",
       "      <td>30</td>\n",
       "      <td>0.2</td>\n",
       "      <td>Alto</td>\n",
       "    </tr>\n",
       "    <tr>\n",
       "      <th>11</th>\n",
       "      <td>8</td>\n",
       "      <td>39.8667</td>\n",
       "      <td>5</td>\n",
       "      <td>Bajo</td>\n",
       "    </tr>\n",
       "    <tr>\n",
       "      <th>12</th>\n",
       "      <td>4.09091</td>\n",
       "      <td>25</td>\n",
       "      <td>0.838462</td>\n",
       "      <td>Bajo</td>\n",
       "    </tr>\n",
       "    <tr>\n",
       "      <th>13</th>\n",
       "      <td>4</td>\n",
       "      <td>30</td>\n",
       "      <td>0.2</td>\n",
       "      <td>Alto</td>\n",
       "    </tr>\n",
       "    <tr>\n",
       "      <th>14</th>\n",
       "      <td>2</td>\n",
       "      <td>45</td>\n",
       "      <td>0.838462</td>\n",
       "      <td>Alto</td>\n",
       "    </tr>\n",
       "    <tr>\n",
       "      <th>15</th>\n",
       "      <td>2</td>\n",
       "      <td>45</td>\n",
       "      <td>0.838462</td>\n",
       "      <td>Alto</td>\n",
       "    </tr>\n",
       "    <tr>\n",
       "      <th>16</th>\n",
       "      <td>0</td>\n",
       "      <td>50</td>\n",
       "      <td>0.838462</td>\n",
       "      <td>Alto</td>\n",
       "    </tr>\n",
       "    <tr>\n",
       "      <th>17</th>\n",
       "      <td>4.09091</td>\n",
       "      <td>65</td>\n",
       "      <td>0.3</td>\n",
       "      <td>Alto</td>\n",
       "    </tr>\n",
       "  </tbody>\n",
       "</table>\n",
       "</div>"
      ],
      "text/plain": [
       "         x1       x2        x4    x3\n",
       "0         3       55       0.6  Alto\n",
       "1   4.09091       10       0.7  Alto\n",
       "2         1  39.8667  0.838462  Alto\n",
       "3         6       25       0.8  Alto\n",
       "4   4.09091       20       0.5  Alto\n",
       "5   4.09091       10       0.7  Alto\n",
       "6   4.09091       25       0.5  Alto\n",
       "7        10  39.8667       0.9  Alto\n",
       "8         5       75       0.1  Alto\n",
       "9   4.09091       88       0.4  Bajo\n",
       "10        4       30       0.2  Alto\n",
       "11        8  39.8667         5  Bajo\n",
       "12  4.09091       25  0.838462  Bajo\n",
       "13        4       30       0.2  Alto\n",
       "14        2       45  0.838462  Alto\n",
       "15        2       45  0.838462  Alto\n",
       "16        0       50  0.838462  Alto\n",
       "17  4.09091       65       0.3  Alto"
      ]
     },
     "metadata": {},
     "output_type": "display_data"
    },
    {
     "data": {
      "text/html": [
       "<div>\n",
       "<style scoped>\n",
       "    .dataframe tbody tr th:only-of-type {\n",
       "        vertical-align: middle;\n",
       "    }\n",
       "\n",
       "    .dataframe tbody tr th {\n",
       "        vertical-align: top;\n",
       "    }\n",
       "\n",
       "    .dataframe thead th {\n",
       "        text-align: right;\n",
       "    }\n",
       "</style>\n",
       "<table border=\"1\" class=\"dataframe\">\n",
       "  <thead>\n",
       "    <tr style=\"text-align: right;\">\n",
       "      <th></th>\n",
       "      <th>x1</th>\n",
       "      <th>x2</th>\n",
       "      <th>x4</th>\n",
       "      <th>x3</th>\n",
       "    </tr>\n",
       "  </thead>\n",
       "  <tbody>\n",
       "    <tr>\n",
       "      <th>0</th>\n",
       "      <td>10</td>\n",
       "      <td>39.8667</td>\n",
       "      <td>0.9</td>\n",
       "      <td>Bajo</td>\n",
       "    </tr>\n",
       "    <tr>\n",
       "      <th>1</th>\n",
       "      <td>1</td>\n",
       "      <td>39.8667</td>\n",
       "      <td>0.838462</td>\n",
       "      <td>Alto</td>\n",
       "    </tr>\n",
       "    <tr>\n",
       "      <th>2</th>\n",
       "      <td>4.09091</td>\n",
       "      <td>25</td>\n",
       "      <td>0.5</td>\n",
       "      <td>Alto</td>\n",
       "    </tr>\n",
       "    <tr>\n",
       "      <th>3</th>\n",
       "      <td>8</td>\n",
       "      <td>39.8667</td>\n",
       "      <td>5</td>\n",
       "      <td>Bajo</td>\n",
       "    </tr>\n",
       "    <tr>\n",
       "      <th>4</th>\n",
       "      <td>4.09091</td>\n",
       "      <td>39.8667</td>\n",
       "      <td>0.5</td>\n",
       "      <td>Alto</td>\n",
       "    </tr>\n",
       "  </tbody>\n",
       "</table>\n",
       "</div>"
      ],
      "text/plain": [
       "        x1       x2        x4    x3\n",
       "0       10  39.8667       0.9  Bajo\n",
       "1        1  39.8667  0.838462  Alto\n",
       "2  4.09091       25       0.5  Alto\n",
       "3        8  39.8667         5  Bajo\n",
       "4  4.09091  39.8667       0.5  Alto"
      ]
     },
     "metadata": {},
     "output_type": "display_data"
    }
   ],
   "source": [
    "# Si es necesario convertimos estos dos últimos arrays en DataFrames\n",
    "# Cuidado con el orden de las columnas. Cuando las hemos transformado NO se preserva su orden. \n",
    "\n",
    "cols_orden=cols_num.tolist() + cols_cat.tolist()\n",
    "X_train_transformado=pd.DataFrame(Train_transformado, columns=cols_orden) \n",
    "X_test_transformado=pd.DataFrame(Test_transformado, columns=cols_orden)\n",
    "                                \n",
    "\n",
    "display(X_train_transformado)\n",
    "display(X_test_transformado)"
   ]
  }
 ],
 "metadata": {
  "hide_input": false,
  "kernelspec": {
   "display_name": "Python 3",
   "language": "python",
   "name": "python3"
  },
  "language_info": {
   "codemirror_mode": {
    "name": "ipython",
    "version": 3
   },
   "file_extension": ".py",
   "mimetype": "text/x-python",
   "name": "python",
   "nbconvert_exporter": "python",
   "pygments_lexer": "ipython3",
   "version": "3.8.5"
  },
  "latex_envs": {
   "LaTeX_envs_menu_present": true,
   "autoclose": false,
   "autocomplete": true,
   "bibliofile": "biblio.bib",
   "cite_by": "apalike",
   "current_citInitial": 1,
   "eqLabelWithNumbers": true,
   "eqNumInitial": 1,
   "hotkeys": {
    "equation": "Ctrl-E",
    "itemize": "Ctrl-I"
   },
   "labels_anchors": false,
   "latex_user_defs": false,
   "report_style_numbering": false,
   "user_envs_cfg": false
  },
  "toc": {
   "base_numbering": 1,
   "nav_menu": {},
   "number_sections": true,
   "sideBar": true,
   "skip_h1_title": true,
   "title_cell": "Tabla de Contenidos",
   "title_sidebar": "Contenidos",
   "toc_cell": true,
   "toc_position": {
    "height": "calc(100% - 180px)",
    "left": "10px",
    "top": "150px",
    "width": "165px"
   },
   "toc_section_display": true,
   "toc_window_display": true
  },
  "varInspector": {
   "cols": {
    "lenName": 16,
    "lenType": 16,
    "lenVar": 40
   },
   "kernels_config": {
    "python": {
     "delete_cmd_postfix": "",
     "delete_cmd_prefix": "del ",
     "library": "var_list.py",
     "varRefreshCmd": "print(var_dic_list())"
    },
    "r": {
     "delete_cmd_postfix": ") ",
     "delete_cmd_prefix": "rm(",
     "library": "var_list.r",
     "varRefreshCmd": "cat(var_dic_list()) "
    }
   },
   "types_to_exclude": [
    "module",
    "function",
    "builtin_function_or_method",
    "instance",
    "_Feature"
   ],
   "window_display": false
  }
 },
 "nbformat": 4,
 "nbformat_minor": 4
}
