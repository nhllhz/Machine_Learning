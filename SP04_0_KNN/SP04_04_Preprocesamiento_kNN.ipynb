{
 "cells": [
  {
   "cell_type": "markdown",
   "metadata": {
    "toc": true
   },
   "source": [
    "<h1>Tabla de Contenidos<span class=\"tocSkip\"></span></h1>\n",
    "<div class=\"toc\"><ul class=\"toc-item\"><li><span><a href=\"#Imputando-con-kNN-(kNN-imputation)\" data-toc-modified-id=\"Imputando-con-kNN-(kNN-imputation)-1\"><span class=\"toc-item-num\">1&nbsp;&nbsp;</span>Imputando con kNN (kNN imputation)</a></span><ul class=\"toc-item\"><li><span><a href=\"#Fundamentos-de-la-Imputación-con-kNN-los-missing-values-de-variables-numéricas.\" data-toc-modified-id=\"Fundamentos-de-la-Imputación-con-kNN-los-missing-values-de-variables-numéricas.-1.1\"><span class=\"toc-item-num\">1.1&nbsp;&nbsp;</span>Fundamentos de la Imputación con kNN los missing values de variables numéricas.</a></span></li><li><span><a href=\"#Imputamos-en-el-Train\" data-toc-modified-id=\"Imputamos-en-el-Train-1.2\"><span class=\"toc-item-num\">1.2&nbsp;&nbsp;</span>Imputamos en el Train</a></span></li><li><span><a href=\"#Imputamos-en-el-Test\" data-toc-modified-id=\"Imputamos-en-el-Test-1.3\"><span class=\"toc-item-num\">1.3&nbsp;&nbsp;</span>Imputamos en el Test</a></span></li><li><span><a href=\"#OBSERVACIONES-IMPORTANTES:\" data-toc-modified-id=\"OBSERVACIONES-IMPORTANTES:-1.4\"><span class=\"toc-item-num\">1.4&nbsp;&nbsp;</span>OBSERVACIONES IMPORTANTES:</a></span><ul class=\"toc-item\"><li><span><a href=\"#Pregunta:\" data-toc-modified-id=\"Pregunta:-1.4.1\"><span class=\"toc-item-num\">1.4.1&nbsp;&nbsp;</span>Pregunta:</a></span></li><li><span><a href=\"#Respuesta:\" data-toc-modified-id=\"Respuesta:-1.4.2\"><span class=\"toc-item-num\">1.4.2&nbsp;&nbsp;</span>Respuesta:</a></span></li><li><span><a href=\"#Pregunta\" data-toc-modified-id=\"Pregunta-1.4.3\"><span class=\"toc-item-num\">1.4.3&nbsp;&nbsp;</span>Pregunta</a></span></li><li><span><a href=\"#Respuesta\" data-toc-modified-id=\"Respuesta-1.4.4\"><span class=\"toc-item-num\">1.4.4&nbsp;&nbsp;</span>Respuesta</a></span></li></ul></li></ul></li></ul></div>"
   ]
  },
  {
   "cell_type": "code",
   "execution_count": null,
   "metadata": {},
   "outputs": [],
   "source": []
  },
  {
   "cell_type": "markdown",
   "metadata": {},
   "source": [
    "![IES21](img/logo_ies.png)"
   ]
  },
  {
   "cell_type": "markdown",
   "metadata": {},
   "source": [
    "# Situación Profesional 4: Preparación de los Datos\n",
    "# Limpieza de los Datos: kNN Imputation para variables numéricas"
   ]
  },
  {
   "cell_type": "markdown",
   "metadata": {},
   "source": [
    "## Imputando con kNN (kNN imputation)"
   ]
  },
  {
   "cell_type": "markdown",
   "metadata": {},
   "source": [
    "### Fundamentos de la Imputación con kNN los missing values de variables numéricas."
   ]
  },
  {
   "cell_type": "markdown",
   "metadata": {},
   "source": [
    "En nuestro interés de mantener la mayor cantidad de observaciones posibles del DataSet original hemos aprendido a utilizar los métodos más *simples* (imputando con la media, mediana, moda de cada feature o un valor constante), sin embargo también es posible utilizar métodos más sofisticados. \n",
    "\n",
    "Uno de los que mejores resultados da es nuestro conocido kNN. Recuerda que habíamos comentado que kNN aparecerá en varias tareas en el flujo de machine learning? Veamos cómo funciona y cómo se implementa en Scikit-Learn"
   ]
  },
  {
   "cell_type": "markdown",
   "metadata": {},
   "source": [
    "Supongamos que tenemos el siguiente DataFrame con las variables X, ya listo para imputar ( en un problema de Machine Learning ya hubiéramos *retirado* el Test Set de circulación y estaríamos trabajando sólo en el Train Set ... la aclaración vale porque si sólo estuviéramos haciendo análisis estadístico de los datos no sería necesario separar el Test Set  ;) )"
   ]
  },
  {
   "cell_type": "code",
   "execution_count": 1,
   "metadata": {
    "ExecuteTime": {
     "end_time": "2021-10-27T23:10:46.987085Z",
     "start_time": "2021-10-27T23:10:46.984817Z"
    }
   },
   "outputs": [],
   "source": [
    "import numpy as np\n",
    "import pandas as pd"
   ]
  },
  {
   "cell_type": "code",
   "execution_count": 2,
   "metadata": {
    "ExecuteTime": {
     "end_time": "2021-10-27T23:10:46.999148Z",
     "start_time": "2021-10-27T23:10:46.990077Z"
    }
   },
   "outputs": [
    {
     "data": {
      "text/html": [
       "<div>\n",
       "<style scoped>\n",
       "    .dataframe tbody tr th:only-of-type {\n",
       "        vertical-align: middle;\n",
       "    }\n",
       "\n",
       "    .dataframe tbody tr th {\n",
       "        vertical-align: top;\n",
       "    }\n",
       "\n",
       "    .dataframe thead th {\n",
       "        text-align: right;\n",
       "    }\n",
       "</style>\n",
       "<table border=\"1\" class=\"dataframe\">\n",
       "  <thead>\n",
       "    <tr style=\"text-align: right;\">\n",
       "      <th></th>\n",
       "      <th>x1</th>\n",
       "      <th>x2</th>\n",
       "      <th>x3</th>\n",
       "    </tr>\n",
       "  </thead>\n",
       "  <tbody>\n",
       "    <tr>\n",
       "      <th>0</th>\n",
       "      <td>1.0</td>\n",
       "      <td>3</td>\n",
       "      <td>NaN</td>\n",
       "    </tr>\n",
       "    <tr>\n",
       "      <th>1</th>\n",
       "      <td>2.0</td>\n",
       "      <td>3</td>\n",
       "      <td>5.0</td>\n",
       "    </tr>\n",
       "    <tr>\n",
       "      <th>2</th>\n",
       "      <td>14.0</td>\n",
       "      <td>10</td>\n",
       "      <td>9.0</td>\n",
       "    </tr>\n",
       "    <tr>\n",
       "      <th>3</th>\n",
       "      <td>1.0</td>\n",
       "      <td>2</td>\n",
       "      <td>3.0</td>\n",
       "    </tr>\n",
       "    <tr>\n",
       "      <th>4</th>\n",
       "      <td>NaN</td>\n",
       "      <td>12</td>\n",
       "      <td>8.0</td>\n",
       "    </tr>\n",
       "    <tr>\n",
       "      <th>5</th>\n",
       "      <td>10.0</td>\n",
       "      <td>13</td>\n",
       "      <td>7.0</td>\n",
       "    </tr>\n",
       "    <tr>\n",
       "      <th>6</th>\n",
       "      <td>2.0</td>\n",
       "      <td>4</td>\n",
       "      <td>2.0</td>\n",
       "    </tr>\n",
       "    <tr>\n",
       "      <th>7</th>\n",
       "      <td>13.0</td>\n",
       "      <td>10</td>\n",
       "      <td>8.0</td>\n",
       "    </tr>\n",
       "  </tbody>\n",
       "</table>\n",
       "</div>"
      ],
      "text/plain": [
       "     x1  x2   x3\n",
       "0   1.0   3  NaN\n",
       "1   2.0   3  5.0\n",
       "2  14.0  10  9.0\n",
       "3   1.0   2  3.0\n",
       "4   NaN  12  8.0\n",
       "5  10.0  13  7.0\n",
       "6   2.0   4  2.0\n",
       "7  13.0  10  8.0"
      ]
     },
     "execution_count": 2,
     "metadata": {},
     "output_type": "execute_result"
    }
   ],
   "source": [
    "X_Train=pd.DataFrame([[1,3, np.nan],[2,3,5],[14,10,9],[1,2,3],[np.nan,12,8],[10,13,7],[2,4,2],[13,10,8]])\n",
    "X_Train.columns=['x1','x2','x3']\n",
    "X_Train"
   ]
  },
  {
   "cell_type": "markdown",
   "metadata": {},
   "source": [
    "La imputación con kNN hará algo que ya hemos hecho varias veces en ejercicios anteriores ... cuando trabajábamos con las películas por ejemplo ...  \n",
    "\n",
    "Veamos la primer observación, ella tiene un nan correspondiente a la variable o feature x<sub>3</sub>, nuestro plan sería:  \n",
    "- buscar las k observaciones más cercanas (en este caso podríamos elegir k=2 porque tenemos pocas observaciones, pero ya sabemos que este es el punto débil de kNN).\n",
    "- promediar el valor de x<sub>3</sub> de estas k observaciones más cercanas y asignar este resultado al NaN en la primer observación. Por supuesto, el promedio podría ser ponderado -según la distancia- o no. Generalmente se utlizan opciones simples en esta etapa, pero ante una situación desesperante se podría probar.\n",
    "\n",
    "Éso es justamente lo que nos permitirá hacer sklearn con:\n",
    "\n",
    "~~~\n",
    "sklearn.impute.KNNImputer()\n",
    "~~~\n",
    "\n",
    "La documentación completa se encuentra en : https://scikit-learn.org/stable/modules/generated/sklearn.impute.KNNImputer.html#sklearn.impute.KNNImputer \n",
    "\n",
    "y la sintaxis es:  \n",
    "\n",
    "~~~\n",
    "sklearn.impute.KNNImputer(*, missing_values=nan, n_neighbors=5, weights='uniform', metric='nan_euclidean', copy=True, add_indicator=False)\n",
    "~~~\n",
    "\n",
    "Las opciones más importantes son una mezcla de las que ya hemos visto para kNN y para SimpleImputer:  \n",
    "\n",
    "- missing_values: igual que en SimpleImputer,  podemos dejar el valor por defecto, nan, o indicar otro valor al que querramos imputar\n",
    "- n_neighbors, weights, y metric, igual que en kNN.  \n",
    "\n",
    "Vamos a aplicarlo a nuestro dataframe ... se utiliza de la misma manera que SimpleImputer ..."
   ]
  },
  {
   "cell_type": "code",
   "execution_count": 3,
   "metadata": {
    "ExecuteTime": {
     "end_time": "2021-10-27T23:10:47.094790Z",
     "start_time": "2021-10-27T23:10:47.092443Z"
    }
   },
   "outputs": [],
   "source": [
    "from sklearn.impute import KNNImputer"
   ]
  },
  {
   "cell_type": "markdown",
   "metadata": {},
   "source": [
    "**1- Creamos** el imputador con las opciones preferidas, en nuestro caso 2 vecinos, los demás valores los dejamos por defecto:"
   ]
  },
  {
   "cell_type": "code",
   "execution_count": 4,
   "metadata": {
    "ExecuteTime": {
     "end_time": "2021-10-27T23:10:47.197877Z",
     "start_time": "2021-10-27T23:10:47.195487Z"
    }
   },
   "outputs": [],
   "source": [
    "imputador_knn=KNNImputer(n_neighbors=2)"
   ]
  },
  {
   "cell_type": "markdown",
   "metadata": {},
   "source": [
    "**2- Entrenamos** el imputador con el método **fit**, usando los datos del DataFrame:"
   ]
  },
  {
   "cell_type": "code",
   "execution_count": 5,
   "metadata": {
    "ExecuteTime": {
     "end_time": "2021-10-27T23:10:47.289775Z",
     "start_time": "2021-10-27T23:10:47.284654Z"
    }
   },
   "outputs": [
    {
     "data": {
      "text/plain": [
       "KNNImputer(n_neighbors=2)"
      ]
     },
     "execution_count": 5,
     "metadata": {},
     "output_type": "execute_result"
    }
   ],
   "source": [
    "imputador_knn.fit(X_Train)"
   ]
  },
  {
   "cell_type": "markdown",
   "metadata": {},
   "source": [
    "**3- Aplicamos** con **transform** el imputador al conjunto de datos que necesitemos, seguramente al mismo Train , pero en un flujo de Machine Learning también deberíamos hacerlo sobre el Test y en producción sobre cualquier nueva observación que nos llegara para pronosticar."
   ]
  },
  {
   "cell_type": "markdown",
   "metadata": {},
   "source": [
    "### Imputamos en el Train"
   ]
  },
  {
   "cell_type": "code",
   "execution_count": 6,
   "metadata": {
    "ExecuteTime": {
     "end_time": "2021-10-27T23:10:47.479119Z",
     "start_time": "2021-10-27T23:10:47.466869Z"
    }
   },
   "outputs": [
    {
     "data": {
      "text/html": [
       "<div>\n",
       "<style scoped>\n",
       "    .dataframe tbody tr th:only-of-type {\n",
       "        vertical-align: middle;\n",
       "    }\n",
       "\n",
       "    .dataframe tbody tr th {\n",
       "        vertical-align: top;\n",
       "    }\n",
       "\n",
       "    .dataframe thead th {\n",
       "        text-align: right;\n",
       "    }\n",
       "</style>\n",
       "<table border=\"1\" class=\"dataframe\">\n",
       "  <thead>\n",
       "    <tr style=\"text-align: right;\">\n",
       "      <th></th>\n",
       "      <th>x1</th>\n",
       "      <th>x2</th>\n",
       "      <th>x3</th>\n",
       "    </tr>\n",
       "  </thead>\n",
       "  <tbody>\n",
       "    <tr>\n",
       "      <th>0</th>\n",
       "      <td>1.0</td>\n",
       "      <td>3.0</td>\n",
       "      <td>4.0</td>\n",
       "    </tr>\n",
       "    <tr>\n",
       "      <th>1</th>\n",
       "      <td>2.0</td>\n",
       "      <td>3.0</td>\n",
       "      <td>5.0</td>\n",
       "    </tr>\n",
       "    <tr>\n",
       "      <th>2</th>\n",
       "      <td>14.0</td>\n",
       "      <td>10.0</td>\n",
       "      <td>9.0</td>\n",
       "    </tr>\n",
       "    <tr>\n",
       "      <th>3</th>\n",
       "      <td>1.0</td>\n",
       "      <td>2.0</td>\n",
       "      <td>3.0</td>\n",
       "    </tr>\n",
       "    <tr>\n",
       "      <th>4</th>\n",
       "      <td>11.5</td>\n",
       "      <td>12.0</td>\n",
       "      <td>8.0</td>\n",
       "    </tr>\n",
       "    <tr>\n",
       "      <th>5</th>\n",
       "      <td>10.0</td>\n",
       "      <td>13.0</td>\n",
       "      <td>7.0</td>\n",
       "    </tr>\n",
       "    <tr>\n",
       "      <th>6</th>\n",
       "      <td>2.0</td>\n",
       "      <td>4.0</td>\n",
       "      <td>2.0</td>\n",
       "    </tr>\n",
       "    <tr>\n",
       "      <th>7</th>\n",
       "      <td>13.0</td>\n",
       "      <td>10.0</td>\n",
       "      <td>8.0</td>\n",
       "    </tr>\n",
       "  </tbody>\n",
       "</table>\n",
       "</div>"
      ],
      "text/plain": [
       "     x1    x2   x3\n",
       "0   1.0   3.0  4.0\n",
       "1   2.0   3.0  5.0\n",
       "2  14.0  10.0  9.0\n",
       "3   1.0   2.0  3.0\n",
       "4  11.5  12.0  8.0\n",
       "5  10.0  13.0  7.0\n",
       "6   2.0   4.0  2.0\n",
       "7  13.0  10.0  8.0"
      ]
     },
     "execution_count": 6,
     "metadata": {},
     "output_type": "execute_result"
    }
   ],
   "source": [
    "Train_Transformado=imputador_knn.transform(X_Train)\n",
    "# Train_Transformado \n",
    "\n",
    "# Si lo queremos como DataDrame:\n",
    "X_Train_Transformado=pd.DataFrame(Train_Transformado,columns=X_Train.columns)\n",
    "X_Train_Transformado"
   ]
  },
  {
   "cell_type": "markdown",
   "metadata": {},
   "source": [
    "Podemos verificar \"a ojo\" lo que hizo para estar seguros de cómo procedió.   \n",
    "De dónde salió el valor 4 para el valor de x<sub>3</sub> de la primer observación (índice 0)?  \n",
    "\n",
    "Inspeccionando en forma visual, podemos ver que las 2 observaciones más cercanas a la primera son:  \n",
    "\n",
    "- la segunda (índice 1) que tiene un 5 en la columna de x<sub>3</sub>\n",
    "- la cuarta (índice 3) que tiene un 3 en la columna de x<sub>3</sub>\n",
    "\n",
    "por ende calculó el promedio simple entre estos dos valores, que es 4 y lo asignó.   \n",
    "\n",
    "De la misma manera puede verificar cómo asignó el 11.5 al elemento de la columna x<sub>1</sub> de la quinta observación (índice 4).  \n"
   ]
  },
  {
   "cell_type": "markdown",
   "metadata": {
    "ExecuteTime": {
     "end_time": "2020-06-06T18:57:58.397218Z",
     "start_time": "2020-06-06T18:57:58.392234Z"
    }
   },
   "source": [
    "### Imputamos en el Test"
   ]
  },
  {
   "cell_type": "markdown",
   "metadata": {},
   "source": [
    "Si tuviéramos un X_Test al cual aplicarlo, simplemente le aplicaríamos el método **transform**, de la siguiente manera:"
   ]
  },
  {
   "cell_type": "code",
   "execution_count": 7,
   "metadata": {
    "ExecuteTime": {
     "end_time": "2021-10-27T23:10:47.760565Z",
     "start_time": "2021-10-27T23:10:47.752094Z"
    }
   },
   "outputs": [
    {
     "data": {
      "text/html": [
       "<div>\n",
       "<style scoped>\n",
       "    .dataframe tbody tr th:only-of-type {\n",
       "        vertical-align: middle;\n",
       "    }\n",
       "\n",
       "    .dataframe tbody tr th {\n",
       "        vertical-align: top;\n",
       "    }\n",
       "\n",
       "    .dataframe thead th {\n",
       "        text-align: right;\n",
       "    }\n",
       "</style>\n",
       "<table border=\"1\" class=\"dataframe\">\n",
       "  <thead>\n",
       "    <tr style=\"text-align: right;\">\n",
       "      <th></th>\n",
       "      <th>x1</th>\n",
       "      <th>x2</th>\n",
       "      <th>x3</th>\n",
       "    </tr>\n",
       "  </thead>\n",
       "  <tbody>\n",
       "    <tr>\n",
       "      <th>0</th>\n",
       "      <td>4.5</td>\n",
       "      <td>2.0</td>\n",
       "      <td>NaN</td>\n",
       "    </tr>\n",
       "    <tr>\n",
       "      <th>1</th>\n",
       "      <td>3.0</td>\n",
       "      <td>3.0</td>\n",
       "      <td>3.0</td>\n",
       "    </tr>\n",
       "    <tr>\n",
       "      <th>2</th>\n",
       "      <td>10.0</td>\n",
       "      <td>NaN</td>\n",
       "      <td>12.0</td>\n",
       "    </tr>\n",
       "  </tbody>\n",
       "</table>\n",
       "</div>"
      ],
      "text/plain": [
       "     x1   x2    x3\n",
       "0   4.5  2.0   NaN\n",
       "1   3.0  3.0   3.0\n",
       "2  10.0  NaN  12.0"
      ]
     },
     "execution_count": 7,
     "metadata": {},
     "output_type": "execute_result"
    }
   ],
   "source": [
    "# supongamos que el siguiente sea el X_Test\n",
    "X_Test=pd.DataFrame([[4.5,2,np.nan],[3,3,3],[10,np.nan,12]])\n",
    "X_Test.columns=X_Train.columns\n",
    "X_Test"
   ]
  },
  {
   "cell_type": "code",
   "execution_count": 8,
   "metadata": {
    "ExecuteTime": {
     "end_time": "2021-10-27T21:18:43.048376Z",
     "start_time": "2021-10-27T21:18:43.034293Z"
    }
   },
   "outputs": [
    {
     "data": {
      "text/html": [
       "<div>\n",
       "<style scoped>\n",
       "    .dataframe tbody tr th:only-of-type {\n",
       "        vertical-align: middle;\n",
       "    }\n",
       "\n",
       "    .dataframe tbody tr th {\n",
       "        vertical-align: top;\n",
       "    }\n",
       "\n",
       "    .dataframe thead th {\n",
       "        text-align: right;\n",
       "    }\n",
       "</style>\n",
       "<table border=\"1\" class=\"dataframe\">\n",
       "  <thead>\n",
       "    <tr style=\"text-align: right;\">\n",
       "      <th></th>\n",
       "      <th>x1</th>\n",
       "      <th>x2</th>\n",
       "      <th>x3</th>\n",
       "    </tr>\n",
       "  </thead>\n",
       "  <tbody>\n",
       "    <tr>\n",
       "      <th>0</th>\n",
       "      <td>4.5</td>\n",
       "      <td>2.0</td>\n",
       "      <td>3.5</td>\n",
       "    </tr>\n",
       "    <tr>\n",
       "      <th>1</th>\n",
       "      <td>3.0</td>\n",
       "      <td>3.0</td>\n",
       "      <td>3.0</td>\n",
       "    </tr>\n",
       "    <tr>\n",
       "      <th>2</th>\n",
       "      <td>10.0</td>\n",
       "      <td>11.5</td>\n",
       "      <td>12.0</td>\n",
       "    </tr>\n",
       "  </tbody>\n",
       "</table>\n",
       "</div>"
      ],
      "text/plain": [
       "     x1    x2    x3\n",
       "0   4.5   2.0   3.5\n",
       "1   3.0   3.0   3.0\n",
       "2  10.0  11.5  12.0"
      ]
     },
     "execution_count": 8,
     "metadata": {},
     "output_type": "execute_result"
    }
   ],
   "source": [
    "# efectuamos la imputación\n",
    "Test_Transformado=imputador_knn.transform(X_Test)\n",
    "\n",
    "# Lo pasamos a un DataFrame por si lo necesitáramos en ese formato.\n",
    "X_Test_Transformado=pd.DataFrame(Test_Transformado, columns=X_Test.columns)\n",
    "X_Test_Transformado"
   ]
  },
  {
   "cell_type": "markdown",
   "metadata": {},
   "source": [
    "### OBSERVACIONES IMPORTANTES: \n",
    "\n",
    "> Fíjese que por ser kNN un método que *no aprende* sino que se vuelven a utilizar todas las observaciones en cada imputación, por defecto imputó al valor de x<sub>2</sub> faltante en la última observación del Test Set o en la nueva_observación, aunque en el Train Set no habíamos tenido que efectuar ningún pronóstico en esa columna.\n",
    "\n",
    "> Por otro lado, como kNN *no aprende*, no nos olvidemos que **es lento**, y que aún en producción ingresando de a una nueva observación por vez, como podría ser el caso de un problema online, deberá reutilizar todo el Train Set para imputar los missing values!"
   ]
  },
  {
   "cell_type": "markdown",
   "metadata": {},
   "source": [
    "#### Pregunta:  \n",
    "\n",
    "En una aplicación que debe pronosticar nuevas observaciones que ingresan en producción y en tiempo real, qué imputación para los missing values  propondría realizar?\n"
   ]
  },
  {
   "cell_type": "code",
   "execution_count": null,
   "metadata": {},
   "outputs": [],
   "source": []
  },
  {
   "cell_type": "markdown",
   "metadata": {},
   "source": [
    "#### Respuesta:  \n",
    "\n",
    "La media, la mediana, o un valor constante si es un problema de Regresión y la moda o un valor constante en el caso de Clasificación, calculados sobre todo el dataset disponible. Estos valores estadísticos se calculan una única vez sobre el X, y se utilizan muy velozmente, en cambio kNN debería efectuar los cálculos de distancia sobre todas las observaciones del X para cada nueva observación que ingresara."
   ]
  },
  {
   "cell_type": "markdown",
   "metadata": {},
   "source": [
    "En Scikit-Learn:\n",
    "\n",
    "> El imputador kNNImputer puede usarse de la misma manera que el SimpleImputer y utilizarlo dentro de un **ColumnTransformer**."
   ]
  },
  {
   "cell_type": "markdown",
   "metadata": {},
   "source": [
    "#### Pregunta\n",
    "\n",
    "Supongamos que queremos imputar un NaN en una columna donde ya hay otros NaN correspondientes a otras observaciones, funciona igual kNN?  \n",
    "\n",
    "\n",
    "\n"
   ]
  },
  {
   "cell_type": "markdown",
   "metadata": {},
   "source": [
    "#### Respuesta  \n",
    "\n",
    "Si.  \n",
    "\n",
    "Al principio comentábamos que no se podía utilizar *cualquier* modelo para imputar missing values porque tenía que ser un método *inmune* a los missing values, ahora quiero aclararle que nos referíamos a la posible presencia de varios missing values en las mismas columnas donde deseamos pronosticar otros missing values, es decir que el método también funcionaría bien en dataframes como el siguiente, donde tenemos varios np.nan en cada columna!\n"
   ]
  },
  {
   "cell_type": "code",
   "execution_count": 9,
   "metadata": {
    "ExecuteTime": {
     "end_time": "2021-10-27T21:19:14.181500Z",
     "start_time": "2021-10-27T21:19:14.158179Z"
    }
   },
   "outputs": [
    {
     "data": {
      "text/html": [
       "<div>\n",
       "<style scoped>\n",
       "    .dataframe tbody tr th:only-of-type {\n",
       "        vertical-align: middle;\n",
       "    }\n",
       "\n",
       "    .dataframe tbody tr th {\n",
       "        vertical-align: top;\n",
       "    }\n",
       "\n",
       "    .dataframe thead th {\n",
       "        text-align: right;\n",
       "    }\n",
       "</style>\n",
       "<table border=\"1\" class=\"dataframe\">\n",
       "  <thead>\n",
       "    <tr style=\"text-align: right;\">\n",
       "      <th></th>\n",
       "      <th>x1</th>\n",
       "      <th>x2</th>\n",
       "      <th>x3</th>\n",
       "    </tr>\n",
       "  </thead>\n",
       "  <tbody>\n",
       "    <tr>\n",
       "      <th>0</th>\n",
       "      <td>1.0</td>\n",
       "      <td>3.0</td>\n",
       "      <td>NaN</td>\n",
       "    </tr>\n",
       "    <tr>\n",
       "      <th>1</th>\n",
       "      <td>2.0</td>\n",
       "      <td>3.0</td>\n",
       "      <td>5.0</td>\n",
       "    </tr>\n",
       "    <tr>\n",
       "      <th>2</th>\n",
       "      <td>14.0</td>\n",
       "      <td>10.0</td>\n",
       "      <td>9.0</td>\n",
       "    </tr>\n",
       "    <tr>\n",
       "      <th>3</th>\n",
       "      <td>1.0</td>\n",
       "      <td>NaN</td>\n",
       "      <td>3.0</td>\n",
       "    </tr>\n",
       "    <tr>\n",
       "      <th>4</th>\n",
       "      <td>NaN</td>\n",
       "      <td>12.0</td>\n",
       "      <td>8.0</td>\n",
       "    </tr>\n",
       "    <tr>\n",
       "      <th>5</th>\n",
       "      <td>10.0</td>\n",
       "      <td>13.0</td>\n",
       "      <td>NaN</td>\n",
       "    </tr>\n",
       "    <tr>\n",
       "      <th>6</th>\n",
       "      <td>NaN</td>\n",
       "      <td>4.0</td>\n",
       "      <td>2.0</td>\n",
       "    </tr>\n",
       "    <tr>\n",
       "      <th>7</th>\n",
       "      <td>13.0</td>\n",
       "      <td>10.0</td>\n",
       "      <td>8.0</td>\n",
       "    </tr>\n",
       "  </tbody>\n",
       "</table>\n",
       "</div>"
      ],
      "text/plain": [
       "     x1    x2   x3\n",
       "0   1.0   3.0  NaN\n",
       "1   2.0   3.0  5.0\n",
       "2  14.0  10.0  9.0\n",
       "3   1.0   NaN  3.0\n",
       "4   NaN  12.0  8.0\n",
       "5  10.0  13.0  NaN\n",
       "6   NaN   4.0  2.0\n",
       "7  13.0  10.0  8.0"
      ]
     },
     "execution_count": 9,
     "metadata": {},
     "output_type": "execute_result"
    }
   ],
   "source": [
    "X_Train2=pd.DataFrame([[1,3, np.nan],[2,3,5],[14,10,9],[1,np.nan,3],[np.nan,12,8],[10,13,np.nan],[np.nan,4,2],[13,10,8]])\n",
    "X_Train2.columns=['x1','x2','x3']\n",
    "X_Train2"
   ]
  },
  {
   "cell_type": "markdown",
   "metadata": {
    "ExecuteTime": {
     "end_time": "2020-06-08T21:17:17.741645Z",
     "start_time": "2020-06-08T21:17:17.738665Z"
    }
   },
   "source": [
    "\n",
    "\n"
   ]
  },
  {
   "cell_type": "code",
   "execution_count": null,
   "metadata": {
    "ExecuteTime": {
     "end_time": "2020-06-06T18:33:36.993613Z",
     "start_time": "2020-06-06T18:33:36.990609Z"
    }
   },
   "outputs": [],
   "source": []
  },
  {
   "cell_type": "code",
   "execution_count": null,
   "metadata": {},
   "outputs": [],
   "source": []
  }
 ],
 "metadata": {
  "hide_input": false,
  "kernelspec": {
   "display_name": "Python 3",
   "language": "python",
   "name": "python3"
  },
  "language_info": {
   "codemirror_mode": {
    "name": "ipython",
    "version": 3
   },
   "file_extension": ".py",
   "mimetype": "text/x-python",
   "name": "python",
   "nbconvert_exporter": "python",
   "pygments_lexer": "ipython3",
   "version": "3.8.5"
  },
  "latex_envs": {
   "LaTeX_envs_menu_present": true,
   "autoclose": false,
   "autocomplete": true,
   "bibliofile": "biblio.bib",
   "cite_by": "apalike",
   "current_citInitial": 1,
   "eqLabelWithNumbers": true,
   "eqNumInitial": 1,
   "hotkeys": {
    "equation": "Ctrl-E",
    "itemize": "Ctrl-I"
   },
   "labels_anchors": false,
   "latex_user_defs": false,
   "report_style_numbering": false,
   "user_envs_cfg": false
  },
  "toc": {
   "base_numbering": 1,
   "nav_menu": {},
   "number_sections": true,
   "sideBar": true,
   "skip_h1_title": true,
   "title_cell": "Tabla de Contenidos",
   "title_sidebar": "Contenidos",
   "toc_cell": true,
   "toc_position": {
    "height": "calc(100% - 180px)",
    "left": "10px",
    "top": "150px",
    "width": "165.396px"
   },
   "toc_section_display": true,
   "toc_window_display": true
  },
  "varInspector": {
   "cols": {
    "lenName": 16,
    "lenType": 16,
    "lenVar": 40
   },
   "kernels_config": {
    "python": {
     "delete_cmd_postfix": "",
     "delete_cmd_prefix": "del ",
     "library": "var_list.py",
     "varRefreshCmd": "print(var_dic_list())"
    },
    "r": {
     "delete_cmd_postfix": ") ",
     "delete_cmd_prefix": "rm(",
     "library": "var_list.r",
     "varRefreshCmd": "cat(var_dic_list()) "
    }
   },
   "types_to_exclude": [
    "module",
    "function",
    "builtin_function_or_method",
    "instance",
    "_Feature"
   ],
   "window_display": false
  }
 },
 "nbformat": 4,
 "nbformat_minor": 4
}
