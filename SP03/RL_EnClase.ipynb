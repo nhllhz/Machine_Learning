{
 "cells": [
  {
   "cell_type": "code",
   "execution_count": null,
   "metadata": {},
   "outputs": [],
   "source": []
  },
  {
   "cell_type": "code",
   "execution_count": 1,
   "metadata": {
    "ExecuteTime": {
     "end_time": "2021-09-29T22:56:01.386271Z",
     "start_time": "2021-09-29T22:56:00.996222Z"
    }
   },
   "outputs": [],
   "source": [
    "import pandas as pd\n",
    "import numpy as np"
   ]
  },
  {
   "cell_type": "code",
   "execution_count": 2,
   "metadata": {
    "ExecuteTime": {
     "end_time": "2021-09-29T22:56:29.201533Z",
     "start_time": "2021-09-29T22:56:29.173572Z"
    }
   },
   "outputs": [
    {
     "data": {
      "text/html": [
       "<div>\n",
       "<style scoped>\n",
       "    .dataframe tbody tr th:only-of-type {\n",
       "        vertical-align: middle;\n",
       "    }\n",
       "\n",
       "    .dataframe tbody tr th {\n",
       "        vertical-align: top;\n",
       "    }\n",
       "\n",
       "    .dataframe thead th {\n",
       "        text-align: right;\n",
       "    }\n",
       "</style>\n",
       "<table border=\"1\" class=\"dataframe\">\n",
       "  <thead>\n",
       "    <tr style=\"text-align: right;\">\n",
       "      <th></th>\n",
       "      <th>User ID</th>\n",
       "      <th>Gender</th>\n",
       "      <th>Age</th>\n",
       "      <th>EstimatedSalary</th>\n",
       "      <th>Purchased</th>\n",
       "    </tr>\n",
       "  </thead>\n",
       "  <tbody>\n",
       "    <tr>\n",
       "      <th>0</th>\n",
       "      <td>15624510</td>\n",
       "      <td>Male</td>\n",
       "      <td>19</td>\n",
       "      <td>19000</td>\n",
       "      <td>0</td>\n",
       "    </tr>\n",
       "    <tr>\n",
       "      <th>1</th>\n",
       "      <td>15810944</td>\n",
       "      <td>Male</td>\n",
       "      <td>35</td>\n",
       "      <td>20000</td>\n",
       "      <td>0</td>\n",
       "    </tr>\n",
       "    <tr>\n",
       "      <th>2</th>\n",
       "      <td>15668575</td>\n",
       "      <td>Female</td>\n",
       "      <td>26</td>\n",
       "      <td>43000</td>\n",
       "      <td>0</td>\n",
       "    </tr>\n",
       "    <tr>\n",
       "      <th>3</th>\n",
       "      <td>15603246</td>\n",
       "      <td>Female</td>\n",
       "      <td>27</td>\n",
       "      <td>57000</td>\n",
       "      <td>0</td>\n",
       "    </tr>\n",
       "    <tr>\n",
       "      <th>4</th>\n",
       "      <td>15804002</td>\n",
       "      <td>Male</td>\n",
       "      <td>19</td>\n",
       "      <td>76000</td>\n",
       "      <td>0</td>\n",
       "    </tr>\n",
       "    <tr>\n",
       "      <th>...</th>\n",
       "      <td>...</td>\n",
       "      <td>...</td>\n",
       "      <td>...</td>\n",
       "      <td>...</td>\n",
       "      <td>...</td>\n",
       "    </tr>\n",
       "    <tr>\n",
       "      <th>395</th>\n",
       "      <td>15691863</td>\n",
       "      <td>Female</td>\n",
       "      <td>46</td>\n",
       "      <td>41000</td>\n",
       "      <td>1</td>\n",
       "    </tr>\n",
       "    <tr>\n",
       "      <th>396</th>\n",
       "      <td>15706071</td>\n",
       "      <td>Male</td>\n",
       "      <td>51</td>\n",
       "      <td>23000</td>\n",
       "      <td>1</td>\n",
       "    </tr>\n",
       "    <tr>\n",
       "      <th>397</th>\n",
       "      <td>15654296</td>\n",
       "      <td>Female</td>\n",
       "      <td>50</td>\n",
       "      <td>20000</td>\n",
       "      <td>1</td>\n",
       "    </tr>\n",
       "    <tr>\n",
       "      <th>398</th>\n",
       "      <td>15755018</td>\n",
       "      <td>Male</td>\n",
       "      <td>36</td>\n",
       "      <td>33000</td>\n",
       "      <td>0</td>\n",
       "    </tr>\n",
       "    <tr>\n",
       "      <th>399</th>\n",
       "      <td>15594041</td>\n",
       "      <td>Female</td>\n",
       "      <td>49</td>\n",
       "      <td>36000</td>\n",
       "      <td>1</td>\n",
       "    </tr>\n",
       "  </tbody>\n",
       "</table>\n",
       "<p>400 rows × 5 columns</p>\n",
       "</div>"
      ],
      "text/plain": [
       "      User ID  Gender  Age  EstimatedSalary  Purchased\n",
       "0    15624510    Male   19            19000          0\n",
       "1    15810944    Male   35            20000          0\n",
       "2    15668575  Female   26            43000          0\n",
       "3    15603246  Female   27            57000          0\n",
       "4    15804002    Male   19            76000          0\n",
       "..        ...     ...  ...              ...        ...\n",
       "395  15691863  Female   46            41000          1\n",
       "396  15706071    Male   51            23000          1\n",
       "397  15654296  Female   50            20000          1\n",
       "398  15755018    Male   36            33000          0\n",
       "399  15594041  Female   49            36000          1\n",
       "\n",
       "[400 rows x 5 columns]"
      ]
     },
     "execution_count": 2,
     "metadata": {},
     "output_type": "execute_result"
    }
   ],
   "source": [
    "df=pd.read_csv('data/Social_Network_Ads.csv')\n",
    "df"
   ]
  },
  {
   "cell_type": "code",
   "execution_count": 24,
   "metadata": {
    "ExecuteTime": {
     "end_time": "2021-09-29T23:13:46.905998Z",
     "start_time": "2021-09-29T23:13:46.900013Z"
    }
   },
   "outputs": [],
   "source": [
    "X=df[['Age','EstimatedSalary']]\n",
    "y=df['Purchased']\n"
   ]
  },
  {
   "cell_type": "code",
   "execution_count": 8,
   "metadata": {
    "ExecuteTime": {
     "end_time": "2021-09-29T23:07:58.493400Z",
     "start_time": "2021-09-29T23:07:58.489373Z"
    }
   },
   "outputs": [],
   "source": [
    "from sklearn.model_selection import train_test_split\n",
    "from sklearn.linear_model import LogisticRegression"
   ]
  },
  {
   "cell_type": "code",
   "execution_count": 25,
   "metadata": {
    "ExecuteTime": {
     "end_time": "2021-09-29T23:13:50.898493Z",
     "start_time": "2021-09-29T23:13:50.892535Z"
    }
   },
   "outputs": [],
   "source": [
    "X_train, X_test,y_train, y_test=train_test_split(X,y, test_size=0.2, random_state=123)"
   ]
  },
  {
   "cell_type": "code",
   "execution_count": 39,
   "metadata": {
    "ExecuteTime": {
     "end_time": "2021-09-29T23:24:12.445425Z",
     "start_time": "2021-09-29T23:24:12.441420Z"
    }
   },
   "outputs": [],
   "source": [
    "modelo=LogisticRegression(penalty='none', random_state=123)"
   ]
  },
  {
   "cell_type": "code",
   "execution_count": 40,
   "metadata": {
    "ExecuteTime": {
     "end_time": "2021-09-29T23:24:14.434646Z",
     "start_time": "2021-09-29T23:24:14.419681Z"
    }
   },
   "outputs": [
    {
     "data": {
      "text/plain": [
       "LogisticRegression(penalty='none', random_state=123)"
      ]
     },
     "execution_count": 40,
     "metadata": {},
     "output_type": "execute_result"
    }
   ],
   "source": [
    "modelo.fit(X_train,y_train)"
   ]
  },
  {
   "cell_type": "code",
   "execution_count": 41,
   "metadata": {
    "ExecuteTime": {
     "end_time": "2021-09-29T23:24:16.648181Z",
     "start_time": "2021-09-29T23:24:16.639224Z"
    }
   },
   "outputs": [
    {
     "data": {
      "text/plain": [
       "0.625"
      ]
     },
     "execution_count": 41,
     "metadata": {},
     "output_type": "execute_result"
    }
   ],
   "source": [
    "ACC=modelo.score(X_test,y_test)\n",
    "ACC"
   ]
  },
  {
   "cell_type": "code",
   "execution_count": 31,
   "metadata": {
    "ExecuteTime": {
     "end_time": "2021-09-29T23:18:55.365144Z",
     "start_time": "2021-09-29T23:18:55.357166Z"
    }
   },
   "outputs": [
    {
     "data": {
      "text/plain": [
       "array([0, 0, 0, 0, 0, 0, 0, 0, 0, 0, 0, 0, 0, 0, 0, 0, 0, 0, 0, 0, 0, 0,\n",
       "       0, 0, 0, 0, 0, 0, 0, 0, 0, 0, 0, 0, 0, 0, 0, 0, 0, 0, 0, 0, 0, 0,\n",
       "       0, 0, 0, 0, 0, 0, 0, 0, 0, 0, 0, 0, 0, 0, 0, 0, 0, 0, 0, 0, 0, 0,\n",
       "       0, 0, 0, 0, 0, 0, 0, 0, 0, 0, 0, 0, 0, 0], dtype=int64)"
      ]
     },
     "execution_count": 31,
     "metadata": {},
     "output_type": "execute_result"
    }
   ],
   "source": [
    "modelo.predict(X_test)"
   ]
  },
  {
   "cell_type": "code",
   "execution_count": 44,
   "metadata": {
    "ExecuteTime": {
     "end_time": "2021-09-29T23:26:50.777541Z",
     "start_time": "2021-09-29T23:26:50.769370Z"
    }
   },
   "outputs": [
    {
     "data": {
      "text/plain": [
       "array([[0.5881269 , 0.4118731 ],\n",
       "       [0.58504168, 0.41495832],\n",
       "       [0.56248849, 0.43751151],\n",
       "       [0.51192504, 0.48807496],\n",
       "       [0.5515015 , 0.4484985 ],\n",
       "       [0.53967398, 0.46032602],\n",
       "       [0.5459884 , 0.4540116 ],\n",
       "       [0.6080024 , 0.3919976 ],\n",
       "       [0.56874006, 0.43125994],\n",
       "       [0.59120519, 0.40879481],\n",
       "       [0.53413831, 0.46586169],\n",
       "       [0.5617056 , 0.4382944 ],\n",
       "       [0.55150152, 0.44849848],\n",
       "       [0.53492965, 0.46507035],\n",
       "       [0.54756479, 0.45243521],\n",
       "       [0.55700199, 0.44299801],\n",
       "       [0.56639815, 0.43360185],\n",
       "       [0.52621594, 0.47378406],\n",
       "       [0.54046402, 0.45953598],\n",
       "       [0.5515015 , 0.4484985 ],\n",
       "       [0.51748622, 0.48251378],\n",
       "       [0.54914022, 0.45085978],\n",
       "       [0.5135143 , 0.4864857 ],\n",
       "       [0.59274167, 0.40725833],\n",
       "       [0.56327105, 0.43672895],\n",
       "       [0.6057259 , 0.3942741 ],\n",
       "       [0.54125385, 0.45874615],\n",
       "       [0.61178608, 0.38821392],\n",
       "       [0.54677672, 0.45322328],\n",
       "       [0.55935512, 0.44064488],\n",
       "       [0.59043628, 0.40956372],\n",
       "       [0.56795975, 0.43204025],\n",
       "       [0.51669202, 0.48330798],\n",
       "       [0.52066216, 0.47933784],\n",
       "       [0.54835263, 0.45164737],\n",
       "       [0.61254119, 0.38745881],\n",
       "       [0.56248848, 0.43751152],\n",
       "       [0.55150151, 0.44849849],\n",
       "       [0.58812689, 0.41187311],\n",
       "       [0.55778665, 0.44221335],\n",
       "       [0.56327106, 0.43672894],\n",
       "       [0.54992756, 0.45007244],\n",
       "       [0.55857102, 0.44142898],\n",
       "       [0.5593551 , 0.4406449 ],\n",
       "       [0.57496982, 0.42503018],\n",
       "       [0.52224955, 0.47775045],\n",
       "       [0.55700197, 0.44299803],\n",
       "       [0.61630871, 0.38369129],\n",
       "       [0.52621596, 0.47378404],\n",
       "       [0.54125387, 0.45874613],\n",
       "       [0.52224957, 0.47775043],\n",
       "       [0.54677671, 0.45322329],\n",
       "       [0.55857105, 0.44142895],\n",
       "       [0.58426934, 0.41573066],\n",
       "       [0.56952003, 0.43047997],\n",
       "       [0.51828037, 0.48171963],\n",
       "       [0.51430884, 0.48569116],\n",
       "       [0.60724407, 0.39275593],\n",
       "       [0.5341383 , 0.4658617 ],\n",
       "       [0.53888371, 0.46111629],\n",
       "       [0.60724406, 0.39275594],\n",
       "       [0.51748624, 0.48251376],\n",
       "       [0.59197366, 0.40802634],\n",
       "       [0.60420572, 0.39579428],\n",
       "       [0.5325551 , 0.4674449 ],\n",
       "       [0.56952002, 0.43047998],\n",
       "       [0.55700197, 0.44299803],\n",
       "       [0.61706057, 0.38293943],\n",
       "       [0.57029959, 0.42970041],\n",
       "       [0.51192503, 0.48807497],\n",
       "       [0.51828033, 0.48171967],\n",
       "       [0.57107888, 0.42892112],\n",
       "       [0.53334679, 0.46665321],\n",
       "       [0.56561687, 0.43438313],\n",
       "       [0.61404986, 0.38595014],\n",
       "       [0.52700883, 0.47299117],\n",
       "       [0.60496606, 0.39503394],\n",
       "       [0.52383649, 0.47616351],\n",
       "       [0.56327107, 0.43672893],\n",
       "       [0.59274169, 0.40725831]])"
      ]
     },
     "execution_count": 44,
     "metadata": {},
     "output_type": "execute_result"
    }
   ],
   "source": [
    "probas=modelo.predict_proba(X_test)\n",
    "probas"
   ]
  },
  {
   "cell_type": "code",
   "execution_count": 56,
   "metadata": {
    "ExecuteTime": {
     "end_time": "2021-09-29T23:32:59.011551Z",
     "start_time": "2021-09-29T23:32:59.007560Z"
    }
   },
   "outputs": [],
   "source": []
  },
  {
   "cell_type": "code",
   "execution_count": 98,
   "metadata": {
    "ExecuteTime": {
     "end_time": "2021-09-29T23:44:43.943536Z",
     "start_time": "2021-09-29T23:44:43.932564Z"
    }
   },
   "outputs": [
    {
     "name": "stdout",
     "output_type": "stream",
     "text": [
      "0.5875\n"
     ]
    },
    {
     "data": {
      "text/plain": [
       "array([[41,  9],\n",
       "       [24,  6]], dtype=int64)"
      ]
     },
     "execution_count": 98,
     "metadata": {},
     "output_type": "execute_result"
    }
   ],
   "source": [
    "umbral_0=0.527 # que pronostique 0 si la probabilidad es mayor que 0.57\n",
    "y_pred_umbral=[]\n",
    "\n",
    "for i in np.arange(0,probas.shape[0]):\n",
    "    if probas[i][0]>umbral_0:\n",
    "        y_pred_agregar=0\n",
    "    else:\n",
    "        y_pred_agregar=1\n",
    "    \n",
    "    y_pred_umbral.append(y_pred_agregar)\n",
    "    \n",
    "from sklearn.metrics import accuracy_score\n",
    "from sklearn.metrics import confusion_matrix\n",
    "ACC_umbral=accuracy_score(y_test,y_pred_umbral)\n",
    "print(ACC_umbral)\n",
    "confusion_matrix(y_test,y_pred_umbral)"
   ]
  },
  {
   "cell_type": "code",
   "execution_count": 58,
   "metadata": {
    "ExecuteTime": {
     "end_time": "2021-09-29T23:33:03.624690Z",
     "start_time": "2021-09-29T23:33:03.618679Z"
    }
   },
   "outputs": [
    {
     "data": {
      "text/plain": [
       "0.3125"
      ]
     },
     "execution_count": 58,
     "metadata": {},
     "output_type": "execute_result"
    }
   ],
   "source": []
  },
  {
   "cell_type": "code",
   "execution_count": null,
   "metadata": {},
   "outputs": [],
   "source": []
  }
 ],
 "metadata": {
  "hide_input": false,
  "kernelspec": {
   "display_name": "Python 3",
   "language": "python",
   "name": "python3"
  },
  "language_info": {
   "codemirror_mode": {
    "name": "ipython",
    "version": 3
   },
   "file_extension": ".py",
   "mimetype": "text/x-python",
   "name": "python",
   "nbconvert_exporter": "python",
   "pygments_lexer": "ipython3",
   "version": "3.8.5"
  },
  "toc": {
   "base_numbering": 1,
   "nav_menu": {},
   "number_sections": true,
   "sideBar": true,
   "skip_h1_title": true,
   "title_cell": "Tabla de Contenidos",
   "title_sidebar": "Contenidos",
   "toc_cell": false,
   "toc_position": {
    "height": "calc(100% - 180px)",
    "left": "10px",
    "top": "150px",
    "width": "165px"
   },
   "toc_section_display": true,
   "toc_window_display": true
  },
  "varInspector": {
   "cols": {
    "lenName": 16,
    "lenType": 16,
    "lenVar": 40
   },
   "kernels_config": {
    "python": {
     "delete_cmd_postfix": "",
     "delete_cmd_prefix": "del ",
     "library": "var_list.py",
     "varRefreshCmd": "print(var_dic_list())"
    },
    "r": {
     "delete_cmd_postfix": ") ",
     "delete_cmd_prefix": "rm(",
     "library": "var_list.r",
     "varRefreshCmd": "cat(var_dic_list()) "
    }
   },
   "types_to_exclude": [
    "module",
    "function",
    "builtin_function_or_method",
    "instance",
    "_Feature"
   ],
   "window_display": false
  }
 },
 "nbformat": 4,
 "nbformat_minor": 5
}
