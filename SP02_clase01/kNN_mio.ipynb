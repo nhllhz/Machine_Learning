{
 "cells": [
  {
   "cell_type": "code",
   "execution_count": 20,
   "metadata": {},
   "outputs": [],
   "source": [
    "import pandas as pd \n",
    "import numpy as np\n",
    "from sklearn.model_selection import train_test_split\n",
    "from sklearn import neighbors\n",
    "from sklearn.metrics import mean_squared_error, r2_score\n"
   ]
  },
  {
   "cell_type": "code",
   "execution_count": 21,
   "metadata": {},
   "outputs": [
    {
     "name": "stdout",
     "output_type": "stream",
     "text": [
      "<class 'pandas.core.frame.DataFrame'>\n",
      "RangeIndex: 442 entries, 0 to 441\n",
      "Data columns (total 4 columns):\n",
      " #   Column  Non-Null Count  Dtype  \n",
      "---  ------  --------------  -----  \n",
      " 0   y       442 non-null    float64\n",
      " 1   x1      442 non-null    float64\n",
      " 2   x2      442 non-null    float64\n",
      " 3   x3      442 non-null    float64\n",
      "dtypes: float64(4)\n",
      "memory usage: 13.9 KB\n"
     ]
    }
   ],
   "source": [
    "df=pd.read_csv('data/diabetes_3variables.csv')\n",
    "df.info()"
   ]
  },
  {
   "cell_type": "code",
   "execution_count": 22,
   "metadata": {},
   "outputs": [],
   "source": [
    "df_train, df_test = train_test_split(df, test_size=0.2,random_state=123)\n",
    "x_train=df_train [[ \"x1\",\"x2\",\"x3\" ]]\n",
    "y_train= df_train[[\"y\"]]\n",
    "x_test=df_test[[ \"x1\",\"x2\",\"x3\" ]]\n",
    "y_test=df_test[[\"y\"]]"
   ]
  },
  {
   "cell_type": "code",
   "execution_count": 23,
   "metadata": {},
   "outputs": [],
   "source": [
    "#Creo modelo y parametros\n",
    "\n",
    "k=5\n",
    "\n",
    "modeloU=neighbors.KNeighborsRegressor(n_neighbors=k,weights='uniform')\n"
   ]
  },
  {
   "cell_type": "code",
   "execution_count": 26,
   "metadata": {},
   "outputs": [],
   "source": [
    "modeloU.fit(x_train, y_train)\n",
    "y_pred=modeloU.predict(x_test)"
   ]
  },
  {
   "cell_type": "code",
   "execution_count": 29,
   "metadata": {},
   "outputs": [
    {
     "name": "stdout",
     "output_type": "stream",
     "text": [
      "EVALUACIÓN del modelo kNN con peso uniforme: \n",
      "Coeficiente de Determinación R2:  0.391\n",
      "MSE:  3834.863\n",
      "RMSE:  61.926\n"
     ]
    }
   ],
   "source": [
    "print(\"EVALUACIÓN del modelo kNN con peso uniforme: \")\n",
    "print(\"Coeficiente de Determinación R2: \",round(modeloU.score(x_test,y_test),3)) # evaluamos el modelo\n",
    "MSE=mean_squared_error(y_test, y_pred)\n",
    "print(\"MSE: \",round(MSE,3))\n",
    "RMSE=mean_squared_error(y_test, y_pred,squared=False)\n",
    "print(\"RMSE: \",round(RMSE,3))"
   ]
  },
  {
   "cell_type": "code",
   "execution_count": null,
   "metadata": {},
   "outputs": [],
   "source": []
  },
  {
   "cell_type": "code",
   "execution_count": 31,
   "metadata": {},
   "outputs": [],
   "source": [
    "modeloW = neighbors.KNeighborsRegressor(n_neighbors=k,weights=\"distance\")\n",
    "modeloW.fit(x_train, y_train)\n",
    "y_pred=modeloW.predict(x_test)"
   ]
  },
  {
   "cell_type": "code",
   "execution_count": 32,
   "metadata": {},
   "outputs": [
    {
     "name": "stdout",
     "output_type": "stream",
     "text": [
      "EVALUACIÓN del modelo kNN con peso: \n",
      "Coeficiente de Determinación R2:  0.391\n",
      "MSE:  3897.563\n",
      "RMSE:  62.43\n"
     ]
    }
   ],
   "source": [
    "print(\"EVALUACIÓN del modelo kNN con peso: \")\n",
    "print(\"Coeficiente de Determinación R2: \",round(modeloU.score(x_test,y_test),3)) # evaluamos el modelo\n",
    "MSE=mean_squared_error(y_test, y_pred)\n",
    "print(\"MSE: \",round(MSE,3))\n",
    "RMSE=mean_squared_error(y_test, y_pred,squared=False)\n",
    "print(\"RMSE: \",round(RMSE,3))"
   ]
  },
  {
   "cell_type": "code",
   "execution_count": null,
   "metadata": {},
   "outputs": [],
   "source": []
  }
 ],
 "metadata": {
  "kernelspec": {
   "display_name": "Python 3",
   "language": "python",
   "name": "python3"
  },
  "language_info": {
   "codemirror_mode": {
    "name": "ipython",
    "version": 3
   },
   "file_extension": ".py",
   "mimetype": "text/x-python",
   "name": "python",
   "nbconvert_exporter": "python",
   "pygments_lexer": "ipython3",
   "version": "3.8.5"
  }
 },
 "nbformat": 4,
 "nbformat_minor": 4
}
