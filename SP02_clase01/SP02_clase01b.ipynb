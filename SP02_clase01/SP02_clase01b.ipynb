{
 "cells": [
  {
   "cell_type": "markdown",
   "metadata": {},
   "source": [
    "# SP02_Clase01b "
   ]
  },
  {
   "cell_type": "markdown",
   "metadata": {},
   "source": [
    "# k-NN con Scikit-Learn para Clasificación"
   ]
  },
  {
   "cell_type": "markdown",
   "metadata": {},
   "source": [
    "Como siempre vamos a aplicar nuestro esquema de trabajo:  \n",
    "\n",
    "- **Datos**\n",
    "    - Carga de Datos\n",
    "    - Train y Test Sets\n",
    "    - Adaptación de los Datos para Scikit-Learn \n",
    "        - **X | y** por separado\n",
    "        - deben ser de dimensión 2 (filas y columnas)\n",
    "    \n",
    "\n",
    "- **Modelo**\n",
    "    - Creación del Modelo\n",
    "    - Training con fit\n",
    "    - Parámetros del modelo (si los tiene!)  o visualización en el caso del Árbol.\n",
    "    \n",
    "\n",
    "- **Evaluación** del Modelo según corresponda\n",
    "    - Clasificación:\n",
    "        - Accuracy\n",
    "        - F1\n",
    "        - Confussion Matrix\n",
    "        - AUC (todavía no lo vimos)\n",
    "        - Otros (si corresponde)\n",
    "    - Regresión:\n",
    "        - $R^2$ Coeficiente de Determinación\n",
    "        - MSE: Mean Square Error\n",
    "        - RMSE: Root Mean Square Error\n",
    "        - Otros (si corresponde)\n",
    "    "
   ]
  },
  {
   "cell_type": "markdown",
   "metadata": {
    "ExecuteTime": {
     "end_time": "2020-03-21T22:23:12.687654Z",
     "start_time": "2020-03-21T22:23:12.681669Z"
    }
   },
   "source": [
    "Veamos qué elementos nos provee sklearn para los problemas de los vecinos más cercanos. "
   ]
  },
  {
   "cell_type": "code",
   "execution_count": 1,
   "metadata": {
    "ExecuteTime": {
     "end_time": "2020-09-15T21:15:54.631852Z",
     "start_time": "2020-09-15T21:15:54.078209Z"
    }
   },
   "outputs": [],
   "source": [
    "import numpy as np\n",
    "import pandas as pd\n"
   ]
  },
  {
   "cell_type": "markdown",
   "metadata": {},
   "source": [
    "# El problema\n",
    "\n",
    "Vamos a encarar un problema de Clasificación, usaremos un viejo conocido el dataset **Iris**, pronosticaremos el valor de iris basándonos sólo en 2 features (para poder visualizar)."
   ]
  },
  {
   "cell_type": "markdown",
   "metadata": {},
   "source": [
    "## Datos\n",
    "\n",
    "El dataset iris.tab lo encontrará en *data/iris.tab*, recordemos que el separador era TAB (/t) y que las dos primeras filas no contenían datos"
   ]
  },
  {
   "cell_type": "markdown",
   "metadata": {
    "ExecuteTime": {
     "end_time": "2020-03-21T21:17:44.029562Z",
     "start_time": "2020-03-21T21:17:44.025572Z"
    }
   },
   "source": [
    "### Carga de los datos"
   ]
  },
  {
   "cell_type": "code",
   "execution_count": 2,
   "metadata": {
    "ExecuteTime": {
     "end_time": "2020-09-15T21:15:54.683749Z",
     "start_time": "2020-09-15T21:15:54.633846Z"
    }
   },
   "outputs": [
    {
     "data": {
      "text/html": [
       "<div>\n",
       "<style scoped>\n",
       "    .dataframe tbody tr th:only-of-type {\n",
       "        vertical-align: middle;\n",
       "    }\n",
       "\n",
       "    .dataframe tbody tr th {\n",
       "        vertical-align: top;\n",
       "    }\n",
       "\n",
       "    .dataframe thead th {\n",
       "        text-align: right;\n",
       "    }\n",
       "</style>\n",
       "<table border=\"1\" class=\"dataframe\">\n",
       "  <thead>\n",
       "    <tr style=\"text-align: right;\">\n",
       "      <th></th>\n",
       "      <th>sepal length</th>\n",
       "      <th>sepal width</th>\n",
       "      <th>petal length</th>\n",
       "      <th>petal width</th>\n",
       "      <th>iris</th>\n",
       "    </tr>\n",
       "  </thead>\n",
       "  <tbody>\n",
       "    <tr>\n",
       "      <th>0</th>\n",
       "      <td>5.1</td>\n",
       "      <td>3.5</td>\n",
       "      <td>1.4</td>\n",
       "      <td>0.2</td>\n",
       "      <td>Iris-setosa</td>\n",
       "    </tr>\n",
       "    <tr>\n",
       "      <th>1</th>\n",
       "      <td>4.9</td>\n",
       "      <td>3.0</td>\n",
       "      <td>1.4</td>\n",
       "      <td>0.2</td>\n",
       "      <td>Iris-setosa</td>\n",
       "    </tr>\n",
       "    <tr>\n",
       "      <th>2</th>\n",
       "      <td>4.7</td>\n",
       "      <td>3.2</td>\n",
       "      <td>1.3</td>\n",
       "      <td>0.2</td>\n",
       "      <td>Iris-setosa</td>\n",
       "    </tr>\n",
       "    <tr>\n",
       "      <th>3</th>\n",
       "      <td>4.6</td>\n",
       "      <td>3.1</td>\n",
       "      <td>1.5</td>\n",
       "      <td>0.2</td>\n",
       "      <td>Iris-setosa</td>\n",
       "    </tr>\n",
       "    <tr>\n",
       "      <th>4</th>\n",
       "      <td>5.0</td>\n",
       "      <td>3.6</td>\n",
       "      <td>1.4</td>\n",
       "      <td>0.2</td>\n",
       "      <td>Iris-setosa</td>\n",
       "    </tr>\n",
       "  </tbody>\n",
       "</table>\n",
       "</div>"
      ],
      "text/plain": [
       "   sepal length  sepal width  petal length  petal width         iris\n",
       "0           5.1          3.5           1.4          0.2  Iris-setosa\n",
       "1           4.9          3.0           1.4          0.2  Iris-setosa\n",
       "2           4.7          3.2           1.3          0.2  Iris-setosa\n",
       "3           4.6          3.1           1.5          0.2  Iris-setosa\n",
       "4           5.0          3.6           1.4          0.2  Iris-setosa"
      ]
     },
     "execution_count": 2,
     "metadata": {},
     "output_type": "execute_result"
    }
   ],
   "source": [
    "df_iris=pd.read_csv(\"data/iris.tab\",sep='\\t',skiprows=(1,2))\n",
    "df_iris.head()"
   ]
  },
  {
   "cell_type": "markdown",
   "metadata": {},
   "source": [
    "Sólo a los efectos didácticos y para que podamos visualizar un poco vamos a quedarnos sólo con 2 variables predictivas X, sepal length y sepal width y el target será iris"
   ]
  },
  {
   "cell_type": "code",
   "execution_count": 3,
   "metadata": {
    "ExecuteTime": {
     "end_time": "2020-09-15T21:15:54.703696Z",
     "start_time": "2020-09-15T21:15:54.685744Z"
    }
   },
   "outputs": [
    {
     "data": {
      "text/html": [
       "<div>\n",
       "<style scoped>\n",
       "    .dataframe tbody tr th:only-of-type {\n",
       "        vertical-align: middle;\n",
       "    }\n",
       "\n",
       "    .dataframe tbody tr th {\n",
       "        vertical-align: top;\n",
       "    }\n",
       "\n",
       "    .dataframe thead th {\n",
       "        text-align: right;\n",
       "    }\n",
       "</style>\n",
       "<table border=\"1\" class=\"dataframe\">\n",
       "  <thead>\n",
       "    <tr style=\"text-align: right;\">\n",
       "      <th></th>\n",
       "      <th>sepal length</th>\n",
       "      <th>sepal width</th>\n",
       "      <th>iris</th>\n",
       "    </tr>\n",
       "  </thead>\n",
       "  <tbody>\n",
       "    <tr>\n",
       "      <th>0</th>\n",
       "      <td>5.1</td>\n",
       "      <td>3.5</td>\n",
       "      <td>Iris-setosa</td>\n",
       "    </tr>\n",
       "    <tr>\n",
       "      <th>1</th>\n",
       "      <td>4.9</td>\n",
       "      <td>3.0</td>\n",
       "      <td>Iris-setosa</td>\n",
       "    </tr>\n",
       "    <tr>\n",
       "      <th>2</th>\n",
       "      <td>4.7</td>\n",
       "      <td>3.2</td>\n",
       "      <td>Iris-setosa</td>\n",
       "    </tr>\n",
       "    <tr>\n",
       "      <th>3</th>\n",
       "      <td>4.6</td>\n",
       "      <td>3.1</td>\n",
       "      <td>Iris-setosa</td>\n",
       "    </tr>\n",
       "    <tr>\n",
       "      <th>4</th>\n",
       "      <td>5.0</td>\n",
       "      <td>3.6</td>\n",
       "      <td>Iris-setosa</td>\n",
       "    </tr>\n",
       "    <tr>\n",
       "      <th>...</th>\n",
       "      <td>...</td>\n",
       "      <td>...</td>\n",
       "      <td>...</td>\n",
       "    </tr>\n",
       "    <tr>\n",
       "      <th>145</th>\n",
       "      <td>6.7</td>\n",
       "      <td>3.0</td>\n",
       "      <td>Iris-virginica</td>\n",
       "    </tr>\n",
       "    <tr>\n",
       "      <th>146</th>\n",
       "      <td>6.3</td>\n",
       "      <td>2.5</td>\n",
       "      <td>Iris-virginica</td>\n",
       "    </tr>\n",
       "    <tr>\n",
       "      <th>147</th>\n",
       "      <td>6.5</td>\n",
       "      <td>3.0</td>\n",
       "      <td>Iris-virginica</td>\n",
       "    </tr>\n",
       "    <tr>\n",
       "      <th>148</th>\n",
       "      <td>6.2</td>\n",
       "      <td>3.4</td>\n",
       "      <td>Iris-virginica</td>\n",
       "    </tr>\n",
       "    <tr>\n",
       "      <th>149</th>\n",
       "      <td>5.9</td>\n",
       "      <td>3.0</td>\n",
       "      <td>Iris-virginica</td>\n",
       "    </tr>\n",
       "  </tbody>\n",
       "</table>\n",
       "<p>150 rows × 3 columns</p>\n",
       "</div>"
      ],
      "text/plain": [
       "     sepal length  sepal width            iris\n",
       "0             5.1          3.5     Iris-setosa\n",
       "1             4.9          3.0     Iris-setosa\n",
       "2             4.7          3.2     Iris-setosa\n",
       "3             4.6          3.1     Iris-setosa\n",
       "4             5.0          3.6     Iris-setosa\n",
       "..            ...          ...             ...\n",
       "145           6.7          3.0  Iris-virginica\n",
       "146           6.3          2.5  Iris-virginica\n",
       "147           6.5          3.0  Iris-virginica\n",
       "148           6.2          3.4  Iris-virginica\n",
       "149           5.9          3.0  Iris-virginica\n",
       "\n",
       "[150 rows x 3 columns]"
      ]
     },
     "execution_count": 3,
     "metadata": {},
     "output_type": "execute_result"
    }
   ],
   "source": [
    "df=df_iris[['sepal length','sepal width','iris']]\n",
    "df"
   ]
  },
  {
   "cell_type": "markdown",
   "metadata": {},
   "source": [
    "le voy a cambiar los nombres a las columnas, por si diera error"
   ]
  },
  {
   "cell_type": "code",
   "execution_count": 4,
   "metadata": {
    "ExecuteTime": {
     "end_time": "2020-09-15T21:15:54.711673Z",
     "start_time": "2020-09-15T21:15:54.706689Z"
    }
   },
   "outputs": [],
   "source": [
    "df.columns=['sl','sw','iris']"
   ]
  },
  {
   "cell_type": "code",
   "execution_count": 5,
   "metadata": {
    "ExecuteTime": {
     "end_time": "2020-09-15T21:15:54.722644Z",
     "start_time": "2020-09-15T21:15:54.713667Z"
    }
   },
   "outputs": [
    {
     "data": {
      "text/html": [
       "<div>\n",
       "<style scoped>\n",
       "    .dataframe tbody tr th:only-of-type {\n",
       "        vertical-align: middle;\n",
       "    }\n",
       "\n",
       "    .dataframe tbody tr th {\n",
       "        vertical-align: top;\n",
       "    }\n",
       "\n",
       "    .dataframe thead th {\n",
       "        text-align: right;\n",
       "    }\n",
       "</style>\n",
       "<table border=\"1\" class=\"dataframe\">\n",
       "  <thead>\n",
       "    <tr style=\"text-align: right;\">\n",
       "      <th></th>\n",
       "      <th>sl</th>\n",
       "      <th>sw</th>\n",
       "      <th>iris</th>\n",
       "    </tr>\n",
       "  </thead>\n",
       "  <tbody>\n",
       "    <tr>\n",
       "      <th>0</th>\n",
       "      <td>5.1</td>\n",
       "      <td>3.5</td>\n",
       "      <td>Iris-setosa</td>\n",
       "    </tr>\n",
       "    <tr>\n",
       "      <th>1</th>\n",
       "      <td>4.9</td>\n",
       "      <td>3.0</td>\n",
       "      <td>Iris-setosa</td>\n",
       "    </tr>\n",
       "    <tr>\n",
       "      <th>2</th>\n",
       "      <td>4.7</td>\n",
       "      <td>3.2</td>\n",
       "      <td>Iris-setosa</td>\n",
       "    </tr>\n",
       "    <tr>\n",
       "      <th>3</th>\n",
       "      <td>4.6</td>\n",
       "      <td>3.1</td>\n",
       "      <td>Iris-setosa</td>\n",
       "    </tr>\n",
       "    <tr>\n",
       "      <th>4</th>\n",
       "      <td>5.0</td>\n",
       "      <td>3.6</td>\n",
       "      <td>Iris-setosa</td>\n",
       "    </tr>\n",
       "  </tbody>\n",
       "</table>\n",
       "</div>"
      ],
      "text/plain": [
       "    sl   sw         iris\n",
       "0  5.1  3.5  Iris-setosa\n",
       "1  4.9  3.0  Iris-setosa\n",
       "2  4.7  3.2  Iris-setosa\n",
       "3  4.6  3.1  Iris-setosa\n",
       "4  5.0  3.6  Iris-setosa"
      ]
     },
     "execution_count": 5,
     "metadata": {},
     "output_type": "execute_result"
    }
   ],
   "source": [
    "df.head()"
   ]
  },
  {
   "cell_type": "markdown",
   "metadata": {},
   "source": [
    "### Train y Test Sets\n",
    "\n",
    "Vamos a separar en 80/20 y para la siembra usaremos 123"
   ]
  },
  {
   "cell_type": "code",
   "execution_count": 6,
   "metadata": {
    "ExecuteTime": {
     "end_time": "2020-09-15T21:15:55.257244Z",
     "start_time": "2020-09-15T21:15:54.725637Z"
    }
   },
   "outputs": [],
   "source": [
    "from sklearn.model_selection import train_test_split\n",
    "df_train, df_test = train_test_split(df, test_size=0.2,random_state=123)"
   ]
  },
  {
   "cell_type": "markdown",
   "metadata": {},
   "source": [
    "### Adaptamos los datos para Scikit-Learn"
   ]
  },
  {
   "cell_type": "code",
   "execution_count": 7,
   "metadata": {
    "ExecuteTime": {
     "end_time": "2020-09-15T21:15:55.265223Z",
     "start_time": "2020-09-15T21:15:55.259240Z"
    }
   },
   "outputs": [],
   "source": [
    "X_train=df_train[['sl','sw']]\n",
    "y_train=df_train[['iris']]"
   ]
  },
  {
   "cell_type": "code",
   "execution_count": 8,
   "metadata": {
    "ExecuteTime": {
     "end_time": "2020-09-15T21:15:55.275938Z",
     "start_time": "2020-09-15T21:15:55.269962Z"
    }
   },
   "outputs": [],
   "source": [
    "X_test=df_test[['sl','sw']]\n",
    "y_test=df_test[['iris']]"
   ]
  },
  {
   "cell_type": "markdown",
   "metadata": {},
   "source": [
    "### Modelo kNN\n",
    "\n",
    "Vamos a elegir un valor para la cantidad de vecinos que participarán en la votación, digamos **k=5** que es el valor que utiliza por defecto sklearn."
   ]
  },
  {
   "cell_type": "code",
   "execution_count": 9,
   "metadata": {
    "ExecuteTime": {
     "end_time": "2020-09-15T21:15:55.281922Z",
     "start_time": "2020-09-15T21:15:55.277933Z"
    }
   },
   "outputs": [],
   "source": [
    "k=5 "
   ]
  },
  {
   "cell_type": "code",
   "execution_count": 10,
   "metadata": {
    "ExecuteTime": {
     "end_time": "2020-09-15T21:15:55.348745Z",
     "start_time": "2020-09-15T21:15:55.283917Z"
    }
   },
   "outputs": [],
   "source": [
    "from sklearn import neighbors\n",
    "modelo = neighbors.KNeighborsClassifier(n_neighbors=k,weights='uniform')"
   ]
  },
  {
   "cell_type": "markdown",
   "metadata": {},
   "source": [
    "### Entrenamos con fit\n",
    "\n",
    "kNN es uno de los pocos casos en sklearn donde los datos de entrada no deben ser de dimensión 2, seguramente le aparecerá un warning en fondo rojo, pero lo ejecutará igual."
   ]
  },
  {
   "cell_type": "code",
   "execution_count": 11,
   "metadata": {
    "ExecuteTime": {
     "end_time": "2020-09-15T21:15:55.361709Z",
     "start_time": "2020-09-15T21:15:55.350739Z"
    }
   },
   "outputs": [
    {
     "data": {
      "text/plain": [
       "KNeighborsClassifier()"
      ]
     },
     "execution_count": 11,
     "metadata": {},
     "output_type": "execute_result"
    }
   ],
   "source": [
    "# sólo para que no muestre el Warning\n",
    "import warnings\n",
    "warnings.simplefilter('ignore')\n",
    "\n",
    "\n",
    "modelo.fit(X_train, y_train)"
   ]
  },
  {
   "cell_type": "markdown",
   "metadata": {},
   "source": [
    "### Pronosticamos los resultados para el X_test"
   ]
  },
  {
   "cell_type": "code",
   "execution_count": 12,
   "metadata": {
    "ExecuteTime": {
     "end_time": "2020-09-15T21:15:55.372679Z",
     "start_time": "2020-09-15T21:15:55.364702Z"
    }
   },
   "outputs": [],
   "source": [
    "y_pred=modelo.predict(X_test)"
   ]
  },
  {
   "cell_type": "code",
   "execution_count": 14,
   "metadata": {
    "ExecuteTime": {
     "end_time": "2020-09-15T21:15:55.380658Z",
     "start_time": "2020-09-15T21:15:55.375671Z"
    }
   },
   "outputs": [
    {
     "data": {
      "text/plain": [
       "array(['Iris-virginica', 'Iris-versicolor', 'Iris-virginica',\n",
       "       'Iris-versicolor', 'Iris-setosa', 'Iris-versicolor',\n",
       "       'Iris-virginica', 'Iris-setosa', 'Iris-setosa', 'Iris-versicolor',\n",
       "       'Iris-virginica', 'Iris-setosa', 'Iris-versicolor',\n",
       "       'Iris-versicolor', 'Iris-virginica', 'Iris-versicolor',\n",
       "       'Iris-setosa', 'Iris-setosa', 'Iris-versicolor', 'Iris-setosa',\n",
       "       'Iris-setosa', 'Iris-virginica', 'Iris-setosa', 'Iris-versicolor',\n",
       "       'Iris-setosa', 'Iris-setosa', 'Iris-setosa', 'Iris-versicolor',\n",
       "       'Iris-virginica', 'Iris-setosa'], dtype=object)"
      ]
     },
     "execution_count": 14,
     "metadata": {},
     "output_type": "execute_result"
    }
   ],
   "source": [
    "y_pred"
   ]
  },
  {
   "cell_type": "code",
   "execution_count": 15,
   "metadata": {
    "ExecuteTime": {
     "end_time": "2020-09-15T21:15:55.391629Z",
     "start_time": "2020-09-15T21:15:55.382653Z"
    }
   },
   "outputs": [
    {
     "data": {
      "text/html": [
       "<div>\n",
       "<style scoped>\n",
       "    .dataframe tbody tr th:only-of-type {\n",
       "        vertical-align: middle;\n",
       "    }\n",
       "\n",
       "    .dataframe tbody tr th {\n",
       "        vertical-align: top;\n",
       "    }\n",
       "\n",
       "    .dataframe thead th {\n",
       "        text-align: right;\n",
       "    }\n",
       "</style>\n",
       "<table border=\"1\" class=\"dataframe\">\n",
       "  <thead>\n",
       "    <tr style=\"text-align: right;\">\n",
       "      <th></th>\n",
       "      <th>iris</th>\n",
       "    </tr>\n",
       "  </thead>\n",
       "  <tbody>\n",
       "    <tr>\n",
       "      <th>72</th>\n",
       "      <td>Iris-versicolor</td>\n",
       "    </tr>\n",
       "    <tr>\n",
       "      <th>112</th>\n",
       "      <td>Iris-virginica</td>\n",
       "    </tr>\n",
       "    <tr>\n",
       "      <th>132</th>\n",
       "      <td>Iris-virginica</td>\n",
       "    </tr>\n",
       "    <tr>\n",
       "      <th>88</th>\n",
       "      <td>Iris-versicolor</td>\n",
       "    </tr>\n",
       "    <tr>\n",
       "      <th>37</th>\n",
       "      <td>Iris-setosa</td>\n",
       "    </tr>\n",
       "  </tbody>\n",
       "</table>\n",
       "</div>"
      ],
      "text/plain": [
       "                iris\n",
       "72   Iris-versicolor\n",
       "112   Iris-virginica\n",
       "132   Iris-virginica\n",
       "88   Iris-versicolor\n",
       "37       Iris-setosa"
      ]
     },
     "execution_count": 15,
     "metadata": {},
     "output_type": "execute_result"
    }
   ],
   "source": [
    "y_test.head()"
   ]
  },
  {
   "cell_type": "markdown",
   "metadata": {
    "ExecuteTime": {
     "end_time": "2020-03-21T21:42:09.464087Z",
     "start_time": "2020-03-21T21:42:09.461086Z"
    }
   },
   "source": [
    "### Evaluación"
   ]
  },
  {
   "cell_type": "markdown",
   "metadata": {},
   "source": [
    "Para un caso de Clasificación podemos evaluar con \n",
    "\n",
    "- Confusion Matrix para visualizar\n",
    "- Accuracy\n",
    "- F1\n",
    "\n",
    "Todas estas métricas se encuentran en: https://scikit-learn.org/stable/modules/classes.html#module-sklearn.metrics\n",
    "\n",
    "- para confusion_matrix: https://scikit-learn.org/stable/modules/generated/sklearn.metrics.confusion_matrix.html#sklearn.metrics.confusion_matrix  \n",
    "\n",
    "- para Accuracy: https://scikit-learn.org/stable/modules/generated/sklearn.metrics.accuracy_score.html#sklearn.metrics.accuracy_score  \n",
    "\n",
    "- para F1: https://scikit-learn.org/stable/modules/generated/sklearn.metrics.f1_score.html  \n",
    "\n"
   ]
  },
  {
   "cell_type": "code",
   "execution_count": 16,
   "metadata": {
    "ExecuteTime": {
     "end_time": "2020-09-15T21:16:49.258990Z",
     "start_time": "2020-09-15T21:16:49.252009Z"
    }
   },
   "outputs": [
    {
     "data": {
      "text/plain": [
       "array([[13,  0,  0],\n",
       "       [ 0,  4,  2],\n",
       "       [ 0,  6,  5]], dtype=int64)"
      ]
     },
     "execution_count": 16,
     "metadata": {},
     "output_type": "execute_result"
    }
   ],
   "source": [
    "from sklearn.metrics import confusion_matrix, accuracy_score, f1_score  # Lo Evaluamos\n",
    "\n",
    "CM=confusion_matrix(y_test,y_pred)  # la repasaremos luego, por ahora veamos cómo se calcula\n",
    "CM"
   ]
  },
  {
   "cell_type": "code",
   "execution_count": 17,
   "metadata": {
    "ExecuteTime": {
     "end_time": "2020-09-15T21:15:55.406588Z",
     "start_time": "2020-09-15T21:15:55.402600Z"
    }
   },
   "outputs": [],
   "source": [
    "# df.iris.unique()                 # va a ayudar a comprender Confusion Matrix"
   ]
  },
  {
   "cell_type": "code",
   "execution_count": 18,
   "metadata": {
    "ExecuteTime": {
     "end_time": "2020-09-15T21:15:55.412573Z",
     "start_time": "2020-09-15T21:15:55.408584Z"
    }
   },
   "outputs": [],
   "source": [
    "AC=accuracy_score(y_test, y_pred)"
   ]
  },
  {
   "cell_type": "code",
   "execution_count": 19,
   "metadata": {
    "ExecuteTime": {
     "end_time": "2020-09-15T21:15:55.420551Z",
     "start_time": "2020-09-15T21:15:55.414567Z"
    }
   },
   "outputs": [],
   "source": [
    "F1=f1_score(y_test,y_pred, average='macro')  # average: si sólo son 2 clases en y, no es necesario seleccionar nada, \n",
    "                                             # en nuestro caso son 3. Si usamos la opción 'micro' el resultado es el\n",
    "                                             # mismo que para Accuracy."
   ]
  },
  {
   "cell_type": "code",
   "execution_count": 20,
   "metadata": {
    "ExecuteTime": {
     "end_time": "2020-09-15T21:15:55.432521Z",
     "start_time": "2020-09-15T21:15:55.422547Z"
    }
   },
   "outputs": [
    {
     "name": "stdout",
     "output_type": "stream",
     "text": [
      "Evaluación modelo kNN\n",
      "Accuracy:  0.733\n",
      "F1:  0.685\n"
     ]
    }
   ],
   "source": [
    "print(\"Evaluación modelo kNN\")\n",
    "print(\"Accuracy: \", round(AC,3))\n",
    "print(\"F1: \", round(F1,3))"
   ]
  },
  {
   "cell_type": "markdown",
   "metadata": {
    "ExecuteTime": {
     "end_time": "2020-03-21T23:01:16.018522Z",
     "start_time": "2020-03-21T23:01:16.015566Z"
    }
   },
   "source": [
    "### Visualización"
   ]
  },
  {
   "cell_type": "markdown",
   "metadata": {},
   "source": [
    "Hasta aquí los cálculos que queríamos hacer, en este caso como estamos trabajando con sólo 2 variables, podríamos visualizar la ubicación de los puntos y si serán fácilmente separables o no.  \n",
    "\n",
    "> Si vamos a utilizar las herramientas de visualización, **debemos usarlas sobre el Train Set** ... no nos olvidemos que **no debemos aprender nada del Test Set** sino la evaluación del modelo será fallida."
   ]
  },
  {
   "cell_type": "code",
   "execution_count": 21,
   "metadata": {
    "ExecuteTime": {
     "end_time": "2020-09-15T21:15:55.440499Z",
     "start_time": "2020-09-15T21:15:55.434515Z"
    }
   },
   "outputs": [
    {
     "data": {
      "text/plain": [
       "array(['Iris-virginica', 'Iris-setosa', 'Iris-versicolor'], dtype=object)"
      ]
     },
     "execution_count": 21,
     "metadata": {},
     "output_type": "execute_result"
    }
   ],
   "source": [
    "# Voy a necesitar conocer los valores que toman las etiquetas de la columna iris\n",
    "df_train.iris.unique()"
   ]
  },
  {
   "cell_type": "code",
   "execution_count": 22,
   "metadata": {
    "ExecuteTime": {
     "end_time": "2020-09-15T21:15:56.080273Z",
     "start_time": "2020-09-15T21:15:55.442492Z"
    },
    "scrolled": false
   },
   "outputs": [
    {
     "data": {
      "image/png": "[encoded data removed]",
      "text/plain": [
       "<Figure size 720x720 with 1 Axes>"
      ]
     },
     "metadata": {
      "needs_background": "light"
     },
     "output_type": "display_data"
    }
   ],
   "source": [
    "import matplotlib.pyplot as plt\n",
    "# Hacemos el scatter plot\n",
    "# quiero asignar un color distinto a cada etiqueta:\n",
    "\n",
    "# Iris-virginica: celeste\n",
    "# Iris-setosa: rojo\n",
    "# Iris-versicolor: verde\n",
    "\n",
    "colores=np.where(df_train.iris=='Iris-virginica','deepskyblue',np.where(df_train.iris=='Iris-setosa','red','green'))\n",
    "\n",
    "fig1=df_train.plot(kind='scatter', x='sl',y='sw',color=colores, marker='o',s=20,figsize=[10,10])\n",
    "plt.axis('equal')\n",
    "plt.show()"
   ]
  },
  {
   "cell_type": "markdown",
   "metadata": {
    "ExecuteTime": {
     "end_time": "2020-03-21T23:14:01.799495Z",
     "start_time": "2020-03-21T23:14:01.792514Z"
    }
   },
   "source": [
    "Lo anterior, sí podría aprender a hacerlo ahora, es relativamente sencillo.  \n",
    "\n",
    "Lo siguiente no es necesario sólo es a los fines didácticos."
   ]
  },
  {
   "cell_type": "markdown",
   "metadata": {},
   "source": [
    "Vamos a agregar la ubicación de la primer observación que tenemos en el Test_Set para ver por dónde está:"
   ]
  },
  {
   "cell_type": "code",
   "execution_count": 23,
   "metadata": {
    "ExecuteTime": {
     "end_time": "2020-09-15T21:15:56.091243Z",
     "start_time": "2020-09-15T21:15:56.082268Z"
    }
   },
   "outputs": [
    {
     "data": {
      "text/plain": [
       "sl                  6.3\n",
       "sw                  2.5\n",
       "iris    Iris-versicolor\n",
       "Name: 72, dtype: object"
      ]
     },
     "execution_count": 23,
     "metadata": {},
     "output_type": "execute_result"
    }
   ],
   "source": [
    "df_test.iloc[0,:]"
   ]
  },
  {
   "cell_type": "code",
   "execution_count": 23,
   "metadata": {
    "ExecuteTime": {
     "end_time": "2020-09-15T21:15:56.364514Z",
     "start_time": "2020-09-15T21:15:56.097229Z"
    }
   },
   "outputs": [
    {
     "data": {
      "image/png": "[encoded data removed]",
      "text/plain": [
       "<Figure size 720x720 with 1 Axes>"
      ]
     },
     "metadata": {
      "needs_background": "light"
     },
     "output_type": "display_data"
    }
   ],
   "source": [
    "fig1=df_train.plot(kind='scatter', x='sl',y='sw',color=colores, marker='o',s=20,figsize=[10,10])\n",
    "plt.scatter(df_test.iloc[0,0],df_test.iloc[0,1],color='black',marker='x', s=60)\n",
    "plt.axis('equal')\n",
    "plt.show()"
   ]
  },
  {
   "cell_type": "markdown",
   "metadata": {},
   "source": [
    "A simple vista parece que los k=5 puntos más cercanos son celestes, por lo cual el pronóstico debería ser Iris-virginica.  \n",
    "Veamos qué pronosticó "
   ]
  },
  {
   "cell_type": "code",
   "execution_count": 24,
   "metadata": {
    "ExecuteTime": {
     "end_time": "2020-09-15T21:15:56.373489Z",
     "start_time": "2020-09-15T21:15:56.366507Z"
    }
   },
   "outputs": [
    {
     "data": {
      "text/plain": [
       "'Iris-virginica'"
      ]
     },
     "execution_count": 24,
     "metadata": {},
     "output_type": "execute_result"
    }
   ],
   "source": [
    "y_pred[0]"
   ]
  },
  {
   "cell_type": "markdown",
   "metadata": {
    "ExecuteTime": {
     "end_time": "2020-04-20T21:47:23.086758Z",
     "start_time": "2020-04-20T21:47:23.081289Z"
    }
   },
   "source": [
    "OK, el modelo arrojó lo que observamos, veamos cuál es el valor real:"
   ]
  },
  {
   "cell_type": "code",
   "execution_count": 25,
   "metadata": {
    "ExecuteTime": {
     "end_time": "2020-09-15T21:15:56.383017Z",
     "start_time": "2020-09-15T21:15:56.376035Z"
    }
   },
   "outputs": [
    {
     "data": {
      "text/plain": [
       "iris    Iris-versicolor\n",
       "Name: 72, dtype: object"
      ]
     },
     "execution_count": 25,
     "metadata": {},
     "output_type": "execute_result"
    }
   ],
   "source": [
    "y_test.iloc[0]     # tuvimos que usar .iloc porque y_test es un DataFrame de Pandas"
   ]
  },
  {
   "cell_type": "markdown",
   "metadata": {},
   "source": [
    "Era versicolor!  \n",
    "Parece prácticamente imposible que sólo con esas dos variables cualquier modelo hubiera podido dar ese resultado."
   ]
  },
  {
   "cell_type": "markdown",
   "metadata": {},
   "source": [
    "Juguemos un poco más, veamos la situación de la siquiente observación del test set"
   ]
  },
  {
   "cell_type": "code",
   "execution_count": 26,
   "metadata": {
    "ExecuteTime": {
     "end_time": "2020-09-15T21:15:56.390996Z",
     "start_time": "2020-09-15T21:15:56.385011Z"
    }
   },
   "outputs": [
    {
     "data": {
      "text/plain": [
       "sl                 6.8\n",
       "sw                   3\n",
       "iris    Iris-virginica\n",
       "Name: 112, dtype: object"
      ]
     },
     "execution_count": 26,
     "metadata": {},
     "output_type": "execute_result"
    }
   ],
   "source": [
    "df_test.iloc[1,:]"
   ]
  },
  {
   "cell_type": "markdown",
   "metadata": {},
   "source": [
    "ubiquémosla en el plano:"
   ]
  },
  {
   "cell_type": "code",
   "execution_count": 27,
   "metadata": {
    "ExecuteTime": {
     "end_time": "2020-09-15T21:15:56.650929Z",
     "start_time": "2020-09-15T21:15:56.393987Z"
    }
   },
   "outputs": [
    {
     "data": {
      "image/png": "[encoded data removed]",
      "text/plain": [
       "<Figure size 720x720 with 1 Axes>"
      ]
     },
     "metadata": {
      "needs_background": "light"
     },
     "output_type": "display_data"
    }
   ],
   "source": [
    "fig1=df_train.plot(kind='scatter', x='sl',y='sw',color=colores, marker='o',s=20,figsize=[10,10])\n",
    "plt.scatter(df_test.iloc[1,0],df_test.iloc[1,1],color='black',marker='x', s=60)\n",
    "plt.axis('equal')\n",
    "plt.show()"
   ]
  },
  {
   "cell_type": "markdown",
   "metadata": {},
   "source": [
    "A ojo cuesta un poco distinguir cuáles son los 5 puntos más cercanos, pero a mí me parce que ganan los verdes, y el verde le corresponde a versicolor:"
   ]
  },
  {
   "cell_type": "code",
   "execution_count": 28,
   "metadata": {
    "ExecuteTime": {
     "end_time": "2020-09-15T21:15:56.657912Z",
     "start_time": "2020-09-15T21:15:56.652924Z"
    }
   },
   "outputs": [
    {
     "data": {
      "text/plain": [
       "'Iris-versicolor'"
      ]
     },
     "execution_count": 28,
     "metadata": {},
     "output_type": "execute_result"
    }
   ],
   "source": [
    "y_pred[1]"
   ]
  },
  {
   "cell_type": "markdown",
   "metadata": {},
   "source": [
    "pero en el test el valor real era:"
   ]
  },
  {
   "cell_type": "code",
   "execution_count": 29,
   "metadata": {
    "ExecuteTime": {
     "end_time": "2020-09-15T21:15:56.665891Z",
     "start_time": "2020-09-15T21:15:56.659907Z"
    }
   },
   "outputs": [
    {
     "data": {
      "text/plain": [
       "iris    Iris-virginica\n",
       "Name: 112, dtype: object"
      ]
     },
     "execution_count": 29,
     "metadata": {},
     "output_type": "execute_result"
    }
   ],
   "source": [
    "y_test.iloc[1]"
   ]
  },
  {
   "cell_type": "markdown",
   "metadata": {},
   "source": [
    "Virginica ... "
   ]
  },
  {
   "cell_type": "markdown",
   "metadata": {
    "ExecuteTime": {
     "end_time": "2020-04-20T21:47:35.830934Z",
     "start_time": "2020-04-20T21:47:35.826966Z"
    }
   },
   "source": [
    "Vamos con un par más:"
   ]
  },
  {
   "cell_type": "code",
   "execution_count": 30,
   "metadata": {
    "ExecuteTime": {
     "end_time": "2020-09-15T21:15:56.678371Z",
     "start_time": "2020-09-15T21:15:56.667883Z"
    }
   },
   "outputs": [
    {
     "data": {
      "text/plain": [
       "sl                 6.4\n",
       "sw                 2.8\n",
       "iris    Iris-virginica\n",
       "Name: 132, dtype: object"
      ]
     },
     "execution_count": 30,
     "metadata": {},
     "output_type": "execute_result"
    }
   ],
   "source": [
    "df_test.iloc[2,:]"
   ]
  },
  {
   "cell_type": "code",
   "execution_count": 31,
   "metadata": {
    "ExecuteTime": {
     "end_time": "2020-09-15T21:15:56.943659Z",
     "start_time": "2020-09-15T21:15:56.680365Z"
    }
   },
   "outputs": [
    {
     "data": {
      "image/png": "[encoded data removed]",
      "text/plain": [
       "<Figure size 720x720 with 1 Axes>"
      ]
     },
     "metadata": {
      "needs_background": "light"
     },
     "output_type": "display_data"
    }
   ],
   "source": [
    "fig1=df_train.plot(kind='scatter', x='sl',y='sw',color=colores, marker='o',s=20,figsize=[10,10])\n",
    "plt.scatter(df_test.iloc[2,0],df_test.iloc[2,1],color='black',marker='x', s=60)\n",
    "plt.axis('equal')\n",
    "plt.show()"
   ]
  },
  {
   "cell_type": "code",
   "execution_count": 32,
   "metadata": {
    "ExecuteTime": {
     "end_time": "2020-09-15T21:15:56.950643Z",
     "start_time": "2020-09-15T21:15:56.945654Z"
    }
   },
   "outputs": [
    {
     "data": {
      "text/plain": [
       "'Iris-virginica'"
      ]
     },
     "execution_count": 32,
     "metadata": {},
     "output_type": "execute_result"
    }
   ],
   "source": [
    "y_pred[2]"
   ]
  },
  {
   "cell_type": "code",
   "execution_count": 33,
   "metadata": {
    "ExecuteTime": {
     "end_time": "2020-09-15T21:15:56.959617Z",
     "start_time": "2020-09-15T21:15:56.952636Z"
    }
   },
   "outputs": [
    {
     "data": {
      "text/plain": [
       "iris    Iris-virginica\n",
       "Name: 132, dtype: object"
      ]
     },
     "execution_count": 33,
     "metadata": {},
     "output_type": "execute_result"
    }
   ],
   "source": [
    "y_test.iloc[2]"
   ]
  },
  {
   "cell_type": "markdown",
   "metadata": {
    "variables": {
     "round(AC,3)": "<p><strong>NameError</strong>: name &#39;AC&#39; is not defined</p>\n"
    }
   },
   "source": [
    "Otra, en algún momento tiene que empezar a acertar, ya que AC={{round(AC,3)}}"
   ]
  },
  {
   "cell_type": "code",
   "execution_count": 34,
   "metadata": {
    "ExecuteTime": {
     "end_time": "2020-09-15T21:15:56.969634Z",
     "start_time": "2020-09-15T21:15:56.961612Z"
    }
   },
   "outputs": [
    {
     "data": {
      "text/plain": [
       "sl                  5.6\n",
       "sw                    3\n",
       "iris    Iris-versicolor\n",
       "Name: 88, dtype: object"
      ]
     },
     "execution_count": 34,
     "metadata": {},
     "output_type": "execute_result"
    }
   ],
   "source": [
    "df_test.iloc[3,:]"
   ]
  },
  {
   "cell_type": "code",
   "execution_count": 35,
   "metadata": {
    "ExecuteTime": {
     "end_time": "2020-09-15T21:15:57.241931Z",
     "start_time": "2020-09-15T21:15:56.971630Z"
    }
   },
   "outputs": [
    {
     "data": {
      "image/png": "[encoded data removed]",
      "text/plain": [
       "<Figure size 720x720 with 1 Axes>"
      ]
     },
     "metadata": {
      "needs_background": "light"
     },
     "output_type": "display_data"
    }
   ],
   "source": [
    "fig1=df_train.plot(kind='scatter', x='sl',y='sw',color=colores, marker='o',s=20,figsize=[10,10])\n",
    "plt.scatter(df_test.iloc[3,0],df_test.iloc[3,1],color='black',marker='x', s=60)\n",
    "plt.axis('equal')\n",
    "plt.show()"
   ]
  },
  {
   "cell_type": "code",
   "execution_count": 36,
   "metadata": {
    "ExecuteTime": {
     "end_time": "2020-09-15T21:15:57.250907Z",
     "start_time": "2020-09-15T21:15:57.243926Z"
    }
   },
   "outputs": [
    {
     "data": {
      "text/plain": [
       "'Iris-versicolor'"
      ]
     },
     "execution_count": 36,
     "metadata": {},
     "output_type": "execute_result"
    }
   ],
   "source": [
    "y_pred[3]"
   ]
  },
  {
   "cell_type": "code",
   "execution_count": 37,
   "metadata": {
    "ExecuteTime": {
     "end_time": "2020-09-15T21:15:57.261878Z",
     "start_time": "2020-09-15T21:15:57.253900Z"
    }
   },
   "outputs": [
    {
     "data": {
      "text/plain": [
       "iris    Iris-versicolor\n",
       "Name: 88, dtype: object"
      ]
     },
     "execution_count": 37,
     "metadata": {},
     "output_type": "execute_result"
    }
   ],
   "source": [
    "y_test.iloc[3]"
   ]
  },
  {
   "cell_type": "markdown",
   "metadata": {},
   "source": [
    "Acertó!"
   ]
  },
  {
   "cell_type": "markdown",
   "metadata": {},
   "source": [
    "Puede probar unos cuantos casos más, el resultado final ya sabemos que es un 77% de aciertos, pero es interesante ver cómo los va encontrando!"
   ]
  },
  {
   "cell_type": "markdown",
   "metadata": {},
   "source": [
    "A continuación veamos cómo usar Scikit-Learn para aplicar kNN en un problema de Regresión. Vea el archivo SP02_Clase01c"
   ]
  }
 ],
 "metadata": {
  "hide_input": false,
  "kernelspec": {
   "display_name": "Python 3",
   "language": "python",
   "name": "python3"
  },
  "language_info": {
   "codemirror_mode": {
    "name": "ipython",
    "version": 3
   },
   "file_extension": ".py",
   "mimetype": "text/x-python",
   "name": "python",
   "nbconvert_exporter": "python",
   "pygments_lexer": "ipython3",
   "version": "3.8.5"
  },
  "toc": {
   "base_numbering": 1,
   "nav_menu": {},
   "number_sections": true,
   "sideBar": true,
   "skip_h1_title": true,
   "title_cell": "Tabla de Contenidos",
   "title_sidebar": "Contenidos",
   "toc_cell": false,
   "toc_position": {
    "height": "calc(100% - 180px)",
    "left": "10px",
    "top": "150px",
    "width": "165px"
   },
   "toc_section_display": true,
   "toc_window_display": true
  },
  "varInspector": {
   "cols": {
    "lenName": 16,
    "lenType": 16,
    "lenVar": 40
   },
   "kernels_config": {
    "python": {
     "delete_cmd_postfix": "",
     "delete_cmd_prefix": "del ",
     "library": "var_list.py",
     "varRefreshCmd": "print(var_dic_list())"
    },
    "r": {
     "delete_cmd_postfix": ") ",
     "delete_cmd_prefix": "rm(",
     "library": "var_list.r",
     "varRefreshCmd": "cat(var_dic_list()) "
    }
   },
   "types_to_exclude": [
    "module",
    "function",
    "builtin_function_or_method",
    "instance",
    "_Feature"
   ],
   "window_display": false
  }
 },
 "nbformat": 4,
 "nbformat_minor": 2
}
