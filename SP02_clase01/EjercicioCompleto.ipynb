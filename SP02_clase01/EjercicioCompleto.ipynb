{
 "cells": [
  {
   "cell_type": "code",
   "execution_count": null,
   "metadata": {},
   "outputs": [],
   "source": [
    "import pandas as pd \n",
    "import numpy as np\n",
    "from sklearn.model_selection import train_test_split\n",
    "from sklearn.metrics import mean_squared_error"
   ]
  },
  {
   "cell_type": "code",
   "execution_count": null,
   "metadata": {},
   "outputs": [],
   "source": [
    "df=pd.read_csv('data/diabetes_3variables.csv')\n",
    "df.head()"
   ]
  },
  {
   "cell_type": "code",
   "execution_count": null,
   "metadata": {},
   "outputs": [],
   "source": [
    "#Generamos los datas set\n",
    "\n",
    "#df_train, df_test = train_test_split(df, test_size=0.2,random_state=123)\n",
    "x=df.drop(columns=[\"y\"])\n",
    "x"
   ]
  },
  {
   "cell_type": "code",
   "execution_count": null,
   "metadata": {},
   "outputs": [],
   "source": [
    "y=df[[\"y\"]]\n",
    "y"
   ]
  },
  {
   "cell_type": "code",
   "execution_count": null,
   "metadata": {},
   "outputs": [],
   "source": [
    "x_train, x_test,y_train,y_test=train_test_split(x,y, test_size=0.2,random_state=123)\n",
    "#Otra forma de dividir los data set de a varios"
   ]
  },
  {
   "cell_type": "markdown",
   "metadata": {},
   "source": [
    "###Validation. Agarro el train y lo divido en dos\n"
   ]
  },
  {
   "cell_type": "code",
   "execution_count": null,
   "metadata": {},
   "outputs": [],
   "source": [
    "xval_train, xval_test,yval_train,yval_test=train_test_split(x_train,y_train, test_size=0.2,random_state=123)"
   ]
  },
  {
   "cell_type": "markdown",
   "metadata": {},
   "source": [
    "## comparacion de modelos"
   ]
  },
  {
   "cell_type": "markdown",
   "metadata": {},
   "source": [
    "### Regresion Lineal"
   ]
  },
  {
   "cell_type": "code",
   "execution_count": null,
   "metadata": {},
   "outputs": [],
   "source": [
    "from sklearn.linear_model import LinearRegression"
   ]
  },
  {
   "cell_type": "code",
   "execution_count": null,
   "metadata": {},
   "outputs": [],
   "source": [
    "rl=LinearRegression()\n",
    "rl.fit(xval_train,yval_train)\n",
    "yval_pred=rl.predict(xval_test)\n",
    "RMSE=mean_squared_error(yval_test, yval_pred,squared=False)\n",
    "print(\"RMSE de Arbol de regresion lineal\", RMSE)"
   ]
  },
  {
   "cell_type": "markdown",
   "metadata": {},
   "source": [
    "### Arbol"
   ]
  },
  {
   "cell_type": "code",
   "execution_count": null,
   "metadata": {},
   "outputs": [],
   "source": [
    "from sklearn.tree import DecisionTreeRegressor\n",
    "\n",
    "for profundidad in range(1,8):\n",
    "    arbol=DecisionTreeRegressor(max_depth=profundidad, random_state=123)\n",
    "    arbol.fit(xval_train,yval_train)\n",
    "    yval_pred=arbol.predict(xval_test)\n",
    "    RMSE=mean_squared_error(yval_test, yval_pred,squared=False)\n",
    "    print(\"RMSE de Arbol de decision de profundidad\", profundidad,\":\", RMSE)"
   ]
  },
  {
   "cell_type": "markdown",
   "metadata": {},
   "source": [
    "### kNn"
   ]
  },
  {
   "cell_type": "code",
   "execution_count": null,
   "metadata": {},
   "outputs": [],
   "source": [
    "\"\"\" from sklearn import neighbors\n",
    "for k in range(1,20):\n",
    "    knn=neighbors.KNeighborsRegressor(n_neighbors=k,weights='uniform')\n",
    "    knn.fit(xval_train,yval_train)\n",
    "    yval_pred=knn.predict(xval_test)\n",
    "    RMSE=mean_squared_error(yval_test, yval_pred,squared=False)\n",
    "    print(\"RMSE de kNn con vecinos\", k,\":\", RMSE)\"\"\""
   ]
  },
  {
   "cell_type": "markdown",
   "metadata": {},
   "source": [
    "Mejor valor con 11 vecinos "
   ]
  },
  {
   "cell_type": "code",
   "execution_count": null,
   "metadata": {},
   "outputs": [],
   "source": [
    "from sklearn import neighbors\n",
    "for k in range(1,20):\n",
    "    knn=neighbors.KNeighborsRegressor(n_neighbors=k,weights='distance')\n",
    "    knn.fit(xval_train,yval_train)\n",
    "    yval_pred=knn.predict(xval_test)\n",
    "    RMSE=mean_squared_error(yval_test, yval_pred,squared=False)\n",
    "    print(\"RMSE de kNn con vecinos\", k,\":\", RMSE)"
   ]
  },
  {
   "cell_type": "markdown",
   "metadata": {},
   "source": [
    "### Conclusion"
   ]
  },
  {
   "cell_type": "markdown",
   "metadata": {},
   "source": [
    "El modelo con menor RMSE es regresion lineal. Es el elegido para produccion.\n",
    "Antes mediremos la performance en Train test y calcular el RMSE esperado en produccion\n"
   ]
  },
  {
   "cell_type": "markdown",
   "metadata": {},
   "source": [
    "## Evaluacion del modelo elegido"
   ]
  },
  {
   "cell_type": "code",
   "execution_count": null,
   "metadata": {},
   "outputs": [],
   "source": [
    "#Evaluo en train y testeo en test"
   ]
  },
  {
   "cell_type": "code",
   "execution_count": null,
   "metadata": {},
   "outputs": [],
   "source": [
    "rlE=LinearRegression()\n",
    "rlE.fit(x_train,y_train)\n",
    "y_pred=rlE.predict(x_test)\n",
    "RMSE=mean_squared_error(y_test, y_pred,squared=False)\n",
    "print(\"RMSE de regresion lineal\", RMSE)"
   ]
  },
  {
   "cell_type": "markdown",
   "metadata": {},
   "source": [
    "### Genero modelo de produccion\n",
    "\n",
    "Entrenar el modelo elegido con TODOS los datos originales"
   ]
  },
  {
   "cell_type": "code",
   "execution_count": null,
   "metadata": {},
   "outputs": [],
   "source": [
    "rlproduccion=LinearRegression()\n",
    "rlproduccion.fit(x,y)"
   ]
  },
  {
   "cell_type": "markdown",
   "metadata": {},
   "source": [
    "## Nueva observacion\n",
    "\n",
    "como uasr el modelo de produccion"
   ]
  },
  {
   "cell_type": "code",
   "execution_count": null,
   "metadata": {},
   "outputs": [],
   "source": [
    "obs_nueva=[[0.004,0.001,-0.006]]"
   ]
  },
  {
   "cell_type": "code",
   "execution_count": null,
   "metadata": {},
   "outputs": [],
   "source": [
    "rlproduccion.predict(obs_nueva)"
   ]
  },
  {
   "cell_type": "code",
   "execution_count": null,
   "metadata": {},
   "outputs": [],
   "source": [
    "a1= input()\n"
   ]
  },
  {
   "cell_type": "code",
   "execution_count": null,
   "metadata": {},
   "outputs": [],
   "source": [
    "a2= input()\n"
   ]
  },
  {
   "cell_type": "code",
   "execution_count": null,
   "metadata": {},
   "outputs": [],
   "source": [
    "a3= input()"
   ]
  },
  {
   "cell_type": "code",
   "execution_count": null,
   "metadata": {},
   "outputs": [],
   "source": [
    "dato1= float(a1)\n",
    "dato2= float(a2)\n",
    "dato3= float(a3)"
   ]
  },
  {
   "cell_type": "code",
   "execution_count": null,
   "metadata": {},
   "outputs": [],
   "source": [
    "dato_nuevo=[[dato1,dato2,dato3]]\n",
    "pronostico=rlproduccion.predict(dato_nuevo)"
   ]
  },
  {
   "cell_type": "code",
   "execution_count": null,
   "metadata": {},
   "outputs": [],
   "source": [
    "#con pickle se puede guardar el modelo. Buscar eso como se hace. Pero para reciclar el modelos\n",
    "import pickle"
   ]
  },
  {
   "cell_type": "code",
   "execution_count": null,
   "metadata": {},
   "outputs": [],
   "source": [
    "pickle.dump(rlproduccion, open('modeloRegresion.sav', 'wb'))"
   ]
  },
  {
   "cell_type": "markdown",
   "metadata": {},
   "source": [
    "###  Recuperamos modelo guardado"
   ]
  },
  {
   "cell_type": "code",
   "execution_count": null,
   "metadata": {},
   "outputs": [],
   "source": [
    "modelo_recup=pickle.load(open('modeloRegresion', 'rb'))"
   ]
  },
  {
   "cell_type": "code",
   "execution_count": null,
   "metadata": {},
   "outputs": [],
   "source": [
    "modelo_recup.predict(obs_nueva)"
   ]
  },
  {
   "cell_type": "code",
   "execution_count": null,
   "metadata": {},
   "outputs": [],
   "source": []
  }
 ],
 "metadata": {
  "kernelspec": {
   "display_name": "Python 3",
   "language": "python",
   "name": "python3"
  },
  "language_info": {
   "codemirror_mode": {
    "name": "ipython",
    "version": 3
   },
   "file_extension": ".py",
   "mimetype": "text/x-python",
   "name": "python",
   "nbconvert_exporter": "python",
   "pygments_lexer": "ipython3",
   "version": "3.8.5"
  }
 },
 "nbformat": 4,
 "nbformat_minor": 4
}
