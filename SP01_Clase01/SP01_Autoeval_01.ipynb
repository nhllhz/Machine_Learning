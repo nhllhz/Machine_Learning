{
 "cells": [
  {
   "cell_type": "markdown",
   "metadata": {},
   "source": [
    "![IES21](img/logo_ies.png)"
   ]
  },
  {
   "cell_type": "markdown",
   "metadata": {},
   "source": [
    "# Materia: Aprendizaje Automático 1\n",
    "**SP01_Clase01**  \n",
    "**Autoevaluación 1 - Ejercicio Resuelto**"
   ]
  },
  {
   "cell_type": "markdown",
   "metadata": {
    "toc": true
   },
   "source": [
    "<h1>Tabla de Contenidos<span class=\"tocSkip\"></span></h1>\n",
    "<div class=\"toc\"><ul class=\"toc-item\"><li><span><a href=\"#Datos\" data-toc-modified-id=\"Datos-1\"><span class=\"toc-item-num\">1&nbsp;&nbsp;</span>Datos</a></span><ul class=\"toc-item\"><li><span><a href=\"#Carga-de-Datos\" data-toc-modified-id=\"Carga-de-Datos-1.1\"><span class=\"toc-item-num\">1.1&nbsp;&nbsp;</span>Carga de Datos</a></span></li><li><span><a href=\"#Train-y-Test-Sets\" data-toc-modified-id=\"Train-y-Test-Sets-1.2\"><span class=\"toc-item-num\">1.2&nbsp;&nbsp;</span>Train y Test Sets</a></span></li><li><span><a href=\"#Adaptemos-los-datos-para-sklearn.\" data-toc-modified-id=\"Adaptemos-los-datos-para-sklearn.-1.3\"><span class=\"toc-item-num\">1.3&nbsp;&nbsp;</span>Adaptemos los datos para sklearn.</a></span></li></ul></li><li><span><a href=\"#Modelo:-Regresión-Lineal-Multivariable\" data-toc-modified-id=\"Modelo:-Regresión-Lineal-Multivariable-2\"><span class=\"toc-item-num\">2&nbsp;&nbsp;</span>Modelo: Regresión Lineal Multivariable</a></span><ul class=\"toc-item\"><li><span><a href=\"#Creación-del-Modelo\" data-toc-modified-id=\"Creación-del-Modelo-2.1\"><span class=\"toc-item-num\">2.1&nbsp;&nbsp;</span>Creación del Modelo</a></span></li><li><span><a href=\"#Training-con-fit\" data-toc-modified-id=\"Training-con-fit-2.2\"><span class=\"toc-item-num\">2.2&nbsp;&nbsp;</span>Training con fit</a></span></li><li><span><a href=\"#Coeficientes-del-Modelo\" data-toc-modified-id=\"Coeficientes-del-Modelo-2.3\"><span class=\"toc-item-num\">2.3&nbsp;&nbsp;</span>Coeficientes del Modelo</a></span></li><li><span><a href=\"#Evaluación\" data-toc-modified-id=\"Evaluación-2.4\"><span class=\"toc-item-num\">2.4&nbsp;&nbsp;</span>Evaluación</a></span></li></ul></li></ul></div>"
   ]
  },
  {
   "cell_type": "markdown",
   "metadata": {},
   "source": [
    "# El Problema:\n",
    "\n",
    "Este es un problema de Regresión con 3 variables **X** (como todavía no estamos analizando la importancia de las features no mencionaremos qué es cada variable, simplemente serán  𝑥1 ,  𝑥2  y  𝑥3) y el target **y**. Los datos se encuentran en el archivo: *data/diabetes_3variables.csv*. Se le pide que:  \n",
    "\n",
    "- cree un modelo de **Regresión Lineal** (en este caso será Multivariable), \n",
    "- obtenga los parámetros $ w_i$ del mismo,  y que\n",
    "- evalúe con $R^2$, MSE y RMSE usando un esquema de Train / Test 80/20, y con semilla para los valores random de 123 cuando sea necesario.\n"
   ]
  },
  {
   "cell_type": "markdown",
   "metadata": {},
   "source": [
    "# REGRESIÓN LINEAL"
   ]
  },
  {
   "cell_type": "markdown",
   "metadata": {},
   "source": [
    "## Datos  "
   ]
  },
  {
   "cell_type": "markdown",
   "metadata": {},
   "source": [
    "### Carga de Datos\n",
    "Cargar los datos en un DataFrame de Pandas. LLámelo df"
   ]
  },
  {
   "cell_type": "code",
   "execution_count": 64,
   "metadata": {
    "ExecuteTime": {
     "end_time": "2020-03-22T01:42:52.266203Z",
     "start_time": "2020-03-22T01:42:52.260214Z"
    }
   },
   "outputs": [],
   "source": [
    "import pandas as pd\n",
    "df=pd.read_csv('data/diabetes_3variables.csv')\n"
   ]
  },
  {
   "cell_type": "markdown",
   "metadata": {},
   "source": [
    "Qué tenemos en el DataFrame?"
   ]
  },
  {
   "cell_type": "code",
   "execution_count": 65,
   "metadata": {
    "ExecuteTime": {
     "end_time": "2020-03-22T01:42:52.286118Z",
     "start_time": "2020-03-22T01:42:52.279161Z"
    }
   },
   "outputs": [
    {
     "name": "stdout",
     "output_type": "stream",
     "text": [
      "<class 'pandas.core.frame.DataFrame'>\n",
      "RangeIndex: 442 entries, 0 to 441\n",
      "Data columns (total 4 columns):\n",
      "y     442 non-null float64\n",
      "x1    442 non-null float64\n",
      "x2    442 non-null float64\n",
      "x3    442 non-null float64\n",
      "dtypes: float64(4)\n",
      "memory usage: 13.9 KB\n"
     ]
    }
   ],
   "source": [
    "df.info()"
   ]
  },
  {
   "cell_type": "markdown",
   "metadata": {},
   "source": [
    "Por ahora no hay Nulos, pero es mejor acostumbrarse a mirar un poco, más adelante tocaremos este tema."
   ]
  },
  {
   "cell_type": "code",
   "execution_count": 66,
   "metadata": {
    "ExecuteTime": {
     "end_time": "2020-03-22T01:42:52.308058Z",
     "start_time": "2020-03-22T01:42:52.298085Z"
    }
   },
   "outputs": [
    {
     "data": {
      "text/html": [
       "<div>\n",
       "<style scoped>\n",
       "    .dataframe tbody tr th:only-of-type {\n",
       "        vertical-align: middle;\n",
       "    }\n",
       "\n",
       "    .dataframe tbody tr th {\n",
       "        vertical-align: top;\n",
       "    }\n",
       "\n",
       "    .dataframe thead th {\n",
       "        text-align: right;\n",
       "    }\n",
       "</style>\n",
       "<table border=\"1\" class=\"dataframe\">\n",
       "  <thead>\n",
       "    <tr style=\"text-align: right;\">\n",
       "      <th></th>\n",
       "      <th>y</th>\n",
       "      <th>x1</th>\n",
       "      <th>x2</th>\n",
       "      <th>x3</th>\n",
       "    </tr>\n",
       "  </thead>\n",
       "  <tbody>\n",
       "    <tr>\n",
       "      <th>0</th>\n",
       "      <td>151.0</td>\n",
       "      <td>0.050680</td>\n",
       "      <td>0.061696</td>\n",
       "      <td>0.021872</td>\n",
       "    </tr>\n",
       "    <tr>\n",
       "      <th>1</th>\n",
       "      <td>75.0</td>\n",
       "      <td>-0.044642</td>\n",
       "      <td>-0.051474</td>\n",
       "      <td>-0.026328</td>\n",
       "    </tr>\n",
       "    <tr>\n",
       "      <th>2</th>\n",
       "      <td>141.0</td>\n",
       "      <td>0.050680</td>\n",
       "      <td>0.044451</td>\n",
       "      <td>-0.005671</td>\n",
       "    </tr>\n",
       "    <tr>\n",
       "      <th>3</th>\n",
       "      <td>206.0</td>\n",
       "      <td>-0.044642</td>\n",
       "      <td>-0.011595</td>\n",
       "      <td>-0.036656</td>\n",
       "    </tr>\n",
       "    <tr>\n",
       "      <th>4</th>\n",
       "      <td>135.0</td>\n",
       "      <td>-0.044642</td>\n",
       "      <td>-0.036385</td>\n",
       "      <td>0.021872</td>\n",
       "    </tr>\n",
       "  </tbody>\n",
       "</table>\n",
       "</div>"
      ],
      "text/plain": [
       "       y        x1        x2        x3\n",
       "0  151.0  0.050680  0.061696  0.021872\n",
       "1   75.0 -0.044642 -0.051474 -0.026328\n",
       "2  141.0  0.050680  0.044451 -0.005671\n",
       "3  206.0 -0.044642 -0.011595 -0.036656\n",
       "4  135.0 -0.044642 -0.036385  0.021872"
      ]
     },
     "execution_count": 66,
     "metadata": {},
     "output_type": "execute_result"
    }
   ],
   "source": [
    "df.head()"
   ]
  },
  {
   "cell_type": "markdown",
   "metadata": {
    "ExecuteTime": {
     "end_time": "2020-03-10T17:32:14.180735Z",
     "start_time": "2020-03-10T17:32:14.176742Z"
    }
   },
   "source": [
    "### Train y Test Sets  \n",
    "\n",
    "Distribúyalos en **80 / 20** (Train y Test sets respectivamente), para sembrar el número aleatorio \n",
    "utilice 123 como en el ejemplo anterior"
   ]
  },
  {
   "cell_type": "code",
   "execution_count": 67,
   "metadata": {
    "ExecuteTime": {
     "end_time": "2020-03-22T01:42:52.324015Z",
     "start_time": "2020-03-22T01:42:52.318031Z"
    }
   },
   "outputs": [],
   "source": [
    "from sklearn.model_selection import train_test_split\n",
    "\n",
    "df_train, df_test = train_test_split(df, test_size=0.2,random_state=123)"
   ]
  },
  {
   "cell_type": "code",
   "execution_count": 68,
   "metadata": {
    "ExecuteTime": {
     "end_time": "2020-03-22T01:42:52.343962Z",
     "start_time": "2020-03-22T01:42:52.326010Z"
    }
   },
   "outputs": [
    {
     "data": {
      "text/html": [
       "<div>\n",
       "<style scoped>\n",
       "    .dataframe tbody tr th:only-of-type {\n",
       "        vertical-align: middle;\n",
       "    }\n",
       "\n",
       "    .dataframe tbody tr th {\n",
       "        vertical-align: top;\n",
       "    }\n",
       "\n",
       "    .dataframe thead th {\n",
       "        text-align: right;\n",
       "    }\n",
       "</style>\n",
       "<table border=\"1\" class=\"dataframe\">\n",
       "  <thead>\n",
       "    <tr style=\"text-align: right;\">\n",
       "      <th></th>\n",
       "      <th>y</th>\n",
       "      <th>x1</th>\n",
       "      <th>x2</th>\n",
       "      <th>x3</th>\n",
       "    </tr>\n",
       "  </thead>\n",
       "  <tbody>\n",
       "    <tr>\n",
       "      <th>59</th>\n",
       "      <td>170.0</td>\n",
       "      <td>0.050680</td>\n",
       "      <td>-0.025607</td>\n",
       "      <td>0.011544</td>\n",
       "    </tr>\n",
       "    <tr>\n",
       "      <th>209</th>\n",
       "      <td>77.0</td>\n",
       "      <td>0.050680</td>\n",
       "      <td>-0.018062</td>\n",
       "      <td>0.066630</td>\n",
       "    </tr>\n",
       "    <tr>\n",
       "      <th>21</th>\n",
       "      <td>49.0</td>\n",
       "      <td>0.050680</td>\n",
       "      <td>-0.022373</td>\n",
       "      <td>0.001215</td>\n",
       "    </tr>\n",
       "    <tr>\n",
       "      <th>274</th>\n",
       "      <td>66.0</td>\n",
       "      <td>-0.044642</td>\n",
       "      <td>-0.024529</td>\n",
       "      <td>0.035644</td>\n",
       "    </tr>\n",
       "    <tr>\n",
       "      <th>107</th>\n",
       "      <td>144.0</td>\n",
       "      <td>-0.044642</td>\n",
       "      <td>0.049840</td>\n",
       "      <td>-0.055018</td>\n",
       "    </tr>\n",
       "  </tbody>\n",
       "</table>\n",
       "</div>"
      ],
      "text/plain": [
       "         y        x1        x2        x3\n",
       "59   170.0  0.050680 -0.025607  0.011544\n",
       "209   77.0  0.050680 -0.018062  0.066630\n",
       "21    49.0  0.050680 -0.022373  0.001215\n",
       "274   66.0 -0.044642 -0.024529  0.035644\n",
       "107  144.0 -0.044642  0.049840 -0.055018"
      ]
     },
     "execution_count": 68,
     "metadata": {},
     "output_type": "execute_result"
    }
   ],
   "source": [
    "df_train.head()"
   ]
  },
  {
   "cell_type": "code",
   "execution_count": 69,
   "metadata": {
    "ExecuteTime": {
     "end_time": "2020-03-22T01:42:52.371892Z",
     "start_time": "2020-03-22T01:42:52.361914Z"
    }
   },
   "outputs": [
    {
     "data": {
      "text/html": [
       "<div>\n",
       "<style scoped>\n",
       "    .dataframe tbody tr th:only-of-type {\n",
       "        vertical-align: middle;\n",
       "    }\n",
       "\n",
       "    .dataframe tbody tr th {\n",
       "        vertical-align: top;\n",
       "    }\n",
       "\n",
       "    .dataframe thead th {\n",
       "        text-align: right;\n",
       "    }\n",
       "</style>\n",
       "<table border=\"1\" class=\"dataframe\">\n",
       "  <thead>\n",
       "    <tr style=\"text-align: right;\">\n",
       "      <th></th>\n",
       "      <th>y</th>\n",
       "      <th>x1</th>\n",
       "      <th>x2</th>\n",
       "      <th>x3</th>\n",
       "    </tr>\n",
       "  </thead>\n",
       "  <tbody>\n",
       "    <tr>\n",
       "      <th>13</th>\n",
       "      <td>185.0</td>\n",
       "      <td>0.050680</td>\n",
       "      <td>-0.001895</td>\n",
       "      <td>0.008101</td>\n",
       "    </tr>\n",
       "    <tr>\n",
       "      <th>66</th>\n",
       "      <td>150.0</td>\n",
       "      <td>0.050680</td>\n",
       "      <td>-0.018062</td>\n",
       "      <td>-0.033214</td>\n",
       "    </tr>\n",
       "    <tr>\n",
       "      <th>234</th>\n",
       "      <td>246.0</td>\n",
       "      <td>-0.044642</td>\n",
       "      <td>0.039062</td>\n",
       "      <td>0.045972</td>\n",
       "    </tr>\n",
       "    <tr>\n",
       "      <th>24</th>\n",
       "      <td>184.0</td>\n",
       "      <td>-0.044642</td>\n",
       "      <td>0.035829</td>\n",
       "      <td>-0.022885</td>\n",
       "    </tr>\n",
       "    <tr>\n",
       "      <th>388</th>\n",
       "      <td>110.0</td>\n",
       "      <td>0.050680</td>\n",
       "      <td>-0.024529</td>\n",
       "      <td>0.056301</td>\n",
       "    </tr>\n",
       "  </tbody>\n",
       "</table>\n",
       "</div>"
      ],
      "text/plain": [
       "         y        x1        x2        x3\n",
       "13   185.0  0.050680 -0.001895  0.008101\n",
       "66   150.0  0.050680 -0.018062 -0.033214\n",
       "234  246.0 -0.044642  0.039062  0.045972\n",
       "24   184.0 -0.044642  0.035829 -0.022885\n",
       "388  110.0  0.050680 -0.024529  0.056301"
      ]
     },
     "execution_count": 69,
     "metadata": {},
     "output_type": "execute_result"
    }
   ],
   "source": [
    "df_test.head()"
   ]
  },
  {
   "cell_type": "markdown",
   "metadata": {},
   "source": [
    "### Adaptemos los datos para sklearn.  \n",
    "\n",
    "Posiblemente esta sea la única parte complicada del ejericio.  \n",
    "\n",
    "Tiene que generar el: \n",
    "\n",
    "- X_train y y_train a partir de df_train\n",
    "- X_test y y_test a partir de df_test"
   ]
  },
  {
   "cell_type": "code",
   "execution_count": 70,
   "metadata": {
    "ExecuteTime": {
     "end_time": "2020-03-22T01:42:52.421754Z",
     "start_time": "2020-03-22T01:42:52.413777Z"
    }
   },
   "outputs": [],
   "source": [
    "X_train=df_train[['x1','x2','x3']]\n",
    "y_train=df_train[['y']]"
   ]
  },
  {
   "cell_type": "code",
   "execution_count": 71,
   "metadata": {
    "ExecuteTime": {
     "end_time": "2020-03-22T01:42:52.435719Z",
     "start_time": "2020-03-22T01:42:52.424748Z"
    }
   },
   "outputs": [
    {
     "data": {
      "text/html": [
       "<div>\n",
       "<style scoped>\n",
       "    .dataframe tbody tr th:only-of-type {\n",
       "        vertical-align: middle;\n",
       "    }\n",
       "\n",
       "    .dataframe tbody tr th {\n",
       "        vertical-align: top;\n",
       "    }\n",
       "\n",
       "    .dataframe thead th {\n",
       "        text-align: right;\n",
       "    }\n",
       "</style>\n",
       "<table border=\"1\" class=\"dataframe\">\n",
       "  <thead>\n",
       "    <tr style=\"text-align: right;\">\n",
       "      <th></th>\n",
       "      <th>x1</th>\n",
       "      <th>x2</th>\n",
       "      <th>x3</th>\n",
       "    </tr>\n",
       "  </thead>\n",
       "  <tbody>\n",
       "    <tr>\n",
       "      <th>59</th>\n",
       "      <td>0.050680</td>\n",
       "      <td>-0.025607</td>\n",
       "      <td>0.011544</td>\n",
       "    </tr>\n",
       "    <tr>\n",
       "      <th>209</th>\n",
       "      <td>0.050680</td>\n",
       "      <td>-0.018062</td>\n",
       "      <td>0.066630</td>\n",
       "    </tr>\n",
       "    <tr>\n",
       "      <th>21</th>\n",
       "      <td>0.050680</td>\n",
       "      <td>-0.022373</td>\n",
       "      <td>0.001215</td>\n",
       "    </tr>\n",
       "    <tr>\n",
       "      <th>274</th>\n",
       "      <td>-0.044642</td>\n",
       "      <td>-0.024529</td>\n",
       "      <td>0.035644</td>\n",
       "    </tr>\n",
       "    <tr>\n",
       "      <th>107</th>\n",
       "      <td>-0.044642</td>\n",
       "      <td>0.049840</td>\n",
       "      <td>-0.055018</td>\n",
       "    </tr>\n",
       "    <tr>\n",
       "      <th>...</th>\n",
       "      <td>...</td>\n",
       "      <td>...</td>\n",
       "      <td>...</td>\n",
       "    </tr>\n",
       "    <tr>\n",
       "      <th>230</th>\n",
       "      <td>0.050680</td>\n",
       "      <td>0.071397</td>\n",
       "      <td>-0.057314</td>\n",
       "    </tr>\n",
       "    <tr>\n",
       "      <th>98</th>\n",
       "      <td>0.050680</td>\n",
       "      <td>-0.005128</td>\n",
       "      <td>-0.012556</td>\n",
       "    </tr>\n",
       "    <tr>\n",
       "      <th>322</th>\n",
       "      <td>0.050680</td>\n",
       "      <td>0.061696</td>\n",
       "      <td>0.062039</td>\n",
       "    </tr>\n",
       "    <tr>\n",
       "      <th>382</th>\n",
       "      <td>-0.044642</td>\n",
       "      <td>0.060618</td>\n",
       "      <td>-0.022885</td>\n",
       "    </tr>\n",
       "    <tr>\n",
       "      <th>365</th>\n",
       "      <td>-0.044642</td>\n",
       "      <td>-0.038540</td>\n",
       "      <td>-0.012556</td>\n",
       "    </tr>\n",
       "  </tbody>\n",
       "</table>\n",
       "<p>353 rows × 3 columns</p>\n",
       "</div>"
      ],
      "text/plain": [
       "           x1        x2        x3\n",
       "59   0.050680 -0.025607  0.011544\n",
       "209  0.050680 -0.018062  0.066630\n",
       "21   0.050680 -0.022373  0.001215\n",
       "274 -0.044642 -0.024529  0.035644\n",
       "107 -0.044642  0.049840 -0.055018\n",
       "..        ...       ...       ...\n",
       "230  0.050680  0.071397 -0.057314\n",
       "98   0.050680 -0.005128 -0.012556\n",
       "322  0.050680  0.061696  0.062039\n",
       "382 -0.044642  0.060618 -0.022885\n",
       "365 -0.044642 -0.038540 -0.012556\n",
       "\n",
       "[353 rows x 3 columns]"
      ]
     },
     "execution_count": 71,
     "metadata": {},
     "output_type": "execute_result"
    }
   ],
   "source": [
    "X_train  # debería tener 3 columnas"
   ]
  },
  {
   "cell_type": "code",
   "execution_count": 72,
   "metadata": {
    "ExecuteTime": {
     "end_time": "2020-03-22T01:42:52.443696Z",
     "start_time": "2020-03-22T01:42:52.438709Z"
    }
   },
   "outputs": [
    {
     "data": {
      "text/plain": [
       "2"
      ]
     },
     "execution_count": 72,
     "metadata": {},
     "output_type": "execute_result"
    }
   ],
   "source": [
    "X_train.ndim  # debería ser de dimensión 2"
   ]
  },
  {
   "cell_type": "code",
   "execution_count": 73,
   "metadata": {
    "ExecuteTime": {
     "end_time": "2020-03-22T01:42:52.450716Z",
     "start_time": "2020-03-22T01:42:52.445691Z"
    }
   },
   "outputs": [
    {
     "data": {
      "text/plain": [
       "2"
      ]
     },
     "execution_count": 73,
     "metadata": {},
     "output_type": "execute_result"
    }
   ],
   "source": [
    "y_train.ndim   # debería ser de dimensión 2"
   ]
  },
  {
   "cell_type": "code",
   "execution_count": 74,
   "metadata": {
    "ExecuteTime": {
     "end_time": "2020-03-22T01:42:52.457677Z",
     "start_time": "2020-03-22T01:42:52.452671Z"
    }
   },
   "outputs": [],
   "source": [
    "X_test=df_test[['x1','x2','x3']]\n",
    "y_test=df_test[['y']]"
   ]
  },
  {
   "cell_type": "markdown",
   "metadata": {},
   "source": [
    "## Modelo: Regresión Lineal Multivariable\n",
    "\n",
    "En este caso, dado que tenemos 3 variables, nuestra hipótesis será:  \n",
    "\n",
    "$$h(x)= w_0 + w_1 x_1 + w_2 x_2 + w_3 x_3$$ \n",
    "\n"
   ]
  },
  {
   "cell_type": "markdown",
   "metadata": {},
   "source": [
    "Ahora puede repetir **exactamente** el código usado con anterioridad, sólo tenga en cuenta que:  \n",
    "\n",
    "- **modelo.coef_** le dará por resultado los **3 coeficientes** o parámetros del modelo: [$ w_1,w_2,w_3$], \n",
    "- $w_0$ se seguirá llamando **modelo.intercept_**\n"
   ]
  },
  {
   "cell_type": "markdown",
   "metadata": {},
   "source": [
    "### Creación del Modelo"
   ]
  },
  {
   "cell_type": "code",
   "execution_count": 75,
   "metadata": {
    "ExecuteTime": {
     "end_time": "2020-03-22T01:42:52.489576Z",
     "start_time": "2020-03-22T01:42:52.485584Z"
    }
   },
   "outputs": [],
   "source": [
    "from sklearn import linear_model\n",
    "\n",
    "modelo = linear_model.LinearRegression(fit_intercept=True)             # creamos el modelo\n"
   ]
  },
  {
   "cell_type": "markdown",
   "metadata": {},
   "source": [
    "### Training con fit"
   ]
  },
  {
   "cell_type": "code",
   "execution_count": 76,
   "metadata": {
    "ExecuteTime": {
     "end_time": "2020-03-22T01:42:52.512511Z",
     "start_time": "2020-03-22T01:42:52.505543Z"
    }
   },
   "outputs": [
    {
     "data": {
      "text/plain": [
       "LinearRegression(copy_X=True, fit_intercept=True, n_jobs=None, normalize=False)"
      ]
     },
     "execution_count": 76,
     "metadata": {},
     "output_type": "execute_result"
    }
   ],
   "source": [
    "modelo.fit(X_train, y_train)                                           # entrenamos el modelo"
   ]
  },
  {
   "cell_type": "markdown",
   "metadata": {},
   "source": [
    "### Coeficientes del Modelo"
   ]
  },
  {
   "cell_type": "code",
   "execution_count": 77,
   "metadata": {
    "ExecuteTime": {
     "end_time": "2020-03-22T01:42:52.532460Z",
     "start_time": "2020-03-22T01:42:52.527474Z"
    }
   },
   "outputs": [
    {
     "name": "stdout",
     "output_type": "stream",
     "text": [
      "COEFICIENTES de las variables X:  [[-57.69336766 776.54049599 387.22054517]]\n",
      "Término Independiente o INTERCEPT:  [152.42161167]\n"
     ]
    }
   ],
   "source": [
    "print('COEFICIENTES de las variables X: ',modelo.coef_)        # esta vez tendremos 3 coeficientes, uno para cada variable\n",
    "print('Término Independiente o INTERCEPT: ',modelo.intercept_)\n"
   ]
  },
  {
   "cell_type": "code",
   "execution_count": 78,
   "metadata": {
    "ExecuteTime": {
     "end_time": "2020-03-22T01:42:52.541434Z",
     "start_time": "2020-03-22T01:42:52.534453Z"
    }
   },
   "outputs": [
    {
     "data": {
      "text/plain": [
       "387.22054516835993"
      ]
     },
     "execution_count": 78,
     "metadata": {},
     "output_type": "execute_result"
    }
   ],
   "source": [
    "# Si necesita acceder a cada coeficiente en forma separada, observe el doble corchete anterior ... \n",
    "modelo.coef_[0][2]"
   ]
  },
  {
   "cell_type": "markdown",
   "metadata": {
    "ExecuteTime": {
     "end_time": "2020-03-21T15:20:52.442866Z",
     "start_time": "2020-03-21T15:20:52.438874Z"
    }
   },
   "source": [
    "### Evaluación"
   ]
  },
  {
   "cell_type": "code",
   "execution_count": 79,
   "metadata": {
    "ExecuteTime": {
     "end_time": "2020-03-22T01:42:52.569359Z",
     "start_time": "2020-03-22T01:42:52.555398Z"
    }
   },
   "outputs": [
    {
     "name": "stdout",
     "output_type": "stream",
     "text": [
      "EVALUACIÓN del modelo de Regresión Lineal: \n",
      "Coeficiente de Determinación R2:  0.464\n",
      "MSE:  3377.414\n",
      "RMSE:  58.116\n"
     ]
    }
   ],
   "source": [
    "from sklearn.metrics import mean_squared_error, r2_score\n",
    "print(\"EVALUACIÓN del modelo de Regresión Lineal: \")\n",
    "print(\"Coeficiente de Determinación R2: \",round(modelo.score(X_test,y_test),3)) # evaluamos el modelo\n",
    "y_pred = modelo.predict(X_test)\n",
    "MSE=mean_squared_error(y_test, y_pred)\n",
    "print(\"MSE: \",round(MSE,3))\n",
    "RMSE=mean_squared_error(y_test, y_pred,squared=False)\n",
    "print(\"RMSE: \",round(RMSE,3))"
   ]
  },
  {
   "cell_type": "markdown",
   "metadata": {},
   "source": [
    "Siempre cuando evaluamos debemos tratar de tener una idea sobre si los valores son aceptables o no para el trabajo que estemos haciendo, una forma de medirlo es comparando el RMSE con el valor promedio de la variable target en el Train Set, por ejemplo calculando qué porcentaje representa el RMSE sobre el promedio de la variable target.  \n",
    "Preferimos usar el RMSE porque es la única medida que está en las mismas unidades que la variable taget, el MSE por ejemplo es el cuadrado."
   ]
  },
  {
   "cell_type": "code",
   "execution_count": 80,
   "metadata": {
    "ExecuteTime": {
     "end_time": "2020-03-22T01:42:52.586315Z",
     "start_time": "2020-03-22T01:42:52.580330Z"
    }
   },
   "outputs": [
    {
     "data": {
      "text/plain": [
       "152.42776203966005"
      ]
     },
     "execution_count": 80,
     "metadata": {},
     "output_type": "execute_result"
    }
   ],
   "source": [
    "y_promedio=y_train.mean()[0]\n",
    "y_promedio"
   ]
  },
  {
   "cell_type": "code",
   "execution_count": 81,
   "metadata": {
    "ExecuteTime": {
     "end_time": "2020-03-22T01:42:52.593295Z",
     "start_time": "2020-03-22T01:42:52.589307Z"
    }
   },
   "outputs": [
    {
     "name": "stdout",
     "output_type": "stream",
     "text": [
      "El RMSE es el:  38.13  % del valor promedio de los valores del y_train\n"
     ]
    }
   ],
   "source": [
    "porcentaje=RMSE/y_promedio * 100\n",
    "print(\"El RMSE es el: \", round(porcentaje,2), \" % del valor promedio de los valores del y_train\")"
   ]
  },
  {
   "cell_type": "markdown",
   "metadata": {
    "ExecuteTime": {
     "end_time": "2020-03-22T01:42:43.528060Z",
     "start_time": "2020-03-22T01:42:43.522078Z"
    }
   },
   "source": [
    "Parece que para la mayoría de las aplicaciones este sería un valor inaceptable. "
   ]
  },
  {
   "cell_type": "code",
   "execution_count": null,
   "metadata": {},
   "outputs": [],
   "source": []
  }
 ],
 "metadata": {
  "hide_input": false,
  "kernelspec": {
   "display_name": "Python 3",
   "language": "python",
   "name": "python3"
  },
  "language_info": {
   "codemirror_mode": {
    "name": "ipython",
    "version": 3
   },
   "file_extension": ".py",
   "mimetype": "text/x-python",
   "name": "python",
   "nbconvert_exporter": "python",
   "pygments_lexer": "ipython3",
   "version": "3.8.5"
  },
  "toc": {
   "base_numbering": 1,
   "nav_menu": {},
   "number_sections": true,
   "sideBar": true,
   "skip_h1_title": true,
   "title_cell": "Tabla de Contenidos",
   "title_sidebar": "Contenidos",
   "toc_cell": true,
   "toc_position": {
    "height": "calc(100% - 180px)",
    "left": "10px",
    "top": "150px",
    "width": "257.8px"
   },
   "toc_section_display": true,
   "toc_window_display": true
  }
 },
 "nbformat": 4,
 "nbformat_minor": 2
}
