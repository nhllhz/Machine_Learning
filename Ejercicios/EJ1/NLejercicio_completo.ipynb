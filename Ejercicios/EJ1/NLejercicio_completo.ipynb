{
 "cells": [
  {
   "cell_type": "markdown",
   "metadata": {},
   "source": [
    "-Compare los distintos modelos y sus hiperparametros con los datos del ejerccio anterior.\n",
    "-Evalue el modelo elegido\n",
    "-Genere el modelo para produccion."
   ]
  },
  {
   "cell_type": "code",
   "execution_count": 53,
   "metadata": {},
   "outputs": [],
   "source": [
    "#importaciones\n",
    "\n",
    "import pandas as pd\n",
    "import numpy as np\n",
    "from sklearn.model_selection import train_test_split #Division de los datos\n",
    "from sklearn.metrics import mean_squared_error #Metrica REgresion Lineal\n",
    "#Arbol\n",
    "from sklearn.tree import DecisionTreeRegressor\n",
    "#Regresion\n",
    "from sklearn.linear_model import LinearRegression\n",
    "#kNn\n",
    "from sklearn import neighbors"
   ]
  },
  {
   "cell_type": "code",
   "execution_count": 21,
   "metadata": {},
   "outputs": [
    {
     "data": {
      "text/html": [
       "<div>\n",
       "<style scoped>\n",
       "    .dataframe tbody tr th:only-of-type {\n",
       "        vertical-align: middle;\n",
       "    }\n",
       "\n",
       "    .dataframe tbody tr th {\n",
       "        vertical-align: top;\n",
       "    }\n",
       "\n",
       "    .dataframe thead th {\n",
       "        text-align: right;\n",
       "    }\n",
       "</style>\n",
       "<table border=\"1\" class=\"dataframe\">\n",
       "  <thead>\n",
       "    <tr style=\"text-align: right;\">\n",
       "      <th></th>\n",
       "      <th>x1</th>\n",
       "      <th>x2</th>\n",
       "      <th>x3</th>\n",
       "      <th>x4</th>\n",
       "      <th>x5</th>\n",
       "      <th>x6</th>\n",
       "      <th>x7</th>\n",
       "      <th>x8</th>\n",
       "      <th>x9</th>\n",
       "      <th>x10</th>\n",
       "      <th>y</th>\n",
       "    </tr>\n",
       "  </thead>\n",
       "  <tbody>\n",
       "    <tr>\n",
       "      <th>0</th>\n",
       "      <td>0.038076</td>\n",
       "      <td>0.050680</td>\n",
       "      <td>0.061696</td>\n",
       "      <td>0.021872</td>\n",
       "      <td>-0.044223</td>\n",
       "      <td>-0.034821</td>\n",
       "      <td>-0.043401</td>\n",
       "      <td>-0.002592</td>\n",
       "      <td>0.019908</td>\n",
       "      <td>-0.017646</td>\n",
       "      <td>151.0</td>\n",
       "    </tr>\n",
       "    <tr>\n",
       "      <th>1</th>\n",
       "      <td>-0.001882</td>\n",
       "      <td>-0.044642</td>\n",
       "      <td>-0.051474</td>\n",
       "      <td>-0.026328</td>\n",
       "      <td>-0.008449</td>\n",
       "      <td>-0.019163</td>\n",
       "      <td>0.074412</td>\n",
       "      <td>-0.039493</td>\n",
       "      <td>-0.068330</td>\n",
       "      <td>-0.092204</td>\n",
       "      <td>75.0</td>\n",
       "    </tr>\n",
       "    <tr>\n",
       "      <th>2</th>\n",
       "      <td>0.085299</td>\n",
       "      <td>0.050680</td>\n",
       "      <td>0.044451</td>\n",
       "      <td>-0.005671</td>\n",
       "      <td>-0.045599</td>\n",
       "      <td>-0.034194</td>\n",
       "      <td>-0.032356</td>\n",
       "      <td>-0.002592</td>\n",
       "      <td>0.002864</td>\n",
       "      <td>-0.025930</td>\n",
       "      <td>141.0</td>\n",
       "    </tr>\n",
       "    <tr>\n",
       "      <th>3</th>\n",
       "      <td>-0.089063</td>\n",
       "      <td>-0.044642</td>\n",
       "      <td>-0.011595</td>\n",
       "      <td>-0.036656</td>\n",
       "      <td>0.012191</td>\n",
       "      <td>0.024991</td>\n",
       "      <td>-0.036038</td>\n",
       "      <td>0.034309</td>\n",
       "      <td>0.022692</td>\n",
       "      <td>-0.009362</td>\n",
       "      <td>206.0</td>\n",
       "    </tr>\n",
       "    <tr>\n",
       "      <th>4</th>\n",
       "      <td>0.005383</td>\n",
       "      <td>-0.044642</td>\n",
       "      <td>-0.036385</td>\n",
       "      <td>0.021872</td>\n",
       "      <td>0.003935</td>\n",
       "      <td>0.015596</td>\n",
       "      <td>0.008142</td>\n",
       "      <td>-0.002592</td>\n",
       "      <td>-0.031991</td>\n",
       "      <td>-0.046641</td>\n",
       "      <td>135.0</td>\n",
       "    </tr>\n",
       "  </tbody>\n",
       "</table>\n",
       "</div>"
      ],
      "text/plain": [
       "         x1        x2        x3        x4        x5        x6        x7  \\\n",
       "0  0.038076  0.050680  0.061696  0.021872 -0.044223 -0.034821 -0.043401   \n",
       "1 -0.001882 -0.044642 -0.051474 -0.026328 -0.008449 -0.019163  0.074412   \n",
       "2  0.085299  0.050680  0.044451 -0.005671 -0.045599 -0.034194 -0.032356   \n",
       "3 -0.089063 -0.044642 -0.011595 -0.036656  0.012191  0.024991 -0.036038   \n",
       "4  0.005383 -0.044642 -0.036385  0.021872  0.003935  0.015596  0.008142   \n",
       "\n",
       "         x8        x9       x10      y  \n",
       "0 -0.002592  0.019908 -0.017646  151.0  \n",
       "1 -0.039493 -0.068330 -0.092204   75.0  \n",
       "2 -0.002592  0.002864 -0.025930  141.0  \n",
       "3  0.034309  0.022692 -0.009362  206.0  \n",
       "4 -0.002592 -0.031991 -0.046641  135.0  "
      ]
     },
     "execution_count": 21,
     "metadata": {},
     "output_type": "execute_result"
    }
   ],
   "source": [
    "#Creacion del Dataframe\n",
    "\n",
    "df= pd.read_csv(\"diabetes_completo.csv\")\n",
    "df.head()"
   ]
  },
  {
   "cell_type": "code",
   "execution_count": 22,
   "metadata": {},
   "outputs": [],
   "source": [
    "#Division de los datos en x e y previo al armado del train y test\n",
    "X=df.drop(columns=['y'])\n",
    "\n",
    "\n",
    "y=df[[\"y\"]]\n"
   ]
  },
  {
   "cell_type": "code",
   "execution_count": 25,
   "metadata": {},
   "outputs": [],
   "source": [
    "#Train Test Split\n",
    "x_train,x_test,y_train, y_test=train_test_split(X,y,  test_size= 0.2, random_state=123) \n"
   ]
  },
  {
   "cell_type": "code",
   "execution_count": 26,
   "metadata": {},
   "outputs": [],
   "source": [
    "#Validation TRain Test Split\n",
    "\n",
    "xval_train,xval_test,yval_train, yval_test=train_test_split(x_train,y_train,  test_size= 0.2, random_state=123) "
   ]
  },
  {
   "cell_type": "markdown",
   "metadata": {},
   "source": [
    "### MODELOS:"
   ]
  },
  {
   "cell_type": "markdown",
   "metadata": {},
   "source": [
    "## Arbol"
   ]
  },
  {
   "cell_type": "code",
   "execution_count": 43,
   "metadata": {},
   "outputs": [
    {
     "name": "stdout",
     "output_type": "stream",
     "text": [
      "Arbol de pronfundidad: 1 que tiene RMSE: 67.06369956571609 \n",
      " \n",
      "Arbol de pronfundidad: 2 que tiene RMSE: 63.359974941238285 \n",
      " \n",
      "Arbol de pronfundidad: 3 que tiene RMSE: 64.75120524808273 \n",
      " \n",
      "Arbol de pronfundidad: 4 que tiene RMSE: 63.49439613901488 \n",
      " \n",
      "Arbol de pronfundidad: 5 que tiene RMSE: 66.80448227928247 \n",
      " \n",
      "Arbol de pronfundidad: 6 que tiene RMSE: 71.16692447226751 \n",
      " \n",
      "Arbol de pronfundidad: 7 que tiene RMSE: 75.53928681978283 \n",
      " \n",
      "Arbol de pronfundidad: 8 que tiene RMSE: 77.61157582978043 \n",
      " \n",
      "Arbol de pronfundidad: 9 que tiene RMSE: 80.59556746596435 \n",
      " \n"
     ]
    }
   ],
   "source": [
    "#Pruebo diversas profundidades\n",
    "\n",
    "for depth in range(1,10):\n",
    "    Mod_Arbol= DecisionTreeRegressor(max_depth=depth, random_state=123 )\n",
    "    Mod_Arbol.fit(xval_train, yval_train)\n",
    "    yval_pred= Mod_Arbol.predict(xval_test)\n",
    "    RMSE= mean_squared_error(yval_test, yval_pred,squared=False)\n",
    "    print(\"Arbol de pronfundidad:\", depth, \"que tiene RMSE:\", RMSE,\"\\n \")"
   ]
  },
  {
   "cell_type": "markdown",
   "metadata": {},
   "source": [
    "## Regresion"
   ]
  },
  {
   "cell_type": "code",
   "execution_count": 67,
   "metadata": {},
   "outputs": [
    {
     "name": "stdout",
     "output_type": "stream",
     "text": [
      "El RMSE de Regresion es de: 51.68230411787915\n"
     ]
    }
   ],
   "source": [
    "Reg_li=LinearRegression()\n",
    "Reg_li.fit(xval_train, yval_train)\n",
    "yval_predrl=Reg_li.predict(xval_test)\n",
    "RMSErl=mean_squared_error(yval_test, yval_predrl,squared=False)\n",
    "print(\"El RMSE de Regresion es de:\", RMSErl)\n"
   ]
  },
  {
   "cell_type": "markdown",
   "metadata": {},
   "source": [
    "## kNn"
   ]
  },
  {
   "cell_type": "code",
   "execution_count": 65,
   "metadata": {},
   "outputs": [
    {
     "name": "stdout",
     "output_type": "stream",
     "text": [
      "Cantidad de vecinos: 1 y tiene RMSE: 78.84643659278638 \n",
      " \n",
      "Cantidad de vecinos: 2 y tiene RMSE: 64.12597636738502 \n",
      " \n",
      "Cantidad de vecinos: 3 y tiene RMSE: 62.74996960514013 \n",
      " \n",
      "Cantidad de vecinos: 4 y tiene RMSE: 60.697529940229614 \n",
      " \n",
      "Cantidad de vecinos: 5 y tiene RMSE: 60.05333310401187 \n",
      " \n",
      "Cantidad de vecinos: 6 y tiene RMSE: 59.80295631258182 \n",
      " \n",
      "Cantidad de vecinos: 7 y tiene RMSE: 58.647249349654416 \n",
      " \n",
      "Cantidad de vecinos: 8 y tiene RMSE: 56.191086127705944 \n",
      " \n",
      "Cantidad de vecinos: 9 y tiene RMSE: 56.980344803855544 \n",
      " \n",
      "Cantidad de vecinos: 10 y tiene RMSE: 56.257746884380666 \n",
      " \n",
      "Cantidad de vecinos: 11 y tiene RMSE: 57.61444810485641 \n",
      " \n",
      "Cantidad de vecinos: 12 y tiene RMSE: 56.81769434987931 \n",
      " \n",
      "Cantidad de vecinos: 13 y tiene RMSE: 55.500765261199014 \n",
      " \n",
      "Cantidad de vecinos: 14 y tiene RMSE: 55.69590510919757 \n",
      " \n",
      "Cantidad de vecinos: 15 y tiene RMSE: 55.00419389331049 \n",
      " \n",
      "Cantidad de vecinos: 16 y tiene RMSE: 55.71186444365986 \n",
      " \n",
      "Cantidad de vecinos: 17 y tiene RMSE: 55.738411837085664 \n",
      " \n",
      "Cantidad de vecinos: 18 y tiene RMSE: 55.80165873314961 \n",
      " \n",
      "Cantidad de vecinos: 19 y tiene RMSE: 55.79843173251977 \n",
      " \n"
     ]
    }
   ],
   "source": [
    "#Modelo con peso uniforme\n",
    "\n",
    "for n in range (1,20):\n",
    "    Ku_mod=neighbors.KNeighborsRegressor(n_neighbors=n, weights='uniform')\n",
    "    Ku_mod.fit(xval_train,yval_train)\n",
    "    yval_predK=Ku_mod.predict(xval_test)\n",
    "    RMSEk=mean_squared_error(yval_test, yval_predK,squared=False)\n",
    "    print(\"Cantidad de vecinos:\", n, \"y tiene RMSE:\", RMSEk,\"\\n \")\n",
    "    "
   ]
  },
  {
   "cell_type": "code",
   "execution_count": 66,
   "metadata": {},
   "outputs": [
    {
     "name": "stdout",
     "output_type": "stream",
     "text": [
      "Cantidad de vecinos: 1 y tiene RMSE: 78.84643659278638 \n",
      " \n",
      "Cantidad de vecinos: 2 y tiene RMSE: 63.63733017226765 \n",
      " \n",
      "Cantidad de vecinos: 3 y tiene RMSE: 62.07371202984724 \n",
      " \n",
      "Cantidad de vecinos: 4 y tiene RMSE: 60.157358015133255 \n",
      " \n",
      "Cantidad de vecinos: 5 y tiene RMSE: 59.636953553581584 \n",
      " \n",
      "Cantidad de vecinos: 6 y tiene RMSE: 59.433288568892685 \n",
      " \n",
      "Cantidad de vecinos: 7 y tiene RMSE: 58.38666331571438 \n",
      " \n",
      "Cantidad de vecinos: 8 y tiene RMSE: 56.23032816230495 \n",
      " \n",
      "Cantidad de vecinos: 9 y tiene RMSE: 56.8913946095282 \n",
      " \n",
      "Cantidad de vecinos: 10 y tiene RMSE: 56.18693695055828 \n",
      " \n",
      "Cantidad de vecinos: 11 y tiene RMSE: 57.2933923421344 \n",
      " \n",
      "Cantidad de vecinos: 12 y tiene RMSE: 56.59748937803636 \n",
      " \n",
      "Cantidad de vecinos: 13 y tiene RMSE: 55.46070636190572 \n",
      " \n",
      "Cantidad de vecinos: 14 y tiene RMSE: 55.58746475441024 \n",
      " \n",
      "Cantidad de vecinos: 15 y tiene RMSE: 54.95781060576563 \n",
      " \n",
      "Cantidad de vecinos: 16 y tiene RMSE: 55.563331707945444 \n",
      " \n",
      "Cantidad de vecinos: 17 y tiene RMSE: 55.577942263603624 \n",
      " \n",
      "Cantidad de vecinos: 18 y tiene RMSE: 55.607397880112494 \n",
      " \n",
      "Cantidad de vecinos: 19 y tiene RMSE: 55.59464324641608 \n",
      " \n"
     ]
    }
   ],
   "source": [
    "#Modelo con peso considerado\n",
    "\n",
    "for n in range (1,20):\n",
    "    Kd_mod=neighbors.KNeighborsRegressor(n_neighbors=n, weights='distance')\n",
    "    Kd_mod.fit(xval_train,yval_train)\n",
    "    yval_predD=Kd_mod.predict(xval_test)\n",
    "    RMSEkd=mean_squared_error(yval_test, yval_predD,squared=False)\n",
    "    print(\"Cantidad de vecinos:\", n, \"y tiene RMSE:\", RMSEkd,\"\\n \")"
   ]
  },
  {
   "cell_type": "markdown",
   "metadata": {},
   "source": [
    "### CONCLUSION"
   ]
  },
  {
   "cell_type": "markdown",
   "metadata": {},
   "source": [
    "El modelo a utilizar para producción sera el de Regresion lineal ya que es el que menor RMSE tiene"
   ]
  },
  {
   "cell_type": "markdown",
   "metadata": {},
   "source": [
    "### Evaluacion del modelo"
   ]
  },
  {
   "cell_type": "code",
   "execution_count": 68,
   "metadata": {},
   "outputs": [
    {
     "name": "stdout",
     "output_type": "stream",
     "text": [
      "El RMSE del modelo es de: 52.19429963527637\n"
     ]
    }
   ],
   "source": [
    "RL=LinearRegression()\n",
    "RL.fit(x_train, y_train)\n",
    "y_predRL=RL.predict(x_test)\n",
    "RMSE_RL= mean_squared_error(y_test, y_predRL,squared=False)\n",
    "print(\"El RMSE del modelo es de:\", RMSE_RL)\n",
    "\n",
    "#Empeoro ¿por qué?"
   ]
  },
  {
   "cell_type": "markdown",
   "metadata": {},
   "source": [
    "## Modelo de produccion"
   ]
  },
  {
   "cell_type": "code",
   "execution_count": 69,
   "metadata": {},
   "outputs": [
    {
     "data": {
      "text/plain": [
       "LinearRegression()"
      ]
     },
     "execution_count": 69,
     "metadata": {},
     "output_type": "execute_result"
    }
   ],
   "source": [
    "rl_prod=LinearRegression()\n",
    "rl_prod.fit(X,y)"
   ]
  },
  {
   "cell_type": "code",
   "execution_count": null,
   "metadata": {},
   "outputs": [],
   "source": []
  }
 ],
 "metadata": {
  "kernelspec": {
   "display_name": "Python 3",
   "language": "python",
   "name": "python3"
  },
  "language_info": {
   "codemirror_mode": {
    "name": "ipython",
    "version": 3
   },
   "file_extension": ".py",
   "mimetype": "text/x-python",
   "name": "python",
   "nbconvert_exporter": "python",
   "pygments_lexer": "ipython3",
   "version": "3.8.5"
  }
 },
 "nbformat": 4,
 "nbformat_minor": 4
}
