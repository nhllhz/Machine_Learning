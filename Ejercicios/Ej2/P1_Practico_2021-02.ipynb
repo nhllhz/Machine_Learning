{
 "cells": [
  {
   "cell_type": "code",
   "execution_count": null,
   "metadata": {},
   "outputs": [],
   "source": []
  },
  {
   "cell_type": "markdown",
   "metadata": {},
   "source": [
    "# PARCIAL 1 - PRÁCTICO\n",
    "# Materia: Aprendizaje Automático 1\n"
   ]
  },
  {
   "cell_type": "markdown",
   "metadata": {},
   "source": [
    "## PRIMERA PARTE  \n",
    "\n",
    "La primera parte son 3 ejercicios \"estándar\" sobre el mismo dataset.  \n",
    "\n",
    "- Puede resolverlos a continuación de su enunciado o resolver cada uno en un archivo de Jupyter por separado, si es así, indíquelo en el nombre de cada uno. \n",
    "- Sea claro con su código y lo más explícito posible. Explique todo lo que haga. \n",
    "- Destaque los resultados de las evaluaciones solicitadas.\n",
    "\n"
   ]
  },
  {
   "cell_type": "markdown",
   "metadata": {},
   "source": [
    "### Ejercicio 1\n",
    "Esta parte corresponde a un Problema de Clasificación.  \n",
    "\n",
    "Dado el dataset que se encuentra en el archivo *df1.csv* que consta de 3 variables X y la variable a pronosticar y. En este caso las etiquetas de la variable y a pronosticar son los valores 0, 1 y 2   \n",
    "\n",
    "- Crear un modelo de **árbol con hiperparámetro de profundidad 5**\n",
    "- Evaluarlo, calculando: Accuracy y F1.\n",
    "- En todos los casos que sea necesario utilice semilla aleatoria= 123 (random_state=123)\n",
    "- Utilice proporción 80% / 20% para dividir datasets."
   ]
  },
  {
   "cell_type": "markdown",
   "metadata": {
    "ExecuteTime": {
     "end_time": "2020-09-29T18:35:20.422806Z",
     "start_time": "2020-09-29T18:35:20.419813Z"
    }
   },
   "source": [
    "### Solución Ejercicio 1"
   ]
  },
  {
   "cell_type": "markdown",
   "metadata": {
    "ExecuteTime": {
     "end_time": "2020-09-29T18:25:50.445617Z",
     "start_time": "2020-09-29T18:25:50.438598Z"
    }
   },
   "source": [
    "### Ejercicio 2\n",
    "Con los mismos datos del problema anterior.  \n",
    "\n",
    "\n",
    "- Crear un modelo de kNN con hiperparámetro k=7 vecinos y **ponderación** uniforme.\n",
    "- Evaluarlo, calculando: Accuracy y F1.  \n",
    "- En todos los casos que sea necesario utilice semilla aleatoria= 123 (random_state=123)  \n",
    "- Utilice proporción 80% / 20% para dividir datasets.  \n"
   ]
  },
  {
   "cell_type": "markdown",
   "metadata": {
    "ExecuteTime": {
     "end_time": "2020-09-29T18:35:47.798612Z",
     "start_time": "2020-09-29T18:35:47.794622Z"
    }
   },
   "source": [
    "### Solución Ejercicio 2"
   ]
  },
  {
   "cell_type": "markdown",
   "metadata": {},
   "source": [
    "### Ejercicio 3\n",
    "Con los mismos datos del problema anterior.  \n",
    "\n",
    "\n",
    "- Crear un modelo de Regresión Logística.\n",
    "- Evaluarlo, calculando: Accuracy y F1.\n",
    "- Utilice proporción 80% / 20% para dividir datasets."
   ]
  },
  {
   "cell_type": "markdown",
   "metadata": {
    "ExecuteTime": {
     "end_time": "2020-09-29T18:35:40.097934Z",
     "start_time": "2020-09-29T18:35:40.093955Z"
    }
   },
   "source": [
    "### Solución Ejercicio 3"
   ]
  },
  {
   "cell_type": "markdown",
   "metadata": {},
   "source": [
    "## SEGUNDA PARTE"
   ]
  },
  {
   "cell_type": "markdown",
   "metadata": {},
   "source": [
    "### Consigna:\n",
    "\n",
    "- Posiblemente este ejercicio le convenga hacerlo en otro archivo de Jupyter porque va a ser largo. No se olvide que dispone de mucho tiempo para hacerlo.   \n",
    "\n",
    "- Sea lo más claro posible con sus códigos, explique lo que está haciendo.  \n",
    "\n",
    "\n",
    "> En este caso va a tener que **seleccionar** el mejor modelo que resuelva un problema de Regresión en base a los datos provistos en el archivo *df_alumno.csv* , deberá probar con todos los modelos que hemos visto y sus correspondientes hiperparámetros. También deberá generar el modelo para producción. Deberá elegir qué modelo funciona mejor evaluando con el RMSE.   \n",
    "\n",
    "> Indique cuél es el mejor modelo y los valores de sus hiperparámetros.\n",
    "\n",
    "> Calcule el RMSE esperado por el mejor modelo.  \n",
    "\n",
    "> Cree el modelo para producción.\n",
    "\n",
    "> Una vez que tenga el modelo de producción deberá pronosticar los valores de y para las observaciones contenidas en el archivo *df_X_reales.csv*. Deberá llamar a los valores pronosticados con el nombre ypred.\n",
    "\n",
    "\n",
    "- Una vez que Ud pronostique los valores de ypred para los datos de df_X_reales.csv deberá guardarlos en un archivo csv con su Apellido y Nombre, por ejemplo: *Perez_Juan.csv*  para que yo le pueda calcular luego el RMSE con los valores de y_reales que están en mi poder. Este archivo debe contener sólo la columna ypred.\n",
    "\n",
    "A trabajar!\n",
    "\n"
   ]
  },
  {
   "cell_type": "code",
   "execution_count": null,
   "metadata": {},
   "outputs": [],
   "source": []
  },
  {
   "cell_type": "code",
   "execution_count": null,
   "metadata": {},
   "outputs": [],
   "source": []
  }
 ],
 "metadata": {
  "hide_input": false,
  "kernelspec": {
   "display_name": "Python 3",
   "language": "python",
   "name": "python3"
  },
  "language_info": {
   "codemirror_mode": {
    "name": "ipython",
    "version": 3
   },
   "file_extension": ".py",
   "mimetype": "text/x-python",
   "name": "python",
   "nbconvert_exporter": "python",
   "pygments_lexer": "ipython3",
   "version": "3.8.5"
  },
  "latex_envs": {
   "LaTeX_envs_menu_present": true,
   "autoclose": false,
   "autocomplete": true,
   "bibliofile": "biblio.bib",
   "cite_by": "apalike",
   "current_citInitial": 1,
   "eqLabelWithNumbers": true,
   "eqNumInitial": 1,
   "hotkeys": {
    "equation": "Ctrl-E",
    "itemize": "Ctrl-I"
   },
   "labels_anchors": false,
   "latex_user_defs": false,
   "report_style_numbering": false,
   "user_envs_cfg": false
  },
  "toc": {
   "base_numbering": 1,
   "nav_menu": {},
   "number_sections": true,
   "sideBar": true,
   "skip_h1_title": true,
   "title_cell": "Tabla de Contenidos",
   "title_sidebar": "Contenidos",
   "toc_cell": false,
   "toc_position": {
    "height": "calc(100% - 180px)",
    "left": "10px",
    "top": "150px",
    "width": "165px"
   },
   "toc_section_display": true,
   "toc_window_display": true
  },
  "varInspector": {
   "cols": {
    "lenName": 16,
    "lenType": 16,
    "lenVar": 40
   },
   "kernels_config": {
    "python": {
     "delete_cmd_postfix": "",
     "delete_cmd_prefix": "del ",
     "library": "var_list.py",
     "varRefreshCmd": "print(var_dic_list())"
    },
    "r": {
     "delete_cmd_postfix": ") ",
     "delete_cmd_prefix": "rm(",
     "library": "var_list.r",
     "varRefreshCmd": "cat(var_dic_list()) "
    }
   },
   "types_to_exclude": [
    "module",
    "function",
    "builtin_function_or_method",
    "instance",
    "_Feature"
   ],
   "window_display": false
  }
 },
 "nbformat": 4,
 "nbformat_minor": 4
}
