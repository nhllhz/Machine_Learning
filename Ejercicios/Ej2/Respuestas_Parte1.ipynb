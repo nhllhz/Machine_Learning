{
 "cells": [
  {
   "cell_type": "code",
   "execution_count": 75,
   "metadata": {},
   "outputs": [],
   "source": [
    "#Importaciones\n",
    "import pandas as pd\n",
    "import numpy as np\n",
    "from sklearn.model_selection import train_test_split #Split de datos\n",
    "from sklearn.metrics import confusion_matrix, accuracy_score, f1_score #metricas Clasificacion\n",
    "\n",
    "\n",
    "#Modelos\n",
    "from sklearn.tree import DecisionTreeClassifier #Importo el arbol\n",
    "from sklearn import neighbors #Importo modelo Knn\n",
    "from sklearn.linear_model import LogisticRegression #Impor modelo de Regresion Logistica"
   ]
  },
  {
   "cell_type": "code",
   "execution_count": 76,
   "metadata": {},
   "outputs": [],
   "source": [
    "# Para que no muestre el Warning en los modelos en que no quiere los datos en dimension 2 pero igual los corre\n",
    "import warnings\n",
    "warnings.simplefilter('ignore')"
   ]
  },
  {
   "cell_type": "markdown",
   "metadata": {},
   "source": [
    "## Primera parte"
   ]
  },
  {
   "cell_type": "markdown",
   "metadata": {},
   "source": [
    "### Ejercicio 1"
   ]
  },
  {
   "cell_type": "code",
   "execution_count": 77,
   "metadata": {},
   "outputs": [],
   "source": [
    "df=pd.read_csv(\"data/df1.csv\") #Carga de los datos\n",
    "#df.head()"
   ]
  },
  {
   "cell_type": "code",
   "execution_count": 43,
   "metadata": {},
   "outputs": [],
   "source": [
    "#Division de los datos en x e y previo al armado del train y test\n",
    "X=df.drop(columns=['y'])\n",
    "\n",
    "y=df[[\"y\"]]\n"
   ]
  },
  {
   "cell_type": "code",
   "execution_count": 44,
   "metadata": {},
   "outputs": [],
   "source": [
    "#Train test split\n",
    "x_train,x_test,y_train, y_test=train_test_split(X,y,  test_size= 0.2, random_state=123) "
   ]
  },
  {
   "cell_type": "code",
   "execution_count": 45,
   "metadata": {},
   "outputs": [
    {
     "name": "stdout",
     "output_type": "stream",
     "text": [
      "Evaluación modelo Árbol de Decisión\n",
      "Accuracy:  0.75\n",
      "F1:  0.753\n"
     ]
    }
   ],
   "source": [
    "#Creo el modelo con sus parametros, lo entreno y lo hago predecir valores con el x_test\n",
    "modelo=DecisionTreeClassifier(max_depth=5)\n",
    "modelo.fit(x_train,y_train)\n",
    "y_pred=modelo.predict(x_test)\n",
    "\n",
    "#Evaluo como funciona\n",
    "AC=accuracy_score(y_test, y_pred)\n",
    "F1=f1_score(y_test,y_pred, average='macro')  \n",
    "print(\"Evaluación modelo Árbol de Decisión\")\n",
    "print(\"Accuracy: \", round(AC,3))\n",
    "print(\"F1: \", round(F1,3))"
   ]
  },
  {
   "cell_type": "markdown",
   "metadata": {},
   "source": [
    "### Ejercicio 2"
   ]
  },
  {
   "cell_type": "code",
   "execution_count": 46,
   "metadata": {},
   "outputs": [
    {
     "name": "stdout",
     "output_type": "stream",
     "text": [
      "Evaluación modelo KNN\n",
      "Accuracy:  0.87\n",
      "F1:  0.871\n"
     ]
    }
   ],
   "source": [
    "#Creo modelo de los vecinos con sus parametros, lo entreno y predigo\n",
    "modelo = neighbors.KNeighborsClassifier(n_neighbors=7,weights='uniform')\n",
    "modelo.fit(x_train, y_train)\n",
    "y_pred=modelo.predict(x_test)\n",
    "\n",
    "#Evaluo como funciona\n",
    "AC=accuracy_score(y_test, y_pred)\n",
    "F1=f1_score(y_test,y_pred, average='macro')  \n",
    "print(\"Evaluación modelo KNN\")\n",
    "print(\"Accuracy: \", round(AC,3))\n",
    "print(\"F1: \", round(F1,3))"
   ]
  },
  {
   "cell_type": "markdown",
   "metadata": {},
   "source": [
    "### Ejercicio 3"
   ]
  },
  {
   "cell_type": "code",
   "execution_count": 80,
   "metadata": {},
   "outputs": [
    {
     "name": "stdout",
     "output_type": "stream",
     "text": [
      "Evaluación modelo de Regresion Logistica\n",
      "Accuracy:  0.55\n",
      "F1:  0.538\n"
     ]
    }
   ],
   "source": [
    "#Creo modelo de Reg Logistica con sus parametros, lo entreno y predigo\n",
    "modelo=LogisticRegression(penalty='none', random_state=123, multi_class='multinomial')\n",
    "modelo.fit(x_train, y_train)\n",
    "y_pred=modelo.predict(x_test)\n",
    "\n",
    "#Evaluo como funciona\n",
    "AC=accuracy_score(y_test, y_pred)\n",
    "F1=f1_score(y_test,y_pred, average='macro')  \n",
    "print(\"Evaluación modelo de Regresion Logistica\")\n",
    "print(\"Accuracy: \", round(AC,3))\n",
    "print(\"F1: \", round(F1,3))"
   ]
  },
  {
   "cell_type": "code",
   "execution_count": null,
   "metadata": {},
   "outputs": [],
   "source": []
  }
 ],
 "metadata": {
  "kernelspec": {
   "display_name": "Python 3",
   "language": "python",
   "name": "python3"
  },
  "language_info": {
   "codemirror_mode": {
    "name": "ipython",
    "version": 3
   },
   "file_extension": ".py",
   "mimetype": "text/x-python",
   "name": "python",
   "nbconvert_exporter": "python",
   "pygments_lexer": "ipython3",
   "version": "3.8.5"
  }
 },
 "nbformat": 4,
 "nbformat_minor": 4
}
