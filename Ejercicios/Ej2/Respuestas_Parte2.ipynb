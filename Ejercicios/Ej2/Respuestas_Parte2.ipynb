{
 "cells": [
  {
   "cell_type": "code",
   "execution_count": 1,
   "metadata": {},
   "outputs": [],
   "source": [
    "#Importaciones\n",
    "import pandas as pd\n",
    "import numpy as np\n",
    "from sklearn.model_selection import train_test_split #Division de los datos\n",
    "from sklearn.metrics import mean_squared_error #Metrica REgresion Lineal\n",
    "#Arbol\n",
    "from sklearn.tree import DecisionTreeRegressor\n",
    "#Regresion\n",
    "from sklearn.linear_model import LinearRegression\n",
    "#kNn\n",
    "from sklearn import neighbors"
   ]
  },
  {
   "cell_type": "code",
   "execution_count": 4,
   "metadata": {},
   "outputs": [
    {
     "name": "stdout",
     "output_type": "stream",
     "text": [
      "<class 'pandas.core.frame.DataFrame'>\n",
      "RangeIndex: 800 entries, 0 to 799\n",
      "Data columns (total 5 columns):\n",
      " #   Column  Non-Null Count  Dtype  \n",
      "---  ------  --------------  -----  \n",
      " 0   x1      800 non-null    float64\n",
      " 1   x2      800 non-null    float64\n",
      " 2   x3      800 non-null    float64\n",
      " 3   x4      800 non-null    float64\n",
      " 4   y       800 non-null    float64\n",
      "dtypes: float64(5)\n",
      "memory usage: 31.4 KB\n"
     ]
    }
   ],
   "source": [
    "df=pd.read_csv(\"data/df_alumno.csv\") #Carga de los datos\n",
    "df.info()"
   ]
  },
  {
   "cell_type": "code",
   "execution_count": 5,
   "metadata": {},
   "outputs": [],
   "source": [
    "#Division de los datos en x e y previo al armado del train y test\n",
    "X=df.drop(columns=['y'])\n",
    "\n",
    "y=df[[\"y\"]]\n"
   ]
  },
  {
   "cell_type": "code",
   "execution_count": 6,
   "metadata": {},
   "outputs": [],
   "source": [
    "\n",
    "#Train Test Split\n",
    "x_train,x_test,y_train, y_test=train_test_split(X,y,  test_size= 0.2, random_state=123) "
   ]
  },
  {
   "cell_type": "code",
   "execution_count": 7,
   "metadata": {},
   "outputs": [],
   "source": [
    "#Validation Train Test Split\n",
    "\n",
    "xval_train,xval_test,yval_train, yval_test=train_test_split(x_train,y_train,  test_size= 0.2, random_state=123)"
   ]
  },
  {
   "cell_type": "markdown",
   "metadata": {},
   "source": [
    "# Modelos"
   ]
  },
  {
   "cell_type": "markdown",
   "metadata": {},
   "source": [
    "## Árbol "
   ]
  },
  {
   "cell_type": "code",
   "execution_count": 8,
   "metadata": {},
   "outputs": [
    {
     "name": "stdout",
     "output_type": "stream",
     "text": [
      "Arbol de pronfundidad: 1 que tiene RMSE: 66.9026078871195 \n",
      " \n",
      "Arbol de pronfundidad: 2 que tiene RMSE: 50.57304842041976 \n",
      " \n",
      "Arbol de pronfundidad: 3 que tiene RMSE: 42.088917004388975 \n",
      " \n",
      "Arbol de pronfundidad: 4 que tiene RMSE: 34.743934056322935 \n",
      " \n",
      "Arbol de pronfundidad: 5 que tiene RMSE: 33.98070337158652 \n",
      " \n",
      "Arbol de pronfundidad: 6 que tiene RMSE: 30.86005268719376 \n",
      " \n",
      "Arbol de pronfundidad: 7 que tiene RMSE: 29.410045276470083 \n",
      " \n",
      "Arbol de pronfundidad: 8 que tiene RMSE: 28.519290801672366 \n",
      " \n",
      "Arbol de pronfundidad: 9 que tiene RMSE: 27.22082360150172 \n",
      " \n",
      "Arbol de pronfundidad: 10 que tiene RMSE: 28.361632496846457 \n",
      " \n",
      "Arbol de pronfundidad: 11 que tiene RMSE: 28.367085041353654 \n",
      " \n"
     ]
    }
   ],
   "source": [
    "#Pruebo diversas profundidades\n",
    "\n",
    "for depth in range(1,12):\n",
    "    Mod_Arbol= DecisionTreeRegressor(max_depth=depth, random_state=123 )\n",
    "    Mod_Arbol.fit(xval_train, yval_train)\n",
    "    yval_pred= Mod_Arbol.predict(xval_test)\n",
    "    RMSE= mean_squared_error(yval_test, yval_pred,squared=False)\n",
    "    print(\"Arbol de pronfundidad:\", depth, \"que tiene RMSE:\", RMSE,\"\\n \")\n",
    "    "
   ]
  },
  {
   "cell_type": "markdown",
   "metadata": {},
   "source": [
    "## Regresión"
   ]
  },
  {
   "cell_type": "code",
   "execution_count": 9,
   "metadata": {},
   "outputs": [
    {
     "name": "stdout",
     "output_type": "stream",
     "text": [
      "El RMSE de Regresion es de: 8.246667760815172e-14\n"
     ]
    }
   ],
   "source": [
    "Reg_li=LinearRegression()\n",
    "Reg_li.fit(xval_train, yval_train)\n",
    "yval_predrl=Reg_li.predict(xval_test)\n",
    "RMSErl=mean_squared_error(yval_test, yval_predrl,squared=False)\n",
    "print(\"El RMSE de Regresion es de:\", RMSErl)"
   ]
  },
  {
   "cell_type": "markdown",
   "metadata": {},
   "source": [
    "# kNn"
   ]
  },
  {
   "cell_type": "code",
   "execution_count": 57,
   "metadata": {},
   "outputs": [
    {
     "name": "stdout",
     "output_type": "stream",
     "text": [
      "Cantidad de vecinos: 1 y tiene RMSE: 30.970068689261424 \n",
      " \n",
      "Cantidad de vecinos: 2 y tiene RMSE: 28.137926119942833 \n",
      " \n",
      "Cantidad de vecinos: 3 y tiene RMSE: 26.621148477870488 \n",
      " \n",
      "Cantidad de vecinos: 4 y tiene RMSE: 26.632321991619737 \n",
      " \n",
      "Cantidad de vecinos: 5 y tiene RMSE: 25.703577683140903 \n",
      " \n",
      "Cantidad de vecinos: 6 y tiene RMSE: 25.557007693637818 \n",
      " \n",
      "Cantidad de vecinos: 7 y tiene RMSE: 25.796173697959713 \n",
      " \n",
      "Cantidad de vecinos: 8 y tiene RMSE: 25.60000142035879 \n",
      " \n",
      "Cantidad de vecinos: 9 y tiene RMSE: 25.83578151914924 \n",
      " \n",
      "Cantidad de vecinos: 10 y tiene RMSE: 26.497936875679322 \n",
      " \n"
     ]
    }
   ],
   "source": [
    "#Modelo con peso uniforme\n",
    "\n",
    "for n in range (1,11):\n",
    "    Ku_mod=neighbors.KNeighborsRegressor(n_neighbors=n, weights='uniform')\n",
    "    Ku_mod.fit(xval_train,yval_train)\n",
    "    yval_predK=Ku_mod.predict(xval_test)\n",
    "    RMSEk=mean_squared_error(yval_test, yval_predK,squared=False)\n",
    "    print(\"Cantidad de vecinos:\", n, \"y tiene RMSE:\", RMSEk,\"\\n \")"
   ]
  },
  {
   "cell_type": "code",
   "execution_count": 58,
   "metadata": {},
   "outputs": [
    {
     "name": "stdout",
     "output_type": "stream",
     "text": [
      "Cantidad de vecinos: 1 y tiene RMSE: 30.970068689261424 \n",
      " \n",
      "Cantidad de vecinos: 2 y tiene RMSE: 27.605340083793465 \n",
      " \n",
      "Cantidad de vecinos: 3 y tiene RMSE: 25.930096904177702 \n",
      " \n",
      "Cantidad de vecinos: 4 y tiene RMSE: 25.81825784904306 \n",
      " \n",
      "Cantidad de vecinos: 5 y tiene RMSE: 24.996966068897084 \n",
      " \n",
      "Cantidad de vecinos: 6 y tiene RMSE: 24.90545697038405 \n",
      " \n",
      "Cantidad de vecinos: 7 y tiene RMSE: 25.080367239576837 \n",
      " \n",
      "Cantidad de vecinos: 8 y tiene RMSE: 24.966875566985106 \n",
      " \n",
      "Cantidad de vecinos: 9 y tiene RMSE: 25.136049271326538 \n",
      " \n"
     ]
    }
   ],
   "source": [
    "#Modelo con peso considerado\n",
    "\n",
    "for n in range (1,10):\n",
    "    Kd_mod=neighbors.KNeighborsRegressor(n_neighbors=n,weights='distance' )\n",
    "    Kd_mod.fit(xval_train,yval_train)\n",
    "    yval_predD=Kd_mod.predict(xval_test)\n",
    "    RMSEkd=mean_squared_error(yval_test, yval_predD,squared=False)\n",
    "    print(\"Cantidad de vecinos:\", n, \"y tiene RMSE:\", RMSEkd,\"\\n \")"
   ]
  },
  {
   "cell_type": "markdown",
   "metadata": {},
   "source": [
    "## Conclusión"
   ]
  },
  {
   "cell_type": "markdown",
   "metadata": {},
   "source": [
    "El modelo con menor RMSE es el de Regresion Lineal; sin embargo es tan bajo que cae en el overfiting y por eso no lo usaré.\n",
    "1. El modelo que elijo es el de kNn:\n",
    "    * Cantidad de vecinos: 6\n",
    "    * weights='distance'\n",
    "    * RMSE: 24.90545697038405"
   ]
  },
  {
   "cell_type": "markdown",
   "metadata": {},
   "source": [
    "# Evaluacion del modelo"
   ]
  },
  {
   "cell_type": "code",
   "execution_count": 59,
   "metadata": {},
   "outputs": [
    {
     "name": "stdout",
     "output_type": "stream",
     "text": [
      "El modelo seleccionado tiene RMSE: 22.503684071807037 \n",
      " \n"
     ]
    }
   ],
   "source": [
    "#Evaluo en train y testeo en test\n",
    "Kd_mod=neighbors.KNeighborsRegressor(n_neighbors=6,weights='distance' )\n",
    "Kd_mod.fit(x_train,y_train)\n",
    "y_predD=Kd_mod.predict(x_test)\n",
    "RMSEkd=mean_squared_error(y_test, y_predD,squared=False)\n",
    "print(\"El modelo seleccionado tiene RMSE:\", RMSEkd,\"\\n \")"
   ]
  },
  {
   "cell_type": "markdown",
   "metadata": {},
   "source": [
    "- Podemos ver que el RMSE bajó una vez entrenado con los datos del train y evaluados en el test"
   ]
  },
  {
   "cell_type": "markdown",
   "metadata": {},
   "source": [
    "# Modelo de produccion\n",
    "\n",
    "Entreno el modelo elegido con TODOS los datos originales"
   ]
  },
  {
   "cell_type": "code",
   "execution_count": 34,
   "metadata": {},
   "outputs": [
    {
     "data": {
      "text/plain": [
       "KNeighborsRegressor(n_neighbors=6, weights='distance')"
      ]
     },
     "execution_count": 34,
     "metadata": {},
     "output_type": "execute_result"
    }
   ],
   "source": [
    "#Evaluo en train y testeo en test\n",
    "mod_prod=neighbors.KNeighborsRegressor(n_neighbors=6,weights='distance' )\n",
    "mod_prod.fit(X,y)\n"
   ]
  },
  {
   "cell_type": "markdown",
   "metadata": {},
   "source": [
    "### Nuevas predicciones"
   ]
  },
  {
   "cell_type": "code",
   "execution_count": 36,
   "metadata": {},
   "outputs": [],
   "source": [
    " #Cargo los datos\n",
    "df_nuevo= pd.read_csv(\"data/df_X_reales.csv\")\n",
    "#df_nuevo.info()"
   ]
  },
  {
   "cell_type": "code",
   "execution_count": 50,
   "metadata": {},
   "outputs": [],
   "source": [
    "#Predigo con el modelo de produccion sobre los valores nuevos y los guardo en la variable\n",
    "ypred=mod_prod.predict(df_nuevo)\n",
    "#ypred"
   ]
  },
  {
   "cell_type": "code",
   "execution_count": 48,
   "metadata": {},
   "outputs": [],
   "source": [
    "#Genero un df con los datos predichos para poder guardarlo en csv\n",
    "df_ypred = pd.DataFrame(ypred)\n",
    "#df"
   ]
  },
  {
   "cell_type": "code",
   "execution_count": 51,
   "metadata": {},
   "outputs": [],
   "source": [
    "#Guardo los datos predichos en el csv\n",
    "df_ypred.to_csv('Lahoz_Nahuel.csv')"
   ]
  },
  {
   "cell_type": "code",
   "execution_count": null,
   "metadata": {},
   "outputs": [],
   "source": []
  }
 ],
 "metadata": {
  "kernelspec": {
   "display_name": "Python 3",
   "language": "python",
   "name": "python3"
  },
  "language_info": {
   "codemirror_mode": {
    "name": "ipython",
    "version": 3
   },
   "file_extension": ".py",
   "mimetype": "text/x-python",
   "name": "python",
   "nbconvert_exporter": "python",
   "pygments_lexer": "ipython3",
   "version": "3.8.5"
  }
 },
 "nbformat": 4,
 "nbformat_minor": 4
}
